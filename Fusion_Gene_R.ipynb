{
 "cells": [
  {
   "cell_type": "code",
   "execution_count": 11,
   "metadata": {},
   "outputs": [
    {
     "data": {
      "text/html": [
       "'/Users/kellenxu/Documents/Rutgers/Lab_Work/Project_Fusion_gene'"
      ],
      "text/latex": [
       "'/Users/kellenxu/Documents/Rutgers/Lab\\_Work/Project\\_Fusion\\_gene'"
      ],
      "text/markdown": [
       "'/Users/kellenxu/Documents/Rutgers/Lab_Work/Project_Fusion_gene'"
      ],
      "text/plain": [
       "[1] \"/Users/kellenxu/Documents/Rutgers/Lab_Work/Project_Fusion_gene\""
      ]
     },
     "metadata": {},
     "output_type": "display_data"
    },
    {
     "data": {
      "text/html": [
       "<style>\n",
       ".list-inline {list-style: none; margin:0; padding: 0}\n",
       ".list-inline>li {display: inline-block}\n",
       ".list-inline>li:not(:last-child)::after {content: \"\\00b7\"; padding: 0 .5ex}\n",
       "</style>\n",
       "<ol class=list-inline><li>'Fusion_Gene_R.ipynb'</li><li>'Fusion_Gene.ipynb'</li><li>'Junction_Sequences_CRC_4_19_20_deid.xlsx'</li><li>'Junction_Sequences_NTRK1_nonCRC_4_19_20_deid.xlsx'</li><li>'Table1.pkl'</li><li>'Table1.rds'</li></ol>\n"
      ],
      "text/latex": [
       "\\begin{enumerate*}\n",
       "\\item 'Fusion\\_Gene\\_R.ipynb'\n",
       "\\item 'Fusion\\_Gene.ipynb'\n",
       "\\item 'Junction\\_Sequences\\_CRC\\_4\\_19\\_20\\_deid.xlsx'\n",
       "\\item 'Junction\\_Sequences\\_NTRK1\\_nonCRC\\_4\\_19\\_20\\_deid.xlsx'\n",
       "\\item 'Table1.pkl'\n",
       "\\item 'Table1.rds'\n",
       "\\end{enumerate*}\n"
      ],
      "text/markdown": [
       "1. 'Fusion_Gene_R.ipynb'\n",
       "2. 'Fusion_Gene.ipynb'\n",
       "3. 'Junction_Sequences_CRC_4_19_20_deid.xlsx'\n",
       "4. 'Junction_Sequences_NTRK1_nonCRC_4_19_20_deid.xlsx'\n",
       "5. 'Table1.pkl'\n",
       "6. 'Table1.rds'\n",
       "\n",
       "\n"
      ],
      "text/plain": [
       "[1] \"Fusion_Gene_R.ipynb\"                              \n",
       "[2] \"Fusion_Gene.ipynb\"                                \n",
       "[3] \"Junction_Sequences_CRC_4_19_20_deid.xlsx\"         \n",
       "[4] \"Junction_Sequences_NTRK1_nonCRC_4_19_20_deid.xlsx\"\n",
       "[5] \"Table1.pkl\"                                       \n",
       "[6] \"Table1.rds\"                                       "
      ]
     },
     "metadata": {},
     "output_type": "display_data"
    }
   ],
   "source": [
    "#setwd('/Users/kellenxu/Documents/Rutgers/Lab_Work/Project_Fusion_gene')\n",
    "getwd()\n",
    "list.files()"
   ]
  },
  {
   "cell_type": "markdown",
   "metadata": {},
   "source": [
    "# A glance at data"
   ]
  },
  {
   "cell_type": "code",
   "execution_count": 3,
   "metadata": {},
   "outputs": [],
   "source": [
    "library(readxl)\n",
    "df <- read_excel('Junction_Sequences_CRC_4_19_20_deid.xlsx')"
   ]
  },
  {
   "cell_type": "code",
   "execution_count": 6,
   "metadata": {},
   "outputs": [],
   "source": [
    "saveRDS(df, file = \"Table1.rds\") # Save an object to a file"
   ]
  },
  {
   "cell_type": "code",
   "execution_count": 8,
   "metadata": {},
   "outputs": [],
   "source": [
    "df <- readRDS(\"Table1.rds\") # Restore the object"
   ]
  },
  {
   "cell_type": "code",
   "execution_count": 9,
   "metadata": {
    "scrolled": true
   },
   "outputs": [
    {
     "name": "stdout",
     "output_type": "stream",
     "text": [
      "Classes ‘tbl_df’, ‘tbl’ and 'data.frame':\t245 obs. of  11 variables:\n",
      " $ deidentifiedSpecimenName: chr  \"XRN:6SJTT7\" \"XRN:DNF6WD\" \"XRN:E3F52H\" \"XRN:MU1VY9\" ...\n",
      " $ diseaseOntology         : chr  \"colon adenocarcinoma (crc)\" \"colon adenocarcinoma (crc)\" \"colon adenocarcinoma (crc)\" \"colon adenocarcinoma (crc)\" ...\n",
      " $ MSIstatus               : chr  \"MSI-H\" \"MSS\" \"MSI ambiguous\" \"MSI ambiguous\" ...\n",
      " $ gene1_RE                : chr  \"RET\" \"BRAF\" \"RET\" \"BRAF\" ...\n",
      " $ gene2_RE                : chr  \"TRIM24\" \"TRIM24\" \"NCOA4\" \"AGAP3\" ...\n",
      " $ Gene1_Breakpoint1       : chr  \"chr10:43611914\" \"chr7:140489429\" \"chr10:43611796\" \"chr7:140482465\" ...\n",
      " $ Gene2_Breakpoint1       : chr  \"chr7:138268067\" \"chr7:138253092\" \"chr10:51587961\" \"chr7:150823016\" ...\n",
      " $ Junction Sequence 1     : chr  \"AAGAAAAAAATCTAGATGATTAAGAGGAAATATGTGAAGACAAGTTTTTTCGTTCTCTGCACATTGGAACTTGTCCATGGGGCCTCCTTTAAGGGTCTTGC\" \"AACTTTCCATTCTTGAGAGCTTACAATCTCATGGGAAGTAAGATGCACACAAAGATTGAGACCATCCTGGCTAACACGGTGAAACCCAGTCTCTACTAAAAA\" \"GGGCAGGGGTCAGGGGAGACAGTAGACCAGGAACCAGAGAGGGTCGAAGTAATTCCAGCACTTTGGGAGGCAGAGGTAGGAAGATTGCTTGAGCCAAGGAG\" \"AGGTTTGTTACATACGTATACATGTGCCATGGTGGATTCATTTTGCAGAAGCAGGAAGCAATCTGGGGCGGAATGGGAACGGCGCAGAGGCGCGGAGGCGA\" ...\n",
      " $ Gene1_Breakpoint2       : chr  \"-\" \"chr7:140489430\" \"chr10:43607759\" \"-\" ...\n",
      " $ Gene2_Breakpoint2       : chr  \"-\" \"chr7:138253093\" \"chr10:51587699\" \"-\" ...\n",
      " $ Junction Sequence 2     : chr  \"-\" \"AAAAAAAAAAAAAAAAAAGGAGGCCAGGTACGGTGGCTTACGAGTTTAGGTTGGAAGTAAGTGAAAATCAAATAATTTAAGAATAATTGCATAAGAATAT\" \"GCGATGGCACCGGTGGAAACGGGGTCCTGGGGCCCTGCCAGCCTGGGGTGGTGTTTTATTAGCAAACATGAAAACATTAATCTCCTTCTGCATCTCCATCA\" \"-\" ...\n"
     ]
    }
   ],
   "source": [
    "str(df)"
   ]
  },
  {
   "cell_type": "code",
   "execution_count": 10,
   "metadata": {},
   "outputs": [
    {
     "data": {
      "text/plain": [
       " deidentifiedSpecimenName diseaseOntology     MSIstatus        \n",
       " Length:245               Length:245         Length:245        \n",
       " Class :character         Class :character   Class :character  \n",
       " Mode  :character         Mode  :character   Mode  :character  \n",
       "   gene1_RE           gene2_RE         Gene1_Breakpoint1  Gene2_Breakpoint1 \n",
       " Length:245         Length:245         Length:245         Length:245        \n",
       " Class :character   Class :character   Class :character   Class :character  \n",
       " Mode  :character   Mode  :character   Mode  :character   Mode  :character  \n",
       " Junction Sequence 1 Gene1_Breakpoint2  Gene2_Breakpoint2  Junction Sequence 2\n",
       " Length:245          Length:245         Length:245         Length:245         \n",
       " Class :character    Class :character   Class :character   Class :character   \n",
       " Mode  :character    Mode  :character   Mode  :character   Mode  :character   "
      ]
     },
     "metadata": {},
     "output_type": "display_data"
    }
   ],
   "source": [
    "summary(df)"
   ]
  },
  {
   "cell_type": "markdown",
   "metadata": {},
   "source": [
    "# Hypothesis1"
   ]
  },
  {
   "cell_type": "code",
   "execution_count": null,
   "metadata": {},
   "outputs": [],
   "source": []
  }
 ],
 "metadata": {
  "kernelspec": {
   "display_name": "R",
   "language": "R",
   "name": "ir"
  },
  "language_info": {
   "codemirror_mode": "r",
   "file_extension": ".r",
   "mimetype": "text/x-r-source",
   "name": "R",
   "pygments_lexer": "r",
   "version": "3.6.3"
  }
 },
 "nbformat": 4,
 "nbformat_minor": 4
}
