{
 "cells": [
  {
   "cell_type": "code",
   "execution_count": 1,
   "metadata": {},
   "outputs": [],
   "source": [
    "import os\n",
    "import sys\n",
    "import numpy as np\n",
    "import pandas as pd\n",
    "from Bio import SeqIO\n",
    "import matplotlib.pylab as plt\n",
    "%matplotlib inline"
   ]
  },
  {
   "cell_type": "code",
   "execution_count": 2,
   "metadata": {},
   "outputs": [
    {
     "data": {
      "text/plain": [
       "['5_10kb_plot_J2.ipynb',\n",
       " '.Rhistory',\n",
       " 'js1_bi.csv',\n",
       " 'BreakPointDistance.csv',\n",
       " 'Bipartite_graph.ipynb',\n",
       " 'Junction_Sequences_NTRK1_nonCRC_4_19_20_deid.xlsx',\n",
       " '.DS_Store',\n",
       " 'Table1.rds',\n",
       " 'data_Junction_Regions_CRC_4_19_20_deid.fa',\n",
       " '5_10kb_plot_J1.ipynb',\n",
       " 'nonCRC_Table1.pkl',\n",
       " 'Fusion_Gene_ NTRK1_partners.ipynb',\n",
       " 'Genome Screenshots',\n",
       " 'Fusion_Gene_nonCRC.ipynb',\n",
       " 'Junction_Sequences_CRC_4_19_20_deid.xlsx',\n",
       " 'js1_count.pkl',\n",
       " 'Bed_files_for_USCS_plot.ipynb',\n",
       " '.RData',\n",
       " 'nonCRC_gene1_bed',\n",
       " 'CRC_gene1_bed',\n",
       " 'Table1.pkl',\n",
       " 'CRC_gene2_bed',\n",
       " '.ipynb_checkpoints',\n",
       " 'humanFreq.png',\n",
       " 'CRC_gene1_bed.zip',\n",
       " 'Fusion_Gene_R.ipynb',\n",
       " 'Fusion_Gene_CRC.ipynb',\n",
       " 'MSS_MSI_review.pptx',\n",
       " 'Re__Windows_in_oncogenic_gene..zip',\n",
       " 'Fusion_Gene_R.R',\n",
       " 'data_Junction_Regions_CRC_4_19_20_deid_J2.fa',\n",
       " 'CeCe_Proj']"
      ]
     },
     "execution_count": 2,
     "metadata": {},
     "output_type": "execute_result"
    }
   ],
   "source": [
    "os.getcwd()\n",
    "os.listdir()"
   ]
  },
  {
   "cell_type": "markdown",
   "metadata": {},
   "source": [
    "# GC content related functions"
   ]
  },
  {
   "cell_type": "code",
   "execution_count": 8,
   "metadata": {},
   "outputs": [],
   "source": [
    "def cound_mononucleotide(i):\n",
    "    A_ct = i.count('A') + i.count('a')\n",
    "    T_ct = i.count('T') + i.count('t')\n",
    "    C_ct = i.count('C') + i.count('c')\n",
    "    G_ct = i.count('G') + i.count('g')\n",
    "    tmp = {'A':A_ct, 'T':T_ct, 'C':C_ct,'G':G_ct}\n",
    "    return tmp\n",
    "def count_mono_series(indexed):\n",
    "    save = {}\n",
    "    for i in range(len(indexed)):\n",
    "        save[indexed.index[i]] = cound_mononucleotide(indexed[i])\n",
    "    return save\n",
    "\n",
    "\n",
    "def my_referse_complement(seq):\n",
    "    complement = {'A': 'T', 'C': 'G', 'G': 'C', 'T': 'A'}\n",
    "    return \"\".join(complement.get(base, base) for base in reversed(seq))\n",
    "def combine_rc_percentage(dg):\n",
    "    df = dg.copy()\n",
    "    df['count'] = df.sum(axis=1)\n",
    "    cols_rest = list(df.columns)\n",
    "    cols_1 = []\n",
    "    cols_2 = []\n",
    "    for i in df.columns:\n",
    "        reverse_tmp = my_referse_complement(i)\n",
    "        if reverse_tmp in list(df.columns):\n",
    "            cols_rest.remove(i)\n",
    "            if reverse_tmp not in cols_1:\n",
    "                cols_1.append(i)\n",
    "                cols_2.append(reverse_tmp)   \n",
    "    dt = pd.DataFrame()\n",
    "    #cols_c = []\n",
    "    for i,j in zip(cols_1,cols_2):\n",
    "        if i==j:\n",
    "            #cols_c.append(i)\n",
    "            dt[i] = df[i]/df['count']\n",
    "        else:\n",
    "            k = i+\"+\"+j\n",
    "            #cols_c.append(k)\n",
    "            dt[k] = (df[i]+df[j])/df['count']           \n",
    "    dt = pd.concat([dt, df[cols_rest]], axis=1)\n",
    "    return dt"
   ]
  },
  {
   "cell_type": "markdown",
   "metadata": {},
   "source": [
    "# Window related functions"
   ]
  },
  {
   "cell_type": "code",
   "execution_count": 9,
   "metadata": {},
   "outputs": [],
   "source": [
    "def rough_any_bp(df, wing=2, centre=51):\n",
    "    tmp = df.copy()\n",
    "    bp = wing*2 + 1\n",
    "    tmp[\"{}bp\".format(bp)] = tmp.iloc[:,1].str.slice(centre-wing-1, centre+wing)\n",
    "    tmp.drop(tmp.columns[1],axis=1,inplace = True)\n",
    "    return tmp\n",
    "def rough_any_bp_GC(df, wing=2, centre=51):\n",
    "    tmp = df.copy()\n",
    "    bp = wing*2 + 1\n",
    "    tmp[\"{}bp\".format(bp)] = tmp.iloc[:,1].str.slice(centre-wing-1, centre+wing)\n",
    "    count = count_mono_series(tmp.iloc[:,2])\n",
    "    tmp = pd.concat([pd.DataFrame(count).T, tmp['IDs']], axis=1)\n",
    "    tmp = combine_rc_percentage(tmp)\n",
    "    return tmp.iloc[:,1:3]\n",
    "\n",
    "def Split_IDs(df):\n",
    "    dt = df.copy()\n",
    "    # Drop MSI ambiguous records\n",
    "    dt = dt[ ~ dt[\"IDs\"].str.endswith('MSI')] # inverting (~) boolean mask\n",
    "    # Split - Vectorized string functions for Series and Index\n",
    "    dt[['Chr','Pos','ID1', 'ID2','MSIstatus','Junction','Gene']] = dt.IDs.str.split(':', expand=True)\n",
    "    dt = dt.drop(columns = 'IDs')\n",
    "    return dt"
   ]
  },
  {
   "cell_type": "markdown",
   "metadata": {},
   "source": [
    "# Build windows and get GC content"
   ]
  },
  {
   "cell_type": "code",
   "execution_count": 10,
   "metadata": {},
   "outputs": [
    {
     "data": {
      "text/html": [
       "<div>\n",
       "<style scoped>\n",
       "    .dataframe tbody tr th:only-of-type {\n",
       "        vertical-align: middle;\n",
       "    }\n",
       "\n",
       "    .dataframe tbody tr th {\n",
       "        vertical-align: top;\n",
       "    }\n",
       "\n",
       "    .dataframe thead th {\n",
       "        text-align: right;\n",
       "    }\n",
       "</style>\n",
       "<table border=\"1\" class=\"dataframe\">\n",
       "  <thead>\n",
       "    <tr style=\"text-align: right;\">\n",
       "      <th></th>\n",
       "      <th>IDs</th>\n",
       "      <th>50+1+50</th>\n",
       "    </tr>\n",
       "  </thead>\n",
       "  <tbody>\n",
       "    <tr>\n",
       "      <th>0</th>\n",
       "      <td>chr7:140489380-140489480:XRN:DNF6WD:MSS:J2:G1</td>\n",
       "      <td>ACTTTCCATTCTTGAGAGCTTACAATCTCATGGGAAGTAAGATGCA...</td>\n",
       "    </tr>\n",
       "    <tr>\n",
       "      <th>1</th>\n",
       "      <td>chr7:138253043-138253143:XRN:DNF6WD:MSS:J2:G2</td>\n",
       "      <td>TTTTTAGTAGAGACTGGGTTTCACCGTGTTAGCCAGGATGGTCTCA...</td>\n",
       "    </tr>\n",
       "    <tr>\n",
       "      <th>2</th>\n",
       "      <td>chr10:43607709-43607809:XRN:E3F52H:MSI</td>\n",
       "      <td>GCGATGGCACCGGTGGAAACGGGGTCCTGGGGCCCTGCCAGCCTGG...</td>\n",
       "    </tr>\n",
       "    <tr>\n",
       "      <th>3</th>\n",
       "      <td>chr10:51587649-51587749:XRN:E3F52H:MSI</td>\n",
       "      <td>GATGTTTTATTAGCAAACATGAAAACATTAATCTCCTTCTGCATCT...</td>\n",
       "    </tr>\n",
       "    <tr>\n",
       "      <th>4</th>\n",
       "      <td>chr1:156843298-156843398:XRN:AFAEVN:MSI-H:J2:G1</td>\n",
       "      <td>CCTGTTTCTCCCAGGCCTGCCCTTTGATTTCGGGTTCTACTCGCTT...</td>\n",
       "    </tr>\n",
       "  </tbody>\n",
       "</table>\n",
       "</div>"
      ],
      "text/plain": [
       "                                               IDs  \\\n",
       "0    chr7:140489380-140489480:XRN:DNF6WD:MSS:J2:G1   \n",
       "1    chr7:138253043-138253143:XRN:DNF6WD:MSS:J2:G2   \n",
       "2           chr10:43607709-43607809:XRN:E3F52H:MSI   \n",
       "3           chr10:51587649-51587749:XRN:E3F52H:MSI   \n",
       "4  chr1:156843298-156843398:XRN:AFAEVN:MSI-H:J2:G1   \n",
       "\n",
       "                                             50+1+50  \n",
       "0  ACTTTCCATTCTTGAGAGCTTACAATCTCATGGGAAGTAAGATGCA...  \n",
       "1  TTTTTAGTAGAGACTGGGTTTCACCGTGTTAGCCAGGATGGTCTCA...  \n",
       "2  GCGATGGCACCGGTGGAAACGGGGTCCTGGGGCCCTGCCAGCCTGG...  \n",
       "3  GATGTTTTATTAGCAAACATGAAAACATTAATCTCCTTCTGCATCT...  \n",
       "4  CCTGTTTCTCCCAGGCCTGCCCTTTGATTTCGGGTTCTACTCGCTT...  "
      ]
     },
     "execution_count": 10,
     "metadata": {},
     "output_type": "execute_result"
    }
   ],
   "source": [
    "with open(\"data_Junction_Regions_CRC_4_19_20_deid_J2.fa\") as handle:\n",
    "    Seqs = pd.Series([str(record.seq) for record in SeqIO.parse(handle,\"fasta\")])\n",
    "with open(\"data_Junction_Regions_CRC_4_19_20_deid_J2.fa\") as handle:\n",
    "    IDs = pd.Series([record.id for record in SeqIO.parse(handle,\"fasta\")])\n",
    "J2_tbl = pd.DataFrame({'IDs': IDs, \"50+1+50\": Seqs})\n",
    "J2_tbl.head()"
   ]
  },
  {
   "cell_type": "code",
   "execution_count": 12,
   "metadata": {},
   "outputs": [
    {
     "data": {
      "text/html": [
       "<div>\n",
       "<style scoped>\n",
       "    .dataframe tbody tr th:only-of-type {\n",
       "        vertical-align: middle;\n",
       "    }\n",
       "\n",
       "    .dataframe tbody tr th {\n",
       "        vertical-align: top;\n",
       "    }\n",
       "\n",
       "    .dataframe thead th {\n",
       "        text-align: right;\n",
       "    }\n",
       "</style>\n",
       "<table border=\"1\" class=\"dataframe\">\n",
       "  <thead>\n",
       "    <tr style=\"text-align: right;\">\n",
       "      <th></th>\n",
       "      <th>C+G</th>\n",
       "      <th>Chr</th>\n",
       "      <th>Pos</th>\n",
       "      <th>ID1</th>\n",
       "      <th>ID2</th>\n",
       "      <th>MSIstatus</th>\n",
       "      <th>Junction</th>\n",
       "      <th>Gene</th>\n",
       "    </tr>\n",
       "  </thead>\n",
       "  <tbody>\n",
       "    <tr>\n",
       "      <th>181</th>\n",
       "      <td>0.4</td>\n",
       "      <td>chr7</td>\n",
       "      <td>55870523-55870623</td>\n",
       "      <td>XRN</td>\n",
       "      <td>NQJ1G5</td>\n",
       "      <td>MSS</td>\n",
       "      <td>J2</td>\n",
       "      <td>G2</td>\n",
       "    </tr>\n",
       "    <tr>\n",
       "      <th>182</th>\n",
       "      <td>0.6</td>\n",
       "      <td>chr10</td>\n",
       "      <td>43610209-43610309</td>\n",
       "      <td>XRN</td>\n",
       "      <td>QU97T3</td>\n",
       "      <td>MSS</td>\n",
       "      <td>J2</td>\n",
       "      <td>G1</td>\n",
       "    </tr>\n",
       "    <tr>\n",
       "      <th>183</th>\n",
       "      <td>0.2</td>\n",
       "      <td>chr10</td>\n",
       "      <td>51585506-51585606</td>\n",
       "      <td>XRN</td>\n",
       "      <td>QU97T3</td>\n",
       "      <td>MSS</td>\n",
       "      <td>J2</td>\n",
       "      <td>G2</td>\n",
       "    </tr>\n",
       "    <tr>\n",
       "      <th>184</th>\n",
       "      <td>0.6</td>\n",
       "      <td>chr7</td>\n",
       "      <td>140482496-140482596</td>\n",
       "      <td>XRN</td>\n",
       "      <td>CFTDTX</td>\n",
       "      <td>MSS</td>\n",
       "      <td>J2</td>\n",
       "      <td>G1</td>\n",
       "    </tr>\n",
       "    <tr>\n",
       "      <th>185</th>\n",
       "      <td>0.0</td>\n",
       "      <td>chr3</td>\n",
       "      <td>194325683-194325783</td>\n",
       "      <td>XRN</td>\n",
       "      <td>CFTDTX</td>\n",
       "      <td>MSS</td>\n",
       "      <td>J2</td>\n",
       "      <td>G2</td>\n",
       "    </tr>\n",
       "  </tbody>\n",
       "</table>\n",
       "</div>"
      ],
      "text/plain": [
       "     C+G    Chr                  Pos  ID1     ID2 MSIstatus Junction Gene\n",
       "181  0.4   chr7    55870523-55870623  XRN  NQJ1G5       MSS       J2   G2\n",
       "182  0.6  chr10    43610209-43610309  XRN  QU97T3       MSS       J2   G1\n",
       "183  0.2  chr10    51585506-51585606  XRN  QU97T3       MSS       J2   G2\n",
       "184  0.6   chr7  140482496-140482596  XRN  CFTDTX       MSS       J2   G1\n",
       "185  0.0   chr3  194325683-194325783  XRN  CFTDTX       MSS       J2   G2"
      ]
     },
     "execution_count": 12,
     "metadata": {},
     "output_type": "execute_result"
    }
   ],
   "source": [
    "J2_5bp_percentage = rough_any_bp_GC(J2_tbl)\n",
    "split5 = Split_IDs(J2_5bp_percentage)\n",
    "split5.tail()"
   ]
  },
  {
   "cell_type": "code",
   "execution_count": 13,
   "metadata": {},
   "outputs": [
    {
     "data": {
      "text/html": [
       "<div>\n",
       "<style scoped>\n",
       "    .dataframe tbody tr th:only-of-type {\n",
       "        vertical-align: middle;\n",
       "    }\n",
       "\n",
       "    .dataframe tbody tr th {\n",
       "        vertical-align: top;\n",
       "    }\n",
       "\n",
       "    .dataframe thead th {\n",
       "        text-align: right;\n",
       "    }\n",
       "</style>\n",
       "<table border=\"1\" class=\"dataframe\">\n",
       "  <thead>\n",
       "    <tr style=\"text-align: right;\">\n",
       "      <th></th>\n",
       "      <th>C+G</th>\n",
       "      <th>Chr</th>\n",
       "      <th>Pos</th>\n",
       "      <th>ID1</th>\n",
       "      <th>ID2</th>\n",
       "      <th>MSIstatus</th>\n",
       "      <th>Junction</th>\n",
       "      <th>Gene</th>\n",
       "    </tr>\n",
       "  </thead>\n",
       "  <tbody>\n",
       "    <tr>\n",
       "      <th>181</th>\n",
       "      <td>0.238095</td>\n",
       "      <td>chr7</td>\n",
       "      <td>55870523-55870623</td>\n",
       "      <td>XRN</td>\n",
       "      <td>NQJ1G5</td>\n",
       "      <td>MSS</td>\n",
       "      <td>J2</td>\n",
       "      <td>G2</td>\n",
       "    </tr>\n",
       "    <tr>\n",
       "      <th>182</th>\n",
       "      <td>0.714286</td>\n",
       "      <td>chr10</td>\n",
       "      <td>43610209-43610309</td>\n",
       "      <td>XRN</td>\n",
       "      <td>QU97T3</td>\n",
       "      <td>MSS</td>\n",
       "      <td>J2</td>\n",
       "      <td>G1</td>\n",
       "    </tr>\n",
       "    <tr>\n",
       "      <th>183</th>\n",
       "      <td>0.476190</td>\n",
       "      <td>chr10</td>\n",
       "      <td>51585506-51585606</td>\n",
       "      <td>XRN</td>\n",
       "      <td>QU97T3</td>\n",
       "      <td>MSS</td>\n",
       "      <td>J2</td>\n",
       "      <td>G2</td>\n",
       "    </tr>\n",
       "    <tr>\n",
       "      <th>184</th>\n",
       "      <td>0.333333</td>\n",
       "      <td>chr7</td>\n",
       "      <td>140482496-140482596</td>\n",
       "      <td>XRN</td>\n",
       "      <td>CFTDTX</td>\n",
       "      <td>MSS</td>\n",
       "      <td>J2</td>\n",
       "      <td>G1</td>\n",
       "    </tr>\n",
       "    <tr>\n",
       "      <th>185</th>\n",
       "      <td>0.523810</td>\n",
       "      <td>chr3</td>\n",
       "      <td>194325683-194325783</td>\n",
       "      <td>XRN</td>\n",
       "      <td>CFTDTX</td>\n",
       "      <td>MSS</td>\n",
       "      <td>J2</td>\n",
       "      <td>G2</td>\n",
       "    </tr>\n",
       "  </tbody>\n",
       "</table>\n",
       "</div>"
      ],
      "text/plain": [
       "          C+G    Chr                  Pos  ID1     ID2 MSIstatus Junction Gene\n",
       "181  0.238095   chr7    55870523-55870623  XRN  NQJ1G5       MSS       J2   G2\n",
       "182  0.714286  chr10    43610209-43610309  XRN  QU97T3       MSS       J2   G1\n",
       "183  0.476190  chr10    51585506-51585606  XRN  QU97T3       MSS       J2   G2\n",
       "184  0.333333   chr7  140482496-140482596  XRN  CFTDTX       MSS       J2   G1\n",
       "185  0.523810   chr3  194325683-194325783  XRN  CFTDTX       MSS       J2   G2"
      ]
     },
     "execution_count": 13,
     "metadata": {},
     "output_type": "execute_result"
    }
   ],
   "source": [
    "J2_21bp_percentage = rough_any_bp_GC(J2_tbl, wing=10)\n",
    "split21 = Split_IDs(J2_21bp_percentage)\n",
    "split21.tail()"
   ]
  },
  {
   "cell_type": "code",
   "execution_count": 16,
   "metadata": {},
   "outputs": [
    {
     "data": {
      "text/html": [
       "<div>\n",
       "<style scoped>\n",
       "    .dataframe tbody tr th:only-of-type {\n",
       "        vertical-align: middle;\n",
       "    }\n",
       "\n",
       "    .dataframe tbody tr th {\n",
       "        vertical-align: top;\n",
       "    }\n",
       "\n",
       "    .dataframe thead th {\n",
       "        text-align: right;\n",
       "    }\n",
       "</style>\n",
       "<table border=\"1\" class=\"dataframe\">\n",
       "  <thead>\n",
       "    <tr style=\"text-align: right;\">\n",
       "      <th></th>\n",
       "      <th>C+G</th>\n",
       "      <th>Chr</th>\n",
       "      <th>Pos</th>\n",
       "      <th>ID1</th>\n",
       "      <th>ID2</th>\n",
       "      <th>MSIstatus</th>\n",
       "      <th>Junction</th>\n",
       "      <th>Gene</th>\n",
       "    </tr>\n",
       "  </thead>\n",
       "  <tbody>\n",
       "    <tr>\n",
       "      <th>181</th>\n",
       "      <td>0.0</td>\n",
       "      <td>chr7</td>\n",
       "      <td>55870523-55870623</td>\n",
       "      <td>XRN</td>\n",
       "      <td>NQJ1G5</td>\n",
       "      <td>MSS</td>\n",
       "      <td>J2</td>\n",
       "      <td>G2</td>\n",
       "    </tr>\n",
       "    <tr>\n",
       "      <th>182</th>\n",
       "      <td>0.0</td>\n",
       "      <td>chr10</td>\n",
       "      <td>43610209-43610309</td>\n",
       "      <td>XRN</td>\n",
       "      <td>QU97T3</td>\n",
       "      <td>MSS</td>\n",
       "      <td>J2</td>\n",
       "      <td>G1</td>\n",
       "    </tr>\n",
       "    <tr>\n",
       "      <th>183</th>\n",
       "      <td>0.0</td>\n",
       "      <td>chr10</td>\n",
       "      <td>51585506-51585606</td>\n",
       "      <td>XRN</td>\n",
       "      <td>QU97T3</td>\n",
       "      <td>MSS</td>\n",
       "      <td>J2</td>\n",
       "      <td>G2</td>\n",
       "    </tr>\n",
       "    <tr>\n",
       "      <th>184</th>\n",
       "      <td>1.0</td>\n",
       "      <td>chr7</td>\n",
       "      <td>140482496-140482596</td>\n",
       "      <td>XRN</td>\n",
       "      <td>CFTDTX</td>\n",
       "      <td>MSS</td>\n",
       "      <td>J2</td>\n",
       "      <td>G1</td>\n",
       "    </tr>\n",
       "    <tr>\n",
       "      <th>185</th>\n",
       "      <td>0.0</td>\n",
       "      <td>chr3</td>\n",
       "      <td>194325683-194325783</td>\n",
       "      <td>XRN</td>\n",
       "      <td>CFTDTX</td>\n",
       "      <td>MSS</td>\n",
       "      <td>J2</td>\n",
       "      <td>G2</td>\n",
       "    </tr>\n",
       "  </tbody>\n",
       "</table>\n",
       "</div>"
      ],
      "text/plain": [
       "     C+G    Chr                  Pos  ID1     ID2 MSIstatus Junction Gene\n",
       "181  0.0   chr7    55870523-55870623  XRN  NQJ1G5       MSS       J2   G2\n",
       "182  0.0  chr10    43610209-43610309  XRN  QU97T3       MSS       J2   G1\n",
       "183  0.0  chr10    51585506-51585606  XRN  QU97T3       MSS       J2   G2\n",
       "184  1.0   chr7  140482496-140482596  XRN  CFTDTX       MSS       J2   G1\n",
       "185  0.0   chr3  194325683-194325783  XRN  CFTDTX       MSS       J2   G2"
      ]
     },
     "execution_count": 16,
     "metadata": {},
     "output_type": "execute_result"
    }
   ],
   "source": [
    "J2_1bp_percentage = rough_any_bp_GC(J2_tbl, wing=0)\n",
    "split1 = Split_IDs(J2_1bp_percentage)\n",
    "split1.tail()"
   ]
  },
  {
   "cell_type": "markdown",
   "metadata": {},
   "source": [
    "# Group by Gene and boxplot by MSIstatus"
   ]
  },
  {
   "cell_type": "code",
   "execution_count": 14,
   "metadata": {},
   "outputs": [
    {
     "data": {
      "text/plain": [
       "G1         AxesSubplot(0.1,0.15;0.363636x0.75)\n",
       "G2    AxesSubplot(0.536364,0.15;0.363636x0.75)\n",
       "dtype: object"
      ]
     },
     "execution_count": 14,
     "metadata": {},
     "output_type": "execute_result"
    },
    {
     "data": {
      "image/png": "[encoded data removed]",
      "text/plain": [
       "<Figure size 432x288 with 2 Axes>"
      ]
     },
     "metadata": {
      "needs_background": "light"
     },
     "output_type": "display_data"
    }
   ],
   "source": [
    "split5.groupby('Gene').boxplot(by = 'MSIstatus')"
   ]
  },
  {
   "cell_type": "code",
   "execution_count": 38,
   "metadata": {},
   "outputs": [
    {
     "data": {
      "text/html": [
       "<div>\n",
       "<style scoped>\n",
       "    .dataframe tbody tr th:only-of-type {\n",
       "        vertical-align: middle;\n",
       "    }\n",
       "\n",
       "    .dataframe tbody tr th {\n",
       "        vertical-align: top;\n",
       "    }\n",
       "\n",
       "    .dataframe thead th {\n",
       "        text-align: right;\n",
       "    }\n",
       "</style>\n",
       "<table border=\"1\" class=\"dataframe\">\n",
       "  <thead>\n",
       "    <tr style=\"text-align: right;\">\n",
       "      <th></th>\n",
       "      <th></th>\n",
       "      <th></th>\n",
       "      <th>mean</th>\n",
       "      <th>std</th>\n",
       "      <th>size</th>\n",
       "      <th>sum</th>\n",
       "    </tr>\n",
       "    <tr>\n",
       "      <th>Junction</th>\n",
       "      <th>Gene</th>\n",
       "      <th>MSIstatus</th>\n",
       "      <th></th>\n",
       "      <th></th>\n",
       "      <th></th>\n",
       "      <th></th>\n",
       "    </tr>\n",
       "  </thead>\n",
       "  <tbody>\n",
       "    <tr>\n",
       "      <th rowspan=\"4\" valign=\"top\">J2</th>\n",
       "      <th rowspan=\"2\" valign=\"top\">G1</th>\n",
       "      <th>MSI-H</th>\n",
       "      <td>0.510638</td>\n",
       "      <td>0.219915</td>\n",
       "      <td>47.0</td>\n",
       "      <td>24.0</td>\n",
       "    </tr>\n",
       "    <tr>\n",
       "      <th>MSS</th>\n",
       "      <td>0.511111</td>\n",
       "      <td>0.215557</td>\n",
       "      <td>45.0</td>\n",
       "      <td>23.0</td>\n",
       "    </tr>\n",
       "    <tr>\n",
       "      <th rowspan=\"2\" valign=\"top\">G2</th>\n",
       "      <th>MSI-H</th>\n",
       "      <td>0.442553</td>\n",
       "      <td>0.181473</td>\n",
       "      <td>47.0</td>\n",
       "      <td>20.8</td>\n",
       "    </tr>\n",
       "    <tr>\n",
       "      <th>MSS</th>\n",
       "      <td>0.417778</td>\n",
       "      <td>0.244288</td>\n",
       "      <td>45.0</td>\n",
       "      <td>18.8</td>\n",
       "    </tr>\n",
       "  </tbody>\n",
       "</table>\n",
       "</div>"
      ],
      "text/plain": [
       "                             mean       std  size   sum\n",
       "Junction Gene MSIstatus                                \n",
       "J2       G1   MSI-H      0.510638  0.219915  47.0  24.0\n",
       "              MSS        0.511111  0.215557  45.0  23.0\n",
       "         G2   MSI-H      0.442553  0.181473  47.0  20.8\n",
       "              MSS        0.417778  0.244288  45.0  18.8"
      ]
     },
     "execution_count": 38,
     "metadata": {},
     "output_type": "execute_result"
    }
   ],
   "source": [
    "split5.groupby([\"Junction\", \"Gene\",\"MSIstatus\"])['C+G'].agg([np.mean, np.std, np.size, np.sum])"
   ]
  },
  {
   "cell_type": "code",
   "execution_count": 15,
   "metadata": {},
   "outputs": [
    {
     "data": {
      "text/plain": [
       "G1         AxesSubplot(0.1,0.15;0.363636x0.75)\n",
       "G2    AxesSubplot(0.536364,0.15;0.363636x0.75)\n",
       "dtype: object"
      ]
     },
     "execution_count": 15,
     "metadata": {},
     "output_type": "execute_result"
    },
    {
     "data": {
      "image/png": "[encoded data removed]",
      "text/plain": [
       "<Figure size 432x288 with 2 Axes>"
      ]
     },
     "metadata": {
      "needs_background": "light"
     },
     "output_type": "display_data"
    }
   ],
   "source": [
    "split21.groupby('Gene').boxplot(by = 'MSIstatus')"
   ]
  },
  {
   "cell_type": "code",
   "execution_count": 37,
   "metadata": {},
   "outputs": [
    {
     "data": {
      "text/html": [
       "<div>\n",
       "<style scoped>\n",
       "    .dataframe tbody tr th:only-of-type {\n",
       "        vertical-align: middle;\n",
       "    }\n",
       "\n",
       "    .dataframe tbody tr th {\n",
       "        vertical-align: top;\n",
       "    }\n",
       "\n",
       "    .dataframe thead th {\n",
       "        text-align: right;\n",
       "    }\n",
       "</style>\n",
       "<table border=\"1\" class=\"dataframe\">\n",
       "  <thead>\n",
       "    <tr style=\"text-align: right;\">\n",
       "      <th></th>\n",
       "      <th></th>\n",
       "      <th></th>\n",
       "      <th>mean</th>\n",
       "      <th>std</th>\n",
       "      <th>size</th>\n",
       "      <th>sum</th>\n",
       "    </tr>\n",
       "    <tr>\n",
       "      <th>Junction</th>\n",
       "      <th>Gene</th>\n",
       "      <th>MSIstatus</th>\n",
       "      <th></th>\n",
       "      <th></th>\n",
       "      <th></th>\n",
       "      <th></th>\n",
       "    </tr>\n",
       "  </thead>\n",
       "  <tbody>\n",
       "    <tr>\n",
       "      <th rowspan=\"4\" valign=\"top\">J2</th>\n",
       "      <th rowspan=\"2\" valign=\"top\">G1</th>\n",
       "      <th>MSI-H</th>\n",
       "      <td>0.551165</td>\n",
       "      <td>0.147189</td>\n",
       "      <td>47.0</td>\n",
       "      <td>25.904762</td>\n",
       "    </tr>\n",
       "    <tr>\n",
       "      <th>MSS</th>\n",
       "      <td>0.536508</td>\n",
       "      <td>0.151404</td>\n",
       "      <td>45.0</td>\n",
       "      <td>24.142857</td>\n",
       "    </tr>\n",
       "    <tr>\n",
       "      <th rowspan=\"2\" valign=\"top\">G2</th>\n",
       "      <th>MSI-H</th>\n",
       "      <td>0.482270</td>\n",
       "      <td>0.125446</td>\n",
       "      <td>47.0</td>\n",
       "      <td>22.666667</td>\n",
       "    </tr>\n",
       "    <tr>\n",
       "      <th>MSS</th>\n",
       "      <td>0.403175</td>\n",
       "      <td>0.138684</td>\n",
       "      <td>45.0</td>\n",
       "      <td>18.142857</td>\n",
       "    </tr>\n",
       "  </tbody>\n",
       "</table>\n",
       "</div>"
      ],
      "text/plain": [
       "                             mean       std  size        sum\n",
       "Junction Gene MSIstatus                                     \n",
       "J2       G1   MSI-H      0.551165  0.147189  47.0  25.904762\n",
       "              MSS        0.536508  0.151404  45.0  24.142857\n",
       "         G2   MSI-H      0.482270  0.125446  47.0  22.666667\n",
       "              MSS        0.403175  0.138684  45.0  18.142857"
      ]
     },
     "execution_count": 37,
     "metadata": {},
     "output_type": "execute_result"
    }
   ],
   "source": [
    "split21.groupby([\"Junction\", \"Gene\",\"MSIstatus\"])['C+G'].agg([np.mean, np.std, np.size, np.sum])"
   ]
  },
  {
   "cell_type": "code",
   "execution_count": 17,
   "metadata": {},
   "outputs": [
    {
     "data": {
      "text/plain": [
       "G1         AxesSubplot(0.1,0.15;0.363636x0.75)\n",
       "G2    AxesSubplot(0.536364,0.15;0.363636x0.75)\n",
       "dtype: object"
      ]
     },
     "execution_count": 17,
     "metadata": {},
     "output_type": "execute_result"
    },
    {
     "data": {
      "image/png": "[encoded data removed]",
      "text/plain": [
       "<Figure size 432x288 with 2 Axes>"
      ]
     },
     "metadata": {
      "needs_background": "light"
     },
     "output_type": "display_data"
    }
   ],
   "source": [
    "split1.groupby('Gene').boxplot(by = 'MSIstatus')"
   ]
  },
  {
   "cell_type": "code",
   "execution_count": 36,
   "metadata": {},
   "outputs": [
    {
     "data": {
      "text/html": [
       "<div>\n",
       "<style scoped>\n",
       "    .dataframe tbody tr th:only-of-type {\n",
       "        vertical-align: middle;\n",
       "    }\n",
       "\n",
       "    .dataframe tbody tr th {\n",
       "        vertical-align: top;\n",
       "    }\n",
       "\n",
       "    .dataframe thead th {\n",
       "        text-align: right;\n",
       "    }\n",
       "</style>\n",
       "<table border=\"1\" class=\"dataframe\">\n",
       "  <thead>\n",
       "    <tr style=\"text-align: right;\">\n",
       "      <th></th>\n",
       "      <th></th>\n",
       "      <th></th>\n",
       "      <th>mean</th>\n",
       "      <th>std</th>\n",
       "      <th>size</th>\n",
       "      <th>sum</th>\n",
       "    </tr>\n",
       "    <tr>\n",
       "      <th>Junction</th>\n",
       "      <th>Gene</th>\n",
       "      <th>MSIstatus</th>\n",
       "      <th></th>\n",
       "      <th></th>\n",
       "      <th></th>\n",
       "      <th></th>\n",
       "    </tr>\n",
       "  </thead>\n",
       "  <tbody>\n",
       "    <tr>\n",
       "      <th rowspan=\"4\" valign=\"top\">J2</th>\n",
       "      <th rowspan=\"2\" valign=\"top\">G1</th>\n",
       "      <th>MSI-H</th>\n",
       "      <td>0.510638</td>\n",
       "      <td>0.505291</td>\n",
       "      <td>47.0</td>\n",
       "      <td>24.0</td>\n",
       "    </tr>\n",
       "    <tr>\n",
       "      <th>MSS</th>\n",
       "      <td>0.488889</td>\n",
       "      <td>0.505525</td>\n",
       "      <td>45.0</td>\n",
       "      <td>22.0</td>\n",
       "    </tr>\n",
       "    <tr>\n",
       "      <th rowspan=\"2\" valign=\"top\">G2</th>\n",
       "      <th>MSI-H</th>\n",
       "      <td>0.361702</td>\n",
       "      <td>0.485688</td>\n",
       "      <td>47.0</td>\n",
       "      <td>17.0</td>\n",
       "    </tr>\n",
       "    <tr>\n",
       "      <th>MSS</th>\n",
       "      <td>0.422222</td>\n",
       "      <td>0.499495</td>\n",
       "      <td>45.0</td>\n",
       "      <td>19.0</td>\n",
       "    </tr>\n",
       "  </tbody>\n",
       "</table>\n",
       "</div>"
      ],
      "text/plain": [
       "                             mean       std  size   sum\n",
       "Junction Gene MSIstatus                                \n",
       "J2       G1   MSI-H      0.510638  0.505291  47.0  24.0\n",
       "              MSS        0.488889  0.505525  45.0  22.0\n",
       "         G2   MSI-H      0.361702  0.485688  47.0  17.0\n",
       "              MSS        0.422222  0.499495  45.0  19.0"
      ]
     },
     "execution_count": 36,
     "metadata": {},
     "output_type": "execute_result"
    }
   ],
   "source": [
    "split1.groupby([\"Junction\", \"Gene\",\"MSIstatus\"])['C+G'].agg([np.mean, np.std, np.size, np.sum])"
   ]
  },
  {
   "cell_type": "code",
   "execution_count": null,
   "metadata": {},
   "outputs": [],
   "source": []
  }
 ],
 "metadata": {
  "kernelspec": {
   "display_name": "Python 3",
   "language": "python",
   "name": "python3"
  },
  "language_info": {
   "codemirror_mode": {
    "name": "ipython",
    "version": 3
   },
   "file_extension": ".py",
   "mimetype": "text/x-python",
   "name": "python",
   "nbconvert_exporter": "python",
   "pygments_lexer": "ipython3",
   "version": "3.6.10"
  }
 },
 "nbformat": 4,
 "nbformat_minor": 4
}
