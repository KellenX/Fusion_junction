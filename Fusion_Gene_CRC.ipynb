{
 "cells": [
  {
   "cell_type": "code",
   "execution_count": 1,
   "metadata": {},
   "outputs": [],
   "source": [
    "import numpy as np\n",
    "import pandas as pd\n",
    "import os\n",
    "import pickle\n",
    "import sys\n",
    "import scipy.stats as stats\n",
    "import matplotlib.pylab as plt\n",
    "%matplotlib inline"
   ]
  },
  {
   "cell_type": "code",
   "execution_count": 2,
   "metadata": {},
   "outputs": [
    {
     "data": {
      "text/plain": [
       "['.Rhistory',\n",
       " 'js1_bi.csv',\n",
       " 'Bipartite_graph.ipynb',\n",
       " 'Junction_Sequences_NTRK1_nonCRC_4_19_20_deid.xlsx',\n",
       " 'Table1.rds',\n",
       " 'nonCRC_Table1.pkl',\n",
       " 'Fusion_Gene.ipynb',\n",
       " 'Fusion_Gene_nonCRC.ipynb',\n",
       " 'Junction_Sequences_CRC_4_19_20_deid.xlsx',\n",
       " 'js1_count.pkl',\n",
       " '.RData',\n",
       " 'Table1.pkl',\n",
       " '.ipynb_checkpoints',\n",
       " 'Fusion_Gene_R.ipynb',\n",
       " 'Fusion_Gene_R.R']"
      ]
     },
     "execution_count": 2,
     "metadata": {},
     "output_type": "execute_result"
    }
   ],
   "source": [
    "os.getcwd()\n",
    "os.listdir()"
   ]
  },
  {
   "cell_type": "markdown",
   "metadata": {},
   "source": [
    "# A glance at data"
   ]
  },
  {
   "cell_type": "code",
   "execution_count": 140,
   "metadata": {},
   "outputs": [],
   "source": [
    "file = 'Junction_Sequences_CRC_4_19_20_deid.xlsx'\n",
    "df = pd.read_excel(file)\n",
    "with open('Table1.pkl', 'wb') as f: # save pickle\n",
    "    pickle.dump(df, f)\n",
    "    f.close()"
   ]
  },
  {
   "cell_type": "code",
   "execution_count": 2,
   "metadata": {},
   "outputs": [
    {
     "data": {
      "text/html": [
       "<div>\n",
       "<style scoped>\n",
       "    .dataframe tbody tr th:only-of-type {\n",
       "        vertical-align: middle;\n",
       "    }\n",
       "\n",
       "    .dataframe tbody tr th {\n",
       "        vertical-align: top;\n",
       "    }\n",
       "\n",
       "    .dataframe thead th {\n",
       "        text-align: right;\n",
       "    }\n",
       "</style>\n",
       "<table border=\"1\" class=\"dataframe\">\n",
       "  <thead>\n",
       "    <tr style=\"text-align: right;\">\n",
       "      <th></th>\n",
       "      <th>deidentifiedSpecimenName</th>\n",
       "      <th>diseaseOntology</th>\n",
       "      <th>MSIstatus</th>\n",
       "      <th>gene1_RE</th>\n",
       "      <th>gene2_RE</th>\n",
       "      <th>Gene1_Breakpoint1</th>\n",
       "      <th>Gene2_Breakpoint1</th>\n",
       "      <th>Junction Sequence 1</th>\n",
       "      <th>Gene1_Breakpoint2</th>\n",
       "      <th>Gene2_Breakpoint2</th>\n",
       "      <th>Junction Sequence 2</th>\n",
       "    </tr>\n",
       "  </thead>\n",
       "  <tbody>\n",
       "    <tr>\n",
       "      <th>0</th>\n",
       "      <td>XRN:6SJTT7</td>\n",
       "      <td>colon adenocarcinoma (crc)</td>\n",
       "      <td>MSI-H</td>\n",
       "      <td>RET</td>\n",
       "      <td>TRIM24</td>\n",
       "      <td>chr10:43611914</td>\n",
       "      <td>chr7:138268067</td>\n",
       "      <td>AAGAAAAAAATCTAGATGATTAAGAGGAAATATGTGAAGACAAGTT...</td>\n",
       "      <td>-</td>\n",
       "      <td>-</td>\n",
       "      <td>-</td>\n",
       "    </tr>\n",
       "    <tr>\n",
       "      <th>1</th>\n",
       "      <td>XRN:DNF6WD</td>\n",
       "      <td>colon adenocarcinoma (crc)</td>\n",
       "      <td>MSS</td>\n",
       "      <td>BRAF</td>\n",
       "      <td>TRIM24</td>\n",
       "      <td>chr7:140489429</td>\n",
       "      <td>chr7:138253092</td>\n",
       "      <td>AACTTTCCATTCTTGAGAGCTTACAATCTCATGGGAAGTAAGATGC...</td>\n",
       "      <td>chr7:140489430</td>\n",
       "      <td>chr7:138253093</td>\n",
       "      <td>AAAAAAAAAAAAAAAAAAGGAGGCCAGGTACGGTGGCTTACGAGTT...</td>\n",
       "    </tr>\n",
       "    <tr>\n",
       "      <th>2</th>\n",
       "      <td>XRN:E3F52H</td>\n",
       "      <td>colon adenocarcinoma (crc)</td>\n",
       "      <td>MSI ambiguous</td>\n",
       "      <td>RET</td>\n",
       "      <td>NCOA4</td>\n",
       "      <td>chr10:43611796</td>\n",
       "      <td>chr10:51587961</td>\n",
       "      <td>GGGCAGGGGTCAGGGGAGACAGTAGACCAGGAACCAGAGAGGGTCG...</td>\n",
       "      <td>chr10:43607759</td>\n",
       "      <td>chr10:51587699</td>\n",
       "      <td>GCGATGGCACCGGTGGAAACGGGGTCCTGGGGCCCTGCCAGCCTGG...</td>\n",
       "    </tr>\n",
       "  </tbody>\n",
       "</table>\n",
       "</div>"
      ],
      "text/plain": [
       "  deidentifiedSpecimenName             diseaseOntology      MSIstatus  \\\n",
       "0               XRN:6SJTT7  colon adenocarcinoma (crc)          MSI-H   \n",
       "1               XRN:DNF6WD  colon adenocarcinoma (crc)            MSS   \n",
       "2               XRN:E3F52H  colon adenocarcinoma (crc)  MSI ambiguous   \n",
       "\n",
       "  gene1_RE gene2_RE Gene1_Breakpoint1 Gene2_Breakpoint1  \\\n",
       "0      RET   TRIM24    chr10:43611914    chr7:138268067   \n",
       "1     BRAF   TRIM24    chr7:140489429    chr7:138253092   \n",
       "2      RET    NCOA4    chr10:43611796    chr10:51587961   \n",
       "\n",
       "                                 Junction Sequence 1 Gene1_Breakpoint2  \\\n",
       "0  AAGAAAAAAATCTAGATGATTAAGAGGAAATATGTGAAGACAAGTT...                 -   \n",
       "1  AACTTTCCATTCTTGAGAGCTTACAATCTCATGGGAAGTAAGATGC...    chr7:140489430   \n",
       "2  GGGCAGGGGTCAGGGGAGACAGTAGACCAGGAACCAGAGAGGGTCG...    chr10:43607759   \n",
       "\n",
       "  Gene2_Breakpoint2                                Junction Sequence 2  \n",
       "0                 -                                                  -  \n",
       "1    chr7:138253093  AAAAAAAAAAAAAAAAAAGGAGGCCAGGTACGGTGGCTTACGAGTT...  \n",
       "2    chr10:51587699  GCGATGGCACCGGTGGAAACGGGGTCCTGGGGCCCTGCCAGCCTGG...  "
      ]
     },
     "execution_count": 2,
     "metadata": {},
     "output_type": "execute_result"
    }
   ],
   "source": [
    "with open('Table1.pkl', 'rb') as f: # load pickle\n",
    "    df = pickle.load(f)\n",
    "    f.close()\n",
    "df.head(3)"
   ]
  },
  {
   "cell_type": "code",
   "execution_count": 4,
   "metadata": {},
   "outputs": [
    {
     "data": {
      "text/plain": [
       "Index(['deidentifiedSpecimenName', 'diseaseOntology', 'MSIstatus', 'gene1_RE',\n",
       "       'gene2_RE', 'Gene1_Breakpoint1', 'Gene2_Breakpoint1',\n",
       "       'Junction Sequence 1', 'Gene1_Breakpoint2', 'Gene2_Breakpoint2',\n",
       "       'Junction Sequence 2'],\n",
       "      dtype='object')"
      ]
     },
     "execution_count": 4,
     "metadata": {},
     "output_type": "execute_result"
    }
   ],
   "source": [
    "df.columns"
   ]
  },
  {
   "cell_type": "code",
   "execution_count": 5,
   "metadata": {},
   "outputs": [
    {
     "name": "stdout",
     "output_type": "stream",
     "text": [
      "(245, 11)\n"
     ]
    },
    {
     "data": {
      "text/html": [
       "<div>\n",
       "<style scoped>\n",
       "    .dataframe tbody tr th:only-of-type {\n",
       "        vertical-align: middle;\n",
       "    }\n",
       "\n",
       "    .dataframe tbody tr th {\n",
       "        vertical-align: top;\n",
       "    }\n",
       "\n",
       "    .dataframe thead th {\n",
       "        text-align: right;\n",
       "    }\n",
       "</style>\n",
       "<table border=\"1\" class=\"dataframe\">\n",
       "  <thead>\n",
       "    <tr style=\"text-align: right;\">\n",
       "      <th></th>\n",
       "      <th>deidentifiedSpecimenName</th>\n",
       "      <th>diseaseOntology</th>\n",
       "      <th>MSIstatus</th>\n",
       "      <th>gene1_RE</th>\n",
       "      <th>gene2_RE</th>\n",
       "      <th>Gene1_Breakpoint1</th>\n",
       "      <th>Gene2_Breakpoint1</th>\n",
       "      <th>Junction Sequence 1</th>\n",
       "      <th>Gene1_Breakpoint2</th>\n",
       "      <th>Gene2_Breakpoint2</th>\n",
       "      <th>Junction Sequence 2</th>\n",
       "    </tr>\n",
       "  </thead>\n",
       "  <tbody>\n",
       "    <tr>\n",
       "      <th>0</th>\n",
       "      <td>XRN:6SJTT7</td>\n",
       "      <td>colon adenocarcinoma (crc)</td>\n",
       "      <td>MSI-H</td>\n",
       "      <td>RET</td>\n",
       "      <td>TRIM24</td>\n",
       "      <td>chr10:43611914</td>\n",
       "      <td>chr7:138268067</td>\n",
       "      <td>AAGAAAAAAATCTAGATGATTAAGAGGAAATATGTGAAGACAAGTT...</td>\n",
       "      <td>-</td>\n",
       "      <td>-</td>\n",
       "      <td>-</td>\n",
       "    </tr>\n",
       "    <tr>\n",
       "      <th>1</th>\n",
       "      <td>XRN:DNF6WD</td>\n",
       "      <td>colon adenocarcinoma (crc)</td>\n",
       "      <td>MSS</td>\n",
       "      <td>BRAF</td>\n",
       "      <td>TRIM24</td>\n",
       "      <td>chr7:140489429</td>\n",
       "      <td>chr7:138253092</td>\n",
       "      <td>AACTTTCCATTCTTGAGAGCTTACAATCTCATGGGAAGTAAGATGC...</td>\n",
       "      <td>chr7:140489430</td>\n",
       "      <td>chr7:138253093</td>\n",
       "      <td>AAAAAAAAAAAAAAAAAAGGAGGCCAGGTACGGTGGCTTACGAGTT...</td>\n",
       "    </tr>\n",
       "    <tr>\n",
       "      <th>2</th>\n",
       "      <td>XRN:E3F52H</td>\n",
       "      <td>colon adenocarcinoma (crc)</td>\n",
       "      <td>MSI ambiguous</td>\n",
       "      <td>RET</td>\n",
       "      <td>NCOA4</td>\n",
       "      <td>chr10:43611796</td>\n",
       "      <td>chr10:51587961</td>\n",
       "      <td>GGGCAGGGGTCAGGGGAGACAGTAGACCAGGAACCAGAGAGGGTCG...</td>\n",
       "      <td>chr10:43607759</td>\n",
       "      <td>chr10:51587699</td>\n",
       "      <td>GCGATGGCACCGGTGGAAACGGGGTCCTGGGGCCCTGCCAGCCTGG...</td>\n",
       "    </tr>\n",
       "  </tbody>\n",
       "</table>\n",
       "</div>"
      ],
      "text/plain": [
       "  deidentifiedSpecimenName             diseaseOntology      MSIstatus  \\\n",
       "0               XRN:6SJTT7  colon adenocarcinoma (crc)          MSI-H   \n",
       "1               XRN:DNF6WD  colon adenocarcinoma (crc)            MSS   \n",
       "2               XRN:E3F52H  colon adenocarcinoma (crc)  MSI ambiguous   \n",
       "\n",
       "  gene1_RE gene2_RE Gene1_Breakpoint1 Gene2_Breakpoint1  \\\n",
       "0      RET   TRIM24    chr10:43611914    chr7:138268067   \n",
       "1     BRAF   TRIM24    chr7:140489429    chr7:138253092   \n",
       "2      RET    NCOA4    chr10:43611796    chr10:51587961   \n",
       "\n",
       "                                 Junction Sequence 1 Gene1_Breakpoint2  \\\n",
       "0  AAGAAAAAAATCTAGATGATTAAGAGGAAATATGTGAAGACAAGTT...                 -   \n",
       "1  AACTTTCCATTCTTGAGAGCTTACAATCTCATGGGAAGTAAGATGC...    chr7:140489430   \n",
       "2  GGGCAGGGGTCAGGGGAGACAGTAGACCAGGAACCAGAGAGGGTCG...    chr10:43607759   \n",
       "\n",
       "  Gene2_Breakpoint2                                Junction Sequence 2  \n",
       "0                 -                                                  -  \n",
       "1    chr7:138253093  AAAAAAAAAAAAAAAAAAGGAGGCCAGGTACGGTGGCTTACGAGTT...  \n",
       "2    chr10:51587699  GCGATGGCACCGGTGGAAACGGGGTCCTGGGGCCCTGCCAGCCTGG...  "
      ]
     },
     "execution_count": 5,
     "metadata": {},
     "output_type": "execute_result"
    }
   ],
   "source": [
    "print(df.shape)\n",
    "df.head(3)"
   ]
  },
  {
   "cell_type": "code",
   "execution_count": 6,
   "metadata": {},
   "outputs": [
    {
     "name": "stdout",
     "output_type": "stream",
     "text": [
      "3 ['MSI-H' 'MSS' 'MSI ambiguous']\n"
     ]
    }
   ],
   "source": [
    "print(df.MSIstatus.nunique(), df.MSIstatus.unique())"
   ]
  },
  {
   "cell_type": "code",
   "execution_count": 7,
   "metadata": {},
   "outputs": [
    {
     "data": {
      "text/plain": [
       "94"
      ]
     },
     "execution_count": 7,
     "metadata": {},
     "output_type": "execute_result"
    }
   ],
   "source": [
    "df['Junction Sequence 2'].nunique()"
   ]
  },
  {
   "cell_type": "code",
   "execution_count": 8,
   "metadata": {},
   "outputs": [
    {
     "data": {
      "text/plain": [
       "pandas.core.series.Series"
      ]
     },
     "execution_count": 8,
     "metadata": {},
     "output_type": "execute_result"
    }
   ],
   "source": [
    "type(df.MSIstatus)"
   ]
  },
  {
   "cell_type": "code",
   "execution_count": 9,
   "metadata": {},
   "outputs": [
    {
     "data": {
      "text/plain": [
       "{'MSI ambiguous': 2, 'MSI-H': 92, 'MSS': 151}"
      ]
     },
     "execution_count": 9,
     "metadata": {},
     "output_type": "execute_result"
    }
   ],
   "source": [
    "values, counts = np.unique(df.MSIstatus, return_counts=True)\n",
    "dict(zip(values, counts))"
   ]
  },
  {
   "cell_type": "code",
   "execution_count": 10,
   "metadata": {},
   "outputs": [
    {
     "data": {
      "text/plain": [
       "array([  2,  92, 151])"
      ]
     },
     "execution_count": 10,
     "metadata": {},
     "output_type": "execute_result"
    }
   ],
   "source": [
    "counts"
   ]
  },
  {
   "cell_type": "code",
   "execution_count": 11,
   "metadata": {},
   "outputs": [
    {
     "data": {
      "text/html": [
       "<div>\n",
       "<style scoped>\n",
       "    .dataframe tbody tr th:only-of-type {\n",
       "        vertical-align: middle;\n",
       "    }\n",
       "\n",
       "    .dataframe tbody tr th {\n",
       "        vertical-align: top;\n",
       "    }\n",
       "\n",
       "    .dataframe thead th {\n",
       "        text-align: right;\n",
       "    }\n",
       "</style>\n",
       "<table border=\"1\" class=\"dataframe\">\n",
       "  <thead>\n",
       "    <tr style=\"text-align: right;\">\n",
       "      <th></th>\n",
       "      <th>count</th>\n",
       "      <th>unique</th>\n",
       "      <th>top</th>\n",
       "      <th>freq</th>\n",
       "    </tr>\n",
       "  </thead>\n",
       "  <tbody>\n",
       "    <tr>\n",
       "      <th>deidentifiedSpecimenName</th>\n",
       "      <td>245</td>\n",
       "      <td>245</td>\n",
       "      <td>XRN:W5GEWP</td>\n",
       "      <td>1</td>\n",
       "    </tr>\n",
       "    <tr>\n",
       "      <th>diseaseOntology</th>\n",
       "      <td>245</td>\n",
       "      <td>2</td>\n",
       "      <td>colon adenocarcinoma (crc)</td>\n",
       "      <td>236</td>\n",
       "    </tr>\n",
       "    <tr>\n",
       "      <th>MSIstatus</th>\n",
       "      <td>245</td>\n",
       "      <td>3</td>\n",
       "      <td>MSS</td>\n",
       "      <td>151</td>\n",
       "    </tr>\n",
       "  </tbody>\n",
       "</table>\n",
       "</div>"
      ],
      "text/plain": [
       "                         count unique                         top freq\n",
       "deidentifiedSpecimenName   245    245                  XRN:W5GEWP    1\n",
       "diseaseOntology            245      2  colon adenocarcinoma (crc)  236\n",
       "MSIstatus                  245      3                         MSS  151"
      ]
     },
     "execution_count": 11,
     "metadata": {},
     "output_type": "execute_result"
    }
   ],
   "source": [
    "df.describe().T.head(3)"
   ]
  },
  {
   "cell_type": "code",
   "execution_count": 12,
   "metadata": {},
   "outputs": [
    {
     "data": {
      "text/plain": [
       "70"
      ]
     },
     "execution_count": 12,
     "metadata": {},
     "output_type": "execute_result"
    }
   ],
   "source": [
    "df.gene2_RE.nunique()"
   ]
  },
  {
   "cell_type": "code",
   "execution_count": 13,
   "metadata": {},
   "outputs": [
    {
     "data": {
      "text/plain": [
       "array(['TRIM24', 'NCOA4', 'AGAP3', 'TPM3', 'TPR', 'PLEKHA6', 'LMNA',\n",
       "       'IRF2BP2', 'TPM1', 'CCDC88C', 'CIT', 'ZNF608', 'POF1B', 'SNRNP70',\n",
       "       'CCDC6', 'TNIP2', 'NTRK3', 'ETV6', 'EML4', 'SLMAP', 'STRN',\n",
       "       'DIAPH2', 'GKAP1', 'TARDBP', 'AKAP9', 'CUL1', 'DDX21', 'PAWR',\n",
       "       'NRBF2', 'ERC1', 'TACC2', 'TNIP1', 'GPHN', 'CAD', 'SPTBN1',\n",
       "       'ANO10', 'CAPN7', 'ATG7', 'DENND5A', 'TACC3', 'GOPC', 'MCM9',\n",
       "       'TTC28', 'CSNK1A1', 'SND1', 'MAP3K9', 'JHDM1D', 'LMTK2', 'RHEB',\n",
       "       'AGAP1', 'CUX1', 'GTF2IRD1', 'NFIA', 'MKRN1', 'TAX1BP1', 'DENND2A',\n",
       "       'DLG1', 'DAAM1/HIPK2', 'ARGLU1', 'FLJ45974',\n",
       "       datetime.datetime(2020, 9, 14, 0, 0), 'COBL', 'DDHD2', 'TACC1',\n",
       "       'BAG4', 'ACO1', 'ATIC', 'TMEM44', 'TRAK1', 'ARMC10'], dtype=object)"
      ]
     },
     "execution_count": 13,
     "metadata": {},
     "output_type": "execute_result"
    }
   ],
   "source": [
    "df.gene2_RE.unique()"
   ]
  },
  {
   "cell_type": "code",
   "execution_count": 14,
   "metadata": {},
   "outputs": [
    {
     "data": {
      "text/plain": [
       "pandas.core.groupby.groupby.DataFrameGroupBy"
      ]
     },
     "execution_count": 14,
     "metadata": {},
     "output_type": "execute_result"
    }
   ],
   "source": [
    "dg = df.groupby('MSIstatus')\n",
    "type(dg)"
   ]
  },
  {
   "cell_type": "code",
   "execution_count": 15,
   "metadata": {},
   "outputs": [
    {
     "data": {
      "text/plain": [
       "array(['BRAF', 'NTRK1', 'FGFR2', 'RET', 'ALK', 'RAF1', 'FGFR3', 'ROS1',\n",
       "       'MET', 'EGFR', 'FGFR1', 'NTRK2'], dtype=object)"
      ]
     },
     "execution_count": 15,
     "metadata": {},
     "output_type": "execute_result"
    }
   ],
   "source": [
    "uniq_g1 = dg['gene1_RE'].unique()\n",
    "uniq_g1['MSS']"
   ]
  },
  {
   "cell_type": "code",
   "execution_count": 16,
   "metadata": {},
   "outputs": [
    {
     "data": {
      "text/plain": [
       "array(['TRIM24', 'TPM3', 'TPR', 'PLEKHA6', 'LMNA', 'IRF2BP2', 'TPM1',\n",
       "       'CCDC88C', 'CIT', 'ZNF608', 'POF1B', 'NCOA4', 'SNRNP70', 'CCDC6',\n",
       "       'TNIP2', 'NTRK3', 'ETV6', 'EML4', 'SLMAP', 'STRN', 'DIAPH2',\n",
       "       'GKAP1', 'TARDBP', 'AGAP3', 'AKAP9', 'CUL1'], dtype=object)"
      ]
     },
     "execution_count": 16,
     "metadata": {},
     "output_type": "execute_result"
    }
   ],
   "source": [
    "uniq_g2 = dg['gene2_RE'].unique() #dt.iloc[2]\n",
    "uniq_g2['MSI-H']"
   ]
  },
  {
   "cell_type": "code",
   "execution_count": 17,
   "metadata": {},
   "outputs": [
    {
     "data": {
      "text/plain": [
       "26"
      ]
     },
     "execution_count": 17,
     "metadata": {},
     "output_type": "execute_result"
    }
   ],
   "source": [
    "nuniq_g2 = dg['gene2_RE'].nunique() #dt.iloc[2]\n",
    "nuniq_g2['MSI-H']"
   ]
  },
  {
   "cell_type": "code",
   "execution_count": 20,
   "metadata": {},
   "outputs": [
    {
     "data": {
      "text/plain": [
       "['AKAP9',\n",
       " 'CCDC6',\n",
       " 'STRN',\n",
       " 'EML4',\n",
       " 'PLEKHA6',\n",
       " 'TRIM24',\n",
       " 'TPM3',\n",
       " 'LMNA',\n",
       " 'CUL1',\n",
       " 'TPR',\n",
       " 'AGAP3',\n",
       " 'NCOA4',\n",
       " 'DIAPH2']"
      ]
     },
     "execution_count": 20,
     "metadata": {},
     "output_type": "execute_result"
    }
   ],
   "source": [
    "def intersection(lst1, lst2): \n",
    "    return list(set(lst1) & set(lst2))\n",
    "def shared_MSS_MSIh(t):\n",
    "    return intersection(t['MSS'],t['MSI-H'])\n",
    "shared_MSS_MSIh(uniq_g2)"
   ]
  },
  {
   "cell_type": "markdown",
   "metadata": {},
   "source": [
    "# Hypothesis1"
   ]
  },
  {
   "cell_type": "markdown",
   "metadata": {},
   "source": [
    "### Compare proportion of Gene-1(s) in MSI-H and MSS, and identify those that have large differences"
   ]
  },
  {
   "cell_type": "code",
   "execution_count": 144,
   "metadata": {},
   "outputs": [
    {
     "data": {
      "text/html": [
       "<div>\n",
       "<style scoped>\n",
       "    .dataframe tbody tr th:only-of-type {\n",
       "        vertical-align: middle;\n",
       "    }\n",
       "\n",
       "    .dataframe tbody tr th {\n",
       "        vertical-align: top;\n",
       "    }\n",
       "\n",
       "    .dataframe thead th {\n",
       "        text-align: right;\n",
       "    }\n",
       "</style>\n",
       "<table border=\"1\" class=\"dataframe\">\n",
       "  <thead>\n",
       "    <tr style=\"text-align: right;\">\n",
       "      <th></th>\n",
       "      <th>deidentifiedSpecimenName</th>\n",
       "      <th>diseaseOntology</th>\n",
       "      <th>MSIstatus</th>\n",
       "      <th>gene1_RE</th>\n",
       "      <th>gene2_RE</th>\n",
       "      <th>Gene1_Breakpoint1</th>\n",
       "      <th>Gene2_Breakpoint1</th>\n",
       "      <th>Junction Sequence 1</th>\n",
       "      <th>Gene1_Breakpoint2</th>\n",
       "      <th>Gene2_Breakpoint2</th>\n",
       "      <th>Junction Sequence 2</th>\n",
       "    </tr>\n",
       "  </thead>\n",
       "  <tbody>\n",
       "    <tr>\n",
       "      <th>0</th>\n",
       "      <td>XRN:6SJTT7</td>\n",
       "      <td>colon adenocarcinoma (crc)</td>\n",
       "      <td>MSI-H</td>\n",
       "      <td>RET</td>\n",
       "      <td>TRIM24</td>\n",
       "      <td>chr10:43611914</td>\n",
       "      <td>chr7:138268067</td>\n",
       "      <td>AAGAAAAAAATCTAGATGATTAAGAGGAAATATGTGAAGACAAGTT...</td>\n",
       "      <td>-</td>\n",
       "      <td>-</td>\n",
       "      <td>-</td>\n",
       "    </tr>\n",
       "    <tr>\n",
       "      <th>1</th>\n",
       "      <td>XRN:DNF6WD</td>\n",
       "      <td>colon adenocarcinoma (crc)</td>\n",
       "      <td>MSS</td>\n",
       "      <td>BRAF</td>\n",
       "      <td>TRIM24</td>\n",
       "      <td>chr7:140489429</td>\n",
       "      <td>chr7:138253092</td>\n",
       "      <td>AACTTTCCATTCTTGAGAGCTTACAATCTCATGGGAAGTAAGATGC...</td>\n",
       "      <td>chr7:140489430</td>\n",
       "      <td>chr7:138253093</td>\n",
       "      <td>AAAAAAAAAAAAAAAAAAGGAGGCCAGGTACGGTGGCTTACGAGTT...</td>\n",
       "    </tr>\n",
       "    <tr>\n",
       "      <th>2</th>\n",
       "      <td>XRN:E3F52H</td>\n",
       "      <td>colon adenocarcinoma (crc)</td>\n",
       "      <td>MSI ambiguous</td>\n",
       "      <td>RET</td>\n",
       "      <td>NCOA4</td>\n",
       "      <td>chr10:43611796</td>\n",
       "      <td>chr10:51587961</td>\n",
       "      <td>GGGCAGGGGTCAGGGGAGACAGTAGACCAGGAACCAGAGAGGGTCG...</td>\n",
       "      <td>chr10:43607759</td>\n",
       "      <td>chr10:51587699</td>\n",
       "      <td>GCGATGGCACCGGTGGAAACGGGGTCCTGGGGCCCTGCCAGCCTGG...</td>\n",
       "    </tr>\n",
       "  </tbody>\n",
       "</table>\n",
       "</div>"
      ],
      "text/plain": [
       "  deidentifiedSpecimenName             diseaseOntology      MSIstatus  \\\n",
       "0               XRN:6SJTT7  colon adenocarcinoma (crc)          MSI-H   \n",
       "1               XRN:DNF6WD  colon adenocarcinoma (crc)            MSS   \n",
       "2               XRN:E3F52H  colon adenocarcinoma (crc)  MSI ambiguous   \n",
       "\n",
       "  gene1_RE gene2_RE Gene1_Breakpoint1 Gene2_Breakpoint1  \\\n",
       "0      RET   TRIM24    chr10:43611914    chr7:138268067   \n",
       "1     BRAF   TRIM24    chr7:140489429    chr7:138253092   \n",
       "2      RET    NCOA4    chr10:43611796    chr10:51587961   \n",
       "\n",
       "                                 Junction Sequence 1 Gene1_Breakpoint2  \\\n",
       "0  AAGAAAAAAATCTAGATGATTAAGAGGAAATATGTGAAGACAAGTT...                 -   \n",
       "1  AACTTTCCATTCTTGAGAGCTTACAATCTCATGGGAAGTAAGATGC...    chr7:140489430   \n",
       "2  GGGCAGGGGTCAGGGGAGACAGTAGACCAGGAACCAGAGAGGGTCG...    chr10:43607759   \n",
       "\n",
       "  Gene2_Breakpoint2                                Junction Sequence 2  \n",
       "0                 -                                                  -  \n",
       "1    chr7:138253093  AAAAAAAAAAAAAAAAAAGGAGGCCAGGTACGGTGGCTTACGAGTT...  \n",
       "2    chr10:51587699  GCGATGGCACCGGTGGAAACGGGGTCCTGGGGCCCTGCCAGCCTGG...  "
      ]
     },
     "execution_count": 144,
     "metadata": {},
     "output_type": "execute_result"
    }
   ],
   "source": [
    "with open('Table1.pkl', 'rb') as f: # load pickle\n",
    "    pickle.load(f)\n",
    "    f.close()\n",
    "df.head(3)"
   ]
  },
  {
   "cell_type": "code",
   "execution_count": 145,
   "metadata": {},
   "outputs": [
    {
     "data": {
      "text/plain": [
       "pandas.core.groupby.groupby.DataFrameGroupBy"
      ]
     },
     "execution_count": 145,
     "metadata": {},
     "output_type": "execute_result"
    }
   ],
   "source": [
    "dg = df.groupby('MSIstatus')\n",
    "type(dg)"
   ]
  },
  {
   "cell_type": "code",
   "execution_count": 146,
   "metadata": {},
   "outputs": [
    {
     "data": {
      "text/plain": [
       "MSIstatus\n",
       "MSI ambiguous     2\n",
       "MSI-H            26\n",
       "MSS              57\n",
       "Name: gene2_RE, dtype: int64"
      ]
     },
     "execution_count": 146,
     "metadata": {},
     "output_type": "execute_result"
    }
   ],
   "source": [
    "dg['gene2_RE'].nunique()"
   ]
  },
  {
   "cell_type": "code",
   "execution_count": 147,
   "metadata": {},
   "outputs": [],
   "source": [
    "dh = df.groupby('gene1_RE')"
   ]
  },
  {
   "cell_type": "code",
   "execution_count": 148,
   "metadata": {},
   "outputs": [
    {
     "data": {
      "text/plain": [
       "gene1_RE\n",
       "ALK                     [MSI-H, MSS]\n",
       "BRAF     [MSS, MSI ambiguous, MSI-H]\n",
       "EGFR                           [MSS]\n",
       "ETV6                         [MSI-H]\n",
       "FGFR1                          [MSS]\n",
       "FGFR2                   [MSI-H, MSS]\n",
       "FGFR3                          [MSS]\n",
       "MET                            [MSS]\n",
       "NTRK1                   [MSI-H, MSS]\n",
       "NTRK2                          [MSS]\n",
       "NTRK3                        [MSI-H]\n",
       "RAF1                           [MSS]\n",
       "RET      [MSI-H, MSI ambiguous, MSS]\n",
       "ROS1                           [MSS]\n",
       "Name: MSIstatus, dtype: object"
      ]
     },
     "execution_count": 148,
     "metadata": {},
     "output_type": "execute_result"
    }
   ],
   "source": [
    "dh['MSIstatus'].unique()"
   ]
  },
  {
   "cell_type": "code",
   "execution_count": 149,
   "metadata": {},
   "outputs": [
    {
     "data": {
      "text/html": [
       "<div>\n",
       "<style scoped>\n",
       "    .dataframe tbody tr th:only-of-type {\n",
       "        vertical-align: middle;\n",
       "    }\n",
       "\n",
       "    .dataframe tbody tr th {\n",
       "        vertical-align: top;\n",
       "    }\n",
       "\n",
       "    .dataframe thead th {\n",
       "        text-align: right;\n",
       "    }\n",
       "</style>\n",
       "<table border=\"1\" class=\"dataframe\">\n",
       "  <thead>\n",
       "    <tr style=\"text-align: right;\">\n",
       "      <th>MSIstatus</th>\n",
       "      <th>MSI-H</th>\n",
       "      <th>MSS</th>\n",
       "    </tr>\n",
       "    <tr>\n",
       "      <th>gene1_RE</th>\n",
       "      <th></th>\n",
       "      <th></th>\n",
       "    </tr>\n",
       "  </thead>\n",
       "  <tbody>\n",
       "    <tr>\n",
       "      <th>ALK</th>\n",
       "      <td>7</td>\n",
       "      <td>23</td>\n",
       "    </tr>\n",
       "    <tr>\n",
       "      <th>BRAF</th>\n",
       "      <td>16</td>\n",
       "      <td>52</td>\n",
       "    </tr>\n",
       "    <tr>\n",
       "      <th>EGFR</th>\n",
       "      <td>0</td>\n",
       "      <td>13</td>\n",
       "    </tr>\n",
       "    <tr>\n",
       "      <th>ETV6</th>\n",
       "      <td>1</td>\n",
       "      <td>0</td>\n",
       "    </tr>\n",
       "    <tr>\n",
       "      <th>FGFR1</th>\n",
       "      <td>0</td>\n",
       "      <td>5</td>\n",
       "    </tr>\n",
       "    <tr>\n",
       "      <th>FGFR2</th>\n",
       "      <td>4</td>\n",
       "      <td>5</td>\n",
       "    </tr>\n",
       "    <tr>\n",
       "      <th>FGFR3</th>\n",
       "      <td>0</td>\n",
       "      <td>7</td>\n",
       "    </tr>\n",
       "    <tr>\n",
       "      <th>MET</th>\n",
       "      <td>0</td>\n",
       "      <td>1</td>\n",
       "    </tr>\n",
       "    <tr>\n",
       "      <th>NTRK1</th>\n",
       "      <td>39</td>\n",
       "      <td>6</td>\n",
       "    </tr>\n",
       "    <tr>\n",
       "      <th>NTRK2</th>\n",
       "      <td>0</td>\n",
       "      <td>1</td>\n",
       "    </tr>\n",
       "    <tr>\n",
       "      <th>NTRK3</th>\n",
       "      <td>4</td>\n",
       "      <td>0</td>\n",
       "    </tr>\n",
       "    <tr>\n",
       "      <th>RAF1</th>\n",
       "      <td>0</td>\n",
       "      <td>5</td>\n",
       "    </tr>\n",
       "    <tr>\n",
       "      <th>RET</th>\n",
       "      <td>21</td>\n",
       "      <td>24</td>\n",
       "    </tr>\n",
       "    <tr>\n",
       "      <th>ROS1</th>\n",
       "      <td>0</td>\n",
       "      <td>9</td>\n",
       "    </tr>\n",
       "  </tbody>\n",
       "</table>\n",
       "</div>"
      ],
      "text/plain": [
       "MSIstatus  MSI-H  MSS\n",
       "gene1_RE             \n",
       "ALK            7   23\n",
       "BRAF          16   52\n",
       "EGFR           0   13\n",
       "ETV6           1    0\n",
       "FGFR1          0    5\n",
       "FGFR2          4    5\n",
       "FGFR3          0    7\n",
       "MET            0    1\n",
       "NTRK1         39    6\n",
       "NTRK2          0    1\n",
       "NTRK3          4    0\n",
       "RAF1           0    5\n",
       "RET           21   24\n",
       "ROS1           0    9"
      ]
     },
     "execution_count": 149,
     "metadata": {},
     "output_type": "execute_result"
    }
   ],
   "source": [
    "g1_cross = pd.crosstab(df.gene1_RE,df.MSIstatus)\n",
    "g1_cross = g1_cross.iloc[:,1:]\n",
    "#g1_cross['total'] = g1_cross['MSI-H'] + g1_cross['MSS']\n",
    "g1_cross"
   ]
  },
  {
   "cell_type": "code",
   "execution_count": 150,
   "metadata": {},
   "outputs": [
    {
     "data": {
      "text/plain": [
       "Index(['ALK', 'BRAF', 'EGFR', 'ETV6', 'FGFR1', 'FGFR2', 'FGFR3', 'MET',\n",
       "       'NTRK1', 'NTRK2', 'NTRK3', 'RAF1', 'RET', 'ROS1'],\n",
       "      dtype='object', name='gene1_RE')"
      ]
     },
     "execution_count": 150,
     "metadata": {},
     "output_type": "execute_result"
    }
   ],
   "source": [
    "g1_cross.index"
   ]
  },
  {
   "cell_type": "code",
   "execution_count": 15,
   "metadata": {},
   "outputs": [
    {
     "data": {
      "text/plain": [
       "23"
      ]
     },
     "execution_count": 15,
     "metadata": {},
     "output_type": "execute_result"
    }
   ],
   "source": [
    "g1_cross.loc[\"ALK\"]['MSS']"
   ]
  },
  {
   "cell_type": "code",
   "execution_count": null,
   "metadata": {},
   "outputs": [],
   "source": [
    "df2.pivot_table(values='X', index='Y', columns='Z', aggfunc=pd.Series.nunique)"
   ]
  },
  {
   "cell_type": "code",
   "execution_count": 8,
   "metadata": {},
   "outputs": [
    {
     "data": {
      "text/plain": [
       "{'MSI ambiguous': 2, 'MSI-H': 92, 'MSS': 151}"
      ]
     },
     "execution_count": 8,
     "metadata": {},
     "output_type": "execute_result"
    }
   ],
   "source": [
    "values, counts = np.unique(df.MSIstatus, return_counts=True)\n",
    "dict(zip(values, counts))"
   ]
  },
  {
   "cell_type": "code",
   "execution_count": 8,
   "metadata": {},
   "outputs": [
    {
     "data": {
      "text/plain": [
       "151"
      ]
     },
     "execution_count": 8,
     "metadata": {},
     "output_type": "execute_result"
    }
   ],
   "source": [
    "MSIstatus_count['MSS']"
   ]
  },
  {
   "cell_type": "markdown",
   "metadata": {},
   "source": [
    "### Try Fishers exact test"
   ]
  },
  {
   "cell_type": "code",
   "execution_count": 9,
   "metadata": {},
   "outputs": [],
   "source": [
    "import scipy.stats as stats"
   ]
  },
  {
   "cell_type": "code",
   "execution_count": 21,
   "metadata": {},
   "outputs": [],
   "source": [
    "#oddsratio, pvalue = stats.fisher_exact([[8, 2], [1, 5]])\n",
    "def my_Fisher(AB,CD):\n",
    "    A = AB['MSI-H']\n",
    "    B = AB['MSS']\n",
    "    C = CD['MSI-H'] - A\n",
    "    D = CD['MSS']- B\n",
    "    oddsratio, pvalue = stats.fisher_exact([[A, B], [C, D]])\n",
    "    return oddsratio, pvalue"
   ]
  },
  {
   "cell_type": "code",
   "execution_count": 24,
   "metadata": {},
   "outputs": [
    {
     "name": "stdout",
     "output_type": "stream",
     "text": [
      "0.45831202046035807 0.10702572672684071\n"
     ]
    }
   ],
   "source": [
    "oddsratio, pvalue = my_Fisher(g1_cross.loc[\"ALK\"], MSIstatus_count)\n",
    "print(oddsratio, pvalue)"
   ]
  },
  {
   "cell_type": "code",
   "execution_count": 32,
   "metadata": {},
   "outputs": [
    {
     "name": "stdout",
     "output_type": "stream",
     "text": [
      "ALK   | p-val: 0.458312 | odds 0.107\n",
      "BRAF  | p-val: 0.400810 | odds 0.00494\n",
      "EGFR  | p-val: 0.000000 | odds 0.002236\n",
      "ETV6  | p-val: inf | odds 0.3786\n",
      "FGFR1 | p-val: 0.000000 | odds 0.1599\n",
      "FGFR2 | p-val: 1.327273 | odds 0.7332\n",
      "FGFR3 | p-val: 0.000000 | odds 0.0467\n",
      "MET   | p-val: 0.000000 | odds 1.0\n",
      "NTRK1 | p-val: 17.783019 | odds 9.229e-14\n",
      "NTRK2 | p-val: 0.000000 | odds 1.0\n",
      "NTRK3 | p-val: inf | odds 0.01972\n",
      "RAF1  | p-val: 0.000000 | odds 0.1599\n",
      "RET   | p-val: 1.565141 | odds 0.233\n",
      "ROS1  | p-val: 0.000000 | odds 0.01472\n"
     ]
    }
   ],
   "source": [
    "for i in g1_cross.index:\n",
    "    odds, p = my_Fisher(g1_cross.loc[i], MSIstatus_count)\n",
    "    print(\"{:5} | p-val: {:.6f} | odds {:.4}\".format(i, odds, p))"
   ]
  },
  {
   "cell_type": "markdown",
   "metadata": {},
   "source": [
    "### Try Hypergeometric test"
   ]
  },
  {
   "cell_type": "code",
   "execution_count": 10,
   "metadata": {},
   "outputs": [],
   "source": [
    "def my_Hypo_sf(AB,CD): # use the survival function\n",
    "    # x the number of drawn “successes”\n",
    "    A = AB['MSI-H']\n",
    "    B = AB['MSS']\n",
    "    N = A+B # N the number of successes in the population\n",
    "    # n the sample size\n",
    "    C = CD['MSI-H']\n",
    "    D = CD['MSS']\n",
    "    M = C+D # M the population size\n",
    "\n",
    "    #pval = hypergeom.sf(x-1, M, n, N)\n",
    "    pMSI = stats.hypergeom.sf(A-1, M, C, N)\n",
    "    pMSS = stats.hypergeom.sf(B-1, M, D, N)\n",
    "    return pMSI, pMSS\n",
    "\n",
    "def my_Hypo_cdf(AB,CD): # use the cumulative distribution function\n",
    "    # x the number of drawn “successes”\n",
    "    A = AB['MSI-H']\n",
    "    B = AB['MSS']\n",
    "    N = A+B # N the number of successes in the population\n",
    "    # n the sample size\n",
    "    C = CD['MSI-H']\n",
    "    D = CD['MSS']\n",
    "    M = C+D # M the population size\n",
    "\n",
    "    #pval = hypergeom.cdf(x, M, n, N)\n",
    "    pMSI = stats.hypergeom.cdf(A, M, C, N)\n",
    "    pMSS = stats.hypergeom.cdf(B, M, D, N)\n",
    "    return pMSI, pMSS"
   ]
  },
  {
   "cell_type": "code",
   "execution_count": 11,
   "metadata": {},
   "outputs": [
    {
     "name": "stdout",
     "output_type": "stream",
     "text": [
      "0.9775541307184024 0.05761653859962316\n"
     ]
    }
   ],
   "source": [
    "pMSI, pMSS = my_Hypo_sf(g1_cross.loc[\"ALK\"], MSIstatus_count)\n",
    "print(pMSI,pMSS)"
   ]
  },
  {
   "cell_type": "code",
   "execution_count": 50,
   "metadata": {},
   "outputs": [
    {
     "name": "stdout",
     "output_type": "stream",
     "text": [
      "0.057616538599623165 0.9775541307184002\n"
     ]
    }
   ],
   "source": [
    "pMSI, pMSS = my_Hypo_cdf(g1_cross.loc[\"ALK\"], MSIstatus_count)\n",
    "print(pMSI,pMSS)"
   ]
  },
  {
   "cell_type": "code",
   "execution_count": 14,
   "metadata": {},
   "outputs": [
    {
     "name": "stdout",
     "output_type": "stream",
     "text": [
      "ALK   | p_MSI-H: 0.977554131 | p_MSS 0.057616539\n",
      "BRAF  | p_MSI-H: 0.998983703 | p_MSS 0.002764246\n",
      "EGFR  | p_MSI-H: 1.000000000 | p_MSS 0.001678334\n",
      "ETV6  | p_MSI-H: 0.378600823 | p_MSS 1.000000000\n",
      "FGFR1 | p_MSI-H: 1.000000000 | p_MSS 0.090320368\n",
      "FGFR2 | p_MSI-H: 0.463518450 | p_MSS 0.780438285\n",
      "FGFR3 | p_MSI-H: 1.000000000 | p_MSS 0.033898560\n",
      "MET   | p_MSI-H: 1.000000000 | p_MSS 0.621399177\n",
      "NTRK1 | p_MSI-H: 0.000000000 | p_MSS 1.000000000\n",
      "NTRK2 | p_MSI-H: 1.000000000 | p_MSS 0.621399177\n",
      "NTRK3 | p_MSI-H: 0.019715682 | p_MSS 1.000000000\n",
      "RAF1  | p_MSI-H: 1.000000000 | p_MSS 0.090320368\n",
      "RET   | p_MSI-H: 0.119707173 | p_MSS 0.934615648\n",
      "ROS1  | p_MSI-H: 1.000000000 | p_MSS 0.012586353\n"
     ]
    }
   ],
   "source": [
    "for i in g1_cross.index:\n",
    "    pMSI, pMSS = my_Hypo_sf(g1_cross.loc[i], MSIstatus_count)\n",
    "    print(\"{:5} | p_MSI-H: {:.9f} | p_MSS {:.9f}\".format(i, pMSI, pMSS))"
   ]
  },
  {
   "cell_type": "code",
   "execution_count": 15,
   "metadata": {},
   "outputs": [
    {
     "name": "stdout",
     "output_type": "stream",
     "text": [
      "ALK   | p_MSI-H: 0.057616539 | p_MSS 0.977554131\n",
      "BRAF  | p_MSI-H: 0.002764246 | p_MSS 0.998983703\n",
      "EGFR  | p_MSI-H: 0.001678334 | p_MSS 1.000000000\n",
      "ETV6  | p_MSI-H: 1.000000000 | p_MSS 0.378600823\n",
      "FGFR1 | p_MSI-H: 0.090320368 | p_MSS 1.000000000\n",
      "FGFR2 | p_MSI-H: 0.780438285 | p_MSS 0.463518450\n",
      "FGFR3 | p_MSI-H: 0.033898560 | p_MSS 1.000000000\n",
      "MET   | p_MSI-H: 0.621399177 | p_MSS 1.000000000\n",
      "NTRK1 | p_MSI-H: 1.000000000 | p_MSS 0.000000000\n",
      "NTRK2 | p_MSI-H: 0.621399177 | p_MSS 1.000000000\n",
      "NTRK3 | p_MSI-H: 1.000000000 | p_MSS 0.019715682\n",
      "RAF1  | p_MSI-H: 0.090320368 | p_MSS 1.000000000\n",
      "RET   | p_MSI-H: 0.934615648 | p_MSS 0.119707173\n",
      "ROS1  | p_MSI-H: 0.012586353 | p_MSS 1.000000000\n"
     ]
    }
   ],
   "source": [
    "for i in g1_cross.index:\n",
    "    pMSI, pMSS = my_Hypo_cdf(g1_cross.loc[i], MSIstatus_count)\n",
    "    print(\"{:5} | p_MSI-H: {:.9f} | p_MSS {:.9f}\".format(i, pMSI, pMSS))"
   ]
  },
  {
   "cell_type": "markdown",
   "metadata": {},
   "source": [
    "# Hypothesis2"
   ]
  },
  {
   "cell_type": "markdown",
   "metadata": {},
   "source": [
    "### Compare proportion of Gene-2(s) in MSI-H and MSS, and identify those that have large differences\n",
    "!!! too few records to run statistical test in each subgroup by Gene1"
   ]
  },
  {
   "cell_type": "code",
   "execution_count": 151,
   "metadata": {},
   "outputs": [
    {
     "data": {
      "text/html": [
       "<div>\n",
       "<style scoped>\n",
       "    .dataframe tbody tr th:only-of-type {\n",
       "        vertical-align: middle;\n",
       "    }\n",
       "\n",
       "    .dataframe tbody tr th {\n",
       "        vertical-align: top;\n",
       "    }\n",
       "\n",
       "    .dataframe thead th {\n",
       "        text-align: right;\n",
       "    }\n",
       "</style>\n",
       "<table border=\"1\" class=\"dataframe\">\n",
       "  <thead>\n",
       "    <tr style=\"text-align: right;\">\n",
       "      <th>MSIstatus</th>\n",
       "      <th>MSI-H</th>\n",
       "      <th>MSS</th>\n",
       "    </tr>\n",
       "    <tr>\n",
       "      <th>gene2_RE</th>\n",
       "      <th></th>\n",
       "      <th></th>\n",
       "    </tr>\n",
       "  </thead>\n",
       "  <tbody>\n",
       "    <tr>\n",
       "      <th>ATIC</th>\n",
       "      <td>0</td>\n",
       "      <td>1</td>\n",
       "    </tr>\n",
       "    <tr>\n",
       "      <th>CAD</th>\n",
       "      <td>0</td>\n",
       "      <td>3</td>\n",
       "    </tr>\n",
       "    <tr>\n",
       "      <th>DIAPH2</th>\n",
       "      <td>1</td>\n",
       "      <td>1</td>\n",
       "    </tr>\n",
       "    <tr>\n",
       "      <th>EML4</th>\n",
       "      <td>2</td>\n",
       "      <td>8</td>\n",
       "    </tr>\n",
       "    <tr>\n",
       "      <th>GPHN</th>\n",
       "      <td>0</td>\n",
       "      <td>1</td>\n",
       "    </tr>\n",
       "    <tr>\n",
       "      <th>SLMAP</th>\n",
       "      <td>1</td>\n",
       "      <td>0</td>\n",
       "    </tr>\n",
       "    <tr>\n",
       "      <th>SPTBN1</th>\n",
       "      <td>0</td>\n",
       "      <td>1</td>\n",
       "    </tr>\n",
       "    <tr>\n",
       "      <th>STRN</th>\n",
       "      <td>3</td>\n",
       "      <td>8</td>\n",
       "    </tr>\n",
       "  </tbody>\n",
       "</table>\n",
       "</div>"
      ],
      "text/plain": [
       "MSIstatus  MSI-H  MSS\n",
       "gene2_RE             \n",
       "ATIC           0    1\n",
       "CAD            0    3\n",
       "DIAPH2         1    1\n",
       "EML4           2    8\n",
       "GPHN           0    1\n",
       "SLMAP          1    0\n",
       "SPTBN1         0    1\n",
       "STRN           3    8"
      ]
     },
     "execution_count": 151,
     "metadata": {},
     "output_type": "execute_result"
    }
   ],
   "source": [
    "g2_ALK = pd.crosstab(df[df['gene1_RE']=='ALK'].gene2_RE,df.MSIstatus)\n",
    "g2_ALK"
   ]
  },
  {
   "cell_type": "code",
   "execution_count": 152,
   "metadata": {},
   "outputs": [
    {
     "data": {
      "text/html": [
       "<div>\n",
       "<style scoped>\n",
       "    .dataframe tbody tr th:only-of-type {\n",
       "        vertical-align: middle;\n",
       "    }\n",
       "\n",
       "    .dataframe tbody tr th {\n",
       "        vertical-align: top;\n",
       "    }\n",
       "\n",
       "    .dataframe thead th {\n",
       "        text-align: right;\n",
       "    }\n",
       "</style>\n",
       "<table border=\"1\" class=\"dataframe\">\n",
       "  <thead>\n",
       "    <tr style=\"text-align: right;\">\n",
       "      <th>MSIstatus</th>\n",
       "      <th>MSI-H</th>\n",
       "      <th>MSS</th>\n",
       "    </tr>\n",
       "    <tr>\n",
       "      <th>gene2_RE</th>\n",
       "      <th></th>\n",
       "      <th></th>\n",
       "    </tr>\n",
       "  </thead>\n",
       "  <tbody>\n",
       "    <tr>\n",
       "      <th>AGAP1</th>\n",
       "      <td>0</td>\n",
       "      <td>1</td>\n",
       "    </tr>\n",
       "    <tr>\n",
       "      <th>AGAP3</th>\n",
       "      <td>3</td>\n",
       "      <td>7</td>\n",
       "    </tr>\n",
       "    <tr>\n",
       "      <th>AKAP9</th>\n",
       "      <td>2</td>\n",
       "      <td>1</td>\n",
       "    </tr>\n",
       "    <tr>\n",
       "      <th>ANO10</th>\n",
       "      <td>0</td>\n",
       "      <td>1</td>\n",
       "    </tr>\n",
       "    <tr>\n",
       "      <th>ARGLU1</th>\n",
       "      <td>0</td>\n",
       "      <td>1</td>\n",
       "    </tr>\n",
       "  </tbody>\n",
       "</table>\n",
       "</div>"
      ],
      "text/plain": [
       "MSIstatus  MSI-H  MSS\n",
       "gene2_RE             \n",
       "AGAP1          0    1\n",
       "AGAP3          3    7\n",
       "AKAP9          2    1\n",
       "ANO10          0    1\n",
       "ARGLU1         0    1"
      ]
     },
     "execution_count": 152,
     "metadata": {},
     "output_type": "execute_result"
    }
   ],
   "source": [
    "g2_BRAF = pd.crosstab(df[df['gene1_RE']=='BRAF'].gene2_RE,df.MSIstatus)\n",
    "g2_BRAF = g2_BRAF.iloc[:,1:]\n",
    "g2_BRAF.head()"
   ]
  },
  {
   "cell_type": "code",
   "execution_count": 91,
   "metadata": {},
   "outputs": [
    {
     "data": {
      "text/html": [
       "<div>\n",
       "<style scoped>\n",
       "    .dataframe tbody tr th:only-of-type {\n",
       "        vertical-align: middle;\n",
       "    }\n",
       "\n",
       "    .dataframe tbody tr th {\n",
       "        vertical-align: top;\n",
       "    }\n",
       "\n",
       "    .dataframe thead th {\n",
       "        text-align: right;\n",
       "    }\n",
       "</style>\n",
       "<table border=\"1\" class=\"dataframe\">\n",
       "  <thead>\n",
       "    <tr style=\"text-align: right;\">\n",
       "      <th>MSIstatus</th>\n",
       "      <th>MSI-H</th>\n",
       "      <th>MSS</th>\n",
       "    </tr>\n",
       "    <tr>\n",
       "      <th>gene2_RE</th>\n",
       "      <th></th>\n",
       "      <th></th>\n",
       "    </tr>\n",
       "  </thead>\n",
       "  <tbody>\n",
       "    <tr>\n",
       "      <th>CCDC6</th>\n",
       "      <td>4</td>\n",
       "      <td>5</td>\n",
       "    </tr>\n",
       "    <tr>\n",
       "      <th>NCOA4</th>\n",
       "      <td>12</td>\n",
       "      <td>18</td>\n",
       "    </tr>\n",
       "    <tr>\n",
       "      <th>SNRNP70</th>\n",
       "      <td>1</td>\n",
       "      <td>0</td>\n",
       "    </tr>\n",
       "    <tr>\n",
       "      <th>TNIP1</th>\n",
       "      <td>0</td>\n",
       "      <td>1</td>\n",
       "    </tr>\n",
       "    <tr>\n",
       "      <th>TNIP2</th>\n",
       "      <td>1</td>\n",
       "      <td>0</td>\n",
       "    </tr>\n",
       "    <tr>\n",
       "      <th>TRIM24</th>\n",
       "      <td>3</td>\n",
       "      <td>0</td>\n",
       "    </tr>\n",
       "  </tbody>\n",
       "</table>\n",
       "</div>"
      ],
      "text/plain": [
       "MSIstatus  MSI-H  MSS\n",
       "gene2_RE             \n",
       "CCDC6          4    5\n",
       "NCOA4         12   18\n",
       "SNRNP70        1    0\n",
       "TNIP1          0    1\n",
       "TNIP2          1    0\n",
       "TRIM24         3    0"
      ]
     },
     "execution_count": 91,
     "metadata": {},
     "output_type": "execute_result"
    }
   ],
   "source": [
    "g2_RET = pd.crosstab(df[df['gene1_RE']=='RET'].gene2_RE,df.MSIstatus)#[['MSI-H','MSS']]\n",
    "g2_RET = g2_RET[['MSI-H','MSS']]\n",
    "g2_RET"
   ]
  },
  {
   "cell_type": "code",
   "execution_count": null,
   "metadata": {},
   "outputs": [],
   "source": [
    "g2_cross = pd.crosstab(df[df['gene1_RE']=='BRAF'].gene2_RE,df.MSIstatus)\n",
    "g2_cross = g2_cross.iloc[:,1:]\n",
    "g2_cross"
   ]
  },
  {
   "cell_type": "markdown",
   "metadata": {},
   "source": [
    "# Hypothesis3"
   ]
  },
  {
   "cell_type": "markdown",
   "metadata": {},
   "source": [
    "### check nucleotide specificity in Junction Sequence 1"
   ]
  },
  {
   "cell_type": "code",
   "execution_count": 3,
   "metadata": {},
   "outputs": [],
   "source": [
    "with open('Table1.pkl', 'rb') as f: # load pickle\n",
    "    df = pickle.load(f)\n",
    "    f.close()"
   ]
  },
  {
   "cell_type": "code",
   "execution_count": 7,
   "metadata": {},
   "outputs": [
    {
     "data": {
      "text/plain": [
       "(243, 2)"
      ]
     },
     "execution_count": 7,
     "metadata": {},
     "output_type": "execute_result"
    }
   ],
   "source": [
    "js1 = df[['Junction Sequence 1','MSIstatus']]\n",
    "js1.index = df['deidentifiedSpecimenName']\n",
    "js1 = js1[js1['MSIstatus']!='MSI ambiguous']\n",
    "js1.shape"
   ]
  },
  {
   "cell_type": "code",
   "execution_count": 155,
   "metadata": {},
   "outputs": [
    {
     "data": {
      "text/plain": [
       "Index(['XRN:6SJTT7', 'XRN:DNF6WD', 'XRN:E3F52H', 'XRN:MU1VY9', 'XRN:AFAEVN',\n",
       "       'XRN:MPPMPA', 'XRN:30NP36', 'XRN:JPE87T', 'XRN:XQRHSE', 'XRN:QVAKVU',\n",
       "       ...\n",
       "       'XRN:5SJQ7Q', 'XRN:QU97T3', 'XRN:WQR98C', 'XRN:LNBE9P', 'XRN:7XMCSA',\n",
       "       'XRN:D3R55B', 'XRN:CFTDTX', 'XRN:GHF4YT', 'XRN:HTK8YS', 'XRN:T52CP1'],\n",
       "      dtype='object', name='deidentifiedSpecimenName', length=245)"
      ]
     },
     "execution_count": 155,
     "metadata": {},
     "output_type": "execute_result"
    }
   ],
   "source": [
    "js1.index"
   ]
  },
  {
   "cell_type": "code",
   "execution_count": 156,
   "metadata": {},
   "outputs": [
    {
     "data": {
      "text/plain": [
       "'AAGAAAAAAATCTAGATGATTAAGAGGAAATATGTGAAGACAAGTTTTTTCGTTCTCTGCACATTGGAACTTGTCCATGGGGCCTCCTTTAAGGGTCTTGC'"
      ]
     },
     "execution_count": 156,
     "metadata": {},
     "output_type": "execute_result"
    }
   ],
   "source": [
    "js1.iloc[0,0]"
   ]
  },
  {
   "cell_type": "code",
   "execution_count": 157,
   "metadata": {},
   "outputs": [],
   "source": [
    "def cound_mononucleotide(i):\n",
    "    A_ct = i.count('A') + i.count('a')\n",
    "    T_ct = i.count('T') + i.count('t')\n",
    "    C_ct = i.count('C') + i.count('c')\n",
    "    G_ct = i.count('G') + i.count('g')\n",
    "    tmp = {'A':A_ct, 'T':T_ct, 'C':C_ct,'G':G_ct}\n",
    "    return tmp"
   ]
  },
  {
   "cell_type": "code",
   "execution_count": 158,
   "metadata": {},
   "outputs": [
    {
     "data": {
      "text/plain": [
       "{'A': 31, 'T': 31, 'C': 16, 'G': 23}"
      ]
     },
     "execution_count": 158,
     "metadata": {},
     "output_type": "execute_result"
    }
   ],
   "source": [
    "cound_mononucleotide(js1.iloc[0,0])"
   ]
  },
  {
   "cell_type": "code",
   "execution_count": 21,
   "metadata": {},
   "outputs": [
    {
     "data": {
      "text/plain": [
       "{'AA': 10,\n",
       " 'AT': 7,\n",
       " 'AC': 3,\n",
       " 'AG': 7,\n",
       " 'TA': 4,\n",
       " 'TT': 9,\n",
       " 'TC': 7,\n",
       " 'TG': 8,\n",
       " 'CA': 4,\n",
       " 'CT': 7,\n",
       " 'CC': 3,\n",
       " 'CG': 1,\n",
       " 'GA': 8,\n",
       " 'GT': 5,\n",
       " 'GC': 3,\n",
       " 'GG': 5}"
      ]
     },
     "execution_count": 21,
     "metadata": {},
     "output_type": "execute_result"
    }
   ],
   "source": [
    "def cound_binucleotide(str):\n",
    "    list = ['A','T','C','G']\n",
    "    tmp = {}\n",
    "    for i in list:\n",
    "        for j in list:\n",
    "            key = i+j\n",
    "            tmp[key] = str.count(key)\n",
    "    return tmp\n",
    "cound_binucleotide(js1.iloc[0,0])"
   ]
  },
  {
   "cell_type": "code",
   "execution_count": 9,
   "metadata": {},
   "outputs": [],
   "source": [
    "def count_mono_series(indexed):\n",
    "    save = {}\n",
    "    for i in range(len(indexed)):\n",
    "        save[indexed.index[i]] = cound_mononucleotide(indexed[i])\n",
    "    return save"
   ]
  },
  {
   "cell_type": "code",
   "execution_count": 16,
   "metadata": {},
   "outputs": [],
   "source": [
    "js1_mono_count = count_mono_series(js1.iloc[:,0])\n",
    "#js1_mono_count"
   ]
  },
  {
   "cell_type": "code",
   "execution_count": 18,
   "metadata": {},
   "outputs": [
    {
     "data": {
      "text/html": [
       "<div>\n",
       "<style scoped>\n",
       "    .dataframe tbody tr th:only-of-type {\n",
       "        vertical-align: middle;\n",
       "    }\n",
       "\n",
       "    .dataframe tbody tr th {\n",
       "        vertical-align: top;\n",
       "    }\n",
       "\n",
       "    .dataframe thead th {\n",
       "        text-align: right;\n",
       "    }\n",
       "</style>\n",
       "<table border=\"1\" class=\"dataframe\">\n",
       "  <thead>\n",
       "    <tr style=\"text-align: right;\">\n",
       "      <th></th>\n",
       "      <th>A</th>\n",
       "      <th>C</th>\n",
       "      <th>G</th>\n",
       "      <th>T</th>\n",
       "      <th>MSIstatus</th>\n",
       "    </tr>\n",
       "    <tr>\n",
       "      <th>deidentifiedSpecimenName</th>\n",
       "      <th></th>\n",
       "      <th></th>\n",
       "      <th></th>\n",
       "      <th></th>\n",
       "      <th></th>\n",
       "    </tr>\n",
       "  </thead>\n",
       "  <tbody>\n",
       "    <tr>\n",
       "      <th>XRN:6SJTT7</th>\n",
       "      <td>31</td>\n",
       "      <td>16</td>\n",
       "      <td>23</td>\n",
       "      <td>31</td>\n",
       "      <td>MSI-H</td>\n",
       "    </tr>\n",
       "    <tr>\n",
       "      <th>XRN:DNF6WD</th>\n",
       "      <td>36</td>\n",
       "      <td>24</td>\n",
       "      <td>18</td>\n",
       "      <td>24</td>\n",
       "      <td>MSS</td>\n",
       "    </tr>\n",
       "    <tr>\n",
       "      <th>XRN:AFAEVN</th>\n",
       "      <td>17</td>\n",
       "      <td>29</td>\n",
       "      <td>25</td>\n",
       "      <td>30</td>\n",
       "      <td>MSI-H</td>\n",
       "    </tr>\n",
       "    <tr>\n",
       "      <th>XRN:MPPMPA</th>\n",
       "      <td>18</td>\n",
       "      <td>30</td>\n",
       "      <td>22</td>\n",
       "      <td>31</td>\n",
       "      <td>MSI-H</td>\n",
       "    </tr>\n",
       "    <tr>\n",
       "      <th>XRN:30NP36</th>\n",
       "      <td>16</td>\n",
       "      <td>28</td>\n",
       "      <td>27</td>\n",
       "      <td>29</td>\n",
       "      <td>MSI-H</td>\n",
       "    </tr>\n",
       "  </tbody>\n",
       "</table>\n",
       "</div>"
      ],
      "text/plain": [
       "                           A   C   G   T MSIstatus\n",
       "deidentifiedSpecimenName                          \n",
       "XRN:6SJTT7                31  16  23  31     MSI-H\n",
       "XRN:DNF6WD                36  24  18  24       MSS\n",
       "XRN:AFAEVN                17  29  25  30     MSI-H\n",
       "XRN:MPPMPA                18  30  22  31     MSI-H\n",
       "XRN:30NP36                16  28  27  29     MSI-H"
      ]
     },
     "execution_count": 18,
     "metadata": {},
     "output_type": "execute_result"
    }
   ],
   "source": [
    "#https://pandas.pydata.org/pandas-docs/stable/user_guide/merging.html\n",
    "js1_mono_df = pd.concat([pd.DataFrame(js1_mono_count).T, js1['MSIstatus']], axis=1)\n",
    "js1_mono_df = js1_mono_df[js1_mono_df['MSIstatus']!='MSI ambiguous']\n",
    "js1_mono_df.head()"
   ]
  },
  {
   "cell_type": "code",
   "execution_count": 8,
   "metadata": {},
   "outputs": [],
   "source": [
    "def count_bi_series(indexed):\n",
    "    save = {}\n",
    "    for i in range(len(indexed)):\n",
    "        save[indexed.index[i]] = cound_binucleotide(indexed[i])\n",
    "    return save\n",
    "js1_bi_count = count_bi_series(js1.iloc[:,0])"
   ]
  },
  {
   "cell_type": "code",
   "execution_count": 9,
   "metadata": {},
   "outputs": [
    {
     "data": {
      "text/html": [
       "<div>\n",
       "<style scoped>\n",
       "    .dataframe tbody tr th:only-of-type {\n",
       "        vertical-align: middle;\n",
       "    }\n",
       "\n",
       "    .dataframe tbody tr th {\n",
       "        vertical-align: top;\n",
       "    }\n",
       "\n",
       "    .dataframe thead th {\n",
       "        text-align: right;\n",
       "    }\n",
       "</style>\n",
       "<table border=\"1\" class=\"dataframe\">\n",
       "  <thead>\n",
       "    <tr style=\"text-align: right;\">\n",
       "      <th></th>\n",
       "      <th>AA</th>\n",
       "      <th>AC</th>\n",
       "      <th>AG</th>\n",
       "      <th>AT</th>\n",
       "      <th>CA</th>\n",
       "      <th>CC</th>\n",
       "      <th>CG</th>\n",
       "      <th>CT</th>\n",
       "      <th>GA</th>\n",
       "      <th>GC</th>\n",
       "      <th>GG</th>\n",
       "      <th>GT</th>\n",
       "      <th>TA</th>\n",
       "      <th>TC</th>\n",
       "      <th>TG</th>\n",
       "      <th>TT</th>\n",
       "      <th>MSIstatus</th>\n",
       "    </tr>\n",
       "    <tr>\n",
       "      <th>deidentifiedSpecimenName</th>\n",
       "      <th></th>\n",
       "      <th></th>\n",
       "      <th></th>\n",
       "      <th></th>\n",
       "      <th></th>\n",
       "      <th></th>\n",
       "      <th></th>\n",
       "      <th></th>\n",
       "      <th></th>\n",
       "      <th></th>\n",
       "      <th></th>\n",
       "      <th></th>\n",
       "      <th></th>\n",
       "      <th></th>\n",
       "      <th></th>\n",
       "      <th></th>\n",
       "      <th></th>\n",
       "    </tr>\n",
       "  </thead>\n",
       "  <tbody>\n",
       "    <tr>\n",
       "      <th>XRN:6SJTT7</th>\n",
       "      <td>10</td>\n",
       "      <td>3</td>\n",
       "      <td>7</td>\n",
       "      <td>7</td>\n",
       "      <td>4</td>\n",
       "      <td>3</td>\n",
       "      <td>1</td>\n",
       "      <td>7</td>\n",
       "      <td>8</td>\n",
       "      <td>3</td>\n",
       "      <td>5</td>\n",
       "      <td>5</td>\n",
       "      <td>4</td>\n",
       "      <td>7</td>\n",
       "      <td>8</td>\n",
       "      <td>9</td>\n",
       "      <td>MSI-H</td>\n",
       "    </tr>\n",
       "    <tr>\n",
       "      <th>XRN:DNF6WD</th>\n",
       "      <td>9</td>\n",
       "      <td>9</td>\n",
       "      <td>7</td>\n",
       "      <td>6</td>\n",
       "      <td>9</td>\n",
       "      <td>4</td>\n",
       "      <td>1</td>\n",
       "      <td>9</td>\n",
       "      <td>8</td>\n",
       "      <td>3</td>\n",
       "      <td>3</td>\n",
       "      <td>3</td>\n",
       "      <td>5</td>\n",
       "      <td>7</td>\n",
       "      <td>6</td>\n",
       "      <td>5</td>\n",
       "      <td>MSS</td>\n",
       "    </tr>\n",
       "    <tr>\n",
       "      <th>XRN:AFAEVN</th>\n",
       "      <td>2</td>\n",
       "      <td>5</td>\n",
       "      <td>5</td>\n",
       "      <td>4</td>\n",
       "      <td>6</td>\n",
       "      <td>6</td>\n",
       "      <td>3</td>\n",
       "      <td>12</td>\n",
       "      <td>5</td>\n",
       "      <td>9</td>\n",
       "      <td>6</td>\n",
       "      <td>4</td>\n",
       "      <td>4</td>\n",
       "      <td>7</td>\n",
       "      <td>9</td>\n",
       "      <td>6</td>\n",
       "      <td>MSI-H</td>\n",
       "    </tr>\n",
       "    <tr>\n",
       "      <th>XRN:MPPMPA</th>\n",
       "      <td>2</td>\n",
       "      <td>5</td>\n",
       "      <td>7</td>\n",
       "      <td>4</td>\n",
       "      <td>7</td>\n",
       "      <td>7</td>\n",
       "      <td>1</td>\n",
       "      <td>12</td>\n",
       "      <td>5</td>\n",
       "      <td>6</td>\n",
       "      <td>3</td>\n",
       "      <td>8</td>\n",
       "      <td>4</td>\n",
       "      <td>8</td>\n",
       "      <td>11</td>\n",
       "      <td>5</td>\n",
       "      <td>MSI-H</td>\n",
       "    </tr>\n",
       "    <tr>\n",
       "      <th>XRN:30NP36</th>\n",
       "      <td>2</td>\n",
       "      <td>2</td>\n",
       "      <td>6</td>\n",
       "      <td>5</td>\n",
       "      <td>5</td>\n",
       "      <td>9</td>\n",
       "      <td>4</td>\n",
       "      <td>7</td>\n",
       "      <td>4</td>\n",
       "      <td>7</td>\n",
       "      <td>6</td>\n",
       "      <td>9</td>\n",
       "      <td>4</td>\n",
       "      <td>8</td>\n",
       "      <td>9</td>\n",
       "      <td>6</td>\n",
       "      <td>MSI-H</td>\n",
       "    </tr>\n",
       "  </tbody>\n",
       "</table>\n",
       "</div>"
      ],
      "text/plain": [
       "                          AA  AC  AG  AT  CA  CC  CG  CT  GA  GC  GG  GT  TA  \\\n",
       "deidentifiedSpecimenName                                                       \n",
       "XRN:6SJTT7                10   3   7   7   4   3   1   7   8   3   5   5   4   \n",
       "XRN:DNF6WD                 9   9   7   6   9   4   1   9   8   3   3   3   5   \n",
       "XRN:AFAEVN                 2   5   5   4   6   6   3  12   5   9   6   4   4   \n",
       "XRN:MPPMPA                 2   5   7   4   7   7   1  12   5   6   3   8   4   \n",
       "XRN:30NP36                 2   2   6   5   5   9   4   7   4   7   6   9   4   \n",
       "\n",
       "                          TC  TG  TT MSIstatus  \n",
       "deidentifiedSpecimenName                        \n",
       "XRN:6SJTT7                 7   8   9     MSI-H  \n",
       "XRN:DNF6WD                 7   6   5       MSS  \n",
       "XRN:AFAEVN                 7   9   6     MSI-H  \n",
       "XRN:MPPMPA                 8  11   5     MSI-H  \n",
       "XRN:30NP36                 8   9   6     MSI-H  "
      ]
     },
     "execution_count": 9,
     "metadata": {},
     "output_type": "execute_result"
    }
   ],
   "source": [
    "js1_bi_df = pd.concat([pd.DataFrame(js1_bi_count).T, js1['MSIstatus']], axis=1)\n",
    "js1_bi_df.head()"
   ]
  },
  {
   "cell_type": "markdown",
   "metadata": {},
   "source": [
    "### Combine reverse complementary"
   ]
  },
  {
   "cell_type": "code",
   "execution_count": 10,
   "metadata": {},
   "outputs": [
    {
     "data": {
      "text/plain": [
       "Index(['AA', 'AC', 'AG', 'AT', 'CA', 'CC', 'CG', 'CT', 'GA', 'GC', 'GG', 'GT',\n",
       "       'TA', 'TC', 'TG', 'TT', 'MSIstatus'],\n",
       "      dtype='object')"
      ]
     },
     "execution_count": 10,
     "metadata": {},
     "output_type": "execute_result"
    }
   ],
   "source": [
    "js1_bi_df.columns"
   ]
  },
  {
   "cell_type": "code",
   "execution_count": 172,
   "metadata": {},
   "outputs": [
    {
     "data": {
      "text/plain": [
       "'GGB'"
      ]
     },
     "execution_count": 172,
     "metadata": {},
     "output_type": "execute_result"
    }
   ],
   "source": [
    "def my_referse_complement(seq):\n",
    "    complement = {'A': 'T', 'C': 'G', 'G': 'C', 'T': 'A'}\n",
    "    return \"\".join(complement.get(base, base) for base in reversed(seq))\n",
    "my_referse_complement(\"BCC\")"
   ]
  },
  {
   "cell_type": "code",
   "execution_count": 173,
   "metadata": {},
   "outputs": [
    {
     "data": {
      "text/plain": [
       "['C', 'G', 'T', 'MSIstatus']"
      ]
     },
     "execution_count": 173,
     "metadata": {},
     "output_type": "execute_result"
    }
   ],
   "source": [
    "cols = ['A', 'C', 'G', 'T', 'MSIstatus']\n",
    "cols.remove('A')\n",
    "cols"
   ]
  },
  {
   "cell_type": "code",
   "execution_count": 174,
   "metadata": {},
   "outputs": [
    {
     "name": "stdout",
     "output_type": "stream",
     "text": [
      "AT AT\n",
      "CG CG\n",
      "['TA', 'GC', 'Mut'] ['AT', 'CG'] ['AT', 'CG']\n"
     ]
    }
   ],
   "source": [
    "tmp = list(['AT','TA','CG','GC','Mut'])\n",
    "cols_1 = []\n",
    "cols_2 = []\n",
    "cols_rest = tmp\n",
    "for i in tmp:\n",
    "    reverse_tmp = my_referse_complement(i)\n",
    "    if reverse_tmp in tmp:\n",
    "        cols_rest.remove(i)\n",
    "        cols_1.append(i)\n",
    "        cols_2.append(reverse_tmp)\n",
    "        print(i,reverse_tmp)\n",
    "print(cols_rest, cols_1, cols_2)"
   ]
  },
  {
   "cell_type": "code",
   "execution_count": 175,
   "metadata": {},
   "outputs": [
    {
     "name": "stdout",
     "output_type": "stream",
     "text": [
      "GG CC\n",
      "CC GG\n",
      "AT AT\n",
      "TA TA\n",
      "bg gb\n",
      "['bg'] ['GG', 'AT', 'TA'] ['CC', 'AT', 'TA']\n"
     ]
    }
   ],
   "source": [
    "tmp = ['GG','CC','AT', 'TA', \"bg\"]\n",
    "cols_1 = []\n",
    "cols_2 = []\n",
    "cols_rest = list(tmp) # 必须做一遍list(). 如果直接 cols_rest = tmp, tmp 会随 cols_rest 一起改变\n",
    "for i in tmp:\n",
    "    reverse_tmp = my_referse_complement(i)\n",
    "    if reverse_tmp in list(tmp):\n",
    "        cols_rest.remove(i)\n",
    "        if reverse_tmp not in cols_1:\n",
    "            cols_1.append(i)\n",
    "            cols_2.append(reverse_tmp)            \n",
    "    print(i,reverse_tmp)\n",
    "print(cols_rest, cols_1, cols_2)"
   ]
  },
  {
   "cell_type": "code",
   "execution_count": 176,
   "metadata": {},
   "outputs": [
    {
     "data": {
      "text/plain": [
       "Index(['AA', 'AC', 'AG', 'AT', 'CA', 'CC', 'CG', 'CT', 'GA', 'GC', 'GG', 'GT',\n",
       "       'TA', 'TC', 'TG', 'TT', 'MSIstatus'],\n",
       "      dtype='object')"
      ]
     },
     "execution_count": 176,
     "metadata": {},
     "output_type": "execute_result"
    }
   ],
   "source": [
    "js1_bi_df.columns"
   ]
  },
  {
   "cell_type": "code",
   "execution_count": 177,
   "metadata": {},
   "outputs": [
    {
     "data": {
      "text/plain": [
       "set()"
      ]
     },
     "execution_count": 177,
     "metadata": {},
     "output_type": "execute_result"
    }
   ],
   "source": [
    "list1 = ['AC', 'AT', 'CC', 'CT', 'GC', 'GT', 'TC', 'TG', 'TT', 'MSIstatus']\n",
    "list2 = ['AA', 'AG', 'CA', 'CG', 'GA', 'GG', 'TA']\n",
    "list1_as_set = set(list1)\n",
    "intersection = list1_as_set.intersection(list2)\n",
    "intersection"
   ]
  },
  {
   "cell_type": "code",
   "execution_count": 178,
   "metadata": {},
   "outputs": [
    {
     "name": "stdout",
     "output_type": "stream",
     "text": [
      "GG CC\n",
      "AT AT\n",
      "TA TA\n"
     ]
    }
   ],
   "source": [
    "['GG', 'AT', 'TA'] + ['CC', 'AT', 'TA']\n",
    "for i,j in zip(cols_1,cols_2):\n",
    "    print(i,j)"
   ]
  },
  {
   "cell_type": "code",
   "execution_count": 14,
   "metadata": {},
   "outputs": [],
   "source": [
    "def my_referse_complement(seq):\n",
    "    complement = {'A': 'T', 'C': 'G', 'G': 'C', 'T': 'A'}\n",
    "    return \"\".join(complement.get(base, base) for base in reversed(seq))\n",
    "\n",
    "#https://pandas.pydata.org/pandas-docs/stable/user_guide/merging.html\n",
    "def combine_rc_table(df):\n",
    "    cols_rest = list(df.columns)\n",
    "    cols_1 = []\n",
    "    for i in df.columns:\n",
    "        reverse_tmp = my_referse_complement(i)\n",
    "        if reverse_tmp in list(df.columns):\n",
    "            cols_rest.remove(i)\n",
    "            if reverse_tmp not in cols_1:\n",
    "                cols_1.append(i)   \n",
    "    dt = pd.DataFrame()\n",
    "    for i in cols_1:\n",
    "        reverse_tmp = my_referse_complement(i)\n",
    "        if reverse_tmp in df.columns:\n",
    "            dt[i+\"+\"+reverse_tmp] = df[i]+df[reverse_tmp]          \n",
    "    dt = pd.concat([dt, df[cols_rest]], axis=1)       \n",
    "    return dt\n",
    "\n",
    "\n",
    "def combine_rc_table2(dg):\n",
    "    df = dg.copy()\n",
    "    #df['count'] = df.sum(axis=1)\n",
    "    cols_rest = list(df.columns)\n",
    "    cols_1 = []\n",
    "    cols_2 = []\n",
    "    for i in df.columns:\n",
    "        reverse_tmp = my_referse_complement(i)\n",
    "        if reverse_tmp in list(df.columns):\n",
    "            cols_rest.remove(i)\n",
    "            if reverse_tmp not in cols_1:\n",
    "                cols_1.append(i)\n",
    "                cols_2.append(reverse_tmp)   \n",
    "    dt = pd.DataFrame()\n",
    "    #cols_c = []\n",
    "    for i,j in zip(cols_1,cols_2):\n",
    "        if i==j:\n",
    "            #cols_c.append(i)\n",
    "            dt[i] = df[i]\n",
    "        else:\n",
    "            k = i+\"+\"+j\n",
    "            #cols_c.append(k)\n",
    "            dt[k] = (df[i]+df[j])        \n",
    "    dt = pd.concat([dt, df[cols_rest]], axis=1)\n",
    "    return dt\n",
    "def combine_rc_table_percentage(dg):\n",
    "    df = dg.copy()\n",
    "    df['JS_len'] = df.sum(axis=1)\n",
    "    cols_rest = list(df.columns)\n",
    "    cols_1 = []\n",
    "    cols_2 = []\n",
    "    for i in df.columns:\n",
    "        reverse_tmp = my_referse_complement(i)\n",
    "        if reverse_tmp in list(df.columns):\n",
    "            cols_rest.remove(i)\n",
    "            if reverse_tmp not in cols_1:\n",
    "                cols_1.append(i)\n",
    "                cols_2.append(reverse_tmp)   \n",
    "    dt = pd.DataFrame()\n",
    "    cols_c = []\n",
    "    for i,j in zip(cols_1,cols_2):\n",
    "        k = i+\"+\"+j\n",
    "        cols_c.append(k)\n",
    "        dt[k] = (df[i]+df[j])/df['JS_len']           \n",
    "    dt = pd.concat([dt, df[cols_rest]], axis=1)\n",
    "    return dt"
   ]
  },
  {
   "cell_type": "code",
   "execution_count": 20,
   "metadata": {},
   "outputs": [
    {
     "data": {
      "text/html": [
       "<div>\n",
       "<style scoped>\n",
       "    .dataframe tbody tr th:only-of-type {\n",
       "        vertical-align: middle;\n",
       "    }\n",
       "\n",
       "    .dataframe tbody tr th {\n",
       "        vertical-align: top;\n",
       "    }\n",
       "\n",
       "    .dataframe thead th {\n",
       "        text-align: right;\n",
       "    }\n",
       "</style>\n",
       "<table border=\"1\" class=\"dataframe\">\n",
       "  <thead>\n",
       "    <tr style=\"text-align: right;\">\n",
       "      <th></th>\n",
       "      <th>A+T</th>\n",
       "      <th>C+G</th>\n",
       "      <th>MSIstatus</th>\n",
       "    </tr>\n",
       "    <tr>\n",
       "      <th>deidentifiedSpecimenName</th>\n",
       "      <th></th>\n",
       "      <th></th>\n",
       "      <th></th>\n",
       "    </tr>\n",
       "  </thead>\n",
       "  <tbody>\n",
       "    <tr>\n",
       "      <th>XRN:6SJTT7</th>\n",
       "      <td>62</td>\n",
       "      <td>39</td>\n",
       "      <td>MSI-H</td>\n",
       "    </tr>\n",
       "    <tr>\n",
       "      <th>XRN:DNF6WD</th>\n",
       "      <td>60</td>\n",
       "      <td>42</td>\n",
       "      <td>MSS</td>\n",
       "    </tr>\n",
       "    <tr>\n",
       "      <th>XRN:AFAEVN</th>\n",
       "      <td>47</td>\n",
       "      <td>54</td>\n",
       "      <td>MSI-H</td>\n",
       "    </tr>\n",
       "    <tr>\n",
       "      <th>XRN:MPPMPA</th>\n",
       "      <td>49</td>\n",
       "      <td>52</td>\n",
       "      <td>MSI-H</td>\n",
       "    </tr>\n",
       "    <tr>\n",
       "      <th>XRN:30NP36</th>\n",
       "      <td>45</td>\n",
       "      <td>55</td>\n",
       "      <td>MSI-H</td>\n",
       "    </tr>\n",
       "  </tbody>\n",
       "</table>\n",
       "</div>"
      ],
      "text/plain": [
       "                          A+T  C+G MSIstatus\n",
       "deidentifiedSpecimenName                    \n",
       "XRN:6SJTT7                 62   39     MSI-H\n",
       "XRN:DNF6WD                 60   42       MSS\n",
       "XRN:AFAEVN                 47   54     MSI-H\n",
       "XRN:MPPMPA                 49   52     MSI-H\n",
       "XRN:30NP36                 45   55     MSI-H"
      ]
     },
     "execution_count": 20,
     "metadata": {},
     "output_type": "execute_result"
    }
   ],
   "source": [
    "js1_mono = combine_rc_table(js1_mono_df)\n",
    "js1_mono = js1_mono[js1_mono['MSIstatus']!='MSI ambiguous']\n",
    "js1_mono.head()"
   ]
  },
  {
   "cell_type": "code",
   "execution_count": 19,
   "metadata": {},
   "outputs": [
    {
     "data": {
      "text/html": [
       "<div>\n",
       "<style scoped>\n",
       "    .dataframe tbody tr th:only-of-type {\n",
       "        vertical-align: middle;\n",
       "    }\n",
       "\n",
       "    .dataframe tbody tr th {\n",
       "        vertical-align: top;\n",
       "    }\n",
       "\n",
       "    .dataframe thead th {\n",
       "        text-align: right;\n",
       "    }\n",
       "</style>\n",
       "<table border=\"1\" class=\"dataframe\">\n",
       "  <thead>\n",
       "    <tr style=\"text-align: right;\">\n",
       "      <th></th>\n",
       "      <th>A+T</th>\n",
       "      <th>C+G</th>\n",
       "      <th>MSIstatus</th>\n",
       "    </tr>\n",
       "    <tr>\n",
       "      <th>deidentifiedSpecimenName</th>\n",
       "      <th></th>\n",
       "      <th></th>\n",
       "      <th></th>\n",
       "    </tr>\n",
       "  </thead>\n",
       "  <tbody>\n",
       "    <tr>\n",
       "      <th>XRN:6SJTT7</th>\n",
       "      <td>62</td>\n",
       "      <td>39</td>\n",
       "      <td>MSI-H</td>\n",
       "    </tr>\n",
       "    <tr>\n",
       "      <th>XRN:DNF6WD</th>\n",
       "      <td>60</td>\n",
       "      <td>42</td>\n",
       "      <td>MSS</td>\n",
       "    </tr>\n",
       "    <tr>\n",
       "      <th>XRN:AFAEVN</th>\n",
       "      <td>47</td>\n",
       "      <td>54</td>\n",
       "      <td>MSI-H</td>\n",
       "    </tr>\n",
       "    <tr>\n",
       "      <th>XRN:MPPMPA</th>\n",
       "      <td>49</td>\n",
       "      <td>52</td>\n",
       "      <td>MSI-H</td>\n",
       "    </tr>\n",
       "    <tr>\n",
       "      <th>XRN:30NP36</th>\n",
       "      <td>45</td>\n",
       "      <td>55</td>\n",
       "      <td>MSI-H</td>\n",
       "    </tr>\n",
       "  </tbody>\n",
       "</table>\n",
       "</div>"
      ],
      "text/plain": [
       "                          A+T  C+G MSIstatus\n",
       "deidentifiedSpecimenName                    \n",
       "XRN:6SJTT7                 62   39     MSI-H\n",
       "XRN:DNF6WD                 60   42       MSS\n",
       "XRN:AFAEVN                 47   54     MSI-H\n",
       "XRN:MPPMPA                 49   52     MSI-H\n",
       "XRN:30NP36                 45   55     MSI-H"
      ]
     },
     "execution_count": 19,
     "metadata": {},
     "output_type": "execute_result"
    }
   ],
   "source": [
    "combine_rc_table(js1_mono_df).head()"
   ]
  },
  {
   "cell_type": "code",
   "execution_count": 13,
   "metadata": {},
   "outputs": [
    {
     "data": {
      "text/html": [
       "<div>\n",
       "<style scoped>\n",
       "    .dataframe tbody tr th:only-of-type {\n",
       "        vertical-align: middle;\n",
       "    }\n",
       "\n",
       "    .dataframe tbody tr th {\n",
       "        vertical-align: top;\n",
       "    }\n",
       "\n",
       "    .dataframe thead th {\n",
       "        text-align: right;\n",
       "    }\n",
       "</style>\n",
       "<table border=\"1\" class=\"dataframe\">\n",
       "  <thead>\n",
       "    <tr style=\"text-align: right;\">\n",
       "      <th></th>\n",
       "      <th>AA+TT</th>\n",
       "      <th>AC+GT</th>\n",
       "      <th>AG+CT</th>\n",
       "      <th>AT+AT</th>\n",
       "      <th>CA+TG</th>\n",
       "      <th>CC+GG</th>\n",
       "      <th>CG+CG</th>\n",
       "      <th>GA+TC</th>\n",
       "      <th>GC+GC</th>\n",
       "      <th>TA+TA</th>\n",
       "      <th>MSIstatus</th>\n",
       "    </tr>\n",
       "    <tr>\n",
       "      <th>deidentifiedSpecimenName</th>\n",
       "      <th></th>\n",
       "      <th></th>\n",
       "      <th></th>\n",
       "      <th></th>\n",
       "      <th></th>\n",
       "      <th></th>\n",
       "      <th></th>\n",
       "      <th></th>\n",
       "      <th></th>\n",
       "      <th></th>\n",
       "      <th></th>\n",
       "    </tr>\n",
       "  </thead>\n",
       "  <tbody>\n",
       "    <tr>\n",
       "      <th>XRN:6SJTT7</th>\n",
       "      <td>19</td>\n",
       "      <td>8</td>\n",
       "      <td>14</td>\n",
       "      <td>14</td>\n",
       "      <td>12</td>\n",
       "      <td>8</td>\n",
       "      <td>2</td>\n",
       "      <td>15</td>\n",
       "      <td>6</td>\n",
       "      <td>8</td>\n",
       "      <td>MSI-H</td>\n",
       "    </tr>\n",
       "    <tr>\n",
       "      <th>XRN:DNF6WD</th>\n",
       "      <td>14</td>\n",
       "      <td>12</td>\n",
       "      <td>16</td>\n",
       "      <td>12</td>\n",
       "      <td>15</td>\n",
       "      <td>7</td>\n",
       "      <td>2</td>\n",
       "      <td>15</td>\n",
       "      <td>6</td>\n",
       "      <td>10</td>\n",
       "      <td>MSS</td>\n",
       "    </tr>\n",
       "    <tr>\n",
       "      <th>XRN:AFAEVN</th>\n",
       "      <td>8</td>\n",
       "      <td>9</td>\n",
       "      <td>17</td>\n",
       "      <td>8</td>\n",
       "      <td>15</td>\n",
       "      <td>12</td>\n",
       "      <td>6</td>\n",
       "      <td>12</td>\n",
       "      <td>18</td>\n",
       "      <td>8</td>\n",
       "      <td>MSI-H</td>\n",
       "    </tr>\n",
       "    <tr>\n",
       "      <th>XRN:MPPMPA</th>\n",
       "      <td>7</td>\n",
       "      <td>13</td>\n",
       "      <td>19</td>\n",
       "      <td>8</td>\n",
       "      <td>18</td>\n",
       "      <td>10</td>\n",
       "      <td>2</td>\n",
       "      <td>13</td>\n",
       "      <td>12</td>\n",
       "      <td>8</td>\n",
       "      <td>MSI-H</td>\n",
       "    </tr>\n",
       "    <tr>\n",
       "      <th>XRN:30NP36</th>\n",
       "      <td>8</td>\n",
       "      <td>11</td>\n",
       "      <td>13</td>\n",
       "      <td>10</td>\n",
       "      <td>14</td>\n",
       "      <td>15</td>\n",
       "      <td>8</td>\n",
       "      <td>12</td>\n",
       "      <td>14</td>\n",
       "      <td>8</td>\n",
       "      <td>MSI-H</td>\n",
       "    </tr>\n",
       "  </tbody>\n",
       "</table>\n",
       "</div>"
      ],
      "text/plain": [
       "                          AA+TT  AC+GT  AG+CT  AT+AT  CA+TG  CC+GG  CG+CG  \\\n",
       "deidentifiedSpecimenName                                                    \n",
       "XRN:6SJTT7                   19      8     14     14     12      8      2   \n",
       "XRN:DNF6WD                   14     12     16     12     15      7      2   \n",
       "XRN:AFAEVN                    8      9     17      8     15     12      6   \n",
       "XRN:MPPMPA                    7     13     19      8     18     10      2   \n",
       "XRN:30NP36                    8     11     13     10     14     15      8   \n",
       "\n",
       "                          GA+TC  GC+GC  TA+TA MSIstatus  \n",
       "deidentifiedSpecimenName                                 \n",
       "XRN:6SJTT7                   15      6      8     MSI-H  \n",
       "XRN:DNF6WD                   15      6     10       MSS  \n",
       "XRN:AFAEVN                   12     18      8     MSI-H  \n",
       "XRN:MPPMPA                   13     12      8     MSI-H  \n",
       "XRN:30NP36                   12     14      8     MSI-H  "
      ]
     },
     "execution_count": 13,
     "metadata": {},
     "output_type": "execute_result"
    }
   ],
   "source": [
    "js1_bi = combine_rc_table(js1_bi_df)\n",
    "js1_bi = js1_bi[js1_bi['MSIstatus']!='MSI ambiguous']\n",
    "js1_bi.head()"
   ]
  },
  {
   "cell_type": "code",
   "execution_count": 15,
   "metadata": {},
   "outputs": [
    {
     "data": {
      "text/html": [
       "<div>\n",
       "<style scoped>\n",
       "    .dataframe tbody tr th:only-of-type {\n",
       "        vertical-align: middle;\n",
       "    }\n",
       "\n",
       "    .dataframe tbody tr th {\n",
       "        vertical-align: top;\n",
       "    }\n",
       "\n",
       "    .dataframe thead th {\n",
       "        text-align: right;\n",
       "    }\n",
       "</style>\n",
       "<table border=\"1\" class=\"dataframe\">\n",
       "  <thead>\n",
       "    <tr style=\"text-align: right;\">\n",
       "      <th></th>\n",
       "      <th>AA+TT</th>\n",
       "      <th>AC+GT</th>\n",
       "      <th>AG+CT</th>\n",
       "      <th>AT</th>\n",
       "      <th>CA+TG</th>\n",
       "      <th>CC+GG</th>\n",
       "      <th>CG</th>\n",
       "      <th>GA+TC</th>\n",
       "      <th>GC</th>\n",
       "      <th>TA</th>\n",
       "      <th>MSIstatus</th>\n",
       "    </tr>\n",
       "    <tr>\n",
       "      <th>deidentifiedSpecimenName</th>\n",
       "      <th></th>\n",
       "      <th></th>\n",
       "      <th></th>\n",
       "      <th></th>\n",
       "      <th></th>\n",
       "      <th></th>\n",
       "      <th></th>\n",
       "      <th></th>\n",
       "      <th></th>\n",
       "      <th></th>\n",
       "      <th></th>\n",
       "    </tr>\n",
       "  </thead>\n",
       "  <tbody>\n",
       "    <tr>\n",
       "      <th>XRN:6SJTT7</th>\n",
       "      <td>19</td>\n",
       "      <td>8</td>\n",
       "      <td>14</td>\n",
       "      <td>7</td>\n",
       "      <td>12</td>\n",
       "      <td>8</td>\n",
       "      <td>1</td>\n",
       "      <td>15</td>\n",
       "      <td>3</td>\n",
       "      <td>4</td>\n",
       "      <td>MSI-H</td>\n",
       "    </tr>\n",
       "    <tr>\n",
       "      <th>XRN:DNF6WD</th>\n",
       "      <td>14</td>\n",
       "      <td>12</td>\n",
       "      <td>16</td>\n",
       "      <td>6</td>\n",
       "      <td>15</td>\n",
       "      <td>7</td>\n",
       "      <td>1</td>\n",
       "      <td>15</td>\n",
       "      <td>3</td>\n",
       "      <td>5</td>\n",
       "      <td>MSS</td>\n",
       "    </tr>\n",
       "    <tr>\n",
       "      <th>XRN:AFAEVN</th>\n",
       "      <td>8</td>\n",
       "      <td>9</td>\n",
       "      <td>17</td>\n",
       "      <td>4</td>\n",
       "      <td>15</td>\n",
       "      <td>12</td>\n",
       "      <td>3</td>\n",
       "      <td>12</td>\n",
       "      <td>9</td>\n",
       "      <td>4</td>\n",
       "      <td>MSI-H</td>\n",
       "    </tr>\n",
       "    <tr>\n",
       "      <th>XRN:MPPMPA</th>\n",
       "      <td>7</td>\n",
       "      <td>13</td>\n",
       "      <td>19</td>\n",
       "      <td>4</td>\n",
       "      <td>18</td>\n",
       "      <td>10</td>\n",
       "      <td>1</td>\n",
       "      <td>13</td>\n",
       "      <td>6</td>\n",
       "      <td>4</td>\n",
       "      <td>MSI-H</td>\n",
       "    </tr>\n",
       "    <tr>\n",
       "      <th>XRN:30NP36</th>\n",
       "      <td>8</td>\n",
       "      <td>11</td>\n",
       "      <td>13</td>\n",
       "      <td>5</td>\n",
       "      <td>14</td>\n",
       "      <td>15</td>\n",
       "      <td>4</td>\n",
       "      <td>12</td>\n",
       "      <td>7</td>\n",
       "      <td>4</td>\n",
       "      <td>MSI-H</td>\n",
       "    </tr>\n",
       "  </tbody>\n",
       "</table>\n",
       "</div>"
      ],
      "text/plain": [
       "                          AA+TT  AC+GT  AG+CT  AT  CA+TG  CC+GG  CG  GA+TC  \\\n",
       "deidentifiedSpecimenName                                                     \n",
       "XRN:6SJTT7                   19      8     14   7     12      8   1     15   \n",
       "XRN:DNF6WD                   14     12     16   6     15      7   1     15   \n",
       "XRN:AFAEVN                    8      9     17   4     15     12   3     12   \n",
       "XRN:MPPMPA                    7     13     19   4     18     10   1     13   \n",
       "XRN:30NP36                    8     11     13   5     14     15   4     12   \n",
       "\n",
       "                          GC  TA MSIstatus  \n",
       "deidentifiedSpecimenName                    \n",
       "XRN:6SJTT7                 3   4     MSI-H  \n",
       "XRN:DNF6WD                 3   5       MSS  \n",
       "XRN:AFAEVN                 9   4     MSI-H  \n",
       "XRN:MPPMPA                 6   4     MSI-H  \n",
       "XRN:30NP36                 7   4     MSI-H  "
      ]
     },
     "execution_count": 15,
     "metadata": {},
     "output_type": "execute_result"
    }
   ],
   "source": [
    "js1_bi = combine_rc_table2(js1_bi_df)\n",
    "js1_bi = js1_bi[js1_bi['MSIstatus']!='MSI ambiguous']\n",
    "js1_bi.head()"
   ]
  },
  {
   "cell_type": "markdown",
   "metadata": {},
   "source": [
    "### Groupby, aggregating and summarising"
   ]
  },
  {
   "cell_type": "code",
   "execution_count": 7,
   "metadata": {},
   "outputs": [],
   "source": [
    "js1 = df[['Junction Sequence 1','MSIstatus']]\n",
    "js1.index = df['deidentifiedSpecimenName']\n",
    "js1 = js1[js1['MSIstatus']!='MSI ambiguous']\n",
    "\n",
    "js1_mono_count = count_mono_series(js1.iloc[:,0])\n",
    "js1_mono_df = pd.concat([pd.DataFrame(js1_mono_count).T, js1['MSIstatus']], axis=1)\n",
    "js1_mono_df = js1_mono_df[js1_mono_df['MSIstatus']!='MSI ambiguous']\n",
    "js1_mono = combine_rc_table(js1_mono_df)\n",
    "js1_mono = js1_mono[js1_mono['MSIstatus']!='MSI ambiguous']\n",
    "\n",
    "js1_bi_count = count_bi_series(js1.iloc[:,0])\n",
    "js1_bi_df = pd.concat([pd.DataFrame(js1_bi_count).T, js1['MSIstatus']], axis=1)\n",
    "js1_bi = combine_rc_table(js1_bi_df)\n",
    "js1_bi = js1_bi[js1_bi['MSIstatus']!='MSI ambiguous']"
   ]
  },
  {
   "cell_type": "code",
   "execution_count": 218,
   "metadata": {},
   "outputs": [],
   "source": [
    "js1_bi.to_csv('js1_bi.csv', index = True, header=True)"
   ]
  },
  {
   "cell_type": "code",
   "execution_count": 219,
   "metadata": {},
   "outputs": [
    {
     "data": {
      "text/html": [
       "<div>\n",
       "<style scoped>\n",
       "    .dataframe tbody tr th:only-of-type {\n",
       "        vertical-align: middle;\n",
       "    }\n",
       "\n",
       "    .dataframe tbody tr th {\n",
       "        vertical-align: top;\n",
       "    }\n",
       "\n",
       "    .dataframe thead th {\n",
       "        text-align: right;\n",
       "    }\n",
       "</style>\n",
       "<table border=\"1\" class=\"dataframe\">\n",
       "  <thead>\n",
       "    <tr style=\"text-align: right;\">\n",
       "      <th></th>\n",
       "      <th>A</th>\n",
       "      <th>C</th>\n",
       "      <th>G</th>\n",
       "      <th>T</th>\n",
       "      <th>MSIstatus</th>\n",
       "      <th>JS_len</th>\n",
       "      <th>GC_content</th>\n",
       "    </tr>\n",
       "    <tr>\n",
       "      <th>deidentifiedSpecimenName</th>\n",
       "      <th></th>\n",
       "      <th></th>\n",
       "      <th></th>\n",
       "      <th></th>\n",
       "      <th></th>\n",
       "      <th></th>\n",
       "      <th></th>\n",
       "    </tr>\n",
       "  </thead>\n",
       "  <tbody>\n",
       "    <tr>\n",
       "      <th>XRN:6SJTT7</th>\n",
       "      <td>31</td>\n",
       "      <td>16</td>\n",
       "      <td>23</td>\n",
       "      <td>31</td>\n",
       "      <td>MSI-H</td>\n",
       "      <td>101</td>\n",
       "      <td>0.386139</td>\n",
       "    </tr>\n",
       "    <tr>\n",
       "      <th>XRN:DNF6WD</th>\n",
       "      <td>36</td>\n",
       "      <td>24</td>\n",
       "      <td>18</td>\n",
       "      <td>24</td>\n",
       "      <td>MSS</td>\n",
       "      <td>102</td>\n",
       "      <td>0.411765</td>\n",
       "    </tr>\n",
       "    <tr>\n",
       "      <th>XRN:E3F52H</th>\n",
       "      <td>30</td>\n",
       "      <td>16</td>\n",
       "      <td>41</td>\n",
       "      <td>14</td>\n",
       "      <td>MSI ambiguous</td>\n",
       "      <td>101</td>\n",
       "      <td>0.564356</td>\n",
       "    </tr>\n",
       "    <tr>\n",
       "      <th>XRN:MU1VY9</th>\n",
       "      <td>26</td>\n",
       "      <td>17</td>\n",
       "      <td>37</td>\n",
       "      <td>21</td>\n",
       "      <td>MSI ambiguous</td>\n",
       "      <td>101</td>\n",
       "      <td>0.534653</td>\n",
       "    </tr>\n",
       "    <tr>\n",
       "      <th>XRN:AFAEVN</th>\n",
       "      <td>17</td>\n",
       "      <td>29</td>\n",
       "      <td>25</td>\n",
       "      <td>30</td>\n",
       "      <td>MSI-H</td>\n",
       "      <td>101</td>\n",
       "      <td>0.534653</td>\n",
       "    </tr>\n",
       "  </tbody>\n",
       "</table>\n",
       "</div>"
      ],
      "text/plain": [
       "                           A   C   G   T      MSIstatus  JS_len  GC_content\n",
       "deidentifiedSpecimenName                                                   \n",
       "XRN:6SJTT7                31  16  23  31          MSI-H     101    0.386139\n",
       "XRN:DNF6WD                36  24  18  24            MSS     102    0.411765\n",
       "XRN:E3F52H                30  16  41  14  MSI ambiguous     101    0.564356\n",
       "XRN:MU1VY9                26  17  37  21  MSI ambiguous     101    0.534653\n",
       "XRN:AFAEVN                17  29  25  30          MSI-H     101    0.534653"
      ]
     },
     "execution_count": 219,
     "metadata": {},
     "output_type": "execute_result"
    }
   ],
   "source": [
    "js1_GC = js1_mono_df.iloc[:]\n",
    "js1_GC['GC_content'] = (js1_GC['C'] + js1_GC['G']) / (js1_GC['A'] + js1_GC['T'] + js1_GC['C'] + js1_GC['G'])\n",
    "js1_GC.head()"
   ]
  },
  {
   "cell_type": "code",
   "execution_count": 60,
   "metadata": {},
   "outputs": [
    {
     "data": {
      "text/html": [
       "<div>\n",
       "<style scoped>\n",
       "    .dataframe tbody tr th:only-of-type {\n",
       "        vertical-align: middle;\n",
       "    }\n",
       "\n",
       "    .dataframe tbody tr th {\n",
       "        vertical-align: top;\n",
       "    }\n",
       "\n",
       "    .dataframe thead th {\n",
       "        text-align: right;\n",
       "    }\n",
       "</style>\n",
       "<table border=\"1\" class=\"dataframe\">\n",
       "  <thead>\n",
       "    <tr style=\"text-align: right;\">\n",
       "      <th>MSIstatus</th>\n",
       "      <th>MSI-H</th>\n",
       "      <th>MSS</th>\n",
       "    </tr>\n",
       "  </thead>\n",
       "  <tbody>\n",
       "    <tr>\n",
       "      <th>A+T mean</th>\n",
       "      <td>50.119565</td>\n",
       "      <td>56.185430</td>\n",
       "    </tr>\n",
       "    <tr>\n",
       "      <th>C+G mean</th>\n",
       "      <td>50.554348</td>\n",
       "      <td>45.238411</td>\n",
       "    </tr>\n",
       "  </tbody>\n",
       "</table>\n",
       "</div>"
      ],
      "text/plain": [
       "MSIstatus      MSI-H        MSS\n",
       "A+T mean   50.119565  56.185430\n",
       "C+G mean   50.554348  45.238411"
      ]
     },
     "execution_count": 60,
     "metadata": {},
     "output_type": "execute_result"
    }
   ],
   "source": [
    "df = js1_mono.groupby('MSIstatus') \\\n",
    "    .agg({\"A+T\":'mean',\"C+G\":'mean'})\\\n",
    "    .rename(columns={'A+T':'A+T mean','C+G':'C+G mean'})#.reset_index()\n",
    "df.T"
   ]
  },
  {
   "cell_type": "code",
   "execution_count": 63,
   "metadata": {},
   "outputs": [
    {
     "data": {
      "text/plain": [
       "<matplotlib.axes._subplots.AxesSubplot at 0x115c30198>"
      ]
     },
     "execution_count": 63,
     "metadata": {},
     "output_type": "execute_result"
    },
    {
     "data": {
      "image/png": "[encoded data removed]",
      "text/plain": [
       "<Figure size 432x288 with 1 Axes>"
      ]
     },
     "metadata": {
      "needs_background": "light"
     },
     "output_type": "display_data"
    }
   ],
   "source": [
    "js1_mono_df[['A','T','C','G']].sum().plot.bar()"
   ]
  },
  {
   "cell_type": "code",
   "execution_count": 61,
   "metadata": {},
   "outputs": [
    {
     "data": {
      "text/html": [
       "<div>\n",
       "<style scoped>\n",
       "    .dataframe tbody tr th:only-of-type {\n",
       "        vertical-align: middle;\n",
       "    }\n",
       "\n",
       "    .dataframe tbody tr th {\n",
       "        vertical-align: top;\n",
       "    }\n",
       "\n",
       "    .dataframe thead th {\n",
       "        text-align: right;\n",
       "    }\n",
       "</style>\n",
       "<table border=\"1\" class=\"dataframe\">\n",
       "  <thead>\n",
       "    <tr style=\"text-align: right;\">\n",
       "      <th>MSIstatus</th>\n",
       "      <th>MSI-H</th>\n",
       "      <th>MSS</th>\n",
       "    </tr>\n",
       "  </thead>\n",
       "  <tbody>\n",
       "    <tr>\n",
       "      <th>AA+TT</th>\n",
       "      <td>10.282609</td>\n",
       "      <td>12.668874</td>\n",
       "    </tr>\n",
       "    <tr>\n",
       "      <th>AC+GT</th>\n",
       "      <td>10.239130</td>\n",
       "      <td>10.516556</td>\n",
       "    </tr>\n",
       "    <tr>\n",
       "      <th>AG+CT</th>\n",
       "      <td>15.836957</td>\n",
       "      <td>14.728477</td>\n",
       "    </tr>\n",
       "    <tr>\n",
       "      <th>AT+AT</th>\n",
       "      <td>9.804348</td>\n",
       "      <td>12.913907</td>\n",
       "    </tr>\n",
       "    <tr>\n",
       "      <th>CA+TG</th>\n",
       "      <td>15.793478</td>\n",
       "      <td>14.377483</td>\n",
       "    </tr>\n",
       "    <tr>\n",
       "      <th>CC+GG</th>\n",
       "      <td>12.119565</td>\n",
       "      <td>9.947020</td>\n",
       "    </tr>\n",
       "    <tr>\n",
       "      <th>CG+CG</th>\n",
       "      <td>2.913043</td>\n",
       "      <td>2.860927</td>\n",
       "    </tr>\n",
       "    <tr>\n",
       "      <th>GA+TC</th>\n",
       "      <td>12.184783</td>\n",
       "      <td>11.781457</td>\n",
       "    </tr>\n",
       "    <tr>\n",
       "      <th>GC+GC</th>\n",
       "      <td>12.086957</td>\n",
       "      <td>9.788079</td>\n",
       "    </tr>\n",
       "    <tr>\n",
       "      <th>TA+TA</th>\n",
       "      <td>7.804348</td>\n",
       "      <td>11.973510</td>\n",
       "    </tr>\n",
       "  </tbody>\n",
       "</table>\n",
       "</div>"
      ],
      "text/plain": [
       "MSIstatus      MSI-H        MSS\n",
       "AA+TT      10.282609  12.668874\n",
       "AC+GT      10.239130  10.516556\n",
       "AG+CT      15.836957  14.728477\n",
       "AT+AT       9.804348  12.913907\n",
       "CA+TG      15.793478  14.377483\n",
       "CC+GG      12.119565   9.947020\n",
       "CG+CG       2.913043   2.860927\n",
       "GA+TC      12.184783  11.781457\n",
       "GC+GC      12.086957   9.788079\n",
       "TA+TA       7.804348  11.973510"
      ]
     },
     "execution_count": 61,
     "metadata": {},
     "output_type": "execute_result"
    }
   ],
   "source": [
    "df = js1_bi.groupby('MSIstatus') \\\n",
    "    .agg('mean')\n",
    "df.T"
   ]
  },
  {
   "cell_type": "markdown",
   "metadata": {},
   "source": [
    "###  two-tailed Mann Whitney U test "
   ]
  },
  {
   "cell_type": "code",
   "execution_count": 64,
   "metadata": {},
   "outputs": [],
   "source": [
    "import scipy.stats as stats"
   ]
  },
  {
   "cell_type": "code",
   "execution_count": 65,
   "metadata": {},
   "outputs": [
    {
     "name": "stdout",
     "output_type": "stream",
     "text": [
      "4709.0 1.2756099370991183e-05\n"
     ]
    }
   ],
   "source": [
    "stat, pval = stats.mannwhitneyu(js1_mono_msi['A+T'], js1_mono_mss['A+T'])\n",
    "print(stat,pval)"
   ]
  },
  {
   "cell_type": "code",
   "execution_count": 66,
   "metadata": {},
   "outputs": [
    {
     "data": {
      "text/plain": [
       "Index(['AA+TT', 'AC+GT', 'AG+CT', 'AT+AT', 'CA+TG', 'CC+GG', 'CG+CG', 'GA+TC',\n",
       "       'GC+GC', 'TA+TA'],\n",
       "      dtype='object')"
      ]
     },
     "execution_count": 66,
     "metadata": {},
     "output_type": "execute_result"
    }
   ],
   "source": [
    "df = js1_bi.groupby('MSIstatus') \\\n",
    "    .agg('mean').T\n",
    "df.index"
   ]
  },
  {
   "cell_type": "code",
   "execution_count": 67,
   "metadata": {},
   "outputs": [
    {
     "name": "stdout",
     "output_type": "stream",
     "text": [
      "MSIstatus\n",
      "MSI-H     92\n",
      "MSS      151\n",
      "dtype: int64\n"
     ]
    },
    {
     "data": {
      "text/plain": [
       "{'MSI-H': Index(['XRN:6SJTT7', 'XRN:AFAEVN', 'XRN:MPPMPA', 'XRN:30NP36', 'XRN:JPE87T',\n",
       "        'XRN:XQRHSE', 'XRN:QVAKVU', 'XRN:QQXUME', 'XRN:1KPTFL', 'XRN:BJ8PSW',\n",
       "        'XRN:F9ARJF', 'XRN:W6BMCA', 'XRN:S49FUX', 'XRN:9JPLTH', 'XRN:CLF17N',\n",
       "        'XRN:B7E8A3', 'XRN:245RH8', 'XRN:J967F9', 'XRN:XYCJ93', 'XRN:2PVSC7',\n",
       "        'XRN:X6J96S', 'XRN:2XSYVT', 'XRN:SLXMB3', 'XRN:AW746M', 'XRN:79DRDU',\n",
       "        'XRN:0LPP0J', 'XRN:W01KL5', 'XRN:R1V1DT', 'XRN:QJ8FJ0', 'XRN:K19WRF',\n",
       "        'XRN:JPEWCE', 'XRN:EAY8VA', 'XRN:9VM7TP', 'XRN:TBQ8K6', 'XRN:CJSFA7',\n",
       "        'XRN:MSKV4V', 'XRN:VTH671', 'XRN:SV732Y', 'XRN:DVM2CN', 'XRN:NPCWVT',\n",
       "        'XRN:FXUJJ4', 'XRN:FUEL2G', 'XRN:RBK7DF', 'XRN:5P9VQ6', 'XRN:DTP50X',\n",
       "        'XRN:C7MP5D', 'XRN:HB5TCA', 'XRN:QQ2D5X', 'XRN:42UDWY', 'XRN:57B78K',\n",
       "        'XRN:AVWPRE', 'XRN:6DV775', 'XRN:3ML9GP', 'XRN:VXJB0J', 'XRN:NSJRNL',\n",
       "        'XRN:AA8WCL', 'XRN:GHG6TP', 'XRN:FH3GP5', 'XRN:BWHE0A', 'XRN:THRQJ0',\n",
       "        'XRN:H4XLYD', 'XRN:1D8N0Q', 'XRN:MKSR16', 'XRN:2XTWRJ', 'XRN:CA8JMU',\n",
       "        'XRN:LK7BEH', 'XRN:RQ15WB', 'XRN:VKLN7D', 'XRN:FN5L9T', 'XRN:AFEKSM',\n",
       "        'XRN:MBKYWE', 'XRN:H5E1XX', 'XRN:C799VQ', 'XRN:W0L9B8', 'XRN:70DFYD',\n",
       "        'XRN:HVLU42', 'XRN:MYB0YJ', 'XRN:W4CY34', 'XRN:H4SVRP', 'XRN:2DQUVQ',\n",
       "        'XRN:S07AVV', 'XRN:EQTXKC', 'XRN:ET03R0', 'XRN:DU0U33', 'XRN:EA7U2V',\n",
       "        'XRN:YEEKB3', 'XRN:DLU61G', 'XRN:HTRRT1', 'XRN:KBUBTB', 'XRN:4EN8DE',\n",
       "        'XRN:WFL8JB', 'XRN:6D43S1'],\n",
       "       dtype='object', name='deidentifiedSpecimenName'),\n",
       " 'MSS': Index(['XRN:DNF6WD', 'XRN:CFEJ4L', 'XRN:8XETE1', 'XRN:G7LQYR', 'XRN:NR9J8U',\n",
       "        'XRN:R3BXP2', 'XRN:428GM9', 'XRN:DFJ2NQ', 'XRN:7EG9A1', 'XRN:WEBARB',\n",
       "        ...\n",
       "        'XRN:5SJQ7Q', 'XRN:QU97T3', 'XRN:WQR98C', 'XRN:LNBE9P', 'XRN:7XMCSA',\n",
       "        'XRN:D3R55B', 'XRN:CFTDTX', 'XRN:GHF4YT', 'XRN:HTK8YS', 'XRN:T52CP1'],\n",
       "       dtype='object', name='deidentifiedSpecimenName', length=151)}"
      ]
     },
     "execution_count": 67,
     "metadata": {},
     "output_type": "execute_result"
    }
   ],
   "source": [
    "mono_grouped = js1_mono.groupby('MSIstatus')\n",
    "print(mono_grouped.size())\n",
    "mono_grouped.groups"
   ]
  },
  {
   "cell_type": "code",
   "execution_count": 71,
   "metadata": {},
   "outputs": [
    {
     "name": "stdout",
     "output_type": "stream",
     "text": [
      "<class 'pandas.core.frame.DataFrame'>\n"
     ]
    },
    {
     "data": {
      "text/html": [
       "<div>\n",
       "<style scoped>\n",
       "    .dataframe tbody tr th:only-of-type {\n",
       "        vertical-align: middle;\n",
       "    }\n",
       "\n",
       "    .dataframe tbody tr th {\n",
       "        vertical-align: top;\n",
       "    }\n",
       "\n",
       "    .dataframe thead th {\n",
       "        text-align: right;\n",
       "    }\n",
       "</style>\n",
       "<table border=\"1\" class=\"dataframe\">\n",
       "  <thead>\n",
       "    <tr style=\"text-align: right;\">\n",
       "      <th></th>\n",
       "      <th>A+T</th>\n",
       "      <th>C+G</th>\n",
       "      <th>MSIstatus</th>\n",
       "    </tr>\n",
       "    <tr>\n",
       "      <th>deidentifiedSpecimenName</th>\n",
       "      <th></th>\n",
       "      <th></th>\n",
       "      <th></th>\n",
       "    </tr>\n",
       "  </thead>\n",
       "  <tbody>\n",
       "    <tr>\n",
       "      <th>XRN:6SJTT7</th>\n",
       "      <td>62</td>\n",
       "      <td>39</td>\n",
       "      <td>MSI-H</td>\n",
       "    </tr>\n",
       "    <tr>\n",
       "      <th>XRN:AFAEVN</th>\n",
       "      <td>47</td>\n",
       "      <td>54</td>\n",
       "      <td>MSI-H</td>\n",
       "    </tr>\n",
       "    <tr>\n",
       "      <th>XRN:MPPMPA</th>\n",
       "      <td>49</td>\n",
       "      <td>52</td>\n",
       "      <td>MSI-H</td>\n",
       "    </tr>\n",
       "    <tr>\n",
       "      <th>XRN:30NP36</th>\n",
       "      <td>45</td>\n",
       "      <td>55</td>\n",
       "      <td>MSI-H</td>\n",
       "    </tr>\n",
       "    <tr>\n",
       "      <th>XRN:JPE87T</th>\n",
       "      <td>40</td>\n",
       "      <td>60</td>\n",
       "      <td>MSI-H</td>\n",
       "    </tr>\n",
       "  </tbody>\n",
       "</table>\n",
       "</div>"
      ],
      "text/plain": [
       "                          A+T  C+G MSIstatus\n",
       "deidentifiedSpecimenName                    \n",
       "XRN:6SJTT7                 62   39     MSI-H\n",
       "XRN:AFAEVN                 47   54     MSI-H\n",
       "XRN:MPPMPA                 49   52     MSI-H\n",
       "XRN:30NP36                 45   55     MSI-H\n",
       "XRN:JPE87T                 40   60     MSI-H"
      ]
     },
     "execution_count": 71,
     "metadata": {},
     "output_type": "execute_result"
    }
   ],
   "source": [
    "print(type(mono_grouped.get_group('MSI-H')))\n",
    "mono_grouped.get_group('MSI-H').head()"
   ]
  },
  {
   "cell_type": "code",
   "execution_count": null,
   "metadata": {},
   "outputs": [],
   "source": [
    "def mean_mannwhitneyu(df):\n",
    "    gb = df.groupby('MSIstatus')\n",
    "    tmp = gb.agg('mean').T # compute mean\n",
    "    tmp.rename(columns={\"MSI-H\":'MSI_mean',\"MSS\":'MSS_mean'}, inplace = True)\n",
    "    msi = gb.get_group('MSI-H')\n",
    "    mss = gb.get_group('MSS')\n",
    "    p_list = []\n",
    "    for i in tmp.index:\n",
    "        stat, pval = stats.mannwhitneyu(msi[i], mss[i]) # compute p value\n",
    "        p_list.append(pval)\n",
    "    tmp['MW_2tailed_pval'] = p_list\n",
    "    return tmp"
   ]
  },
  {
   "cell_type": "code",
   "execution_count": 12,
   "metadata": {},
   "outputs": [
    {
     "data": {
      "text/html": [
       "<div>\n",
       "<style scoped>\n",
       "    .dataframe tbody tr th:only-of-type {\n",
       "        vertical-align: middle;\n",
       "    }\n",
       "\n",
       "    .dataframe tbody tr th {\n",
       "        vertical-align: top;\n",
       "    }\n",
       "\n",
       "    .dataframe thead th {\n",
       "        text-align: right;\n",
       "    }\n",
       "</style>\n",
       "<table border=\"1\" class=\"dataframe\">\n",
       "  <thead>\n",
       "    <tr style=\"text-align: right;\">\n",
       "      <th>MSIstatus</th>\n",
       "      <th>MSI_mean</th>\n",
       "      <th>MSS_mean</th>\n",
       "      <th>MW_2tailed_pval</th>\n",
       "    </tr>\n",
       "  </thead>\n",
       "  <tbody>\n",
       "    <tr>\n",
       "      <th>A+T</th>\n",
       "      <td>50.119565</td>\n",
       "      <td>56.185430</td>\n",
       "      <td>0.000013</td>\n",
       "    </tr>\n",
       "    <tr>\n",
       "      <th>C+G</th>\n",
       "      <td>50.554348</td>\n",
       "      <td>45.238411</td>\n",
       "      <td>0.000103</td>\n",
       "    </tr>\n",
       "  </tbody>\n",
       "</table>\n",
       "</div>"
      ],
      "text/plain": [
       "MSIstatus   MSI_mean   MSS_mean  MW_2tailed_pval\n",
       "A+T        50.119565  56.185430         0.000013\n",
       "C+G        50.554348  45.238411         0.000103"
      ]
     },
     "execution_count": 12,
     "metadata": {},
     "output_type": "execute_result"
    }
   ],
   "source": [
    "mean_mannwhitneyu(js1_mono)"
   ]
  },
  {
   "cell_type": "code",
   "execution_count": 13,
   "metadata": {},
   "outputs": [
    {
     "data": {
      "text/html": [
       "<div>\n",
       "<style scoped>\n",
       "    .dataframe tbody tr th:only-of-type {\n",
       "        vertical-align: middle;\n",
       "    }\n",
       "\n",
       "    .dataframe tbody tr th {\n",
       "        vertical-align: top;\n",
       "    }\n",
       "\n",
       "    .dataframe thead th {\n",
       "        text-align: right;\n",
       "    }\n",
       "</style>\n",
       "<table border=\"1\" class=\"dataframe\">\n",
       "  <thead>\n",
       "    <tr style=\"text-align: right;\">\n",
       "      <th>MSIstatus</th>\n",
       "      <th>MSI_mean</th>\n",
       "      <th>MSS_mean</th>\n",
       "      <th>MW_2tailed_pval</th>\n",
       "    </tr>\n",
       "  </thead>\n",
       "  <tbody>\n",
       "    <tr>\n",
       "      <th>AA+TT</th>\n",
       "      <td>10.282609</td>\n",
       "      <td>12.668874</td>\n",
       "      <td>0.000568</td>\n",
       "    </tr>\n",
       "    <tr>\n",
       "      <th>AC+GT</th>\n",
       "      <td>10.239130</td>\n",
       "      <td>10.516556</td>\n",
       "      <td>0.129782</td>\n",
       "    </tr>\n",
       "    <tr>\n",
       "      <th>AG+CT</th>\n",
       "      <td>15.836957</td>\n",
       "      <td>14.728477</td>\n",
       "      <td>0.008073</td>\n",
       "    </tr>\n",
       "    <tr>\n",
       "      <th>AT+AT</th>\n",
       "      <td>9.804348</td>\n",
       "      <td>12.913907</td>\n",
       "      <td>0.000121</td>\n",
       "    </tr>\n",
       "    <tr>\n",
       "      <th>CA+TG</th>\n",
       "      <td>15.793478</td>\n",
       "      <td>14.377483</td>\n",
       "      <td>0.007933</td>\n",
       "    </tr>\n",
       "    <tr>\n",
       "      <th>CC+GG</th>\n",
       "      <td>12.119565</td>\n",
       "      <td>9.947020</td>\n",
       "      <td>0.000148</td>\n",
       "    </tr>\n",
       "    <tr>\n",
       "      <th>CG+CG</th>\n",
       "      <td>2.913043</td>\n",
       "      <td>2.860927</td>\n",
       "      <td>0.127676</td>\n",
       "    </tr>\n",
       "    <tr>\n",
       "      <th>GA+TC</th>\n",
       "      <td>12.184783</td>\n",
       "      <td>11.781457</td>\n",
       "      <td>0.229843</td>\n",
       "    </tr>\n",
       "    <tr>\n",
       "      <th>GC+GC</th>\n",
       "      <td>12.086957</td>\n",
       "      <td>9.788079</td>\n",
       "      <td>0.000104</td>\n",
       "    </tr>\n",
       "    <tr>\n",
       "      <th>TA+TA</th>\n",
       "      <td>7.804348</td>\n",
       "      <td>11.973510</td>\n",
       "      <td>0.000014</td>\n",
       "    </tr>\n",
       "  </tbody>\n",
       "</table>\n",
       "</div>"
      ],
      "text/plain": [
       "MSIstatus   MSI_mean   MSS_mean  MW_2tailed_pval\n",
       "AA+TT      10.282609  12.668874         0.000568\n",
       "AC+GT      10.239130  10.516556         0.129782\n",
       "AG+CT      15.836957  14.728477         0.008073\n",
       "AT+AT       9.804348  12.913907         0.000121\n",
       "CA+TG      15.793478  14.377483         0.007933\n",
       "CC+GG      12.119565   9.947020         0.000148\n",
       "CG+CG       2.913043   2.860927         0.127676\n",
       "GA+TC      12.184783  11.781457         0.229843\n",
       "GC+GC      12.086957   9.788079         0.000104\n",
       "TA+TA       7.804348  11.973510         0.000014"
      ]
     },
     "execution_count": 13,
     "metadata": {},
     "output_type": "execute_result"
    }
   ],
   "source": [
    "mean_mannwhitneyu(js1_bi)"
   ]
  },
  {
   "cell_type": "markdown",
   "metadata": {},
   "source": [
    "### convert count to percentage"
   ]
  },
  {
   "cell_type": "code",
   "execution_count": 8,
   "metadata": {},
   "outputs": [
    {
     "data": {
      "text/html": [
       "<div>\n",
       "<style scoped>\n",
       "    .dataframe tbody tr th:only-of-type {\n",
       "        vertical-align: middle;\n",
       "    }\n",
       "\n",
       "    .dataframe tbody tr th {\n",
       "        vertical-align: top;\n",
       "    }\n",
       "\n",
       "    .dataframe thead th {\n",
       "        text-align: right;\n",
       "    }\n",
       "</style>\n",
       "<table border=\"1\" class=\"dataframe\">\n",
       "  <thead>\n",
       "    <tr style=\"text-align: right;\">\n",
       "      <th></th>\n",
       "      <th>A</th>\n",
       "      <th>C</th>\n",
       "      <th>G</th>\n",
       "      <th>T</th>\n",
       "      <th>MSIstatus</th>\n",
       "    </tr>\n",
       "    <tr>\n",
       "      <th>deidentifiedSpecimenName</th>\n",
       "      <th></th>\n",
       "      <th></th>\n",
       "      <th></th>\n",
       "      <th></th>\n",
       "      <th></th>\n",
       "    </tr>\n",
       "  </thead>\n",
       "  <tbody>\n",
       "    <tr>\n",
       "      <th>XRN:6SJTT7</th>\n",
       "      <td>31</td>\n",
       "      <td>16</td>\n",
       "      <td>23</td>\n",
       "      <td>31</td>\n",
       "      <td>MSI-H</td>\n",
       "    </tr>\n",
       "    <tr>\n",
       "      <th>XRN:DNF6WD</th>\n",
       "      <td>36</td>\n",
       "      <td>24</td>\n",
       "      <td>18</td>\n",
       "      <td>24</td>\n",
       "      <td>MSS</td>\n",
       "    </tr>\n",
       "    <tr>\n",
       "      <th>XRN:AFAEVN</th>\n",
       "      <td>17</td>\n",
       "      <td>29</td>\n",
       "      <td>25</td>\n",
       "      <td>30</td>\n",
       "      <td>MSI-H</td>\n",
       "    </tr>\n",
       "    <tr>\n",
       "      <th>XRN:MPPMPA</th>\n",
       "      <td>18</td>\n",
       "      <td>30</td>\n",
       "      <td>22</td>\n",
       "      <td>31</td>\n",
       "      <td>MSI-H</td>\n",
       "    </tr>\n",
       "    <tr>\n",
       "      <th>XRN:30NP36</th>\n",
       "      <td>16</td>\n",
       "      <td>28</td>\n",
       "      <td>27</td>\n",
       "      <td>29</td>\n",
       "      <td>MSI-H</td>\n",
       "    </tr>\n",
       "  </tbody>\n",
       "</table>\n",
       "</div>"
      ],
      "text/plain": [
       "                           A   C   G   T MSIstatus\n",
       "deidentifiedSpecimenName                          \n",
       "XRN:6SJTT7                31  16  23  31     MSI-H\n",
       "XRN:DNF6WD                36  24  18  24       MSS\n",
       "XRN:AFAEVN                17  29  25  30     MSI-H\n",
       "XRN:MPPMPA                18  30  22  31     MSI-H\n",
       "XRN:30NP36                16  28  27  29     MSI-H"
      ]
     },
     "execution_count": 8,
     "metadata": {},
     "output_type": "execute_result"
    }
   ],
   "source": [
    "js1_mono_df.head()"
   ]
  },
  {
   "cell_type": "code",
   "execution_count": 15,
   "metadata": {},
   "outputs": [],
   "source": [
    "def combine_rc_percentage(dg):\n",
    "    df = dg.copy()\n",
    "    df['count'] = df.sum(axis=1)\n",
    "    cols_rest = list(df.columns)\n",
    "    cols_1 = []\n",
    "    cols_2 = []\n",
    "    for i in df.columns:\n",
    "        reverse_tmp = my_referse_complement(i)\n",
    "        if reverse_tmp in list(df.columns):\n",
    "            cols_rest.remove(i)\n",
    "            if reverse_tmp not in cols_1:\n",
    "                cols_1.append(i)\n",
    "                cols_2.append(reverse_tmp)   \n",
    "    dt = pd.DataFrame()\n",
    "    #cols_c = []\n",
    "    for i,j in zip(cols_1,cols_2):\n",
    "        if i==j:\n",
    "            #cols_c.append(i)\n",
    "            dt[i] = df[i]/df['count']\n",
    "        else:\n",
    "            k = i+\"+\"+j\n",
    "            #cols_c.append(k)\n",
    "            dt[k] = (df[i]+df[j])/df['count']           \n",
    "    dt = pd.concat([dt, df[cols_rest]], axis=1)\n",
    "    return dt"
   ]
  },
  {
   "cell_type": "code",
   "execution_count": 21,
   "metadata": {},
   "outputs": [
    {
     "data": {
      "text/html": [
       "<div>\n",
       "<style scoped>\n",
       "    .dataframe tbody tr th:only-of-type {\n",
       "        vertical-align: middle;\n",
       "    }\n",
       "\n",
       "    .dataframe tbody tr th {\n",
       "        vertical-align: top;\n",
       "    }\n",
       "\n",
       "    .dataframe thead th {\n",
       "        text-align: right;\n",
       "    }\n",
       "</style>\n",
       "<table border=\"1\" class=\"dataframe\">\n",
       "  <thead>\n",
       "    <tr style=\"text-align: right;\">\n",
       "      <th></th>\n",
       "      <th>A+T</th>\n",
       "      <th>C+G</th>\n",
       "      <th>MSIstatus</th>\n",
       "      <th>count</th>\n",
       "    </tr>\n",
       "    <tr>\n",
       "      <th>deidentifiedSpecimenName</th>\n",
       "      <th></th>\n",
       "      <th></th>\n",
       "      <th></th>\n",
       "      <th></th>\n",
       "    </tr>\n",
       "  </thead>\n",
       "  <tbody>\n",
       "    <tr>\n",
       "      <th>XRN:6SJTT7</th>\n",
       "      <td>0.613861</td>\n",
       "      <td>0.386139</td>\n",
       "      <td>MSI-H</td>\n",
       "      <td>101</td>\n",
       "    </tr>\n",
       "    <tr>\n",
       "      <th>XRN:DNF6WD</th>\n",
       "      <td>0.588235</td>\n",
       "      <td>0.411765</td>\n",
       "      <td>MSS</td>\n",
       "      <td>102</td>\n",
       "    </tr>\n",
       "    <tr>\n",
       "      <th>XRN:AFAEVN</th>\n",
       "      <td>0.465347</td>\n",
       "      <td>0.534653</td>\n",
       "      <td>MSI-H</td>\n",
       "      <td>101</td>\n",
       "    </tr>\n",
       "    <tr>\n",
       "      <th>XRN:MPPMPA</th>\n",
       "      <td>0.485149</td>\n",
       "      <td>0.514851</td>\n",
       "      <td>MSI-H</td>\n",
       "      <td>101</td>\n",
       "    </tr>\n",
       "    <tr>\n",
       "      <th>XRN:30NP36</th>\n",
       "      <td>0.450000</td>\n",
       "      <td>0.550000</td>\n",
       "      <td>MSI-H</td>\n",
       "      <td>100</td>\n",
       "    </tr>\n",
       "  </tbody>\n",
       "</table>\n",
       "</div>"
      ],
      "text/plain": [
       "                               A+T       C+G MSIstatus  count\n",
       "deidentifiedSpecimenName                                     \n",
       "XRN:6SJTT7                0.613861  0.386139     MSI-H    101\n",
       "XRN:DNF6WD                0.588235  0.411765       MSS    102\n",
       "XRN:AFAEVN                0.465347  0.534653     MSI-H    101\n",
       "XRN:MPPMPA                0.485149  0.514851     MSI-H    101\n",
       "XRN:30NP36                0.450000  0.550000     MSI-H    100"
      ]
     },
     "execution_count": 21,
     "metadata": {},
     "output_type": "execute_result"
    }
   ],
   "source": [
    "combine_rc_percentage(js1_mono_df).head()"
   ]
  },
  {
   "cell_type": "code",
   "execution_count": 16,
   "metadata": {},
   "outputs": [
    {
     "data": {
      "text/html": [
       "<div>\n",
       "<style scoped>\n",
       "    .dataframe tbody tr th:only-of-type {\n",
       "        vertical-align: middle;\n",
       "    }\n",
       "\n",
       "    .dataframe tbody tr th {\n",
       "        vertical-align: top;\n",
       "    }\n",
       "\n",
       "    .dataframe thead th {\n",
       "        text-align: right;\n",
       "    }\n",
       "</style>\n",
       "<table border=\"1\" class=\"dataframe\">\n",
       "  <thead>\n",
       "    <tr style=\"text-align: right;\">\n",
       "      <th>MSIstatus</th>\n",
       "      <th>MSI_mean</th>\n",
       "      <th>MSS_mean</th>\n",
       "      <th>MW_2tailed_pval</th>\n",
       "    </tr>\n",
       "  </thead>\n",
       "  <tbody>\n",
       "    <tr>\n",
       "      <th>A+T</th>\n",
       "      <td>0.497697</td>\n",
       "      <td>0.553614</td>\n",
       "      <td>0.000034</td>\n",
       "    </tr>\n",
       "    <tr>\n",
       "      <th>C+G</th>\n",
       "      <td>0.502303</td>\n",
       "      <td>0.446386</td>\n",
       "      <td>0.000034</td>\n",
       "    </tr>\n",
       "    <tr>\n",
       "      <th>count</th>\n",
       "      <td>100.673913</td>\n",
       "      <td>101.423841</td>\n",
       "      <td>0.002238</td>\n",
       "    </tr>\n",
       "  </tbody>\n",
       "</table>\n",
       "</div>"
      ],
      "text/plain": [
       "MSIstatus    MSI_mean    MSS_mean  MW_2tailed_pval\n",
       "A+T          0.497697    0.553614         0.000034\n",
       "C+G          0.502303    0.446386         0.000034\n",
       "count      100.673913  101.423841         0.002238"
      ]
     },
     "execution_count": 16,
     "metadata": {},
     "output_type": "execute_result"
    }
   ],
   "source": [
    "mean_mannwhitneyu(combine_rc_percentage(js1_mono_df))"
   ]
  },
  {
   "cell_type": "code",
   "execution_count": 17,
   "metadata": {},
   "outputs": [
    {
     "data": {
      "text/html": [
       "<div>\n",
       "<style scoped>\n",
       "    .dataframe tbody tr th:only-of-type {\n",
       "        vertical-align: middle;\n",
       "    }\n",
       "\n",
       "    .dataframe tbody tr th {\n",
       "        vertical-align: top;\n",
       "    }\n",
       "\n",
       "    .dataframe thead th {\n",
       "        text-align: right;\n",
       "    }\n",
       "</style>\n",
       "<table border=\"1\" class=\"dataframe\">\n",
       "  <thead>\n",
       "    <tr style=\"text-align: right;\">\n",
       "      <th>MSIstatus</th>\n",
       "      <th>MSI_mean</th>\n",
       "      <th>MSS_mean</th>\n",
       "      <th>MW_2tailed_pval</th>\n",
       "    </tr>\n",
       "  </thead>\n",
       "  <tbody>\n",
       "    <tr>\n",
       "      <th>AA+TT</th>\n",
       "      <td>0.111703</td>\n",
       "      <td>0.137886</td>\n",
       "      <td>0.001292</td>\n",
       "    </tr>\n",
       "    <tr>\n",
       "      <th>AC+GT</th>\n",
       "      <td>0.109746</td>\n",
       "      <td>0.112946</td>\n",
       "      <td>0.167662</td>\n",
       "    </tr>\n",
       "    <tr>\n",
       "      <th>AG+CT</th>\n",
       "      <td>0.170804</td>\n",
       "      <td>0.158470</td>\n",
       "      <td>0.004591</td>\n",
       "    </tr>\n",
       "    <tr>\n",
       "      <th>AT</th>\n",
       "      <td>0.053046</td>\n",
       "      <td>0.069833</td>\n",
       "      <td>0.000202</td>\n",
       "    </tr>\n",
       "    <tr>\n",
       "      <th>CA+TG</th>\n",
       "      <td>0.169639</td>\n",
       "      <td>0.154567</td>\n",
       "      <td>0.004565</td>\n",
       "    </tr>\n",
       "    <tr>\n",
       "      <th>CC+GG</th>\n",
       "      <td>0.130722</td>\n",
       "      <td>0.106906</td>\n",
       "      <td>0.000091</td>\n",
       "    </tr>\n",
       "    <tr>\n",
       "      <th>CG</th>\n",
       "      <td>0.015578</td>\n",
       "      <td>0.015289</td>\n",
       "      <td>0.178482</td>\n",
       "    </tr>\n",
       "    <tr>\n",
       "      <th>GA+TC</th>\n",
       "      <td>0.131340</td>\n",
       "      <td>0.126874</td>\n",
       "      <td>0.233524</td>\n",
       "    </tr>\n",
       "    <tr>\n",
       "      <th>GC</th>\n",
       "      <td>0.065105</td>\n",
       "      <td>0.052549</td>\n",
       "      <td>0.000057</td>\n",
       "    </tr>\n",
       "    <tr>\n",
       "      <th>TA</th>\n",
       "      <td>0.042317</td>\n",
       "      <td>0.064680</td>\n",
       "      <td>0.000027</td>\n",
       "    </tr>\n",
       "    <tr>\n",
       "      <th>count</th>\n",
       "      <td>92.760870</td>\n",
       "      <td>92.788079</td>\n",
       "      <td>0.481149</td>\n",
       "    </tr>\n",
       "  </tbody>\n",
       "</table>\n",
       "</div>"
      ],
      "text/plain": [
       "MSIstatus   MSI_mean   MSS_mean  MW_2tailed_pval\n",
       "AA+TT       0.111703   0.137886         0.001292\n",
       "AC+GT       0.109746   0.112946         0.167662\n",
       "AG+CT       0.170804   0.158470         0.004591\n",
       "AT          0.053046   0.069833         0.000202\n",
       "CA+TG       0.169639   0.154567         0.004565\n",
       "CC+GG       0.130722   0.106906         0.000091\n",
       "CG          0.015578   0.015289         0.178482\n",
       "GA+TC       0.131340   0.126874         0.233524\n",
       "GC          0.065105   0.052549         0.000057\n",
       "TA          0.042317   0.064680         0.000027\n",
       "count      92.760870  92.788079         0.481149"
      ]
     },
     "execution_count": 17,
     "metadata": {},
     "output_type": "execute_result"
    }
   ],
   "source": [
    "mean_mannwhitneyu(combine_rc_percentage(js1_bi_df))"
   ]
  },
  {
   "cell_type": "markdown",
   "metadata": {},
   "source": [
    "### Check if JS2 has similar pattern"
   ]
  },
  {
   "cell_type": "code",
   "execution_count": 221,
   "metadata": {},
   "outputs": [
    {
     "data": {
      "text/html": [
       "<div>\n",
       "<style scoped>\n",
       "    .dataframe tbody tr th:only-of-type {\n",
       "        vertical-align: middle;\n",
       "    }\n",
       "\n",
       "    .dataframe tbody tr th {\n",
       "        vertical-align: top;\n",
       "    }\n",
       "\n",
       "    .dataframe thead th {\n",
       "        text-align: right;\n",
       "    }\n",
       "</style>\n",
       "<table border=\"1\" class=\"dataframe\">\n",
       "  <thead>\n",
       "    <tr style=\"text-align: right;\">\n",
       "      <th></th>\n",
       "      <th>deidentifiedSpecimenName</th>\n",
       "      <th>diseaseOntology</th>\n",
       "      <th>MSIstatus</th>\n",
       "      <th>gene1_RE</th>\n",
       "      <th>gene2_RE</th>\n",
       "      <th>Gene1_Breakpoint1</th>\n",
       "      <th>Gene2_Breakpoint1</th>\n",
       "      <th>Junction Sequence 1</th>\n",
       "      <th>Gene1_Breakpoint2</th>\n",
       "      <th>Gene2_Breakpoint2</th>\n",
       "      <th>Junction Sequence 2</th>\n",
       "    </tr>\n",
       "  </thead>\n",
       "  <tbody>\n",
       "    <tr>\n",
       "      <th>0</th>\n",
       "      <td>XRN:6SJTT7</td>\n",
       "      <td>colon adenocarcinoma (crc)</td>\n",
       "      <td>MSI-H</td>\n",
       "      <td>RET</td>\n",
       "      <td>TRIM24</td>\n",
       "      <td>chr10:43611914</td>\n",
       "      <td>chr7:138268067</td>\n",
       "      <td>AAGAAAAAAATCTAGATGATTAAGAGGAAATATGTGAAGACAAGTT...</td>\n",
       "      <td>-</td>\n",
       "      <td>-</td>\n",
       "      <td>-</td>\n",
       "    </tr>\n",
       "    <tr>\n",
       "      <th>1</th>\n",
       "      <td>XRN:DNF6WD</td>\n",
       "      <td>colon adenocarcinoma (crc)</td>\n",
       "      <td>MSS</td>\n",
       "      <td>BRAF</td>\n",
       "      <td>TRIM24</td>\n",
       "      <td>chr7:140489429</td>\n",
       "      <td>chr7:138253092</td>\n",
       "      <td>AACTTTCCATTCTTGAGAGCTTACAATCTCATGGGAAGTAAGATGC...</td>\n",
       "      <td>chr7:140489430</td>\n",
       "      <td>chr7:138253093</td>\n",
       "      <td>AAAAAAAAAAAAAAAAAAGGAGGCCAGGTACGGTGGCTTACGAGTT...</td>\n",
       "    </tr>\n",
       "    <tr>\n",
       "      <th>2</th>\n",
       "      <td>XRN:E3F52H</td>\n",
       "      <td>colon adenocarcinoma (crc)</td>\n",
       "      <td>MSI ambiguous</td>\n",
       "      <td>RET</td>\n",
       "      <td>NCOA4</td>\n",
       "      <td>chr10:43611796</td>\n",
       "      <td>chr10:51587961</td>\n",
       "      <td>GGGCAGGGGTCAGGGGAGACAGTAGACCAGGAACCAGAGAGGGTCG...</td>\n",
       "      <td>chr10:43607759</td>\n",
       "      <td>chr10:51587699</td>\n",
       "      <td>GCGATGGCACCGGTGGAAACGGGGTCCTGGGGCCCTGCCAGCCTGG...</td>\n",
       "    </tr>\n",
       "  </tbody>\n",
       "</table>\n",
       "</div>"
      ],
      "text/plain": [
       "  deidentifiedSpecimenName             diseaseOntology      MSIstatus  \\\n",
       "0               XRN:6SJTT7  colon adenocarcinoma (crc)          MSI-H   \n",
       "1               XRN:DNF6WD  colon adenocarcinoma (crc)            MSS   \n",
       "2               XRN:E3F52H  colon adenocarcinoma (crc)  MSI ambiguous   \n",
       "\n",
       "  gene1_RE gene2_RE Gene1_Breakpoint1 Gene2_Breakpoint1  \\\n",
       "0      RET   TRIM24    chr10:43611914    chr7:138268067   \n",
       "1     BRAF   TRIM24    chr7:140489429    chr7:138253092   \n",
       "2      RET    NCOA4    chr10:43611796    chr10:51587961   \n",
       "\n",
       "                                 Junction Sequence 1 Gene1_Breakpoint2  \\\n",
       "0  AAGAAAAAAATCTAGATGATTAAGAGGAAATATGTGAAGACAAGTT...                 -   \n",
       "1  AACTTTCCATTCTTGAGAGCTTACAATCTCATGGGAAGTAAGATGC...    chr7:140489430   \n",
       "2  GGGCAGGGGTCAGGGGAGACAGTAGACCAGGAACCAGAGAGGGTCG...    chr10:43607759   \n",
       "\n",
       "  Gene2_Breakpoint2                                Junction Sequence 2  \n",
       "0                 -                                                  -  \n",
       "1    chr7:138253093  AAAAAAAAAAAAAAAAAAGGAGGCCAGGTACGGTGGCTTACGAGTT...  \n",
       "2    chr10:51587699  GCGATGGCACCGGTGGAAACGGGGTCCTGGGGCCCTGCCAGCCTGG...  "
      ]
     },
     "execution_count": 221,
     "metadata": {},
     "output_type": "execute_result"
    }
   ],
   "source": [
    "with open('Table1.pkl', 'rb') as f: # load pickle\n",
    "    df = pickle.load(f)\n",
    "    f.close()\n",
    "df.head(3)"
   ]
  },
  {
   "cell_type": "code",
   "execution_count": 5,
   "metadata": {},
   "outputs": [],
   "source": [
    "def cound_mononucleotide(i):\n",
    "    A_ct = i.count('A') + i.count('a')\n",
    "    T_ct = i.count('T') + i.count('t')\n",
    "    C_ct = i.count('C') + i.count('c')\n",
    "    G_ct = i.count('G') + i.count('g')\n",
    "    tmp = {'A':A_ct, 'T':T_ct, 'C':C_ct,'G':G_ct}\n",
    "    return tmp\n",
    "def count_mono_series(indexed):\n",
    "    save = {}\n",
    "    for i in range(len(indexed)):\n",
    "        save[indexed.index[i]] = cound_mononucleotide(indexed[i])\n",
    "    return save\n",
    "\n",
    "def cound_binucleotide(str):\n",
    "    list = ['A','T','C','G']\n",
    "    tmp = {}\n",
    "    for i in list:\n",
    "        for j in list:\n",
    "            key = i+j\n",
    "            tmp[key] = str.count(key)\n",
    "    return tmp\n",
    "def count_bi_series(indexed):\n",
    "    save = {}\n",
    "    for i in range(len(indexed)):\n",
    "        save[indexed.index[i]] = cound_binucleotide(indexed[i])\n",
    "    return save\n",
    "\n",
    "def my_referse_complement(seq):\n",
    "    complement = {'A': 'T', 'C': 'G', 'G': 'C', 'T': 'A'}\n",
    "    return \"\".join(complement.get(base, base) for base in reversed(seq))\n",
    "\n",
    "\n",
    "def combine_rc_percentage(dg):\n",
    "    df = dg.copy()\n",
    "    df['count'] = df.sum(axis=1)\n",
    "    cols_rest = list(df.columns)\n",
    "    cols_1 = []\n",
    "    cols_2 = []\n",
    "    for i in df.columns:\n",
    "        reverse_tmp = my_referse_complement(i)\n",
    "        if reverse_tmp in list(df.columns):\n",
    "            cols_rest.remove(i)\n",
    "            if reverse_tmp not in cols_1:\n",
    "                cols_1.append(i)\n",
    "                cols_2.append(reverse_tmp)   \n",
    "    dt = pd.DataFrame()\n",
    "    #cols_c = []\n",
    "    for i,j in zip(cols_1,cols_2):\n",
    "        if i==j:\n",
    "            #cols_c.append(i)\n",
    "            dt[i] = df[i]/df['count']\n",
    "        else:\n",
    "            k = i+\"+\"+j\n",
    "            #cols_c.append(k)\n",
    "            dt[k] = (df[i]+df[j])/df['count']           \n",
    "    dt = pd.concat([dt, df[cols_rest]], axis=1)\n",
    "    return dt\n",
    "\n",
    "\n",
    "def mean_mannwhitneyu(df):\n",
    "    gb = df.groupby('MSIstatus')\n",
    "    tmp = gb.agg('mean').T # compute mean\n",
    "    tmp.rename(columns={\"MSI-H\":'MSI_mean',\"MSS\":'MSS_mean'}, inplace = True)\n",
    "    msi = gb.get_group('MSI-H')\n",
    "    mss = gb.get_group('MSS')\n",
    "    p_list = []\n",
    "    for i in tmp.index:\n",
    "        stat, pval = stats.mannwhitneyu(msi[i], mss[i]) # compute p value\n",
    "        p_list.append(pval)\n",
    "    tmp['MW_2tailed_pval'] = p_list\n",
    "    return tmp\n"
   ]
  },
  {
   "cell_type": "code",
   "execution_count": 19,
   "metadata": {},
   "outputs": [
    {
     "name": "stdout",
     "output_type": "stream",
     "text": [
      "(92, 2)\n"
     ]
    },
    {
     "data": {
      "text/html": [
       "<div>\n",
       "<style scoped>\n",
       "    .dataframe tbody tr th:only-of-type {\n",
       "        vertical-align: middle;\n",
       "    }\n",
       "\n",
       "    .dataframe tbody tr th {\n",
       "        vertical-align: top;\n",
       "    }\n",
       "\n",
       "    .dataframe thead th {\n",
       "        text-align: right;\n",
       "    }\n",
       "</style>\n",
       "<table border=\"1\" class=\"dataframe\">\n",
       "  <thead>\n",
       "    <tr style=\"text-align: right;\">\n",
       "      <th></th>\n",
       "      <th>Junction Sequence 2</th>\n",
       "      <th>MSIstatus</th>\n",
       "    </tr>\n",
       "    <tr>\n",
       "      <th>deidentifiedSpecimenName</th>\n",
       "      <th></th>\n",
       "      <th></th>\n",
       "    </tr>\n",
       "  </thead>\n",
       "  <tbody>\n",
       "    <tr>\n",
       "      <th>XRN:DNF6WD</th>\n",
       "      <td>AAAAAAAAAAAAAAAAAAGGAGGCCAGGTACGGTGGCTTACGAGTT...</td>\n",
       "      <td>MSS</td>\n",
       "    </tr>\n",
       "    <tr>\n",
       "      <th>XRN:AFAEVN</th>\n",
       "      <td>TACTTTCCAGTTGAGCATCCCAAATTCGAAAATCAGAAATTTATAC...</td>\n",
       "      <td>MSI-H</td>\n",
       "    </tr>\n",
       "    <tr>\n",
       "      <th>XRN:MPPMPA</th>\n",
       "      <td>TTCAGATTTGGGTTCTCAGCCTGTATAGTGTTTGTCAATGGTGAAC...</td>\n",
       "      <td>MSI-H</td>\n",
       "    </tr>\n",
       "  </tbody>\n",
       "</table>\n",
       "</div>"
      ],
      "text/plain": [
       "                                                        Junction Sequence 2  \\\n",
       "deidentifiedSpecimenName                                                      \n",
       "XRN:DNF6WD                AAAAAAAAAAAAAAAAAAGGAGGCCAGGTACGGTGGCTTACGAGTT...   \n",
       "XRN:AFAEVN                TACTTTCCAGTTGAGCATCCCAAATTCGAAAATCAGAAATTTATAC...   \n",
       "XRN:MPPMPA                TTCAGATTTGGGTTCTCAGCCTGTATAGTGTTTGTCAATGGTGAAC...   \n",
       "\n",
       "                         MSIstatus  \n",
       "deidentifiedSpecimenName            \n",
       "XRN:DNF6WD                     MSS  \n",
       "XRN:AFAEVN                   MSI-H  \n",
       "XRN:MPPMPA                   MSI-H  "
      ]
     },
     "execution_count": 19,
     "metadata": {},
     "output_type": "execute_result"
    }
   ],
   "source": [
    "js2 = df[['Junction Sequence 2','MSIstatus']]\n",
    "js2.index = df['deidentifiedSpecimenName']\n",
    "js2 = js2[js2['MSIstatus']!='MSI ambiguous']\n",
    "js2 = js2.drop(js2[js2['Junction Sequence 2'] == '-'].index)  #Drop rows containing with not JS2\n",
    "print(js2.shape)\n",
    "js2.head(3)"
   ]
  },
  {
   "cell_type": "code",
   "execution_count": 29,
   "metadata": {},
   "outputs": [
    {
     "data": {
      "text/plain": [
       "{'MSI-H': 47, 'MSS': 45}"
      ]
     },
     "execution_count": 29,
     "metadata": {},
     "output_type": "execute_result"
    }
   ],
   "source": [
    "values, counts = np.unique(js2.MSIstatus, return_counts=True)\n",
    "dict(zip(values, counts))"
   ]
  },
  {
   "cell_type": "code",
   "execution_count": 21,
   "metadata": {},
   "outputs": [
    {
     "name": "stdout",
     "output_type": "stream",
     "text": [
      "(92, 5)\n"
     ]
    },
    {
     "data": {
      "text/html": [
       "<div>\n",
       "<style scoped>\n",
       "    .dataframe tbody tr th:only-of-type {\n",
       "        vertical-align: middle;\n",
       "    }\n",
       "\n",
       "    .dataframe tbody tr th {\n",
       "        vertical-align: top;\n",
       "    }\n",
       "\n",
       "    .dataframe thead th {\n",
       "        text-align: right;\n",
       "    }\n",
       "</style>\n",
       "<table border=\"1\" class=\"dataframe\">\n",
       "  <thead>\n",
       "    <tr style=\"text-align: right;\">\n",
       "      <th></th>\n",
       "      <th>A</th>\n",
       "      <th>C</th>\n",
       "      <th>G</th>\n",
       "      <th>T</th>\n",
       "      <th>MSIstatus</th>\n",
       "    </tr>\n",
       "    <tr>\n",
       "      <th>deidentifiedSpecimenName</th>\n",
       "      <th></th>\n",
       "      <th></th>\n",
       "      <th></th>\n",
       "      <th></th>\n",
       "      <th></th>\n",
       "    </tr>\n",
       "  </thead>\n",
       "  <tbody>\n",
       "    <tr>\n",
       "      <th>XRN:DNF6WD</th>\n",
       "      <td>49</td>\n",
       "      <td>7</td>\n",
       "      <td>22</td>\n",
       "      <td>22</td>\n",
       "      <td>MSS</td>\n",
       "    </tr>\n",
       "    <tr>\n",
       "      <th>XRN:AFAEVN</th>\n",
       "      <td>22</td>\n",
       "      <td>29</td>\n",
       "      <td>23</td>\n",
       "      <td>26</td>\n",
       "      <td>MSI-H</td>\n",
       "    </tr>\n",
       "    <tr>\n",
       "      <th>XRN:MPPMPA</th>\n",
       "      <td>18</td>\n",
       "      <td>22</td>\n",
       "      <td>29</td>\n",
       "      <td>31</td>\n",
       "      <td>MSI-H</td>\n",
       "    </tr>\n",
       "    <tr>\n",
       "      <th>XRN:XQRHSE</th>\n",
       "      <td>30</td>\n",
       "      <td>36</td>\n",
       "      <td>20</td>\n",
       "      <td>15</td>\n",
       "      <td>MSI-H</td>\n",
       "    </tr>\n",
       "    <tr>\n",
       "      <th>XRN:1KPTFL</th>\n",
       "      <td>18</td>\n",
       "      <td>34</td>\n",
       "      <td>23</td>\n",
       "      <td>26</td>\n",
       "      <td>MSI-H</td>\n",
       "    </tr>\n",
       "  </tbody>\n",
       "</table>\n",
       "</div>"
      ],
      "text/plain": [
       "                           A   C   G   T MSIstatus\n",
       "deidentifiedSpecimenName                          \n",
       "XRN:DNF6WD                49   7  22  22       MSS\n",
       "XRN:AFAEVN                22  29  23  26     MSI-H\n",
       "XRN:MPPMPA                18  22  29  31     MSI-H\n",
       "XRN:XQRHSE                30  36  20  15     MSI-H\n",
       "XRN:1KPTFL                18  34  23  26     MSI-H"
      ]
     },
     "execution_count": 21,
     "metadata": {},
     "output_type": "execute_result"
    }
   ],
   "source": [
    "js2_mono_count = count_mono_series(js2.iloc[:,0])\n",
    "js2_mono_df = pd.concat([pd.DataFrame(js2_mono_count).T, js2['MSIstatus']], axis=1)\n",
    "js2_mono_df = js2_mono_df[js2_mono_df['MSIstatus']!='MSI ambiguous']\n",
    "print(js2_mono_df.shape)\n",
    "js2_mono_df.head()"
   ]
  },
  {
   "cell_type": "code",
   "execution_count": 22,
   "metadata": {},
   "outputs": [
    {
     "data": {
      "text/plain": [
       "<matplotlib.axes._subplots.AxesSubplot at 0x11c9a8320>"
      ]
     },
     "execution_count": 22,
     "metadata": {},
     "output_type": "execute_result"
    },
    {
     "data": {
      "image/png": "[encoded data removed]",
      "text/plain": [
       "<Figure size 432x288 with 1 Axes>"
      ]
     },
     "metadata": {
      "needs_background": "light"
     },
     "output_type": "display_data"
    }
   ],
   "source": [
    "js2_mono_df[['A','T','C','G']].sum().plot.bar()"
   ]
  },
  {
   "cell_type": "code",
   "execution_count": 24,
   "metadata": {},
   "outputs": [
    {
     "data": {
      "text/html": [
       "<div>\n",
       "<style scoped>\n",
       "    .dataframe tbody tr th:only-of-type {\n",
       "        vertical-align: middle;\n",
       "    }\n",
       "\n",
       "    .dataframe tbody tr th {\n",
       "        vertical-align: top;\n",
       "    }\n",
       "\n",
       "    .dataframe thead th {\n",
       "        text-align: right;\n",
       "    }\n",
       "</style>\n",
       "<table border=\"1\" class=\"dataframe\">\n",
       "  <thead>\n",
       "    <tr style=\"text-align: right;\">\n",
       "      <th></th>\n",
       "      <th>AA+TT</th>\n",
       "      <th>AC+GT</th>\n",
       "      <th>AG+CT</th>\n",
       "      <th>AT+AT</th>\n",
       "      <th>CA+TG</th>\n",
       "      <th>CC+GG</th>\n",
       "      <th>CG+CG</th>\n",
       "      <th>GA+TC</th>\n",
       "      <th>GC+GC</th>\n",
       "      <th>TA+TA</th>\n",
       "      <th>MSIstatus</th>\n",
       "    </tr>\n",
       "    <tr>\n",
       "      <th>deidentifiedSpecimenName</th>\n",
       "      <th></th>\n",
       "      <th></th>\n",
       "      <th></th>\n",
       "      <th></th>\n",
       "      <th></th>\n",
       "      <th></th>\n",
       "      <th></th>\n",
       "      <th></th>\n",
       "      <th></th>\n",
       "      <th></th>\n",
       "      <th></th>\n",
       "    </tr>\n",
       "  </thead>\n",
       "  <tbody>\n",
       "    <tr>\n",
       "      <th>XRN:DNF6WD</th>\n",
       "      <td>25</td>\n",
       "      <td>8</td>\n",
       "      <td>10</td>\n",
       "      <td>16</td>\n",
       "      <td>7</td>\n",
       "      <td>8</td>\n",
       "      <td>4</td>\n",
       "      <td>7</td>\n",
       "      <td>6</td>\n",
       "      <td>18</td>\n",
       "      <td>MSS</td>\n",
       "    </tr>\n",
       "    <tr>\n",
       "      <th>XRN:AFAEVN</th>\n",
       "      <td>9</td>\n",
       "      <td>10</td>\n",
       "      <td>13</td>\n",
       "      <td>10</td>\n",
       "      <td>15</td>\n",
       "      <td>12</td>\n",
       "      <td>8</td>\n",
       "      <td>12</td>\n",
       "      <td>14</td>\n",
       "      <td>6</td>\n",
       "      <td>MSI-H</td>\n",
       "    </tr>\n",
       "    <tr>\n",
       "      <th>XRN:MPPMPA</th>\n",
       "      <td>8</td>\n",
       "      <td>16</td>\n",
       "      <td>11</td>\n",
       "      <td>10</td>\n",
       "      <td>22</td>\n",
       "      <td>10</td>\n",
       "      <td>6</td>\n",
       "      <td>9</td>\n",
       "      <td>14</td>\n",
       "      <td>6</td>\n",
       "      <td>MSI-H</td>\n",
       "    </tr>\n",
       "    <tr>\n",
       "      <th>XRN:XQRHSE</th>\n",
       "      <td>8</td>\n",
       "      <td>16</td>\n",
       "      <td>13</td>\n",
       "      <td>4</td>\n",
       "      <td>19</td>\n",
       "      <td>12</td>\n",
       "      <td>8</td>\n",
       "      <td>3</td>\n",
       "      <td>20</td>\n",
       "      <td>10</td>\n",
       "      <td>MSI-H</td>\n",
       "    </tr>\n",
       "    <tr>\n",
       "      <th>XRN:1KPTFL</th>\n",
       "      <td>9</td>\n",
       "      <td>9</td>\n",
       "      <td>19</td>\n",
       "      <td>6</td>\n",
       "      <td>16</td>\n",
       "      <td>12</td>\n",
       "      <td>2</td>\n",
       "      <td>12</td>\n",
       "      <td>18</td>\n",
       "      <td>6</td>\n",
       "      <td>MSI-H</td>\n",
       "    </tr>\n",
       "  </tbody>\n",
       "</table>\n",
       "</div>"
      ],
      "text/plain": [
       "                          AA+TT  AC+GT  AG+CT  AT+AT  CA+TG  CC+GG  CG+CG  \\\n",
       "deidentifiedSpecimenName                                                    \n",
       "XRN:DNF6WD                   25      8     10     16      7      8      4   \n",
       "XRN:AFAEVN                    9     10     13     10     15     12      8   \n",
       "XRN:MPPMPA                    8     16     11     10     22     10      6   \n",
       "XRN:XQRHSE                    8     16     13      4     19     12      8   \n",
       "XRN:1KPTFL                    9      9     19      6     16     12      2   \n",
       "\n",
       "                          GA+TC  GC+GC  TA+TA MSIstatus  \n",
       "deidentifiedSpecimenName                                 \n",
       "XRN:DNF6WD                    7      6     18       MSS  \n",
       "XRN:AFAEVN                   12     14      6     MSI-H  \n",
       "XRN:MPPMPA                    9     14      6     MSI-H  \n",
       "XRN:XQRHSE                    3     20     10     MSI-H  \n",
       "XRN:1KPTFL                   12     18      6     MSI-H  "
      ]
     },
     "execution_count": 24,
     "metadata": {},
     "output_type": "execute_result"
    }
   ],
   "source": [
    "js2_bi_count = count_bi_series(js2.iloc[:,0])\n",
    "js2_bi_df = pd.concat([pd.DataFrame(js2_bi_count).T, js2['MSIstatus']], axis=1)\n",
    "js2_bi_df = js2_bi_df[js2_bi_df['MSIstatus']!='MSI ambiguous']\n",
    "js2_bi = combine_rc_table(js2_bi_df)\n",
    "js2_bi.head()"
   ]
  },
  {
   "cell_type": "code",
   "execution_count": 25,
   "metadata": {},
   "outputs": [
    {
     "data": {
      "text/html": [
       "<div>\n",
       "<style scoped>\n",
       "    .dataframe tbody tr th:only-of-type {\n",
       "        vertical-align: middle;\n",
       "    }\n",
       "\n",
       "    .dataframe tbody tr th {\n",
       "        vertical-align: top;\n",
       "    }\n",
       "\n",
       "    .dataframe thead th {\n",
       "        text-align: right;\n",
       "    }\n",
       "</style>\n",
       "<table border=\"1\" class=\"dataframe\">\n",
       "  <thead>\n",
       "    <tr style=\"text-align: right;\">\n",
       "      <th>MSIstatus</th>\n",
       "      <th>MSI_mean</th>\n",
       "      <th>MSS_mean</th>\n",
       "      <th>MW_2tailed_pval</th>\n",
       "    </tr>\n",
       "  </thead>\n",
       "  <tbody>\n",
       "    <tr>\n",
       "      <th>A+T</th>\n",
       "      <td>0.495492</td>\n",
       "      <td>0.537009</td>\n",
       "      <td>0.039401</td>\n",
       "    </tr>\n",
       "    <tr>\n",
       "      <th>C+G</th>\n",
       "      <td>0.504508</td>\n",
       "      <td>0.462991</td>\n",
       "      <td>0.039401</td>\n",
       "    </tr>\n",
       "    <tr>\n",
       "      <th>count</th>\n",
       "      <td>100.042553</td>\n",
       "      <td>100.844444</td>\n",
       "      <td>0.291161</td>\n",
       "    </tr>\n",
       "  </tbody>\n",
       "</table>\n",
       "</div>"
      ],
      "text/plain": [
       "MSIstatus    MSI_mean    MSS_mean  MW_2tailed_pval\n",
       "A+T          0.495492    0.537009         0.039401\n",
       "C+G          0.504508    0.462991         0.039401\n",
       "count      100.042553  100.844444         0.291161"
      ]
     },
     "execution_count": 25,
     "metadata": {},
     "output_type": "execute_result"
    }
   ],
   "source": [
    "mean_mannwhitneyu(combine_rc_percentage(js2_mono_df))"
   ]
  },
  {
   "cell_type": "code",
   "execution_count": 26,
   "metadata": {},
   "outputs": [
    {
     "data": {
      "text/html": [
       "<div>\n",
       "<style scoped>\n",
       "    .dataframe tbody tr th:only-of-type {\n",
       "        vertical-align: middle;\n",
       "    }\n",
       "\n",
       "    .dataframe tbody tr th {\n",
       "        vertical-align: top;\n",
       "    }\n",
       "\n",
       "    .dataframe thead th {\n",
       "        text-align: right;\n",
       "    }\n",
       "</style>\n",
       "<table border=\"1\" class=\"dataframe\">\n",
       "  <thead>\n",
       "    <tr style=\"text-align: right;\">\n",
       "      <th>MSIstatus</th>\n",
       "      <th>MSI_mean</th>\n",
       "      <th>MSS_mean</th>\n",
       "      <th>MW_2tailed_pval</th>\n",
       "    </tr>\n",
       "  </thead>\n",
       "  <tbody>\n",
       "    <tr>\n",
       "      <th>AA+TT</th>\n",
       "      <td>0.107719</td>\n",
       "      <td>0.133717</td>\n",
       "      <td>0.014505</td>\n",
       "    </tr>\n",
       "    <tr>\n",
       "      <th>AC+GT</th>\n",
       "      <td>0.111166</td>\n",
       "      <td>0.105962</td>\n",
       "      <td>0.096015</td>\n",
       "    </tr>\n",
       "    <tr>\n",
       "      <th>AG+CT</th>\n",
       "      <td>0.160807</td>\n",
       "      <td>0.160733</td>\n",
       "      <td>0.479751</td>\n",
       "    </tr>\n",
       "    <tr>\n",
       "      <th>AT</th>\n",
       "      <td>0.058390</td>\n",
       "      <td>0.065021</td>\n",
       "      <td>0.137057</td>\n",
       "    </tr>\n",
       "    <tr>\n",
       "      <th>CA+TG</th>\n",
       "      <td>0.172603</td>\n",
       "      <td>0.156288</td>\n",
       "      <td>0.017281</td>\n",
       "    </tr>\n",
       "    <tr>\n",
       "      <th>CC+GG</th>\n",
       "      <td>0.126481</td>\n",
       "      <td>0.122731</td>\n",
       "      <td>0.312696</td>\n",
       "    </tr>\n",
       "    <tr>\n",
       "      <th>CG</th>\n",
       "      <td>0.022283</td>\n",
       "      <td>0.015500</td>\n",
       "      <td>0.087078</td>\n",
       "    </tr>\n",
       "    <tr>\n",
       "      <th>GA+TC</th>\n",
       "      <td>0.128649</td>\n",
       "      <td>0.122231</td>\n",
       "      <td>0.199422</td>\n",
       "    </tr>\n",
       "    <tr>\n",
       "      <th>GC</th>\n",
       "      <td>0.068234</td>\n",
       "      <td>0.059183</td>\n",
       "      <td>0.056390</td>\n",
       "    </tr>\n",
       "    <tr>\n",
       "      <th>TA</th>\n",
       "      <td>0.043667</td>\n",
       "      <td>0.058634</td>\n",
       "      <td>0.023613</td>\n",
       "    </tr>\n",
       "    <tr>\n",
       "      <th>count</th>\n",
       "      <td>91.914894</td>\n",
       "      <td>91.777778</td>\n",
       "      <td>0.479627</td>\n",
       "    </tr>\n",
       "  </tbody>\n",
       "</table>\n",
       "</div>"
      ],
      "text/plain": [
       "MSIstatus   MSI_mean   MSS_mean  MW_2tailed_pval\n",
       "AA+TT       0.107719   0.133717         0.014505\n",
       "AC+GT       0.111166   0.105962         0.096015\n",
       "AG+CT       0.160807   0.160733         0.479751\n",
       "AT          0.058390   0.065021         0.137057\n",
       "CA+TG       0.172603   0.156288         0.017281\n",
       "CC+GG       0.126481   0.122731         0.312696\n",
       "CG          0.022283   0.015500         0.087078\n",
       "GA+TC       0.128649   0.122231         0.199422\n",
       "GC          0.068234   0.059183         0.056390\n",
       "TA          0.043667   0.058634         0.023613\n",
       "count      91.914894  91.777778         0.479627"
      ]
     },
     "execution_count": 26,
     "metadata": {},
     "output_type": "execute_result"
    }
   ],
   "source": [
    "mean_mannwhitneyu(combine_rc_percentage(js2_bi_df))"
   ]
  },
  {
   "cell_type": "markdown",
   "metadata": {},
   "source": [
    "# Hypothesis4"
   ]
  },
  {
   "cell_type": "markdown",
   "metadata": {},
   "source": [
    "### Fisher's exact test on one or two junctions count in MSI and MSS"
   ]
  },
  {
   "cell_type": "code",
   "execution_count": 4,
   "metadata": {},
   "outputs": [
    {
     "data": {
      "text/html": [
       "<div>\n",
       "<style scoped>\n",
       "    .dataframe tbody tr th:only-of-type {\n",
       "        vertical-align: middle;\n",
       "    }\n",
       "\n",
       "    .dataframe tbody tr th {\n",
       "        vertical-align: top;\n",
       "    }\n",
       "\n",
       "    .dataframe thead th {\n",
       "        text-align: right;\n",
       "    }\n",
       "</style>\n",
       "<table border=\"1\" class=\"dataframe\">\n",
       "  <thead>\n",
       "    <tr style=\"text-align: right;\">\n",
       "      <th></th>\n",
       "      <th>diseaseOntology</th>\n",
       "      <th>MSIstatus</th>\n",
       "      <th>gene1_RE</th>\n",
       "      <th>gene2_RE</th>\n",
       "      <th>Gene1_Breakpoint1</th>\n",
       "      <th>Gene2_Breakpoint1</th>\n",
       "      <th>Junction Sequence 1</th>\n",
       "      <th>Gene1_Breakpoint2</th>\n",
       "      <th>Gene2_Breakpoint2</th>\n",
       "      <th>Junction Sequence 2</th>\n",
       "    </tr>\n",
       "    <tr>\n",
       "      <th>deidentifiedSpecimenName</th>\n",
       "      <th></th>\n",
       "      <th></th>\n",
       "      <th></th>\n",
       "      <th></th>\n",
       "      <th></th>\n",
       "      <th></th>\n",
       "      <th></th>\n",
       "      <th></th>\n",
       "      <th></th>\n",
       "      <th></th>\n",
       "    </tr>\n",
       "  </thead>\n",
       "  <tbody>\n",
       "    <tr>\n",
       "      <th>XRN:6SJTT7</th>\n",
       "      <td>colon adenocarcinoma (crc)</td>\n",
       "      <td>MSI-H</td>\n",
       "      <td>RET</td>\n",
       "      <td>TRIM24</td>\n",
       "      <td>chr10:43611914</td>\n",
       "      <td>chr7:138268067</td>\n",
       "      <td>AAGAAAAAAATCTAGATGATTAAGAGGAAATATGTGAAGACAAGTT...</td>\n",
       "      <td>-</td>\n",
       "      <td>-</td>\n",
       "      <td>-</td>\n",
       "    </tr>\n",
       "    <tr>\n",
       "      <th>XRN:DNF6WD</th>\n",
       "      <td>colon adenocarcinoma (crc)</td>\n",
       "      <td>MSS</td>\n",
       "      <td>BRAF</td>\n",
       "      <td>TRIM24</td>\n",
       "      <td>chr7:140489429</td>\n",
       "      <td>chr7:138253092</td>\n",
       "      <td>AACTTTCCATTCTTGAGAGCTTACAATCTCATGGGAAGTAAGATGC...</td>\n",
       "      <td>chr7:140489430</td>\n",
       "      <td>chr7:138253093</td>\n",
       "      <td>AAAAAAAAAAAAAAAAAAGGAGGCCAGGTACGGTGGCTTACGAGTT...</td>\n",
       "    </tr>\n",
       "    <tr>\n",
       "      <th>XRN:E3F52H</th>\n",
       "      <td>colon adenocarcinoma (crc)</td>\n",
       "      <td>MSI ambiguous</td>\n",
       "      <td>RET</td>\n",
       "      <td>NCOA4</td>\n",
       "      <td>chr10:43611796</td>\n",
       "      <td>chr10:51587961</td>\n",
       "      <td>GGGCAGGGGTCAGGGGAGACAGTAGACCAGGAACCAGAGAGGGTCG...</td>\n",
       "      <td>chr10:43607759</td>\n",
       "      <td>chr10:51587699</td>\n",
       "      <td>GCGATGGCACCGGTGGAAACGGGGTCCTGGGGCCCTGCCAGCCTGG...</td>\n",
       "    </tr>\n",
       "  </tbody>\n",
       "</table>\n",
       "</div>"
      ],
      "text/plain": [
       "                                     diseaseOntology      MSIstatus gene1_RE  \\\n",
       "deidentifiedSpecimenName                                                       \n",
       "XRN:6SJTT7                colon adenocarcinoma (crc)          MSI-H      RET   \n",
       "XRN:DNF6WD                colon adenocarcinoma (crc)            MSS     BRAF   \n",
       "XRN:E3F52H                colon adenocarcinoma (crc)  MSI ambiguous      RET   \n",
       "\n",
       "                         gene2_RE Gene1_Breakpoint1 Gene2_Breakpoint1  \\\n",
       "deidentifiedSpecimenName                                                \n",
       "XRN:6SJTT7                 TRIM24    chr10:43611914    chr7:138268067   \n",
       "XRN:DNF6WD                 TRIM24    chr7:140489429    chr7:138253092   \n",
       "XRN:E3F52H                  NCOA4    chr10:43611796    chr10:51587961   \n",
       "\n",
       "                                                        Junction Sequence 1  \\\n",
       "deidentifiedSpecimenName                                                      \n",
       "XRN:6SJTT7                AAGAAAAAAATCTAGATGATTAAGAGGAAATATGTGAAGACAAGTT...   \n",
       "XRN:DNF6WD                AACTTTCCATTCTTGAGAGCTTACAATCTCATGGGAAGTAAGATGC...   \n",
       "XRN:E3F52H                GGGCAGGGGTCAGGGGAGACAGTAGACCAGGAACCAGAGAGGGTCG...   \n",
       "\n",
       "                         Gene1_Breakpoint2 Gene2_Breakpoint2  \\\n",
       "deidentifiedSpecimenName                                       \n",
       "XRN:6SJTT7                               -                 -   \n",
       "XRN:DNF6WD                  chr7:140489430    chr7:138253093   \n",
       "XRN:E3F52H                  chr10:43607759    chr10:51587699   \n",
       "\n",
       "                                                        Junction Sequence 2  \n",
       "deidentifiedSpecimenName                                                     \n",
       "XRN:6SJTT7                                                                -  \n",
       "XRN:DNF6WD                AAAAAAAAAAAAAAAAAAGGAGGCCAGGTACGGTGGCTTACGAGTT...  \n",
       "XRN:E3F52H                GCGATGGCACCGGTGGAAACGGGGTCCTGGGGCCCTGCCAGCCTGG...  "
      ]
     },
     "execution_count": 4,
     "metadata": {},
     "output_type": "execute_result"
    }
   ],
   "source": [
    "with open('Table1.pkl', 'rb') as f: # load pickle\n",
    "    df = pickle.load(f)\n",
    "    f.close()\n",
    "df.set_index('deidentifiedSpecimenName', inplace = True)\n",
    "df.head(3)"
   ]
  },
  {
   "cell_type": "code",
   "execution_count": 28,
   "metadata": {},
   "outputs": [
    {
     "data": {
      "text/plain": [
       "[[47, 45], [45, 106]]"
      ]
     },
     "execution_count": 28,
     "metadata": {},
     "output_type": "execute_result"
    }
   ],
   "source": [
    "A= len(df.query(\"MSIstatus == 'MSI-H'& Gene1_Breakpoint2 != '-'\")) # MSI with 2 JSs\n",
    "B= len(df.query(\"MSIstatus == 'MSS'& Gene1_Breakpoint2 != '-'\")) # MSS with 2 JSs\n",
    "C= len(df.query(\"MSIstatus == 'MSI-H'& Gene1_Breakpoint2 == '-'\")) # MSI with 1 JSs\n",
    "D= len(df.query(\"MSIstatus == 'MSS'& Gene1_Breakpoint2 == '-'\")) # MSS with 1 JSs\n",
    "[[A,B], [C,D]] # contingency table"
   ]
  },
  {
   "cell_type": "code",
   "execution_count": 30,
   "metadata": {},
   "outputs": [],
   "source": [
    "#df.query(\"MSIstatus == 'MSI-H'& Gene1_Breakpoint2 != '-'\")"
   ]
  },
  {
   "cell_type": "code",
   "execution_count": 21,
   "metadata": {},
   "outputs": [
    {
     "data": {
      "text/html": [
       "<div>\n",
       "<style scoped>\n",
       "    .dataframe tbody tr th:only-of-type {\n",
       "        vertical-align: middle;\n",
       "    }\n",
       "\n",
       "    .dataframe tbody tr th {\n",
       "        vertical-align: top;\n",
       "    }\n",
       "\n",
       "    .dataframe thead th {\n",
       "        text-align: right;\n",
       "    }\n",
       "</style>\n",
       "<table border=\"1\" class=\"dataframe\">\n",
       "  <thead>\n",
       "    <tr style=\"text-align: right;\">\n",
       "      <th></th>\n",
       "      <th>MSI</th>\n",
       "      <th>MSS</th>\n",
       "    </tr>\n",
       "  </thead>\n",
       "  <tbody>\n",
       "    <tr>\n",
       "      <th>2_JS</th>\n",
       "      <td>47</td>\n",
       "      <td>45</td>\n",
       "    </tr>\n",
       "    <tr>\n",
       "      <th>1_JS</th>\n",
       "      <td>45</td>\n",
       "      <td>106</td>\n",
       "    </tr>\n",
       "  </tbody>\n",
       "</table>\n",
       "</div>"
      ],
      "text/plain": [
       "      MSI  MSS\n",
       "2_JS   47   45\n",
       "1_JS   45  106"
      ]
     },
     "execution_count": 21,
     "metadata": {},
     "output_type": "execute_result"
    }
   ],
   "source": [
    "fisher = pd.DataFrame([[A,B], [C,D]], columns= ['MSI', 'MSS'], index= ['2_JS','1_JS'])\n",
    "fisher"
   ]
  },
  {
   "cell_type": "code",
   "execution_count": 26,
   "metadata": {},
   "outputs": [
    {
     "name": "stdout",
     "output_type": "stream",
     "text": [
      "oddsratio: 2.4602469135802467 | pvalue: 0.001081025372424202\n"
     ]
    }
   ],
   "source": [
    "#oddsratio, pvalue = stats.fisher_exact([[A,B], [C,D]])\n",
    "oddsratio, pvalue = stats.fisher_exact(fisher, alternative='two-sided')\n",
    "print(\"oddsratio: {} | pvalue: {}\".format(oddsratio, pvalue))"
   ]
  },
  {
   "cell_type": "markdown",
   "metadata": {},
   "source": [
    "# Hypothesis5"
   ]
  },
  {
   "cell_type": "markdown",
   "metadata": {},
   "source": [
    "### Compute the distance between break sites. 比较 F-G 和 I-J"
   ]
  },
  {
   "cell_type": "code",
   "execution_count": 45,
   "metadata": {},
   "outputs": [
    {
     "data": {
      "text/plain": [
       "43611914"
      ]
     },
     "execution_count": 45,
     "metadata": {},
     "output_type": "execute_result"
    }
   ],
   "source": [
    "# int('chr10:43611914') 不行\n",
    "t = 'chr10:43611914'\n",
    "int(t[t.find(\":\")+1:])"
   ]
  },
  {
   "cell_type": "code",
   "execution_count": 43,
   "metadata": {},
   "outputs": [
    {
     "data": {
      "text/html": [
       "<div>\n",
       "<style scoped>\n",
       "    .dataframe tbody tr th:only-of-type {\n",
       "        vertical-align: middle;\n",
       "    }\n",
       "\n",
       "    .dataframe tbody tr th {\n",
       "        vertical-align: top;\n",
       "    }\n",
       "\n",
       "    .dataframe thead th {\n",
       "        text-align: right;\n",
       "    }\n",
       "</style>\n",
       "<table border=\"1\" class=\"dataframe\">\n",
       "  <thead>\n",
       "    <tr style=\"text-align: right;\">\n",
       "      <th></th>\n",
       "      <th>MSIstatus</th>\n",
       "      <th>gene1_RE</th>\n",
       "      <th>gene2_RE</th>\n",
       "      <th>Gene1_Breakpoint1</th>\n",
       "      <th>Gene2_Breakpoint1</th>\n",
       "      <th>Gene1_Breakpoint2</th>\n",
       "      <th>Gene2_Breakpoint2</th>\n",
       "    </tr>\n",
       "    <tr>\n",
       "      <th>deidentifiedSpecimenName</th>\n",
       "      <th></th>\n",
       "      <th></th>\n",
       "      <th></th>\n",
       "      <th></th>\n",
       "      <th></th>\n",
       "      <th></th>\n",
       "      <th></th>\n",
       "    </tr>\n",
       "  </thead>\n",
       "  <tbody>\n",
       "    <tr>\n",
       "      <th>XRN:DNF6WD</th>\n",
       "      <td>MSS</td>\n",
       "      <td>BRAF</td>\n",
       "      <td>TRIM24</td>\n",
       "      <td>chr7:140489429</td>\n",
       "      <td>chr7:138253092</td>\n",
       "      <td>chr7:140489430</td>\n",
       "      <td>chr7:138253093</td>\n",
       "    </tr>\n",
       "    <tr>\n",
       "      <th>XRN:AFAEVN</th>\n",
       "      <td>MSI-H</td>\n",
       "      <td>NTRK1</td>\n",
       "      <td>TPM3</td>\n",
       "      <td>chr1:156843346</td>\n",
       "      <td>chr1:154133546</td>\n",
       "      <td>chr1:156843348</td>\n",
       "      <td>chr1:154133545</td>\n",
       "    </tr>\n",
       "    <tr>\n",
       "      <th>XRN:MPPMPA</th>\n",
       "      <td>MSI-H</td>\n",
       "      <td>NTRK1</td>\n",
       "      <td>TPM3</td>\n",
       "      <td>chr1:156843424</td>\n",
       "      <td>chr1:154133209</td>\n",
       "      <td>chr1:156843433</td>\n",
       "      <td>chr1:154133210</td>\n",
       "    </tr>\n",
       "  </tbody>\n",
       "</table>\n",
       "</div>"
      ],
      "text/plain": [
       "                         MSIstatus gene1_RE gene2_RE Gene1_Breakpoint1  \\\n",
       "deidentifiedSpecimenName                                                 \n",
       "XRN:DNF6WD                     MSS     BRAF   TRIM24    chr7:140489429   \n",
       "XRN:AFAEVN                   MSI-H    NTRK1     TPM3    chr1:156843346   \n",
       "XRN:MPPMPA                   MSI-H    NTRK1     TPM3    chr1:156843424   \n",
       "\n",
       "                         Gene2_Breakpoint1 Gene1_Breakpoint2 Gene2_Breakpoint2  \n",
       "deidentifiedSpecimenName                                                        \n",
       "XRN:DNF6WD                  chr7:138253092    chr7:140489430    chr7:138253093  \n",
       "XRN:AFAEVN                  chr1:154133546    chr1:156843348    chr1:154133545  \n",
       "XRN:MPPMPA                  chr1:154133209    chr1:156843433    chr1:154133210  "
      ]
     },
     "execution_count": 43,
     "metadata": {},
     "output_type": "execute_result"
    }
   ],
   "source": [
    "with open('Table1.pkl', 'rb') as f: # load pickle\n",
    "    df = pickle.load(f)\n",
    "    f.close()\n",
    "df.set_index('deidentifiedSpecimenName', inplace = True)\n",
    "df.head(3)\n",
    "\n",
    "sub_df = df[df.MSIstatus != 'MSI ambiguous']# get rid of 'MSI ambiguous'\n",
    "sub_df = sub_df[sub_df.Gene2_Breakpoint2 != '-']# select gene pairs having both JS1 and JS2\n",
    "sub_df.drop(columns = [\"diseaseOntology\",\"Junction Sequence 1\",\"Junction Sequence 2\"], inplace = True) # drop sequence\n",
    "sub_df.head(3)\n",
    "#sub_df.shape"
   ]
  },
  {
   "cell_type": "code",
   "execution_count": 44,
   "metadata": {},
   "outputs": [
    {
     "data": {
      "text/html": [
       "<div>\n",
       "<style scoped>\n",
       "    .dataframe tbody tr th:only-of-type {\n",
       "        vertical-align: middle;\n",
       "    }\n",
       "\n",
       "    .dataframe tbody tr th {\n",
       "        vertical-align: top;\n",
       "    }\n",
       "\n",
       "    .dataframe thead th {\n",
       "        text-align: right;\n",
       "    }\n",
       "</style>\n",
       "<table border=\"1\" class=\"dataframe\">\n",
       "  <thead>\n",
       "    <tr style=\"text-align: right;\">\n",
       "      <th></th>\n",
       "      <th>MSIstatus</th>\n",
       "      <th>gene1_RE</th>\n",
       "      <th>gene2_RE</th>\n",
       "      <th>G1_Ch</th>\n",
       "      <th>G1_BP1</th>\n",
       "      <th>G1_Ch2</th>\n",
       "      <th>G1_BP2</th>\n",
       "      <th>G2_Ch</th>\n",
       "      <th>G2_BP1</th>\n",
       "      <th>G2_Ch2</th>\n",
       "      <th>G2_BP2</th>\n",
       "    </tr>\n",
       "    <tr>\n",
       "      <th>deidentifiedSpecimenName</th>\n",
       "      <th></th>\n",
       "      <th></th>\n",
       "      <th></th>\n",
       "      <th></th>\n",
       "      <th></th>\n",
       "      <th></th>\n",
       "      <th></th>\n",
       "      <th></th>\n",
       "      <th></th>\n",
       "      <th></th>\n",
       "      <th></th>\n",
       "    </tr>\n",
       "  </thead>\n",
       "  <tbody>\n",
       "    <tr>\n",
       "      <th>XRN:DNF6WD</th>\n",
       "      <td>MSS</td>\n",
       "      <td>BRAF</td>\n",
       "      <td>TRIM24</td>\n",
       "      <td>chr7</td>\n",
       "      <td>140489429</td>\n",
       "      <td>chr7</td>\n",
       "      <td>140489430</td>\n",
       "      <td>chr7</td>\n",
       "      <td>138253092</td>\n",
       "      <td>chr7</td>\n",
       "      <td>138253093</td>\n",
       "    </tr>\n",
       "    <tr>\n",
       "      <th>XRN:AFAEVN</th>\n",
       "      <td>MSI-H</td>\n",
       "      <td>NTRK1</td>\n",
       "      <td>TPM3</td>\n",
       "      <td>chr1</td>\n",
       "      <td>156843346</td>\n",
       "      <td>chr1</td>\n",
       "      <td>156843348</td>\n",
       "      <td>chr1</td>\n",
       "      <td>154133546</td>\n",
       "      <td>chr1</td>\n",
       "      <td>154133545</td>\n",
       "    </tr>\n",
       "    <tr>\n",
       "      <th>XRN:MPPMPA</th>\n",
       "      <td>MSI-H</td>\n",
       "      <td>NTRK1</td>\n",
       "      <td>TPM3</td>\n",
       "      <td>chr1</td>\n",
       "      <td>156843424</td>\n",
       "      <td>chr1</td>\n",
       "      <td>156843433</td>\n",
       "      <td>chr1</td>\n",
       "      <td>154133209</td>\n",
       "      <td>chr1</td>\n",
       "      <td>154133210</td>\n",
       "    </tr>\n",
       "  </tbody>\n",
       "</table>\n",
       "</div>"
      ],
      "text/plain": [
       "                         MSIstatus gene1_RE gene2_RE G1_Ch     G1_BP1 G1_Ch2  \\\n",
       "deidentifiedSpecimenName                                                       \n",
       "XRN:DNF6WD                     MSS     BRAF   TRIM24  chr7  140489429   chr7   \n",
       "XRN:AFAEVN                   MSI-H    NTRK1     TPM3  chr1  156843346   chr1   \n",
       "XRN:MPPMPA                   MSI-H    NTRK1     TPM3  chr1  156843424   chr1   \n",
       "\n",
       "                             G1_BP2 G2_Ch     G2_BP1 G2_Ch2     G2_BP2  \n",
       "deidentifiedSpecimenName                                                \n",
       "XRN:DNF6WD                140489430  chr7  138253092   chr7  138253093  \n",
       "XRN:AFAEVN                156843348  chr1  154133546   chr1  154133545  \n",
       "XRN:MPPMPA                156843433  chr1  154133209   chr1  154133210  "
      ]
     },
     "execution_count": 44,
     "metadata": {},
     "output_type": "execute_result"
    }
   ],
   "source": [
    "sub_df[['G1_Ch','G1_BP1']] = sub_df.Gene1_Breakpoint1.str.split(':', expand=True) #Vectorized string functions for Series and Index\n",
    "sub_df[['G1_Ch2','G1_BP2']] = sub_df.Gene1_Breakpoint2.str.split(':', expand=True)\n",
    "sub_df[['G2_Ch','G2_BP1']] = sub_df.Gene2_Breakpoint1.str.split(':', expand=True)\n",
    "sub_df[['G2_Ch2','G2_BP2']] = sub_df.Gene2_Breakpoint2.str.split(':', expand=True)\n",
    "sub_df.drop(columns = [\"Gene1_Breakpoint1\",\"Gene1_Breakpoint2\",\"Gene2_Breakpoint1\",\"Gene2_Breakpoint2\"], inplace = True)\n",
    "sub_df.head(3)"
   ]
  },
  {
   "cell_type": "code",
   "execution_count": 45,
   "metadata": {},
   "outputs": [
    {
     "data": {
      "text/html": [
       "<div>\n",
       "<style scoped>\n",
       "    .dataframe tbody tr th:only-of-type {\n",
       "        vertical-align: middle;\n",
       "    }\n",
       "\n",
       "    .dataframe tbody tr th {\n",
       "        vertical-align: top;\n",
       "    }\n",
       "\n",
       "    .dataframe thead th {\n",
       "        text-align: right;\n",
       "    }\n",
       "</style>\n",
       "<table border=\"1\" class=\"dataframe\">\n",
       "  <thead>\n",
       "    <tr style=\"text-align: right;\">\n",
       "      <th></th>\n",
       "      <th>MSIstatus</th>\n",
       "      <th>gene1_RE</th>\n",
       "      <th>gene2_RE</th>\n",
       "      <th>G1_Ch</th>\n",
       "      <th>G1_BP1</th>\n",
       "      <th>G1_Ch2</th>\n",
       "      <th>G1_BP2</th>\n",
       "      <th>G2_Ch</th>\n",
       "      <th>G2_BP1</th>\n",
       "      <th>G2_Ch2</th>\n",
       "      <th>G2_BP2</th>\n",
       "      <th>G1_ΔBP</th>\n",
       "      <th>G2_ΔBP</th>\n",
       "    </tr>\n",
       "    <tr>\n",
       "      <th>deidentifiedSpecimenName</th>\n",
       "      <th></th>\n",
       "      <th></th>\n",
       "      <th></th>\n",
       "      <th></th>\n",
       "      <th></th>\n",
       "      <th></th>\n",
       "      <th></th>\n",
       "      <th></th>\n",
       "      <th></th>\n",
       "      <th></th>\n",
       "      <th></th>\n",
       "      <th></th>\n",
       "      <th></th>\n",
       "    </tr>\n",
       "  </thead>\n",
       "  <tbody>\n",
       "    <tr>\n",
       "      <th>XRN:DNF6WD</th>\n",
       "      <td>MSS</td>\n",
       "      <td>BRAF</td>\n",
       "      <td>TRIM24</td>\n",
       "      <td>chr7</td>\n",
       "      <td>140489429</td>\n",
       "      <td>chr7</td>\n",
       "      <td>140489430</td>\n",
       "      <td>chr7</td>\n",
       "      <td>138253092</td>\n",
       "      <td>chr7</td>\n",
       "      <td>138253093</td>\n",
       "      <td>1</td>\n",
       "      <td>1</td>\n",
       "    </tr>\n",
       "    <tr>\n",
       "      <th>XRN:AFAEVN</th>\n",
       "      <td>MSI-H</td>\n",
       "      <td>NTRK1</td>\n",
       "      <td>TPM3</td>\n",
       "      <td>chr1</td>\n",
       "      <td>156843346</td>\n",
       "      <td>chr1</td>\n",
       "      <td>156843348</td>\n",
       "      <td>chr1</td>\n",
       "      <td>154133546</td>\n",
       "      <td>chr1</td>\n",
       "      <td>154133545</td>\n",
       "      <td>2</td>\n",
       "      <td>1</td>\n",
       "    </tr>\n",
       "    <tr>\n",
       "      <th>XRN:MPPMPA</th>\n",
       "      <td>MSI-H</td>\n",
       "      <td>NTRK1</td>\n",
       "      <td>TPM3</td>\n",
       "      <td>chr1</td>\n",
       "      <td>156843424</td>\n",
       "      <td>chr1</td>\n",
       "      <td>156843433</td>\n",
       "      <td>chr1</td>\n",
       "      <td>154133209</td>\n",
       "      <td>chr1</td>\n",
       "      <td>154133210</td>\n",
       "      <td>9</td>\n",
       "      <td>1</td>\n",
       "    </tr>\n",
       "    <tr>\n",
       "      <th>XRN:XQRHSE</th>\n",
       "      <td>MSI-H</td>\n",
       "      <td>NTRK1</td>\n",
       "      <td>TPM3</td>\n",
       "      <td>chr1</td>\n",
       "      <td>156843667</td>\n",
       "      <td>chr1</td>\n",
       "      <td>156843672</td>\n",
       "      <td>chr1</td>\n",
       "      <td>154141508</td>\n",
       "      <td>chr1</td>\n",
       "      <td>154141501</td>\n",
       "      <td>5</td>\n",
       "      <td>7</td>\n",
       "    </tr>\n",
       "    <tr>\n",
       "      <th>XRN:1KPTFL</th>\n",
       "      <td>MSI-H</td>\n",
       "      <td>NTRK1</td>\n",
       "      <td>TPM3</td>\n",
       "      <td>chr1</td>\n",
       "      <td>156843800</td>\n",
       "      <td>chr1</td>\n",
       "      <td>156843804</td>\n",
       "      <td>chr1</td>\n",
       "      <td>154130819</td>\n",
       "      <td>chr1</td>\n",
       "      <td>154130813</td>\n",
       "      <td>4</td>\n",
       "      <td>6</td>\n",
       "    </tr>\n",
       "  </tbody>\n",
       "</table>\n",
       "</div>"
      ],
      "text/plain": [
       "                         MSIstatus gene1_RE gene2_RE G1_Ch     G1_BP1 G1_Ch2  \\\n",
       "deidentifiedSpecimenName                                                       \n",
       "XRN:DNF6WD                     MSS     BRAF   TRIM24  chr7  140489429   chr7   \n",
       "XRN:AFAEVN                   MSI-H    NTRK1     TPM3  chr1  156843346   chr1   \n",
       "XRN:MPPMPA                   MSI-H    NTRK1     TPM3  chr1  156843424   chr1   \n",
       "XRN:XQRHSE                   MSI-H    NTRK1     TPM3  chr1  156843667   chr1   \n",
       "XRN:1KPTFL                   MSI-H    NTRK1     TPM3  chr1  156843800   chr1   \n",
       "\n",
       "                             G1_BP2 G2_Ch     G2_BP1 G2_Ch2     G2_BP2  \\\n",
       "deidentifiedSpecimenName                                                 \n",
       "XRN:DNF6WD                140489430  chr7  138253092   chr7  138253093   \n",
       "XRN:AFAEVN                156843348  chr1  154133546   chr1  154133545   \n",
       "XRN:MPPMPA                156843433  chr1  154133209   chr1  154133210   \n",
       "XRN:XQRHSE                156843672  chr1  154141508   chr1  154141501   \n",
       "XRN:1KPTFL                156843804  chr1  154130819   chr1  154130813   \n",
       "\n",
       "                          G1_ΔBP  G2_ΔBP  \n",
       "deidentifiedSpecimenName                  \n",
       "XRN:DNF6WD                     1       1  \n",
       "XRN:AFAEVN                     2       1  \n",
       "XRN:MPPMPA                     9       1  \n",
       "XRN:XQRHSE                     5       7  \n",
       "XRN:1KPTFL                     4       6  "
      ]
     },
     "execution_count": 45,
     "metadata": {},
     "output_type": "execute_result"
    }
   ],
   "source": [
    "sub_df = sub_df[(sub_df.G1_Ch == sub_df.G1_Ch2) & (sub_df.G2_Ch == sub_df.G2_Ch2)] # filter out records with unmatched chromosome\n",
    "sub_df['G1_ΔBP'] = abs(sub_df['G1_BP2'].astype(int) - sub_df['G1_BP1'].astype(int)) # convert string to int\n",
    "sub_df['G2_ΔBP'] = abs(sub_df['G2_BP2'].astype(int) - sub_df['G2_BP1'].astype(int)) # consider without sign\n",
    "sub_df.head()"
   ]
  },
  {
   "cell_type": "code",
   "execution_count": 50,
   "metadata": {},
   "outputs": [
    {
     "data": {
      "text/html": [
       "<div>\n",
       "<style scoped>\n",
       "    .dataframe tbody tr th:only-of-type {\n",
       "        vertical-align: middle;\n",
       "    }\n",
       "\n",
       "    .dataframe tbody tr th {\n",
       "        vertical-align: top;\n",
       "    }\n",
       "\n",
       "    .dataframe thead th {\n",
       "        text-align: right;\n",
       "    }\n",
       "</style>\n",
       "<table border=\"1\" class=\"dataframe\">\n",
       "  <thead>\n",
       "    <tr style=\"text-align: right;\">\n",
       "      <th></th>\n",
       "      <th>MSIstatus</th>\n",
       "      <th>gene1_RE</th>\n",
       "      <th>gene2_RE</th>\n",
       "      <th>G1_Ch</th>\n",
       "      <th>G1_BP1</th>\n",
       "      <th>G1_Ch2</th>\n",
       "      <th>G1_BP2</th>\n",
       "      <th>G2_Ch</th>\n",
       "      <th>G2_BP1</th>\n",
       "      <th>G2_Ch2</th>\n",
       "      <th>G2_BP2</th>\n",
       "      <th>G1_ΔBP</th>\n",
       "      <th>G2_ΔBP</th>\n",
       "    </tr>\n",
       "    <tr>\n",
       "      <th>deidentifiedSpecimenName</th>\n",
       "      <th></th>\n",
       "      <th></th>\n",
       "      <th></th>\n",
       "      <th></th>\n",
       "      <th></th>\n",
       "      <th></th>\n",
       "      <th></th>\n",
       "      <th></th>\n",
       "      <th></th>\n",
       "      <th></th>\n",
       "      <th></th>\n",
       "      <th></th>\n",
       "      <th></th>\n",
       "    </tr>\n",
       "  </thead>\n",
       "  <tbody>\n",
       "    <tr>\n",
       "      <th>XRN:2PVSC7</th>\n",
       "      <td>MSI-H</td>\n",
       "      <td>NTRK1</td>\n",
       "      <td>TPM3</td>\n",
       "      <td>chr1</td>\n",
       "      <td>156844094</td>\n",
       "      <td>chr1</td>\n",
       "      <td>156844094</td>\n",
       "      <td>chr1</td>\n",
       "      <td>154131880</td>\n",
       "      <td>chr1</td>\n",
       "      <td>154131882</td>\n",
       "      <td>0</td>\n",
       "      <td>2</td>\n",
       "    </tr>\n",
       "    <tr>\n",
       "      <th>XRN:QQ2D5X</th>\n",
       "      <td>MSI-H</td>\n",
       "      <td>RET</td>\n",
       "      <td>NCOA4</td>\n",
       "      <td>chr10</td>\n",
       "      <td>43610417</td>\n",
       "      <td>chr10</td>\n",
       "      <td>43610417</td>\n",
       "      <td>chr10</td>\n",
       "      <td>51587071</td>\n",
       "      <td>chr10</td>\n",
       "      <td>51587073</td>\n",
       "      <td>0</td>\n",
       "      <td>2</td>\n",
       "    </tr>\n",
       "    <tr>\n",
       "      <th>XRN:VKLN7D</th>\n",
       "      <td>MSI-H</td>\n",
       "      <td>NTRK3</td>\n",
       "      <td>ETV6</td>\n",
       "      <td>chr15</td>\n",
       "      <td>88509783</td>\n",
       "      <td>chr15</td>\n",
       "      <td>88509783</td>\n",
       "      <td>chr12</td>\n",
       "      <td>12030400</td>\n",
       "      <td>chr12</td>\n",
       "      <td>12030404</td>\n",
       "      <td>0</td>\n",
       "      <td>4</td>\n",
       "    </tr>\n",
       "    <tr>\n",
       "      <th>XRN:YEEKB3</th>\n",
       "      <td>MSI-H</td>\n",
       "      <td>BRAF</td>\n",
       "      <td>TRIM24</td>\n",
       "      <td>chr7</td>\n",
       "      <td>140490030</td>\n",
       "      <td>chr7</td>\n",
       "      <td>140490030</td>\n",
       "      <td>chr7</td>\n",
       "      <td>138220729</td>\n",
       "      <td>chr7</td>\n",
       "      <td>138220730</td>\n",
       "      <td>0</td>\n",
       "      <td>1</td>\n",
       "    </tr>\n",
       "    <tr>\n",
       "      <th>XRN:DLU61G</th>\n",
       "      <td>MSI-H</td>\n",
       "      <td>BRAF</td>\n",
       "      <td>TRIM24</td>\n",
       "      <td>chr7</td>\n",
       "      <td>140490799</td>\n",
       "      <td>chr7</td>\n",
       "      <td>140490799</td>\n",
       "      <td>chr7</td>\n",
       "      <td>138255242</td>\n",
       "      <td>chr7</td>\n",
       "      <td>138255241</td>\n",
       "      <td>0</td>\n",
       "      <td>1</td>\n",
       "    </tr>\n",
       "    <tr>\n",
       "      <th>XRN:NR9J8U</th>\n",
       "      <td>MSS</td>\n",
       "      <td>NTRK1</td>\n",
       "      <td>TPM3</td>\n",
       "      <td>chr1</td>\n",
       "      <td>156844253</td>\n",
       "      <td>chr1</td>\n",
       "      <td>156844253</td>\n",
       "      <td>chr1</td>\n",
       "      <td>154133379</td>\n",
       "      <td>chr1</td>\n",
       "      <td>154133381</td>\n",
       "      <td>0</td>\n",
       "      <td>2</td>\n",
       "    </tr>\n",
       "    <tr>\n",
       "      <th>XRN:6SR1AR</th>\n",
       "      <td>MSS</td>\n",
       "      <td>RET</td>\n",
       "      <td>NCOA4</td>\n",
       "      <td>chr10</td>\n",
       "      <td>43611116</td>\n",
       "      <td>chr10</td>\n",
       "      <td>43611116</td>\n",
       "      <td>chr10</td>\n",
       "      <td>51587473</td>\n",
       "      <td>chr10</td>\n",
       "      <td>51587468</td>\n",
       "      <td>0</td>\n",
       "      <td>5</td>\n",
       "    </tr>\n",
       "    <tr>\n",
       "      <th>XRN:XH8KQB</th>\n",
       "      <td>MSS</td>\n",
       "      <td>RET</td>\n",
       "      <td>NCOA4</td>\n",
       "      <td>chr10</td>\n",
       "      <td>43611896</td>\n",
       "      <td>chr10</td>\n",
       "      <td>43611896</td>\n",
       "      <td>chr10</td>\n",
       "      <td>51588473</td>\n",
       "      <td>chr10</td>\n",
       "      <td>51588470</td>\n",
       "      <td>0</td>\n",
       "      <td>3</td>\n",
       "    </tr>\n",
       "    <tr>\n",
       "      <th>XRN:6E0D11</th>\n",
       "      <td>MSS</td>\n",
       "      <td>ALK</td>\n",
       "      <td>EML4</td>\n",
       "      <td>chr2</td>\n",
       "      <td>29446554</td>\n",
       "      <td>chr2</td>\n",
       "      <td>29446554</td>\n",
       "      <td>chr2</td>\n",
       "      <td>42554900</td>\n",
       "      <td>chr2</td>\n",
       "      <td>42554899</td>\n",
       "      <td>0</td>\n",
       "      <td>1</td>\n",
       "    </tr>\n",
       "    <tr>\n",
       "      <th>XRN:T4CE6S</th>\n",
       "      <td>MSS</td>\n",
       "      <td>BRAF</td>\n",
       "      <td>TRIM24</td>\n",
       "      <td>chr7</td>\n",
       "      <td>140489184</td>\n",
       "      <td>chr7</td>\n",
       "      <td>140489184</td>\n",
       "      <td>chr7</td>\n",
       "      <td>138253108</td>\n",
       "      <td>chr7</td>\n",
       "      <td>138253110</td>\n",
       "      <td>0</td>\n",
       "      <td>2</td>\n",
       "    </tr>\n",
       "    <tr>\n",
       "      <th>XRN:8NEXPN</th>\n",
       "      <td>MSS</td>\n",
       "      <td>BRAF</td>\n",
       "      <td>TRIM24</td>\n",
       "      <td>chr7</td>\n",
       "      <td>140491271</td>\n",
       "      <td>chr7</td>\n",
       "      <td>140491271</td>\n",
       "      <td>chr7</td>\n",
       "      <td>138250341</td>\n",
       "      <td>chr7</td>\n",
       "      <td>138250344</td>\n",
       "      <td>0</td>\n",
       "      <td>3</td>\n",
       "    </tr>\n",
       "    <tr>\n",
       "      <th>XRN:VGD7DC</th>\n",
       "      <td>MSS</td>\n",
       "      <td>BRAF</td>\n",
       "      <td>TRIM24</td>\n",
       "      <td>chr7</td>\n",
       "      <td>140494046</td>\n",
       "      <td>chr7</td>\n",
       "      <td>140494046</td>\n",
       "      <td>chr7</td>\n",
       "      <td>138242067</td>\n",
       "      <td>chr7</td>\n",
       "      <td>138242070</td>\n",
       "      <td>0</td>\n",
       "      <td>3</td>\n",
       "    </tr>\n",
       "  </tbody>\n",
       "</table>\n",
       "</div>"
      ],
      "text/plain": [
       "                         MSIstatus gene1_RE gene2_RE  G1_Ch     G1_BP1 G1_Ch2  \\\n",
       "deidentifiedSpecimenName                                                        \n",
       "XRN:2PVSC7                   MSI-H    NTRK1     TPM3   chr1  156844094   chr1   \n",
       "XRN:QQ2D5X                   MSI-H      RET    NCOA4  chr10   43610417  chr10   \n",
       "XRN:VKLN7D                   MSI-H    NTRK3     ETV6  chr15   88509783  chr15   \n",
       "XRN:YEEKB3                   MSI-H     BRAF   TRIM24   chr7  140490030   chr7   \n",
       "XRN:DLU61G                   MSI-H     BRAF   TRIM24   chr7  140490799   chr7   \n",
       "XRN:NR9J8U                     MSS    NTRK1     TPM3   chr1  156844253   chr1   \n",
       "XRN:6SR1AR                     MSS      RET    NCOA4  chr10   43611116  chr10   \n",
       "XRN:XH8KQB                     MSS      RET    NCOA4  chr10   43611896  chr10   \n",
       "XRN:6E0D11                     MSS      ALK     EML4   chr2   29446554   chr2   \n",
       "XRN:T4CE6S                     MSS     BRAF   TRIM24   chr7  140489184   chr7   \n",
       "XRN:8NEXPN                     MSS     BRAF   TRIM24   chr7  140491271   chr7   \n",
       "XRN:VGD7DC                     MSS     BRAF   TRIM24   chr7  140494046   chr7   \n",
       "\n",
       "                             G1_BP2  G2_Ch     G2_BP1 G2_Ch2     G2_BP2  \\\n",
       "deidentifiedSpecimenName                                                  \n",
       "XRN:2PVSC7                156844094   chr1  154131880   chr1  154131882   \n",
       "XRN:QQ2D5X                 43610417  chr10   51587071  chr10   51587073   \n",
       "XRN:VKLN7D                 88509783  chr12   12030400  chr12   12030404   \n",
       "XRN:YEEKB3                140490030   chr7  138220729   chr7  138220730   \n",
       "XRN:DLU61G                140490799   chr7  138255242   chr7  138255241   \n",
       "XRN:NR9J8U                156844253   chr1  154133379   chr1  154133381   \n",
       "XRN:6SR1AR                 43611116  chr10   51587473  chr10   51587468   \n",
       "XRN:XH8KQB                 43611896  chr10   51588473  chr10   51588470   \n",
       "XRN:6E0D11                 29446554   chr2   42554900   chr2   42554899   \n",
       "XRN:T4CE6S                140489184   chr7  138253108   chr7  138253110   \n",
       "XRN:8NEXPN                140491271   chr7  138250341   chr7  138250344   \n",
       "XRN:VGD7DC                140494046   chr7  138242067   chr7  138242070   \n",
       "\n",
       "                          G1_ΔBP  G2_ΔBP  \n",
       "deidentifiedSpecimenName                  \n",
       "XRN:2PVSC7                     0       2  \n",
       "XRN:QQ2D5X                     0       2  \n",
       "XRN:VKLN7D                     0       4  \n",
       "XRN:YEEKB3                     0       1  \n",
       "XRN:DLU61G                     0       1  \n",
       "XRN:NR9J8U                     0       2  \n",
       "XRN:6SR1AR                     0       5  \n",
       "XRN:XH8KQB                     0       3  \n",
       "XRN:6E0D11                     0       1  \n",
       "XRN:T4CE6S                     0       2  \n",
       "XRN:8NEXPN                     0       3  \n",
       "XRN:VGD7DC                     0       3  "
      ]
     },
     "execution_count": 50,
     "metadata": {},
     "output_type": "execute_result"
    }
   ],
   "source": [
    "sub_df[sub_df.G1_ΔBP ==0]"
   ]
  },
  {
   "cell_type": "code",
   "execution_count": 46,
   "metadata": {},
   "outputs": [],
   "source": [
    "sub_df.to_csv(\"BreakPointDistance.csv\")"
   ]
  },
  {
   "cell_type": "code",
   "execution_count": null,
   "metadata": {},
   "outputs": [],
   "source": []
  },
  {
   "cell_type": "code",
   "execution_count": 80,
   "metadata": {},
   "outputs": [
    {
     "data": {
      "text/html": [
       "<div>\n",
       "<style scoped>\n",
       "    .dataframe tbody tr th:only-of-type {\n",
       "        vertical-align: middle;\n",
       "    }\n",
       "\n",
       "    .dataframe tbody tr th {\n",
       "        vertical-align: top;\n",
       "    }\n",
       "\n",
       "    .dataframe thead th {\n",
       "        text-align: right;\n",
       "    }\n",
       "</style>\n",
       "<table border=\"1\" class=\"dataframe\">\n",
       "  <thead>\n",
       "    <tr style=\"text-align: right;\">\n",
       "      <th></th>\n",
       "      <th>gene1_RE</th>\n",
       "      <th>gene2_RE</th>\n",
       "      <th>G1_Ch</th>\n",
       "      <th>G1_BP1</th>\n",
       "      <th>G1_Ch2</th>\n",
       "      <th>G1_BP2</th>\n",
       "      <th>G2_Ch</th>\n",
       "      <th>G2_BP1</th>\n",
       "      <th>G2_Ch2</th>\n",
       "      <th>G2_BP2</th>\n",
       "      <th>G1_ΔBP</th>\n",
       "      <th>G2_ΔBP</th>\n",
       "    </tr>\n",
       "    <tr>\n",
       "      <th>MSIstatus</th>\n",
       "      <th></th>\n",
       "      <th></th>\n",
       "      <th></th>\n",
       "      <th></th>\n",
       "      <th></th>\n",
       "      <th></th>\n",
       "      <th></th>\n",
       "      <th></th>\n",
       "      <th></th>\n",
       "      <th></th>\n",
       "      <th></th>\n",
       "      <th></th>\n",
       "    </tr>\n",
       "  </thead>\n",
       "  <tbody>\n",
       "    <tr>\n",
       "      <th>MSI-H</th>\n",
       "      <td>47</td>\n",
       "      <td>47</td>\n",
       "      <td>47</td>\n",
       "      <td>47</td>\n",
       "      <td>47</td>\n",
       "      <td>47</td>\n",
       "      <td>47</td>\n",
       "      <td>47</td>\n",
       "      <td>47</td>\n",
       "      <td>47</td>\n",
       "      <td>47</td>\n",
       "      <td>47</td>\n",
       "    </tr>\n",
       "    <tr>\n",
       "      <th>MSS</th>\n",
       "      <td>42</td>\n",
       "      <td>42</td>\n",
       "      <td>42</td>\n",
       "      <td>42</td>\n",
       "      <td>42</td>\n",
       "      <td>42</td>\n",
       "      <td>42</td>\n",
       "      <td>42</td>\n",
       "      <td>42</td>\n",
       "      <td>42</td>\n",
       "      <td>42</td>\n",
       "      <td>42</td>\n",
       "    </tr>\n",
       "  </tbody>\n",
       "</table>\n",
       "</div>"
      ],
      "text/plain": [
       "           gene1_RE  gene2_RE  G1_Ch  G1_BP1  G1_Ch2  G1_BP2  G2_Ch  G2_BP1  \\\n",
       "MSIstatus                                                                     \n",
       "MSI-H            47        47     47      47      47      47     47      47   \n",
       "MSS              42        42     42      42      42      42     42      42   \n",
       "\n",
       "           G2_Ch2  G2_BP2  G1_ΔBP  G2_ΔBP  \n",
       "MSIstatus                                  \n",
       "MSI-H          47      47      47      47  \n",
       "MSS            42      42      42      42  "
      ]
     },
     "execution_count": 80,
     "metadata": {},
     "output_type": "execute_result"
    }
   ],
   "source": [
    "sub_df.groupby('MSIstatus').count()"
   ]
  },
  {
   "cell_type": "code",
   "execution_count": 52,
   "metadata": {},
   "outputs": [
    {
     "data": {
      "text/html": [
       "<div>\n",
       "<style scoped>\n",
       "    .dataframe tbody tr th:only-of-type {\n",
       "        vertical-align: middle;\n",
       "    }\n",
       "\n",
       "    .dataframe tbody tr th {\n",
       "        vertical-align: top;\n",
       "    }\n",
       "\n",
       "    .dataframe thead th {\n",
       "        text-align: right;\n",
       "    }\n",
       "</style>\n",
       "<table border=\"1\" class=\"dataframe\">\n",
       "  <thead>\n",
       "    <tr style=\"text-align: right;\">\n",
       "      <th>MSIstatus</th>\n",
       "      <th>MSI-H</th>\n",
       "      <th>MSS</th>\n",
       "    </tr>\n",
       "  </thead>\n",
       "  <tbody>\n",
       "    <tr>\n",
       "      <th>count</th>\n",
       "      <td>47</td>\n",
       "      <td>42</td>\n",
       "    </tr>\n",
       "    <tr>\n",
       "      <th>G1_ΔBP min</th>\n",
       "      <td>0</td>\n",
       "      <td>0</td>\n",
       "    </tr>\n",
       "    <tr>\n",
       "      <th>G2_ΔBP min</th>\n",
       "      <td>0</td>\n",
       "      <td>0</td>\n",
       "    </tr>\n",
       "    <tr>\n",
       "      <th>G1_ΔBP max</th>\n",
       "      <td>7999</td>\n",
       "      <td>3348</td>\n",
       "    </tr>\n",
       "    <tr>\n",
       "      <th>G2_ΔBP max</th>\n",
       "      <td>8782</td>\n",
       "      <td>585</td>\n",
       "    </tr>\n",
       "  </tbody>\n",
       "</table>\n",
       "</div>"
      ],
      "text/plain": [
       "MSIstatus   MSI-H   MSS\n",
       "count          47    42\n",
       "G1_ΔBP min      0     0\n",
       "G2_ΔBP min      0     0\n",
       "G1_ΔBP max   7999  3348\n",
       "G2_ΔBP max   8782   585"
      ]
     },
     "execution_count": 52,
     "metadata": {},
     "output_type": "execute_result"
    }
   ],
   "source": [
    "dt_count = sub_df.groupby('MSIstatus')\\\n",
    "    .agg({\"gene2_RE\":'count'})\\\n",
    "    .rename(columns = {\"gene2_RE\":'count'})\n",
    "dt_min = sub_df.groupby('MSIstatus') \\\n",
    "    .agg({\"G1_ΔBP\":'min',\"G2_ΔBP\":'min'})\\\n",
    "    .rename(columns={'G1_ΔBP':'G1_ΔBP min','G2_ΔBP':'G2_ΔBP min'})#.reset_index()\n",
    "dt_max = sub_df.groupby('MSIstatus') \\\n",
    "    .agg({\"G1_ΔBP\":'max',\"G2_ΔBP\":'max'})\\\n",
    "    .rename(columns={'G1_ΔBP':'G1_ΔBP max','G2_ΔBP':'G2_ΔBP max'})#.reset_index()\n",
    "pd.concat([dt_count, dt_min, dt_max], axis=1, sort=False).T"
   ]
  },
  {
   "cell_type": "code",
   "execution_count": 59,
   "metadata": {},
   "outputs": [
    {
     "name": "stdout",
     "output_type": "stream",
     "text": [
      "ΔBP in range between 0 and 8782\n"
     ]
    },
    {
     "data": {
      "image/png": "[encoded data removed]",
      "text/plain": [
       "<Figure size 432x288 with 2 Axes>"
      ]
     },
     "metadata": {
      "needs_background": "light"
     },
     "output_type": "display_data"
    }
   ],
   "source": [
    "ymin, ymax = min(min(sub_df.G1_ΔBP),min(sub_df.G2_ΔBP)), max(max(sub_df.G1_ΔBP),max(sub_df.G2_ΔBP))\n",
    "print(\"ΔBP in range between {} and {}\".format(ymin, ymax))\n",
    "\n",
    "fig, ax = sub_df.boxplot(column = ['G1_ΔBP','G2_ΔBP'], by = 'MSIstatus')\n",
    "#ax.set_yscale('log')\n",
    "plt.ylim(-0.5, 40)\n",
    "plt.show()\n"
   ]
  },
  {
   "cell_type": "code",
   "execution_count": 79,
   "metadata": {},
   "outputs": [
    {
     "data": {
      "image/png": "[encoded data removed]",
      "text/plain": [
       "<Figure size 432x288 with 1 Axes>"
      ]
     },
     "metadata": {
      "needs_background": "light"
     },
     "output_type": "display_data"
    },
    {
     "data": {
      "image/png": "[encoded data removed]",
      "text/plain": [
       "<Figure size 432x288 with 1 Axes>"
      ]
     },
     "metadata": {
      "needs_background": "light"
     },
     "output_type": "display_data"
    },
    {
     "data": {
      "image/png": "[encoded data removed]",
      "text/plain": [
       "<Figure size 432x288 with 1 Axes>"
      ]
     },
     "metadata": {
      "needs_background": "light"
     },
     "output_type": "display_data"
    },
    {
     "data": {
      "image/png": "[encoded data removed]",
      "text/plain": [
       "<Figure size 432x288 with 1 Axes>"
      ]
     },
     "metadata": {
      "needs_background": "light"
     },
     "output_type": "display_data"
    }
   ],
   "source": [
    "sub_df.groupby('MSIstatus').plot('G2_ΔBP', kind='box')\n",
    "\n",
    "fig, ax = plt.subplots()\n",
    "ax.scatter(sub_df.G1_ΔBP, sub_df.G2_ΔBP, c = pd.Categorical(sub_df.MSIstatus).codes, cmap='tab20b')\n",
    "plt.show()\n",
    "\n",
    "fig, ax = plt.subplots()\n",
    "for n, grp in sub_df.groupby('MSIstatus'):\n",
    "    ax.scatter(x = \"G1_ΔBP\", y = \"G2_ΔBP\", data=grp, label=n)\n",
    "ax.legend(title=\"Label\")\n",
    "plt.show()"
   ]
  },
  {
   "cell_type": "markdown",
   "metadata": {},
   "source": [
    "###  two-tailed Mann Whitney U test "
   ]
  },
  {
   "cell_type": "code",
   "execution_count": 82,
   "metadata": {},
   "outputs": [
    {
     "data": {
      "text/html": [
       "<div>\n",
       "<style scoped>\n",
       "    .dataframe tbody tr th:only-of-type {\n",
       "        vertical-align: middle;\n",
       "    }\n",
       "\n",
       "    .dataframe tbody tr th {\n",
       "        vertical-align: top;\n",
       "    }\n",
       "\n",
       "    .dataframe thead th {\n",
       "        text-align: right;\n",
       "    }\n",
       "</style>\n",
       "<table border=\"1\" class=\"dataframe\">\n",
       "  <thead>\n",
       "    <tr style=\"text-align: right;\">\n",
       "      <th>MSIstatus</th>\n",
       "      <th>MSI_mean</th>\n",
       "      <th>MSS_mean</th>\n",
       "    </tr>\n",
       "  </thead>\n",
       "  <tbody>\n",
       "    <tr>\n",
       "      <th>G1_ΔBP</th>\n",
       "      <td>249.851064</td>\n",
       "      <td>367.071429</td>\n",
       "    </tr>\n",
       "    <tr>\n",
       "      <th>G2_ΔBP</th>\n",
       "      <td>241.234043</td>\n",
       "      <td>51.928571</td>\n",
       "    </tr>\n",
       "  </tbody>\n",
       "</table>\n",
       "</div>"
      ],
      "text/plain": [
       "MSIstatus    MSI_mean    MSS_mean\n",
       "G1_ΔBP     249.851064  367.071429\n",
       "G2_ΔBP     241.234043   51.928571"
      ]
     },
     "execution_count": 82,
     "metadata": {},
     "output_type": "execute_result"
    }
   ],
   "source": [
    "sub_gb = sub_df.groupby('MSIstatus')\n",
    "tmp = sub_gb.agg('mean').T.rename(columns={\"MSI-H\":'MSI_mean',\"MSS\":'MSS_mean'},)\n",
    "tmp"
   ]
  },
  {
   "cell_type": "code",
   "execution_count": 84,
   "metadata": {},
   "outputs": [],
   "source": [
    "def mean_mannwhitneyu(df):\n",
    "    gb = df.groupby('MSIstatus')\n",
    "    tmp = gb.agg('mean').T # compute mean\n",
    "    tmp.rename(columns={\"MSI-H\":'MSI_mean',\"MSS\":'MSS_mean'}, inplace = True)\n",
    "    msi = gb.get_group('MSI-H')\n",
    "    mss = gb.get_group('MSS')\n",
    "    p_list = []\n",
    "    for i in tmp.index:\n",
    "        stat, pval = stats.mannwhitneyu(msi[i], mss[i]) # compute p value\n",
    "        p_list.append(pval)\n",
    "    tmp['MW_2tailed_pval'] = p_list\n",
    "    return tmp"
   ]
  },
  {
   "cell_type": "code",
   "execution_count": 85,
   "metadata": {},
   "outputs": [
    {
     "data": {
      "text/html": [
       "<div>\n",
       "<style scoped>\n",
       "    .dataframe tbody tr th:only-of-type {\n",
       "        vertical-align: middle;\n",
       "    }\n",
       "\n",
       "    .dataframe tbody tr th {\n",
       "        vertical-align: top;\n",
       "    }\n",
       "\n",
       "    .dataframe thead th {\n",
       "        text-align: right;\n",
       "    }\n",
       "</style>\n",
       "<table border=\"1\" class=\"dataframe\">\n",
       "  <thead>\n",
       "    <tr style=\"text-align: right;\">\n",
       "      <th>MSIstatus</th>\n",
       "      <th>MSI_mean</th>\n",
       "      <th>MSS_mean</th>\n",
       "      <th>MW_2tailed_pval</th>\n",
       "    </tr>\n",
       "  </thead>\n",
       "  <tbody>\n",
       "    <tr>\n",
       "      <th>G1_ΔBP</th>\n",
       "      <td>249.851064</td>\n",
       "      <td>367.071429</td>\n",
       "      <td>0.247109</td>\n",
       "    </tr>\n",
       "    <tr>\n",
       "      <th>G2_ΔBP</th>\n",
       "      <td>241.234043</td>\n",
       "      <td>51.928571</td>\n",
       "      <td>0.431199</td>\n",
       "    </tr>\n",
       "  </tbody>\n",
       "</table>\n",
       "</div>"
      ],
      "text/plain": [
       "MSIstatus    MSI_mean    MSS_mean  MW_2tailed_pval\n",
       "G1_ΔBP     249.851064  367.071429         0.247109\n",
       "G2_ΔBP     241.234043   51.928571         0.431199"
      ]
     },
     "execution_count": 85,
     "metadata": {},
     "output_type": "execute_result"
    }
   ],
   "source": [
    "mean_mannwhitneyu(sub_df)"
   ]
  },
  {
   "cell_type": "markdown",
   "metadata": {},
   "source": [
    "# Hypothesis6"
   ]
  },
  {
   "cell_type": "markdown",
   "metadata": {},
   "source": [
    "### Check partners of NTRK1"
   ]
  },
  {
   "cell_type": "code",
   "execution_count": 30,
   "metadata": {},
   "outputs": [
    {
     "name": "stdout",
     "output_type": "stream",
     "text": [
      "(45, 11)\n"
     ]
    },
    {
     "data": {
      "text/html": [
       "<div>\n",
       "<style scoped>\n",
       "    .dataframe tbody tr th:only-of-type {\n",
       "        vertical-align: middle;\n",
       "    }\n",
       "\n",
       "    .dataframe tbody tr th {\n",
       "        vertical-align: top;\n",
       "    }\n",
       "\n",
       "    .dataframe thead th {\n",
       "        text-align: right;\n",
       "    }\n",
       "</style>\n",
       "<table border=\"1\" class=\"dataframe\">\n",
       "  <thead>\n",
       "    <tr style=\"text-align: right;\">\n",
       "      <th></th>\n",
       "      <th>deidentifiedSpecimenName</th>\n",
       "      <th>diseaseOntology</th>\n",
       "      <th>MSIstatus</th>\n",
       "      <th>gene1_RE</th>\n",
       "      <th>gene2_RE</th>\n",
       "      <th>Gene1_Breakpoint1</th>\n",
       "      <th>Gene2_Breakpoint1</th>\n",
       "      <th>Junction Sequence 1</th>\n",
       "      <th>Gene1_Breakpoint2</th>\n",
       "      <th>Gene2_Breakpoint2</th>\n",
       "      <th>Junction Sequence 2</th>\n",
       "    </tr>\n",
       "  </thead>\n",
       "  <tbody>\n",
       "    <tr>\n",
       "      <th>4</th>\n",
       "      <td>XRN:AFAEVN</td>\n",
       "      <td>colon adenocarcinoma (crc)</td>\n",
       "      <td>MSI-H</td>\n",
       "      <td>NTRK1</td>\n",
       "      <td>TPM3</td>\n",
       "      <td>chr1:156843346</td>\n",
       "      <td>chr1:154133546</td>\n",
       "      <td>GACCTGTTTCTCCCAGGCCTGCCCTTTGATTTCGGGTTCTACTCGC...</td>\n",
       "      <td>chr1:156843348</td>\n",
       "      <td>chr1:154133545</td>\n",
       "      <td>TACTTTCCAGTTGAGCATCCCAAATTCGAAAATCAGAAATTTATAC...</td>\n",
       "    </tr>\n",
       "    <tr>\n",
       "      <th>5</th>\n",
       "      <td>XRN:MPPMPA</td>\n",
       "      <td>colon adenocarcinoma (crc)</td>\n",
       "      <td>MSI-H</td>\n",
       "      <td>NTRK1</td>\n",
       "      <td>TPM3</td>\n",
       "      <td>chr1:156843424</td>\n",
       "      <td>chr1:154133209</td>\n",
       "      <td>CTCCCTCCAGCTGCGCCCTGACCTCCTGCTGTTGCTCTTTCTGGCC...</td>\n",
       "      <td>chr1:156843433</td>\n",
       "      <td>chr1:154133210</td>\n",
       "      <td>TTCAGATTTGGGTTCTCAGCCTGTATAGTGTTTGTCAATGGTGAAC...</td>\n",
       "    </tr>\n",
       "    <tr>\n",
       "      <th>6</th>\n",
       "      <td>XRN:30NP36</td>\n",
       "      <td>colon adenocarcinoma (crc)</td>\n",
       "      <td>MSI-H</td>\n",
       "      <td>NTRK1</td>\n",
       "      <td>TPM3</td>\n",
       "      <td>chr1:156843471</td>\n",
       "      <td>chr1:154132639</td>\n",
       "      <td>GAGTATACCAGGAAGAGTTTGGTTTTCCTGTCCCCAAAGTTGTATT...</td>\n",
       "      <td>-</td>\n",
       "      <td>-</td>\n",
       "      <td>-</td>\n",
       "    </tr>\n",
       "  </tbody>\n",
       "</table>\n",
       "</div>"
      ],
      "text/plain": [
       "  deidentifiedSpecimenName             diseaseOntology MSIstatus gene1_RE  \\\n",
       "4               XRN:AFAEVN  colon adenocarcinoma (crc)     MSI-H    NTRK1   \n",
       "5               XRN:MPPMPA  colon adenocarcinoma (crc)     MSI-H    NTRK1   \n",
       "6               XRN:30NP36  colon adenocarcinoma (crc)     MSI-H    NTRK1   \n",
       "\n",
       "  gene2_RE Gene1_Breakpoint1 Gene2_Breakpoint1  \\\n",
       "4     TPM3    chr1:156843346    chr1:154133546   \n",
       "5     TPM3    chr1:156843424    chr1:154133209   \n",
       "6     TPM3    chr1:156843471    chr1:154132639   \n",
       "\n",
       "                                 Junction Sequence 1 Gene1_Breakpoint2  \\\n",
       "4  GACCTGTTTCTCCCAGGCCTGCCCTTTGATTTCGGGTTCTACTCGC...    chr1:156843348   \n",
       "5  CTCCCTCCAGCTGCGCCCTGACCTCCTGCTGTTGCTCTTTCTGGCC...    chr1:156843433   \n",
       "6  GAGTATACCAGGAAGAGTTTGGTTTTCCTGTCCCCAAAGTTGTATT...                 -   \n",
       "\n",
       "  Gene2_Breakpoint2                                Junction Sequence 2  \n",
       "4    chr1:154133545  TACTTTCCAGTTGAGCATCCCAAATTCGAAAATCAGAAATTTATAC...  \n",
       "5    chr1:154133210  TTCAGATTTGGGTTCTCAGCCTGTATAGTGTTTGTCAATGGTGAAC...  \n",
       "6                 -                                                  -  "
      ]
     },
     "execution_count": 30,
     "metadata": {},
     "output_type": "execute_result"
    }
   ],
   "source": [
    "with open('Table1.pkl', 'rb') as f: # load pickle\n",
    "    df = pickle.load(f)\n",
    "    f.close()\n",
    "\n",
    "dfd = df[df['MSIstatus']!='MSI ambiguous'] # Drop 'MSI ambiguous'\n",
    "NTRK1_CRC = dfd[dfd.gene1_RE == 'NTRK1']\n",
    "print(NTRK1_CRC.shape)\n",
    "NTRK1_CRC.head(3)"
   ]
  },
  {
   "cell_type": "code",
   "execution_count": 31,
   "metadata": {},
   "outputs": [
    {
     "data": {
      "text/html": [
       "<div>\n",
       "<style scoped>\n",
       "    .dataframe tbody tr th:only-of-type {\n",
       "        vertical-align: middle;\n",
       "    }\n",
       "\n",
       "    .dataframe tbody tr th {\n",
       "        vertical-align: top;\n",
       "    }\n",
       "\n",
       "    .dataframe thead th {\n",
       "        text-align: right;\n",
       "    }\n",
       "</style>\n",
       "<table border=\"1\" class=\"dataframe\">\n",
       "  <thead>\n",
       "    <tr style=\"text-align: right;\">\n",
       "      <th></th>\n",
       "      <th>gene2_RE</th>\n",
       "      <th>count</th>\n",
       "    </tr>\n",
       "  </thead>\n",
       "  <tbody>\n",
       "    <tr>\n",
       "      <th>5</th>\n",
       "      <td>TPM3</td>\n",
       "      <td>23</td>\n",
       "    </tr>\n",
       "    <tr>\n",
       "      <th>2</th>\n",
       "      <td>LMNA</td>\n",
       "      <td>11</td>\n",
       "    </tr>\n",
       "    <tr>\n",
       "      <th>6</th>\n",
       "      <td>TPR</td>\n",
       "      <td>5</td>\n",
       "    </tr>\n",
       "    <tr>\n",
       "      <th>3</th>\n",
       "      <td>PLEKHA6</td>\n",
       "      <td>3</td>\n",
       "    </tr>\n",
       "    <tr>\n",
       "      <th>0</th>\n",
       "      <td>CCDC88C</td>\n",
       "      <td>1</td>\n",
       "    </tr>\n",
       "    <tr>\n",
       "      <th>1</th>\n",
       "      <td>IRF2BP2</td>\n",
       "      <td>1</td>\n",
       "    </tr>\n",
       "    <tr>\n",
       "      <th>4</th>\n",
       "      <td>TPM1</td>\n",
       "      <td>1</td>\n",
       "    </tr>\n",
       "  </tbody>\n",
       "</table>\n",
       "</div>"
      ],
      "text/plain": [
       "  gene2_RE count\n",
       "5     TPM3    23\n",
       "2     LMNA    11\n",
       "6      TPR     5\n",
       "3  PLEKHA6     3\n",
       "0  CCDC88C     1\n",
       "1  IRF2BP2     1\n",
       "4     TPM1     1"
      ]
     },
     "execution_count": 31,
     "metadata": {},
     "output_type": "execute_result"
    }
   ],
   "source": [
    "values, counts = np.unique(NTRK1_CRC.gene2_RE, return_counts=True) # count Gene2 items\n",
    "pd.DataFrame([values, counts], index=['gene2_RE','count']).T.sort_values('count', ascending=False)"
   ]
  },
  {
   "cell_type": "code",
   "execution_count": 32,
   "metadata": {},
   "outputs": [],
   "source": [
    "NTRK1_CRC_js1 = NTRK1_CRC[['Junction Sequence 1','MSIstatus']]\n",
    "NTRK1_CRC_js1.index = NTRK1_CRC['deidentifiedSpecimenName']\n",
    "NTRK1_CRC_js2 = NTRK1_CRC[['Junction Sequence 2','MSIstatus']]\n",
    "NTRK1_CRC_js2.index = NTRK1_CRC['deidentifiedSpecimenName']\n",
    "NTRK1_CRC_js2 = NTRK1_CRC_js2.drop(NTRK1_CRC_js2[NTRK1_CRC_js2['Junction Sequence 2'] == '-'].index)  #Drop rows containing with not JS2"
   ]
  },
  {
   "cell_type": "code",
   "execution_count": 41,
   "metadata": {},
   "outputs": [
    {
     "data": {
      "text/plain": [
       "{'MSI-H': 39, 'MSS': 6}"
      ]
     },
     "execution_count": 41,
     "metadata": {},
     "output_type": "execute_result"
    }
   ],
   "source": [
    "values, counts = np.unique(NTRK1_CRC_js1.MSIstatus, return_counts=True)\n",
    "dict(zip(values, counts))"
   ]
  },
  {
   "cell_type": "code",
   "execution_count": 42,
   "metadata": {},
   "outputs": [
    {
     "data": {
      "text/plain": [
       "{'MSI-H': 17, 'MSS': 4}"
      ]
     },
     "execution_count": 42,
     "metadata": {},
     "output_type": "execute_result"
    }
   ],
   "source": [
    "values, counts = np.unique(NTRK1_CRC_js2.MSIstatus, return_counts=True)\n",
    "dict(zip(values, counts))"
   ]
  },
  {
   "cell_type": "code",
   "execution_count": 33,
   "metadata": {},
   "outputs": [
    {
     "name": "stdout",
     "output_type": "stream",
     "text": [
      "(45, 4)\n"
     ]
    },
    {
     "data": {
      "text/html": [
       "<div>\n",
       "<style scoped>\n",
       "    .dataframe tbody tr th:only-of-type {\n",
       "        vertical-align: middle;\n",
       "    }\n",
       "\n",
       "    .dataframe tbody tr th {\n",
       "        vertical-align: top;\n",
       "    }\n",
       "\n",
       "    .dataframe thead th {\n",
       "        text-align: right;\n",
       "    }\n",
       "</style>\n",
       "<table border=\"1\" class=\"dataframe\">\n",
       "  <thead>\n",
       "    <tr style=\"text-align: right;\">\n",
       "      <th></th>\n",
       "      <th>A+T</th>\n",
       "      <th>C+G</th>\n",
       "      <th>MSIstatus</th>\n",
       "      <th>JS_len</th>\n",
       "    </tr>\n",
       "    <tr>\n",
       "      <th>deidentifiedSpecimenName</th>\n",
       "      <th></th>\n",
       "      <th></th>\n",
       "      <th></th>\n",
       "      <th></th>\n",
       "    </tr>\n",
       "  </thead>\n",
       "  <tbody>\n",
       "    <tr>\n",
       "      <th>XRN:AFAEVN</th>\n",
       "      <td>0.465347</td>\n",
       "      <td>0.534653</td>\n",
       "      <td>MSI-H</td>\n",
       "      <td>101</td>\n",
       "    </tr>\n",
       "    <tr>\n",
       "      <th>XRN:MPPMPA</th>\n",
       "      <td>0.485149</td>\n",
       "      <td>0.514851</td>\n",
       "      <td>MSI-H</td>\n",
       "      <td>101</td>\n",
       "    </tr>\n",
       "    <tr>\n",
       "      <th>XRN:30NP36</th>\n",
       "      <td>0.450000</td>\n",
       "      <td>0.550000</td>\n",
       "      <td>MSI-H</td>\n",
       "      <td>100</td>\n",
       "    </tr>\n",
       "    <tr>\n",
       "      <th>XRN:JPE87T</th>\n",
       "      <td>0.400000</td>\n",
       "      <td>0.600000</td>\n",
       "      <td>MSI-H</td>\n",
       "      <td>100</td>\n",
       "    </tr>\n",
       "    <tr>\n",
       "      <th>XRN:XQRHSE</th>\n",
       "      <td>0.390000</td>\n",
       "      <td>0.610000</td>\n",
       "      <td>MSI-H</td>\n",
       "      <td>100</td>\n",
       "    </tr>\n",
       "  </tbody>\n",
       "</table>\n",
       "</div>"
      ],
      "text/plain": [
       "                               A+T       C+G MSIstatus  JS_len\n",
       "deidentifiedSpecimenName                                      \n",
       "XRN:AFAEVN                0.465347  0.534653     MSI-H     101\n",
       "XRN:MPPMPA                0.485149  0.514851     MSI-H     101\n",
       "XRN:30NP36                0.450000  0.550000     MSI-H     100\n",
       "XRN:JPE87T                0.400000  0.600000     MSI-H     100\n",
       "XRN:XQRHSE                0.390000  0.610000     MSI-H     100"
      ]
     },
     "execution_count": 33,
     "metadata": {},
     "output_type": "execute_result"
    }
   ],
   "source": [
    "NTRK1_CRC_js1_mono_count = count_mono_series(NTRK1_CRC_js1.iloc[:,0])\n",
    "NTRK1_CRC_js1_mono_df = pd.concat([pd.DataFrame(NTRK1_CRC_js1_mono_count).T, NTRK1_CRC_js1['MSIstatus']], axis=1)\n",
    "#NTRK1_CRC_js1_mono_df.head()\n",
    "NTRK1_CRC_js1_mono_p = combine_rc_table_percentage(NTRK1_CRC_js1_mono_df)\n",
    "print(NTRK1_CRC_js1_mono_p.shape)\n",
    "NTRK1_CRC_js1_mono_p.head()"
   ]
  },
  {
   "cell_type": "code",
   "execution_count": 34,
   "metadata": {},
   "outputs": [
    {
     "data": {
      "text/html": [
       "<div>\n",
       "<style scoped>\n",
       "    .dataframe tbody tr th:only-of-type {\n",
       "        vertical-align: middle;\n",
       "    }\n",
       "\n",
       "    .dataframe tbody tr th {\n",
       "        vertical-align: top;\n",
       "    }\n",
       "\n",
       "    .dataframe thead th {\n",
       "        text-align: right;\n",
       "    }\n",
       "</style>\n",
       "<table border=\"1\" class=\"dataframe\">\n",
       "  <thead>\n",
       "    <tr style=\"text-align: right;\">\n",
       "      <th></th>\n",
       "      <th>AA+TT</th>\n",
       "      <th>AC+GT</th>\n",
       "      <th>AG+CT</th>\n",
       "      <th>AT+AT</th>\n",
       "      <th>CA+TG</th>\n",
       "      <th>CC+GG</th>\n",
       "      <th>CG+CG</th>\n",
       "      <th>GA+TC</th>\n",
       "      <th>GC+GC</th>\n",
       "      <th>TA+TA</th>\n",
       "      <th>MSIstatus</th>\n",
       "      <th>JS_len</th>\n",
       "    </tr>\n",
       "    <tr>\n",
       "      <th>deidentifiedSpecimenName</th>\n",
       "      <th></th>\n",
       "      <th></th>\n",
       "      <th></th>\n",
       "      <th></th>\n",
       "      <th></th>\n",
       "      <th></th>\n",
       "      <th></th>\n",
       "      <th></th>\n",
       "      <th></th>\n",
       "      <th></th>\n",
       "      <th></th>\n",
       "      <th></th>\n",
       "    </tr>\n",
       "  </thead>\n",
       "  <tbody>\n",
       "    <tr>\n",
       "      <th>XRN:AFAEVN</th>\n",
       "      <td>0.086022</td>\n",
       "      <td>0.096774</td>\n",
       "      <td>0.182796</td>\n",
       "      <td>0.086022</td>\n",
       "      <td>0.161290</td>\n",
       "      <td>0.129032</td>\n",
       "      <td>0.064516</td>\n",
       "      <td>0.129032</td>\n",
       "      <td>0.193548</td>\n",
       "      <td>0.086022</td>\n",
       "      <td>MSI-H</td>\n",
       "      <td>93</td>\n",
       "    </tr>\n",
       "    <tr>\n",
       "      <th>XRN:MPPMPA</th>\n",
       "      <td>0.073684</td>\n",
       "      <td>0.136842</td>\n",
       "      <td>0.200000</td>\n",
       "      <td>0.084211</td>\n",
       "      <td>0.189474</td>\n",
       "      <td>0.105263</td>\n",
       "      <td>0.021053</td>\n",
       "      <td>0.136842</td>\n",
       "      <td>0.126316</td>\n",
       "      <td>0.084211</td>\n",
       "      <td>MSI-H</td>\n",
       "      <td>95</td>\n",
       "    </tr>\n",
       "    <tr>\n",
       "      <th>XRN:30NP36</th>\n",
       "      <td>0.086022</td>\n",
       "      <td>0.118280</td>\n",
       "      <td>0.139785</td>\n",
       "      <td>0.107527</td>\n",
       "      <td>0.150538</td>\n",
       "      <td>0.161290</td>\n",
       "      <td>0.086022</td>\n",
       "      <td>0.129032</td>\n",
       "      <td>0.150538</td>\n",
       "      <td>0.086022</td>\n",
       "      <td>MSI-H</td>\n",
       "      <td>93</td>\n",
       "    </tr>\n",
       "    <tr>\n",
       "      <th>XRN:JPE87T</th>\n",
       "      <td>0.072165</td>\n",
       "      <td>0.061856</td>\n",
       "      <td>0.175258</td>\n",
       "      <td>0.082474</td>\n",
       "      <td>0.195876</td>\n",
       "      <td>0.185567</td>\n",
       "      <td>0.041237</td>\n",
       "      <td>0.144330</td>\n",
       "      <td>0.206186</td>\n",
       "      <td>0.000000</td>\n",
       "      <td>MSI-H</td>\n",
       "      <td>97</td>\n",
       "    </tr>\n",
       "    <tr>\n",
       "      <th>XRN:XQRHSE</th>\n",
       "      <td>0.061224</td>\n",
       "      <td>0.102041</td>\n",
       "      <td>0.122449</td>\n",
       "      <td>0.102041</td>\n",
       "      <td>0.193878</td>\n",
       "      <td>0.224490</td>\n",
       "      <td>0.061224</td>\n",
       "      <td>0.142857</td>\n",
       "      <td>0.142857</td>\n",
       "      <td>0.000000</td>\n",
       "      <td>MSI-H</td>\n",
       "      <td>98</td>\n",
       "    </tr>\n",
       "  </tbody>\n",
       "</table>\n",
       "</div>"
      ],
      "text/plain": [
       "                             AA+TT     AC+GT     AG+CT     AT+AT     CA+TG  \\\n",
       "deidentifiedSpecimenName                                                     \n",
       "XRN:AFAEVN                0.086022  0.096774  0.182796  0.086022  0.161290   \n",
       "XRN:MPPMPA                0.073684  0.136842  0.200000  0.084211  0.189474   \n",
       "XRN:30NP36                0.086022  0.118280  0.139785  0.107527  0.150538   \n",
       "XRN:JPE87T                0.072165  0.061856  0.175258  0.082474  0.195876   \n",
       "XRN:XQRHSE                0.061224  0.102041  0.122449  0.102041  0.193878   \n",
       "\n",
       "                             CC+GG     CG+CG     GA+TC     GC+GC     TA+TA  \\\n",
       "deidentifiedSpecimenName                                                     \n",
       "XRN:AFAEVN                0.129032  0.064516  0.129032  0.193548  0.086022   \n",
       "XRN:MPPMPA                0.105263  0.021053  0.136842  0.126316  0.084211   \n",
       "XRN:30NP36                0.161290  0.086022  0.129032  0.150538  0.086022   \n",
       "XRN:JPE87T                0.185567  0.041237  0.144330  0.206186  0.000000   \n",
       "XRN:XQRHSE                0.224490  0.061224  0.142857  0.142857  0.000000   \n",
       "\n",
       "                         MSIstatus  JS_len  \n",
       "deidentifiedSpecimenName                    \n",
       "XRN:AFAEVN                   MSI-H      93  \n",
       "XRN:MPPMPA                   MSI-H      95  \n",
       "XRN:30NP36                   MSI-H      93  \n",
       "XRN:JPE87T                   MSI-H      97  \n",
       "XRN:XQRHSE                   MSI-H      98  "
      ]
     },
     "execution_count": 34,
     "metadata": {},
     "output_type": "execute_result"
    }
   ],
   "source": [
    "NTRK1_CRC_js1_bi_count = count_bi_series(NTRK1_CRC_js1.iloc[:,0])\n",
    "NTRK1_CRC_js1_bi_df = pd.concat([pd.DataFrame(NTRK1_CRC_js1_bi_count).T, NTRK1_CRC_js1['MSIstatus']], axis=1)\n",
    "NTRK1_CRC_js1_bi_p = combine_rc_table_percentage(NTRK1_CRC_js1_bi_df)\n",
    "NTRK1_CRC_js1_bi_p.head()"
   ]
  },
  {
   "cell_type": "code",
   "execution_count": 35,
   "metadata": {},
   "outputs": [
    {
     "name": "stdout",
     "output_type": "stream",
     "text": [
      "(21, 4)\n"
     ]
    },
    {
     "data": {
      "text/html": [
       "<div>\n",
       "<style scoped>\n",
       "    .dataframe tbody tr th:only-of-type {\n",
       "        vertical-align: middle;\n",
       "    }\n",
       "\n",
       "    .dataframe tbody tr th {\n",
       "        vertical-align: top;\n",
       "    }\n",
       "\n",
       "    .dataframe thead th {\n",
       "        text-align: right;\n",
       "    }\n",
       "</style>\n",
       "<table border=\"1\" class=\"dataframe\">\n",
       "  <thead>\n",
       "    <tr style=\"text-align: right;\">\n",
       "      <th></th>\n",
       "      <th>A+T</th>\n",
       "      <th>C+G</th>\n",
       "      <th>MSIstatus</th>\n",
       "      <th>JS_len</th>\n",
       "    </tr>\n",
       "    <tr>\n",
       "      <th>deidentifiedSpecimenName</th>\n",
       "      <th></th>\n",
       "      <th></th>\n",
       "      <th></th>\n",
       "      <th></th>\n",
       "    </tr>\n",
       "  </thead>\n",
       "  <tbody>\n",
       "    <tr>\n",
       "      <th>XRN:AFAEVN</th>\n",
       "      <td>0.480000</td>\n",
       "      <td>0.520000</td>\n",
       "      <td>MSI-H</td>\n",
       "      <td>100</td>\n",
       "    </tr>\n",
       "    <tr>\n",
       "      <th>XRN:MPPMPA</th>\n",
       "      <td>0.490000</td>\n",
       "      <td>0.510000</td>\n",
       "      <td>MSI-H</td>\n",
       "      <td>100</td>\n",
       "    </tr>\n",
       "    <tr>\n",
       "      <th>XRN:XQRHSE</th>\n",
       "      <td>0.445545</td>\n",
       "      <td>0.554455</td>\n",
       "      <td>MSI-H</td>\n",
       "      <td>101</td>\n",
       "    </tr>\n",
       "    <tr>\n",
       "      <th>XRN:1KPTFL</th>\n",
       "      <td>0.435644</td>\n",
       "      <td>0.564356</td>\n",
       "      <td>MSI-H</td>\n",
       "      <td>101</td>\n",
       "    </tr>\n",
       "    <tr>\n",
       "      <th>XRN:F9ARJF</th>\n",
       "      <td>0.560000</td>\n",
       "      <td>0.440000</td>\n",
       "      <td>MSI-H</td>\n",
       "      <td>100</td>\n",
       "    </tr>\n",
       "  </tbody>\n",
       "</table>\n",
       "</div>"
      ],
      "text/plain": [
       "                               A+T       C+G MSIstatus  JS_len\n",
       "deidentifiedSpecimenName                                      \n",
       "XRN:AFAEVN                0.480000  0.520000     MSI-H     100\n",
       "XRN:MPPMPA                0.490000  0.510000     MSI-H     100\n",
       "XRN:XQRHSE                0.445545  0.554455     MSI-H     101\n",
       "XRN:1KPTFL                0.435644  0.564356     MSI-H     101\n",
       "XRN:F9ARJF                0.560000  0.440000     MSI-H     100"
      ]
     },
     "execution_count": 35,
     "metadata": {},
     "output_type": "execute_result"
    }
   ],
   "source": [
    "NTRK1_CRC_js2_mono_count = count_mono_series(NTRK1_CRC_js2.iloc[:,0])\n",
    "NTRK1_CRC_js2_mono_df = pd.concat([pd.DataFrame(NTRK1_CRC_js2_mono_count).T, NTRK1_CRC_js2['MSIstatus']], axis=1)\n",
    "#NTRK1_CRC_js2_mono_df.head()\n",
    "NTRK1_CRC_js2_mono_p = combine_rc_table_percentage(NTRK1_CRC_js2_mono_df)\n",
    "print(NTRK1_CRC_js2_mono_p.shape)\n",
    "NTRK1_CRC_js2_mono_p.head()"
   ]
  },
  {
   "cell_type": "code",
   "execution_count": 36,
   "metadata": {},
   "outputs": [
    {
     "data": {
      "text/html": [
       "<div>\n",
       "<style scoped>\n",
       "    .dataframe tbody tr th:only-of-type {\n",
       "        vertical-align: middle;\n",
       "    }\n",
       "\n",
       "    .dataframe tbody tr th {\n",
       "        vertical-align: top;\n",
       "    }\n",
       "\n",
       "    .dataframe thead th {\n",
       "        text-align: right;\n",
       "    }\n",
       "</style>\n",
       "<table border=\"1\" class=\"dataframe\">\n",
       "  <thead>\n",
       "    <tr style=\"text-align: right;\">\n",
       "      <th></th>\n",
       "      <th>AA+TT</th>\n",
       "      <th>AC+GT</th>\n",
       "      <th>AG+CT</th>\n",
       "      <th>AT+AT</th>\n",
       "      <th>CA+TG</th>\n",
       "      <th>CC+GG</th>\n",
       "      <th>CG+CG</th>\n",
       "      <th>GA+TC</th>\n",
       "      <th>GC+GC</th>\n",
       "      <th>TA+TA</th>\n",
       "      <th>MSIstatus</th>\n",
       "      <th>JS_len</th>\n",
       "    </tr>\n",
       "    <tr>\n",
       "      <th>deidentifiedSpecimenName</th>\n",
       "      <th></th>\n",
       "      <th></th>\n",
       "      <th></th>\n",
       "      <th></th>\n",
       "      <th></th>\n",
       "      <th></th>\n",
       "      <th></th>\n",
       "      <th></th>\n",
       "      <th></th>\n",
       "      <th></th>\n",
       "      <th></th>\n",
       "      <th></th>\n",
       "    </tr>\n",
       "  </thead>\n",
       "  <tbody>\n",
       "    <tr>\n",
       "      <th>XRN:AFAEVN</th>\n",
       "      <td>0.100000</td>\n",
       "      <td>0.111111</td>\n",
       "      <td>0.144444</td>\n",
       "      <td>0.111111</td>\n",
       "      <td>0.166667</td>\n",
       "      <td>0.133333</td>\n",
       "      <td>0.088889</td>\n",
       "      <td>0.133333</td>\n",
       "      <td>0.155556</td>\n",
       "      <td>0.066667</td>\n",
       "      <td>MSI-H</td>\n",
       "      <td>90</td>\n",
       "    </tr>\n",
       "    <tr>\n",
       "      <th>XRN:MPPMPA</th>\n",
       "      <td>0.085106</td>\n",
       "      <td>0.170213</td>\n",
       "      <td>0.117021</td>\n",
       "      <td>0.106383</td>\n",
       "      <td>0.234043</td>\n",
       "      <td>0.106383</td>\n",
       "      <td>0.063830</td>\n",
       "      <td>0.095745</td>\n",
       "      <td>0.148936</td>\n",
       "      <td>0.063830</td>\n",
       "      <td>MSI-H</td>\n",
       "      <td>94</td>\n",
       "    </tr>\n",
       "    <tr>\n",
       "      <th>XRN:XQRHSE</th>\n",
       "      <td>0.086957</td>\n",
       "      <td>0.173913</td>\n",
       "      <td>0.141304</td>\n",
       "      <td>0.043478</td>\n",
       "      <td>0.206522</td>\n",
       "      <td>0.130435</td>\n",
       "      <td>0.086957</td>\n",
       "      <td>0.032609</td>\n",
       "      <td>0.217391</td>\n",
       "      <td>0.108696</td>\n",
       "      <td>MSI-H</td>\n",
       "      <td>92</td>\n",
       "    </tr>\n",
       "    <tr>\n",
       "      <th>XRN:1KPTFL</th>\n",
       "      <td>0.096774</td>\n",
       "      <td>0.096774</td>\n",
       "      <td>0.204301</td>\n",
       "      <td>0.064516</td>\n",
       "      <td>0.172043</td>\n",
       "      <td>0.129032</td>\n",
       "      <td>0.021505</td>\n",
       "      <td>0.129032</td>\n",
       "      <td>0.193548</td>\n",
       "      <td>0.064516</td>\n",
       "      <td>MSI-H</td>\n",
       "      <td>93</td>\n",
       "    </tr>\n",
       "    <tr>\n",
       "      <th>XRN:F9ARJF</th>\n",
       "      <td>0.175824</td>\n",
       "      <td>0.098901</td>\n",
       "      <td>0.131868</td>\n",
       "      <td>0.131868</td>\n",
       "      <td>0.153846</td>\n",
       "      <td>0.131868</td>\n",
       "      <td>0.043956</td>\n",
       "      <td>0.131868</td>\n",
       "      <td>0.087912</td>\n",
       "      <td>0.087912</td>\n",
       "      <td>MSI-H</td>\n",
       "      <td>91</td>\n",
       "    </tr>\n",
       "  </tbody>\n",
       "</table>\n",
       "</div>"
      ],
      "text/plain": [
       "                             AA+TT     AC+GT     AG+CT     AT+AT     CA+TG  \\\n",
       "deidentifiedSpecimenName                                                     \n",
       "XRN:AFAEVN                0.100000  0.111111  0.144444  0.111111  0.166667   \n",
       "XRN:MPPMPA                0.085106  0.170213  0.117021  0.106383  0.234043   \n",
       "XRN:XQRHSE                0.086957  0.173913  0.141304  0.043478  0.206522   \n",
       "XRN:1KPTFL                0.096774  0.096774  0.204301  0.064516  0.172043   \n",
       "XRN:F9ARJF                0.175824  0.098901  0.131868  0.131868  0.153846   \n",
       "\n",
       "                             CC+GG     CG+CG     GA+TC     GC+GC     TA+TA  \\\n",
       "deidentifiedSpecimenName                                                     \n",
       "XRN:AFAEVN                0.133333  0.088889  0.133333  0.155556  0.066667   \n",
       "XRN:MPPMPA                0.106383  0.063830  0.095745  0.148936  0.063830   \n",
       "XRN:XQRHSE                0.130435  0.086957  0.032609  0.217391  0.108696   \n",
       "XRN:1KPTFL                0.129032  0.021505  0.129032  0.193548  0.064516   \n",
       "XRN:F9ARJF                0.131868  0.043956  0.131868  0.087912  0.087912   \n",
       "\n",
       "                         MSIstatus  JS_len  \n",
       "deidentifiedSpecimenName                    \n",
       "XRN:AFAEVN                   MSI-H      90  \n",
       "XRN:MPPMPA                   MSI-H      94  \n",
       "XRN:XQRHSE                   MSI-H      92  \n",
       "XRN:1KPTFL                   MSI-H      93  \n",
       "XRN:F9ARJF                   MSI-H      91  "
      ]
     },
     "execution_count": 36,
     "metadata": {},
     "output_type": "execute_result"
    }
   ],
   "source": [
    "NTRK1_CRC_js2_bi_count = count_bi_series(NTRK1_CRC_js2.iloc[:,0])\n",
    "NTRK1_CRC_js2_bi_df = pd.concat([pd.DataFrame(NTRK1_CRC_js2_bi_count).T, NTRK1_CRC_js2['MSIstatus']], axis=1)\n",
    "NTRK1_CRC_js2_bi_p = combine_rc_table_percentage(NTRK1_CRC_js2_bi_df)\n",
    "NTRK1_CRC_js2_bi_p.head()"
   ]
  },
  {
   "cell_type": "code",
   "execution_count": 37,
   "metadata": {},
   "outputs": [
    {
     "data": {
      "text/html": [
       "<div>\n",
       "<style scoped>\n",
       "    .dataframe tbody tr th:only-of-type {\n",
       "        vertical-align: middle;\n",
       "    }\n",
       "\n",
       "    .dataframe tbody tr th {\n",
       "        vertical-align: top;\n",
       "    }\n",
       "\n",
       "    .dataframe thead th {\n",
       "        text-align: right;\n",
       "    }\n",
       "</style>\n",
       "<table border=\"1\" class=\"dataframe\">\n",
       "  <thead>\n",
       "    <tr style=\"text-align: right;\">\n",
       "      <th>MSIstatus</th>\n",
       "      <th>MSI_mean</th>\n",
       "      <th>MSS_mean</th>\n",
       "      <th>MW_2tailed_pval</th>\n",
       "    </tr>\n",
       "  </thead>\n",
       "  <tbody>\n",
       "    <tr>\n",
       "      <th>A+T</th>\n",
       "      <td>0.460412</td>\n",
       "      <td>0.492507</td>\n",
       "      <td>0.114573</td>\n",
       "    </tr>\n",
       "    <tr>\n",
       "      <th>C+G</th>\n",
       "      <td>0.539588</td>\n",
       "      <td>0.507493</td>\n",
       "      <td>0.114573</td>\n",
       "    </tr>\n",
       "    <tr>\n",
       "      <th>JS_len</th>\n",
       "      <td>101.179487</td>\n",
       "      <td>101.166667</td>\n",
       "      <td>0.078806</td>\n",
       "    </tr>\n",
       "  </tbody>\n",
       "</table>\n",
       "</div>"
      ],
      "text/plain": [
       "MSIstatus    MSI_mean    MSS_mean  MW_2tailed_pval\n",
       "A+T          0.460412    0.492507         0.114573\n",
       "C+G          0.539588    0.507493         0.114573\n",
       "JS_len     101.179487  101.166667         0.078806"
      ]
     },
     "execution_count": 37,
     "metadata": {},
     "output_type": "execute_result"
    }
   ],
   "source": [
    "mean_mannwhitneyu(NTRK1_CRC_js1_mono_p)"
   ]
  },
  {
   "cell_type": "code",
   "execution_count": 38,
   "metadata": {},
   "outputs": [
    {
     "data": {
      "text/html": [
       "<div>\n",
       "<style scoped>\n",
       "    .dataframe tbody tr th:only-of-type {\n",
       "        vertical-align: middle;\n",
       "    }\n",
       "\n",
       "    .dataframe tbody tr th {\n",
       "        vertical-align: top;\n",
       "    }\n",
       "\n",
       "    .dataframe thead th {\n",
       "        text-align: right;\n",
       "    }\n",
       "</style>\n",
       "<table border=\"1\" class=\"dataframe\">\n",
       "  <thead>\n",
       "    <tr style=\"text-align: right;\">\n",
       "      <th>MSIstatus</th>\n",
       "      <th>MSI_mean</th>\n",
       "      <th>MSS_mean</th>\n",
       "      <th>MW_2tailed_pval</th>\n",
       "    </tr>\n",
       "  </thead>\n",
       "  <tbody>\n",
       "    <tr>\n",
       "      <th>AA+TT</th>\n",
       "      <td>0.096774</td>\n",
       "      <td>0.084315</td>\n",
       "      <td>0.265284</td>\n",
       "    </tr>\n",
       "    <tr>\n",
       "      <th>AC+GT</th>\n",
       "      <td>0.104007</td>\n",
       "      <td>0.121604</td>\n",
       "      <td>0.236626</td>\n",
       "    </tr>\n",
       "    <tr>\n",
       "      <th>AG+CT</th>\n",
       "      <td>0.167836</td>\n",
       "      <td>0.179394</td>\n",
       "      <td>0.250882</td>\n",
       "    </tr>\n",
       "    <tr>\n",
       "      <th>AT+AT</th>\n",
       "      <td>0.092176</td>\n",
       "      <td>0.082015</td>\n",
       "      <td>0.311150</td>\n",
       "    </tr>\n",
       "    <tr>\n",
       "      <th>CA+TG</th>\n",
       "      <td>0.169000</td>\n",
       "      <td>0.173481</td>\n",
       "      <td>0.310640</td>\n",
       "    </tr>\n",
       "    <tr>\n",
       "      <th>CC+GG</th>\n",
       "      <td>0.141014</td>\n",
       "      <td>0.138917</td>\n",
       "      <td>0.411415</td>\n",
       "    </tr>\n",
       "    <tr>\n",
       "      <th>CG+CG</th>\n",
       "      <td>0.060724</td>\n",
       "      <td>0.043599</td>\n",
       "      <td>0.279784</td>\n",
       "    </tr>\n",
       "    <tr>\n",
       "      <th>GA+TC</th>\n",
       "      <td>0.141032</td>\n",
       "      <td>0.144470</td>\n",
       "      <td>0.482129</td>\n",
       "    </tr>\n",
       "    <tr>\n",
       "      <th>GC+GC</th>\n",
       "      <td>0.151226</td>\n",
       "      <td>0.130455</td>\n",
       "      <td>0.223171</td>\n",
       "    </tr>\n",
       "    <tr>\n",
       "      <th>TA+TA</th>\n",
       "      <td>0.056546</td>\n",
       "      <td>0.059567</td>\n",
       "      <td>0.393850</td>\n",
       "    </tr>\n",
       "    <tr>\n",
       "      <th>JS_len</th>\n",
       "      <td>92.176471</td>\n",
       "      <td>92.000000</td>\n",
       "      <td>0.341050</td>\n",
       "    </tr>\n",
       "  </tbody>\n",
       "</table>\n",
       "</div>"
      ],
      "text/plain": [
       "MSIstatus   MSI_mean   MSS_mean  MW_2tailed_pval\n",
       "AA+TT       0.096774   0.084315         0.265284\n",
       "AC+GT       0.104007   0.121604         0.236626\n",
       "AG+CT       0.167836   0.179394         0.250882\n",
       "AT+AT       0.092176   0.082015         0.311150\n",
       "CA+TG       0.169000   0.173481         0.310640\n",
       "CC+GG       0.141014   0.138917         0.411415\n",
       "CG+CG       0.060724   0.043599         0.279784\n",
       "GA+TC       0.141032   0.144470         0.482129\n",
       "GC+GC       0.151226   0.130455         0.223171\n",
       "TA+TA       0.056546   0.059567         0.393850\n",
       "JS_len     92.176471  92.000000         0.341050"
      ]
     },
     "execution_count": 38,
     "metadata": {},
     "output_type": "execute_result"
    }
   ],
   "source": [
    "mean_mannwhitneyu(NTRK1_CRC_js2_bi_p)"
   ]
  },
  {
   "cell_type": "code",
   "execution_count": 39,
   "metadata": {},
   "outputs": [
    {
     "data": {
      "text/html": [
       "<div>\n",
       "<style scoped>\n",
       "    .dataframe tbody tr th:only-of-type {\n",
       "        vertical-align: middle;\n",
       "    }\n",
       "\n",
       "    .dataframe tbody tr th {\n",
       "        vertical-align: top;\n",
       "    }\n",
       "\n",
       "    .dataframe thead th {\n",
       "        text-align: right;\n",
       "    }\n",
       "</style>\n",
       "<table border=\"1\" class=\"dataframe\">\n",
       "  <thead>\n",
       "    <tr style=\"text-align: right;\">\n",
       "      <th>MSIstatus</th>\n",
       "      <th>MSI_mean</th>\n",
       "      <th>MSS_mean</th>\n",
       "      <th>MW_2tailed_pval</th>\n",
       "    </tr>\n",
       "  </thead>\n",
       "  <tbody>\n",
       "    <tr>\n",
       "      <th>A+T</th>\n",
       "      <td>0.457841</td>\n",
       "      <td>0.45146</td>\n",
       "      <td>0.482123</td>\n",
       "    </tr>\n",
       "    <tr>\n",
       "      <th>C+G</th>\n",
       "      <td>0.542159</td>\n",
       "      <td>0.54854</td>\n",
       "      <td>0.482123</td>\n",
       "    </tr>\n",
       "    <tr>\n",
       "      <th>JS_len</th>\n",
       "      <td>100.588235</td>\n",
       "      <td>100.25000</td>\n",
       "      <td>0.384325</td>\n",
       "    </tr>\n",
       "  </tbody>\n",
       "</table>\n",
       "</div>"
      ],
      "text/plain": [
       "MSIstatus    MSI_mean   MSS_mean  MW_2tailed_pval\n",
       "A+T          0.457841    0.45146         0.482123\n",
       "C+G          0.542159    0.54854         0.482123\n",
       "JS_len     100.588235  100.25000         0.384325"
      ]
     },
     "execution_count": 39,
     "metadata": {},
     "output_type": "execute_result"
    }
   ],
   "source": [
    "mean_mannwhitneyu(NTRK1_CRC_js2_mono_p)"
   ]
  },
  {
   "cell_type": "code",
   "execution_count": 40,
   "metadata": {},
   "outputs": [
    {
     "data": {
      "text/html": [
       "<div>\n",
       "<style scoped>\n",
       "    .dataframe tbody tr th:only-of-type {\n",
       "        vertical-align: middle;\n",
       "    }\n",
       "\n",
       "    .dataframe tbody tr th {\n",
       "        vertical-align: top;\n",
       "    }\n",
       "\n",
       "    .dataframe thead th {\n",
       "        text-align: right;\n",
       "    }\n",
       "</style>\n",
       "<table border=\"1\" class=\"dataframe\">\n",
       "  <thead>\n",
       "    <tr style=\"text-align: right;\">\n",
       "      <th>MSIstatus</th>\n",
       "      <th>MSI_mean</th>\n",
       "      <th>MSS_mean</th>\n",
       "      <th>MW_2tailed_pval</th>\n",
       "    </tr>\n",
       "  </thead>\n",
       "  <tbody>\n",
       "    <tr>\n",
       "      <th>AA+TT</th>\n",
       "      <td>0.096774</td>\n",
       "      <td>0.084315</td>\n",
       "      <td>0.265284</td>\n",
       "    </tr>\n",
       "    <tr>\n",
       "      <th>AC+GT</th>\n",
       "      <td>0.104007</td>\n",
       "      <td>0.121604</td>\n",
       "      <td>0.236626</td>\n",
       "    </tr>\n",
       "    <tr>\n",
       "      <th>AG+CT</th>\n",
       "      <td>0.167836</td>\n",
       "      <td>0.179394</td>\n",
       "      <td>0.250882</td>\n",
       "    </tr>\n",
       "    <tr>\n",
       "      <th>AT+AT</th>\n",
       "      <td>0.092176</td>\n",
       "      <td>0.082015</td>\n",
       "      <td>0.311150</td>\n",
       "    </tr>\n",
       "    <tr>\n",
       "      <th>CA+TG</th>\n",
       "      <td>0.169000</td>\n",
       "      <td>0.173481</td>\n",
       "      <td>0.310640</td>\n",
       "    </tr>\n",
       "    <tr>\n",
       "      <th>CC+GG</th>\n",
       "      <td>0.141014</td>\n",
       "      <td>0.138917</td>\n",
       "      <td>0.411415</td>\n",
       "    </tr>\n",
       "    <tr>\n",
       "      <th>CG+CG</th>\n",
       "      <td>0.060724</td>\n",
       "      <td>0.043599</td>\n",
       "      <td>0.279784</td>\n",
       "    </tr>\n",
       "    <tr>\n",
       "      <th>GA+TC</th>\n",
       "      <td>0.141032</td>\n",
       "      <td>0.144470</td>\n",
       "      <td>0.482129</td>\n",
       "    </tr>\n",
       "    <tr>\n",
       "      <th>GC+GC</th>\n",
       "      <td>0.151226</td>\n",
       "      <td>0.130455</td>\n",
       "      <td>0.223171</td>\n",
       "    </tr>\n",
       "    <tr>\n",
       "      <th>TA+TA</th>\n",
       "      <td>0.056546</td>\n",
       "      <td>0.059567</td>\n",
       "      <td>0.393850</td>\n",
       "    </tr>\n",
       "    <tr>\n",
       "      <th>JS_len</th>\n",
       "      <td>92.176471</td>\n",
       "      <td>92.000000</td>\n",
       "      <td>0.341050</td>\n",
       "    </tr>\n",
       "  </tbody>\n",
       "</table>\n",
       "</div>"
      ],
      "text/plain": [
       "MSIstatus   MSI_mean   MSS_mean  MW_2tailed_pval\n",
       "AA+TT       0.096774   0.084315         0.265284\n",
       "AC+GT       0.104007   0.121604         0.236626\n",
       "AG+CT       0.167836   0.179394         0.250882\n",
       "AT+AT       0.092176   0.082015         0.311150\n",
       "CA+TG       0.169000   0.173481         0.310640\n",
       "CC+GG       0.141014   0.138917         0.411415\n",
       "CG+CG       0.060724   0.043599         0.279784\n",
       "GA+TC       0.141032   0.144470         0.482129\n",
       "GC+GC       0.151226   0.130455         0.223171\n",
       "TA+TA       0.056546   0.059567         0.393850\n",
       "JS_len     92.176471  92.000000         0.341050"
      ]
     },
     "execution_count": 40,
     "metadata": {},
     "output_type": "execute_result"
    }
   ],
   "source": [
    "mean_mannwhitneyu(NTRK1_CRC_js2_bi_p)"
   ]
  },
  {
   "cell_type": "code",
   "execution_count": null,
   "metadata": {},
   "outputs": [],
   "source": []
  },
  {
   "cell_type": "markdown",
   "metadata": {},
   "source": [
    "# Hypothesis7"
   ]
  },
  {
   "cell_type": "markdown",
   "metadata": {},
   "source": [
    "# Hypothesis8"
   ]
  },
  {
   "cell_type": "markdown",
   "metadata": {},
   "source": [
    "# Hypothesis9"
   ]
  }
 ],
 "metadata": {
  "kernelspec": {
   "display_name": "Python 3",
   "language": "python",
   "name": "python3"
  },
  "language_info": {
   "codemirror_mode": {
    "name": "ipython",
    "version": 3
   },
   "file_extension": ".py",
   "mimetype": "text/x-python",
   "name": "python",
   "nbconvert_exporter": "python",
   "pygments_lexer": "ipython3",
   "version": "3.6.10"
  }
 },
 "nbformat": 4,
 "nbformat_minor": 4
}
