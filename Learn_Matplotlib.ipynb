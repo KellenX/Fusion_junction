{
 "cells": [
  {
   "cell_type": "code",
   "execution_count": 16,
   "metadata": {
    "scrolled": true
   },
   "outputs": [],
   "source": [
    "import os\n",
    "import sys\n",
    "import numpy as np\n",
    "import pandas as pd\n",
    "import matplotlib.pylab as plt"
   ]
  },
  {
   "cell_type": "code",
   "execution_count": 17,
   "metadata": {},
   "outputs": [
    {
     "data": {
      "text/plain": [
       "['.Rhistory',\n",
       " 'js1_bi.csv',\n",
       " 'Learn_Matplotlib.ipynb',\n",
       " 'BreakPointDistance.csv',\n",
       " 'Bipartite_graph.ipynb',\n",
       " 'Junction_Sequences_NTRK1_nonCRC_4_19_20_deid.xlsx',\n",
       " '.DS_Store',\n",
       " 'ucsc_genes.tsv',\n",
       " 'Table1.rds',\n",
       " 'data_Junction_Regions_CRC_4_19_20_deid.fa',\n",
       " 'nonCRC_Table1.pkl',\n",
       " 'Fusion_Gene_ NTRK1_partners.ipynb',\n",
       " 'Genome Screenshots',\n",
       " 'Strand_specificity_plot.ipynb',\n",
       " 'Window_boxplot_J2.ipynb',\n",
       " 'Fusion_Gene_nonCRC.ipynb',\n",
       " 'Window_lineplot.ipynb',\n",
       " 'Junction_Sequences_CRC_4_19_20_deid.xlsx',\n",
       " 'js1_count.pkl',\n",
       " 'Bed_files_for_USCS_plot.ipynb',\n",
       " '.RData',\n",
       " 'nonCRC_gene1_bed',\n",
       " 'CRC_gene1_bed',\n",
       " 'GC_content_windows.csv',\n",
       " 'GC_content_reversed_bases.csv',\n",
       " 'Table1.pkl',\n",
       " 'CRC_gene2_bed',\n",
       " 'Window_boxplot_J1.ipynb',\n",
       " '.ipynb_checkpoints',\n",
       " 'humanFreq.png',\n",
       " 'CRC_gene1_bed.zip',\n",
       " 'Fusion_Gene_R.ipynb',\n",
       " 'Fusion_Gene_CRC.ipynb',\n",
       " 'MSS_MSI_review.pptx',\n",
       " 'Re__Windows_in_oncogenic_gene..zip',\n",
       " 'Fusion_Gene_R.R',\n",
       " 'data_Junction_Regions_CRC_4_19_20_deid_J2.fa',\n",
       " 'CeCe_Proj']"
      ]
     },
     "execution_count": 17,
     "metadata": {},
     "output_type": "execute_result"
    }
   ],
   "source": [
    "os.getcwd()\n",
    "os.listdir()"
   ]
  },
  {
   "cell_type": "markdown",
   "metadata": {},
   "source": [
    "# Read data for plotting"
   ]
  },
  {
   "cell_type": "code",
   "execution_count": null,
   "metadata": {},
   "outputs": [],
   "source": [
    "df1 = pd.read_csv(\"GC_content_reversed_bases.csv\",index_col = 0)\n",
    "df1[['Junction','Gene','MSIstatus']] = df1[\"index\"].str.split('_', expand=True)\n",
    "df1 = df1.drop(columns = 'index')\n",
    "# https://pandas-docs.github.io/pandas-docs-travis/user_guide/reshaping.html\n",
    "df1 = df1.melt(id_vars=['Junction','Gene','MSIstatus'], var_name='bp', value_name='GCcontent')\n",
    "df1.head()"
   ]
  },
  {
   "cell_type": "code",
   "execution_count": 7,
   "metadata": {},
   "outputs": [
    {
     "data": {
      "text/html": [
       "<div>\n",
       "<style scoped>\n",
       "    .dataframe tbody tr th:only-of-type {\n",
       "        vertical-align: middle;\n",
       "    }\n",
       "\n",
       "    .dataframe tbody tr th {\n",
       "        vertical-align: top;\n",
       "    }\n",
       "\n",
       "    .dataframe thead th {\n",
       "        text-align: right;\n",
       "    }\n",
       "</style>\n",
       "<table border=\"1\" class=\"dataframe\">\n",
       "  <thead>\n",
       "    <tr style=\"text-align: right;\">\n",
       "      <th></th>\n",
       "      <th>Junction</th>\n",
       "      <th>Gene</th>\n",
       "      <th>MSIstatus</th>\n",
       "      <th>bp</th>\n",
       "      <th>GCcontent</th>\n",
       "    </tr>\n",
       "  </thead>\n",
       "  <tbody>\n",
       "    <tr>\n",
       "      <th>0</th>\n",
       "      <td>J1</td>\n",
       "      <td>G1</td>\n",
       "      <td>MSI-H</td>\n",
       "      <td>1</td>\n",
       "      <td>0.565217</td>\n",
       "    </tr>\n",
       "    <tr>\n",
       "      <th>1</th>\n",
       "      <td>J1</td>\n",
       "      <td>G1</td>\n",
       "      <td>MSI-H</td>\n",
       "      <td>3</td>\n",
       "      <td>0.561594</td>\n",
       "    </tr>\n",
       "    <tr>\n",
       "      <th>2</th>\n",
       "      <td>J1</td>\n",
       "      <td>G1</td>\n",
       "      <td>MSI-H</td>\n",
       "      <td>5</td>\n",
       "      <td>0.534783</td>\n",
       "    </tr>\n",
       "    <tr>\n",
       "      <th>3</th>\n",
       "      <td>J1</td>\n",
       "      <td>G1</td>\n",
       "      <td>MSI-H</td>\n",
       "      <td>7</td>\n",
       "      <td>0.535714</td>\n",
       "    </tr>\n",
       "    <tr>\n",
       "      <th>4</th>\n",
       "      <td>J1</td>\n",
       "      <td>G1</td>\n",
       "      <td>MSI-H</td>\n",
       "      <td>9</td>\n",
       "      <td>0.538647</td>\n",
       "    </tr>\n",
       "  </tbody>\n",
       "</table>\n",
       "</div>"
      ],
      "text/plain": [
       "  Junction Gene MSIstatus  bp  GCcontent\n",
       "0       J1   G1     MSI-H   1   0.565217\n",
       "1       J1   G1     MSI-H   3   0.561594\n",
       "2       J1   G1     MSI-H   5   0.534783\n",
       "3       J1   G1     MSI-H   7   0.535714\n",
       "4       J1   G1     MSI-H   9   0.538647"
      ]
     },
     "execution_count": 7,
     "metadata": {},
     "output_type": "execute_result"
    }
   ],
   "source": [
    "df2 = pd.read_csv(\"GC_content_windows.csv\",index_col = 0)\n",
    "df2.head()"
   ]
  },
  {
   "cell_type": "code",
   "execution_count": null,
   "metadata": {},
   "outputs": [],
   "source": [
    "# play with aethetics\n",
    "# play with axis\n",
    "# play with frame\n",
    "# play with legend\n",
    "# play with color and style\n",
    "    # seaborn"
   ]
  }
 ],
 "metadata": {
  "kernelspec": {
   "display_name": "Python 3",
   "language": "python",
   "name": "python3"
  },
  "language_info": {
   "codemirror_mode": {
    "name": "ipython",
    "version": 3
   },
   "file_extension": ".py",
   "mimetype": "text/x-python",
   "name": "python",
   "nbconvert_exporter": "python",
   "pygments_lexer": "ipython3",
   "version": "3.6.10"
  }
 },
 "nbformat": 4,
 "nbformat_minor": 4
}
