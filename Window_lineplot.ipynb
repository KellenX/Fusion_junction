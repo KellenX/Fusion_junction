{
 "cells": [
  {
   "cell_type": "code",
   "execution_count": 1,
   "metadata": {},
   "outputs": [],
   "source": [
    "import os\n",
    "import sys\n",
    "import numpy as np\n",
    "import pandas as pd\n",
    "from Bio import SeqIO\n",
    "import matplotlib.pylab as plt\n",
    "%matplotlib inline"
   ]
  },
  {
   "cell_type": "code",
   "execution_count": 3,
   "metadata": {},
   "outputs": [
    {
     "data": {
      "text/plain": [
       "['.Rhistory',\n",
       " 'js1_bi.csv',\n",
       " 'BreakPointDistance.csv',\n",
       " 'Bipartite_graph.ipynb',\n",
       " 'Junction_Sequences_NTRK1_nonCRC_4_19_20_deid.xlsx',\n",
       " '.DS_Store',\n",
       " 'Table1.rds',\n",
       " 'data_Junction_Regions_CRC_4_19_20_deid.fa',\n",
       " 'nonCRC_Table1.pkl',\n",
       " 'Fusion_Gene_ NTRK1_partners.ipynb',\n",
       " 'Genome Screenshots',\n",
       " 'Window_boxplot_J2.ipynb',\n",
       " 'Fusion_Gene_nonCRC.ipynb',\n",
       " 'Window_lineplot.ipynb',\n",
       " 'Junction_Sequences_CRC_4_19_20_deid.xlsx',\n",
       " 'js1_count.pkl',\n",
       " 'Bed_files_for_USCS_plot.ipynb',\n",
       " '.RData',\n",
       " 'nonCRC_gene1_bed',\n",
       " 'CRC_gene1_bed',\n",
       " 'Table1.pkl',\n",
       " 'CRC_gene2_bed',\n",
       " 'Window_boxplot_J1.ipynb',\n",
       " '.ipynb_checkpoints',\n",
       " 'humanFreq.png',\n",
       " 'CRC_gene1_bed.zip',\n",
       " 'Fusion_Gene_R.ipynb',\n",
       " 'Fusion_Gene_CRC.ipynb',\n",
       " 'MSS_MSI_review.pptx',\n",
       " 'Re__Windows_in_oncogenic_gene..zip',\n",
       " 'Fusion_Gene_R.R',\n",
       " 'data_Junction_Regions_CRC_4_19_20_deid_J2.fa',\n",
       " 'CeCe_Proj']"
      ]
     },
     "execution_count": 3,
     "metadata": {},
     "output_type": "execute_result"
    }
   ],
   "source": [
    "os.getcwd()\n",
    "os.listdir()"
   ]
  },
  {
   "cell_type": "markdown",
   "metadata": {},
   "source": [
    "# My functions"
   ]
  },
  {
   "cell_type": "code",
   "execution_count": 2,
   "metadata": {},
   "outputs": [],
   "source": [
    "# GC content related functions\n",
    "\n",
    "def cound_mononucleotide(i):\n",
    "    A_ct = i.count('A') + i.count('a')\n",
    "    T_ct = i.count('T') + i.count('t')\n",
    "    C_ct = i.count('C') + i.count('c')\n",
    "    G_ct = i.count('G') + i.count('g')\n",
    "    tmp = {'A':A_ct, 'T':T_ct, 'C':C_ct,'G':G_ct}\n",
    "    return tmp\n",
    "\n",
    "def count_mono_series(indexed): #takes in a series, returns a dictionary\n",
    "    save = {}\n",
    "    for i in range(len(indexed)):\n",
    "        save[indexed.index[i]] = cound_mononucleotide(indexed[i])\n",
    "    return save\n",
    "\n",
    "def my_referse_complement(seq):\n",
    "    complement = {'A': 'T', 'C': 'G', 'G': 'C', 'T': 'A'}\n",
    "    return \"\".join(complement.get(base, base) for base in reversed(seq))\n",
    "\n",
    "def combine_rc_percentage(dg): #takes in a dataframe, returns a data frame\n",
    "    df = dg.copy()\n",
    "    df['count'] = df.sum(axis=1)\n",
    "    cols_rest = list(df.columns)\n",
    "    cols_1 = []\n",
    "    cols_2 = []\n",
    "    for i in df.columns:\n",
    "        reverse_tmp = my_referse_complement(i)\n",
    "        if reverse_tmp in list(df.columns):\n",
    "            cols_rest.remove(i)\n",
    "            if reverse_tmp not in cols_1:\n",
    "                cols_1.append(i)\n",
    "                cols_2.append(reverse_tmp)   \n",
    "    dt = pd.DataFrame()\n",
    "    #cols_c = []\n",
    "    for i,j in zip(cols_1,cols_2):\n",
    "        if i==j:\n",
    "            #cols_c.append(i)\n",
    "            dt[i] = df[i]/df['count']\n",
    "        else:\n",
    "            k = i+\"+\"+j\n",
    "            #cols_c.append(k)\n",
    "            dt[k] = (df[i]+df[j])/df['count']           \n",
    "    dt = pd.concat([dt, df[cols_rest]], axis=1)\n",
    "    return dt\n",
    "\n",
    "#vactorized String Operations: https://jakevdp.github.io/PythonDataScienceHandbook/03.10-working-with-strings.html\n",
    "def GC_percentage_series(series): #takes in a series returns a series\n",
    "    ser = series.str.upper()\n",
    "    total = ser.str.len()\n",
    "    gc_count = ser.str.count(\"C\") + ser.str.count(\"G\") + ser.str.count(\"c\") + ser.str.count(\"g\")\n",
    "    gc_percent = gc_count/total\n",
    "    return gc_percent\n",
    "    \n",
    "\n",
    "# Extract info from sequence ID\n",
    "\n",
    "def Split_IDs(df):\n",
    "    dt = df.copy()\n",
    "    # Drop MSI ambiguous records\n",
    "    dt = dt[ ~ dt[\"IDs\"].str.endswith('MSI')] # inverting (~) boolean mask\n",
    "    # Split - Vectorized string functions for Series and Index\n",
    "    dt[['Chr','Pos','ID1', 'ID2','MSIstatus','Junction','Gene']] = dt.IDs.str.split(':', expand=True)\n",
    "    dt = dt.drop(columns = 'IDs')\n",
    "    return dt\n",
    "\n",
    "# Window related functions\n",
    "\n",
    "def roughly_any_bp(df, wing=2, centre=51):\n",
    "    tmp = df.copy()\n",
    "    bp = wing*2 + 1\n",
    "    tmp[\"{}bp\".format(bp)] =tmp[\"50+1+50\"].str.slice(centre-wing-1, centre+wing)\n",
    "    tmp.drop(tmp.columns[0],axis=1,inplace = True) #drop '50+1+50'\n",
    "    return tmp\n",
    "def roughly_many_bp(df, wings=(0,2,10), centre=51):\n",
    "    tmp = df.copy()\n",
    "    for wing in wings:\n",
    "        bp = wing*2 + 1\n",
    "        tmp[str(bp)]=tmp[\"50+1+50\"].str.slice(centre-wing-1, centre+wing)\n",
    "    tmp.drop(tmp.columns[0],axis=1,inplace = True) #drop '50+1+50'\n",
    "    return tmp\n",
    "\n",
    "def roughly_any_bp_GC(df, wing=2, centre=51):\n",
    "    tmp = df.copy()\n",
    "    bp = wing*2 + 1\n",
    "    tmp[\"{}bp\".format(bp)] = GC_percentage_series(tmp[\"50+1+50\"].str.slice(centre-wing-1, centre+wing))\n",
    "    tmp.drop(tmp.columns[0],axis=1,inplace = True) #drop '50+1+50'\n",
    "    return tmp\n",
    "def roughly_many_bp_GC(df, wings=(0,2,10), centre=51):\n",
    "    tmp = df.copy()\n",
    "    for wing in wings:\n",
    "        bp = wing*2 + 1\n",
    "        tmp[str(bp)] = GC_percentage_series(tmp[\"50+1+50\"].str.slice(centre-wing-1, centre+wing))\n",
    "    tmp.drop(tmp.columns[0],axis=1,inplace = True) #drop '50+1+50'\n",
    "    return tmp"
   ]
  },
  {
   "cell_type": "markdown",
   "metadata": {},
   "source": [
    "# Build windows and get GC content"
   ]
  },
  {
   "cell_type": "markdown",
   "metadata": {},
   "source": [
    "## Junction 1 (J1)"
   ]
  },
  {
   "cell_type": "code",
   "execution_count": 3,
   "metadata": {},
   "outputs": [
    {
     "data": {
      "text/html": [
       "<div>\n",
       "<style scoped>\n",
       "    .dataframe tbody tr th:only-of-type {\n",
       "        vertical-align: middle;\n",
       "    }\n",
       "\n",
       "    .dataframe tbody tr th {\n",
       "        vertical-align: top;\n",
       "    }\n",
       "\n",
       "    .dataframe thead th {\n",
       "        text-align: right;\n",
       "    }\n",
       "</style>\n",
       "<table border=\"1\" class=\"dataframe\">\n",
       "  <thead>\n",
       "    <tr style=\"text-align: right;\">\n",
       "      <th></th>\n",
       "      <th>IDs</th>\n",
       "      <th>50+1+50</th>\n",
       "    </tr>\n",
       "  </thead>\n",
       "  <tbody>\n",
       "    <tr>\n",
       "      <th>0</th>\n",
       "      <td>chr10:43611864-43611964:XRN:6SJTT7:MSI-H:J1:G1</td>\n",
       "      <td>CTGCCCAGGGCAGAGACAGGCAGCGTTGCCGCTGGCTCAGATGACA...</td>\n",
       "    </tr>\n",
       "    <tr>\n",
       "      <th>1</th>\n",
       "      <td>chr7:138268017-138268117:XRN:6SJTT7:MSI-H:J1:G2</td>\n",
       "      <td>AAGAAAAAAATCTAGATGATTAAGAGGAAATATGTGAAGACAAGTT...</td>\n",
       "    </tr>\n",
       "    <tr>\n",
       "      <th>2</th>\n",
       "      <td>chr7:140489379-140489479:XRN:DNF6WD:MSS:J1:G1</td>\n",
       "      <td>AACTTTCCATTCTTGAGAGCTTACAATCTCATGGGAAGTAAGATGC...</td>\n",
       "    </tr>\n",
       "    <tr>\n",
       "      <th>3</th>\n",
       "      <td>chr7:138253042-138253142:XRN:DNF6WD:MSS:J1:G2</td>\n",
       "      <td>ATTTTTAGTAGAGACTGGGTTTCACCGTGTTAGCCAGGATGGTCTC...</td>\n",
       "    </tr>\n",
       "    <tr>\n",
       "      <th>4</th>\n",
       "      <td>chr10:43611746-43611846:XRN:E3F52H:MSI</td>\n",
       "      <td>GGGCAGGGGTCAGGGGAGACAGTAGACCAGGAACCAGAGAGGGTCG...</td>\n",
       "    </tr>\n",
       "  </tbody>\n",
       "</table>\n",
       "</div>"
      ],
      "text/plain": [
       "                                               IDs  \\\n",
       "0   chr10:43611864-43611964:XRN:6SJTT7:MSI-H:J1:G1   \n",
       "1  chr7:138268017-138268117:XRN:6SJTT7:MSI-H:J1:G2   \n",
       "2    chr7:140489379-140489479:XRN:DNF6WD:MSS:J1:G1   \n",
       "3    chr7:138253042-138253142:XRN:DNF6WD:MSS:J1:G2   \n",
       "4           chr10:43611746-43611846:XRN:E3F52H:MSI   \n",
       "\n",
       "                                             50+1+50  \n",
       "0  CTGCCCAGGGCAGAGACAGGCAGCGTTGCCGCTGGCTCAGATGACA...  \n",
       "1  AAGAAAAAAATCTAGATGATTAAGAGGAAATATGTGAAGACAAGTT...  \n",
       "2  AACTTTCCATTCTTGAGAGCTTACAATCTCATGGGAAGTAAGATGC...  \n",
       "3  ATTTTTAGTAGAGACTGGGTTTCACCGTGTTAGCCAGGATGGTCTC...  \n",
       "4  GGGCAGGGGTCAGGGGAGACAGTAGACCAGGAACCAGAGAGGGTCG...  "
      ]
     },
     "execution_count": 3,
     "metadata": {},
     "output_type": "execute_result"
    }
   ],
   "source": [
    "with open(\"data_Junction_Regions_CRC_4_19_20_deid.fa\") as handle:\n",
    "    Seqs = pd.Series([str(record.seq) for record in SeqIO.parse(handle,\"fasta\")])\n",
    "with open(\"data_Junction_Regions_CRC_4_19_20_deid.fa\") as handle:\n",
    "    IDs = pd.Series([record.id for record in SeqIO.parse(handle,\"fasta\")])\n",
    "J1_tbl = pd.DataFrame({'IDs': IDs, \"50+1+50\": Seqs})\n",
    "J1_tbl.head()"
   ]
  },
  {
   "cell_type": "code",
   "execution_count": 4,
   "metadata": {},
   "outputs": [
    {
     "data": {
      "text/html": [
       "<div>\n",
       "<style scoped>\n",
       "    .dataframe tbody tr th:only-of-type {\n",
       "        vertical-align: middle;\n",
       "    }\n",
       "\n",
       "    .dataframe tbody tr th {\n",
       "        vertical-align: top;\n",
       "    }\n",
       "\n",
       "    .dataframe thead th {\n",
       "        text-align: right;\n",
       "    }\n",
       "</style>\n",
       "<table border=\"1\" class=\"dataframe\">\n",
       "  <thead>\n",
       "    <tr style=\"text-align: right;\">\n",
       "      <th></th>\n",
       "      <th>50+1+50</th>\n",
       "      <th>Chr</th>\n",
       "      <th>Pos</th>\n",
       "      <th>ID1</th>\n",
       "      <th>ID2</th>\n",
       "      <th>MSIstatus</th>\n",
       "      <th>Junction</th>\n",
       "      <th>Gene</th>\n",
       "    </tr>\n",
       "  </thead>\n",
       "  <tbody>\n",
       "    <tr>\n",
       "      <th>0</th>\n",
       "      <td>CTGCCCAGGGCAGAGACAGGCAGCGTTGCCGCTGGCTCAGATGACA...</td>\n",
       "      <td>chr10</td>\n",
       "      <td>43611864-43611964</td>\n",
       "      <td>XRN</td>\n",
       "      <td>6SJTT7</td>\n",
       "      <td>MSI-H</td>\n",
       "      <td>J1</td>\n",
       "      <td>G1</td>\n",
       "    </tr>\n",
       "    <tr>\n",
       "      <th>1</th>\n",
       "      <td>AAGAAAAAAATCTAGATGATTAAGAGGAAATATGTGAAGACAAGTT...</td>\n",
       "      <td>chr7</td>\n",
       "      <td>138268017-138268117</td>\n",
       "      <td>XRN</td>\n",
       "      <td>6SJTT7</td>\n",
       "      <td>MSI-H</td>\n",
       "      <td>J1</td>\n",
       "      <td>G2</td>\n",
       "    </tr>\n",
       "    <tr>\n",
       "      <th>2</th>\n",
       "      <td>AACTTTCCATTCTTGAGAGCTTACAATCTCATGGGAAGTAAGATGC...</td>\n",
       "      <td>chr7</td>\n",
       "      <td>140489379-140489479</td>\n",
       "      <td>XRN</td>\n",
       "      <td>DNF6WD</td>\n",
       "      <td>MSS</td>\n",
       "      <td>J1</td>\n",
       "      <td>G1</td>\n",
       "    </tr>\n",
       "    <tr>\n",
       "      <th>3</th>\n",
       "      <td>ATTTTTAGTAGAGACTGGGTTTCACCGTGTTAGCCAGGATGGTCTC...</td>\n",
       "      <td>chr7</td>\n",
       "      <td>138253042-138253142</td>\n",
       "      <td>XRN</td>\n",
       "      <td>DNF6WD</td>\n",
       "      <td>MSS</td>\n",
       "      <td>J1</td>\n",
       "      <td>G2</td>\n",
       "    </tr>\n",
       "    <tr>\n",
       "      <th>8</th>\n",
       "      <td>GACCTGTTTCTCCCAGGCCTGCCCTTTGATTTCGGGTTCTACTCGC...</td>\n",
       "      <td>chr1</td>\n",
       "      <td>156843296-156843396</td>\n",
       "      <td>XRN</td>\n",
       "      <td>AFAEVN</td>\n",
       "      <td>MSI-H</td>\n",
       "      <td>J1</td>\n",
       "      <td>G1</td>\n",
       "    </tr>\n",
       "  </tbody>\n",
       "</table>\n",
       "</div>"
      ],
      "text/plain": [
       "                                             50+1+50    Chr  \\\n",
       "0  CTGCCCAGGGCAGAGACAGGCAGCGTTGCCGCTGGCTCAGATGACA...  chr10   \n",
       "1  AAGAAAAAAATCTAGATGATTAAGAGGAAATATGTGAAGACAAGTT...   chr7   \n",
       "2  AACTTTCCATTCTTGAGAGCTTACAATCTCATGGGAAGTAAGATGC...   chr7   \n",
       "3  ATTTTTAGTAGAGACTGGGTTTCACCGTGTTAGCCAGGATGGTCTC...   chr7   \n",
       "8  GACCTGTTTCTCCCAGGCCTGCCCTTTGATTTCGGGTTCTACTCGC...   chr1   \n",
       "\n",
       "                   Pos  ID1     ID2 MSIstatus Junction Gene  \n",
       "0    43611864-43611964  XRN  6SJTT7     MSI-H       J1   G1  \n",
       "1  138268017-138268117  XRN  6SJTT7     MSI-H       J1   G2  \n",
       "2  140489379-140489479  XRN  DNF6WD       MSS       J1   G1  \n",
       "3  138253042-138253142  XRN  DNF6WD       MSS       J1   G2  \n",
       "8  156843296-156843396  XRN  AFAEVN     MSI-H       J1   G1  "
      ]
     },
     "execution_count": 4,
     "metadata": {},
     "output_type": "execute_result"
    }
   ],
   "source": [
    "splitJ1 = Split_IDs(J1_tbl)\n",
    "splitJ1.head()"
   ]
  },
  {
   "cell_type": "code",
   "execution_count": 5,
   "metadata": {},
   "outputs": [
    {
     "data": {
      "text/html": [
       "<div>\n",
       "<style scoped>\n",
       "    .dataframe tbody tr th:only-of-type {\n",
       "        vertical-align: middle;\n",
       "    }\n",
       "\n",
       "    .dataframe tbody tr th {\n",
       "        vertical-align: top;\n",
       "    }\n",
       "\n",
       "    .dataframe thead th {\n",
       "        text-align: right;\n",
       "    }\n",
       "</style>\n",
       "<table border=\"1\" class=\"dataframe\">\n",
       "  <thead>\n",
       "    <tr style=\"text-align: right;\">\n",
       "      <th></th>\n",
       "      <th>Chr</th>\n",
       "      <th>Pos</th>\n",
       "      <th>ID1</th>\n",
       "      <th>ID2</th>\n",
       "      <th>MSIstatus</th>\n",
       "      <th>Junction</th>\n",
       "      <th>Gene</th>\n",
       "      <th>1</th>\n",
       "      <th>5</th>\n",
       "      <th>21</th>\n",
       "    </tr>\n",
       "  </thead>\n",
       "  <tbody>\n",
       "    <tr>\n",
       "      <th>0</th>\n",
       "      <td>chr10</td>\n",
       "      <td>43611864-43611964</td>\n",
       "      <td>XRN</td>\n",
       "      <td>6SJTT7</td>\n",
       "      <td>MSI-H</td>\n",
       "      <td>J1</td>\n",
       "      <td>G1</td>\n",
       "      <td>G</td>\n",
       "      <td>CGGTT</td>\n",
       "      <td>ATGACAGCCGGTTCTCTGCAC</td>\n",
       "    </tr>\n",
       "    <tr>\n",
       "      <th>1</th>\n",
       "      <td>chr7</td>\n",
       "      <td>138268017-138268117</td>\n",
       "      <td>XRN</td>\n",
       "      <td>6SJTT7</td>\n",
       "      <td>MSI-H</td>\n",
       "      <td>J1</td>\n",
       "      <td>G2</td>\n",
       "      <td>C</td>\n",
       "      <td>TTCAT</td>\n",
       "      <td>CAAGTTTTTTCATTAAAAATA</td>\n",
       "    </tr>\n",
       "    <tr>\n",
       "      <th>2</th>\n",
       "      <td>chr7</td>\n",
       "      <td>140489379-140489479</td>\n",
       "      <td>XRN</td>\n",
       "      <td>DNF6WD</td>\n",
       "      <td>MSS</td>\n",
       "      <td>J1</td>\n",
       "      <td>G1</td>\n",
       "      <td>A</td>\n",
       "      <td>ACATT</td>\n",
       "      <td>AGATGCACACATTGGAAGTAA</td>\n",
       "    </tr>\n",
       "    <tr>\n",
       "      <th>3</th>\n",
       "      <td>chr7</td>\n",
       "      <td>138253042-138253142</td>\n",
       "      <td>XRN</td>\n",
       "      <td>DNF6WD</td>\n",
       "      <td>MSS</td>\n",
       "      <td>J1</td>\n",
       "      <td>G2</td>\n",
       "      <td>T</td>\n",
       "      <td>TCTCC</td>\n",
       "      <td>GGTCTCAATCTCCTAAACTCG</td>\n",
       "    </tr>\n",
       "    <tr>\n",
       "      <th>8</th>\n",
       "      <td>chr1</td>\n",
       "      <td>156843296-156843396</td>\n",
       "      <td>XRN</td>\n",
       "      <td>AFAEVN</td>\n",
       "      <td>MSI-H</td>\n",
       "      <td>J1</td>\n",
       "      <td>G1</td>\n",
       "      <td>C</td>\n",
       "      <td>TGCCC</td>\n",
       "      <td>ACTCGCTTTGCCCGTGGACTT</td>\n",
       "    </tr>\n",
       "  </tbody>\n",
       "</table>\n",
       "</div>"
      ],
      "text/plain": [
       "     Chr                  Pos  ID1     ID2 MSIstatus Junction Gene  1      5  \\\n",
       "0  chr10    43611864-43611964  XRN  6SJTT7     MSI-H       J1   G1  G  CGGTT   \n",
       "1   chr7  138268017-138268117  XRN  6SJTT7     MSI-H       J1   G2  C  TTCAT   \n",
       "2   chr7  140489379-140489479  XRN  DNF6WD       MSS       J1   G1  A  ACATT   \n",
       "3   chr7  138253042-138253142  XRN  DNF6WD       MSS       J1   G2  T  TCTCC   \n",
       "8   chr1  156843296-156843396  XRN  AFAEVN     MSI-H       J1   G1  C  TGCCC   \n",
       "\n",
       "                      21  \n",
       "0  ATGACAGCCGGTTCTCTGCAC  \n",
       "1  CAAGTTTTTTCATTAAAAATA  \n",
       "2  AGATGCACACATTGGAAGTAA  \n",
       "3  GGTCTCAATCTCCTAAACTCG  \n",
       "8  ACTCGCTTTGCCCGTGGACTT  "
      ]
     },
     "execution_count": 5,
     "metadata": {},
     "output_type": "execute_result"
    }
   ],
   "source": [
    "J1_bps = roughly_many_bp(splitJ1)\n",
    "J1_bps.head()"
   ]
  },
  {
   "cell_type": "code",
   "execution_count": 82,
   "metadata": {},
   "outputs": [
    {
     "data": {
      "text/plain": [
       "0    CGGTT\n",
       "1    TTCAT\n",
       "2    ACATT\n",
       "3    TCTCC\n",
       "8    TGCCC\n",
       "Name: 5, dtype: object"
      ]
     },
     "execution_count": 82,
     "metadata": {},
     "output_type": "execute_result"
    }
   ],
   "source": [
    "J1_bps[\"5\"].head()"
   ]
  },
  {
   "cell_type": "code",
   "execution_count": 70,
   "metadata": {},
   "outputs": [
    {
     "data": {
      "text/plain": [
       "0    0.6\n",
       "1    0.2\n",
       "2    0.2\n",
       "3    0.6\n",
       "8    0.8\n",
       "Name: 5, dtype: float64"
      ]
     },
     "execution_count": 70,
     "metadata": {},
     "output_type": "execute_result"
    }
   ],
   "source": [
    "ser = J1_bps[\"5\"]\n",
    "ser.str.len()\n",
    "ser.str.count(\"G\")\n",
    "GC_percentage_series(ser)"
   ]
  },
  {
   "cell_type": "code",
   "execution_count": 7,
   "metadata": {},
   "outputs": [
    {
     "data": {
      "text/html": [
       "<div>\n",
       "<style scoped>\n",
       "    .dataframe tbody tr th:only-of-type {\n",
       "        vertical-align: middle;\n",
       "    }\n",
       "\n",
       "    .dataframe tbody tr th {\n",
       "        vertical-align: top;\n",
       "    }\n",
       "\n",
       "    .dataframe thead th {\n",
       "        text-align: right;\n",
       "    }\n",
       "</style>\n",
       "<table border=\"1\" class=\"dataframe\">\n",
       "  <thead>\n",
       "    <tr style=\"text-align: right;\">\n",
       "      <th></th>\n",
       "      <th>Chr</th>\n",
       "      <th>Pos</th>\n",
       "      <th>ID1</th>\n",
       "      <th>ID2</th>\n",
       "      <th>MSIstatus</th>\n",
       "      <th>Junction</th>\n",
       "      <th>Gene</th>\n",
       "      <th>1</th>\n",
       "      <th>5</th>\n",
       "      <th>21</th>\n",
       "    </tr>\n",
       "  </thead>\n",
       "  <tbody>\n",
       "    <tr>\n",
       "      <th>0</th>\n",
       "      <td>chr10</td>\n",
       "      <td>43611864-43611964</td>\n",
       "      <td>XRN</td>\n",
       "      <td>6SJTT7</td>\n",
       "      <td>MSI-H</td>\n",
       "      <td>J1</td>\n",
       "      <td>G1</td>\n",
       "      <td>1.0</td>\n",
       "      <td>0.6</td>\n",
       "      <td>0.571429</td>\n",
       "    </tr>\n",
       "    <tr>\n",
       "      <th>1</th>\n",
       "      <td>chr7</td>\n",
       "      <td>138268017-138268117</td>\n",
       "      <td>XRN</td>\n",
       "      <td>6SJTT7</td>\n",
       "      <td>MSI-H</td>\n",
       "      <td>J1</td>\n",
       "      <td>G2</td>\n",
       "      <td>1.0</td>\n",
       "      <td>0.2</td>\n",
       "      <td>0.142857</td>\n",
       "    </tr>\n",
       "    <tr>\n",
       "      <th>2</th>\n",
       "      <td>chr7</td>\n",
       "      <td>140489379-140489479</td>\n",
       "      <td>XRN</td>\n",
       "      <td>DNF6WD</td>\n",
       "      <td>MSS</td>\n",
       "      <td>J1</td>\n",
       "      <td>G1</td>\n",
       "      <td>0.0</td>\n",
       "      <td>0.2</td>\n",
       "      <td>0.380952</td>\n",
       "    </tr>\n",
       "  </tbody>\n",
       "</table>\n",
       "</div>"
      ],
      "text/plain": [
       "     Chr                  Pos  ID1     ID2 MSIstatus Junction Gene    1    5  \\\n",
       "0  chr10    43611864-43611964  XRN  6SJTT7     MSI-H       J1   G1  1.0  0.6   \n",
       "1   chr7  138268017-138268117  XRN  6SJTT7     MSI-H       J1   G2  1.0  0.2   \n",
       "2   chr7  140489379-140489479  XRN  DNF6WD       MSS       J1   G1  0.0  0.2   \n",
       "\n",
       "         21  \n",
       "0  0.571429  \n",
       "1  0.142857  \n",
       "2  0.380952  "
      ]
     },
     "execution_count": 7,
     "metadata": {},
     "output_type": "execute_result"
    }
   ],
   "source": [
    "gc1521 = roughly_many_bp_GC(splitJ1)\n",
    "gc1521.head(3)"
   ]
  },
  {
   "cell_type": "code",
   "execution_count": 6,
   "metadata": {},
   "outputs": [
    {
     "data": {
      "text/html": [
       "<div>\n",
       "<style scoped>\n",
       "    .dataframe tbody tr th:only-of-type {\n",
       "        vertical-align: middle;\n",
       "    }\n",
       "\n",
       "    .dataframe tbody tr th {\n",
       "        vertical-align: top;\n",
       "    }\n",
       "\n",
       "    .dataframe thead th {\n",
       "        text-align: right;\n",
       "    }\n",
       "</style>\n",
       "<table border=\"1\" class=\"dataframe\">\n",
       "  <thead>\n",
       "    <tr style=\"text-align: right;\">\n",
       "      <th></th>\n",
       "      <th>Chr</th>\n",
       "      <th>Pos</th>\n",
       "      <th>ID1</th>\n",
       "      <th>ID2</th>\n",
       "      <th>MSIstatus</th>\n",
       "      <th>Junction</th>\n",
       "      <th>Gene</th>\n",
       "      <th>1</th>\n",
       "      <th>3</th>\n",
       "      <th>5</th>\n",
       "      <th>7</th>\n",
       "      <th>9</th>\n",
       "      <th>11</th>\n",
       "      <th>13</th>\n",
       "      <th>15</th>\n",
       "      <th>17</th>\n",
       "      <th>19</th>\n",
       "      <th>21</th>\n",
       "    </tr>\n",
       "  </thead>\n",
       "  <tbody>\n",
       "    <tr>\n",
       "      <th>0</th>\n",
       "      <td>chr10</td>\n",
       "      <td>43611864-43611964</td>\n",
       "      <td>XRN</td>\n",
       "      <td>6SJTT7</td>\n",
       "      <td>MSI-H</td>\n",
       "      <td>J1</td>\n",
       "      <td>G1</td>\n",
       "      <td>1.0</td>\n",
       "      <td>0.666667</td>\n",
       "      <td>0.6</td>\n",
       "      <td>0.714286</td>\n",
       "      <td>0.666667</td>\n",
       "      <td>0.636364</td>\n",
       "      <td>0.615385</td>\n",
       "      <td>0.600000</td>\n",
       "      <td>0.647059</td>\n",
       "      <td>0.578947</td>\n",
       "      <td>0.571429</td>\n",
       "    </tr>\n",
       "    <tr>\n",
       "      <th>1</th>\n",
       "      <td>chr7</td>\n",
       "      <td>138268017-138268117</td>\n",
       "      <td>XRN</td>\n",
       "      <td>6SJTT7</td>\n",
       "      <td>MSI-H</td>\n",
       "      <td>J1</td>\n",
       "      <td>G2</td>\n",
       "      <td>1.0</td>\n",
       "      <td>0.333333</td>\n",
       "      <td>0.2</td>\n",
       "      <td>0.142857</td>\n",
       "      <td>0.111111</td>\n",
       "      <td>0.090909</td>\n",
       "      <td>0.076923</td>\n",
       "      <td>0.133333</td>\n",
       "      <td>0.117647</td>\n",
       "      <td>0.105263</td>\n",
       "      <td>0.142857</td>\n",
       "    </tr>\n",
       "    <tr>\n",
       "      <th>2</th>\n",
       "      <td>chr7</td>\n",
       "      <td>140489379-140489479</td>\n",
       "      <td>XRN</td>\n",
       "      <td>DNF6WD</td>\n",
       "      <td>MSS</td>\n",
       "      <td>J1</td>\n",
       "      <td>G1</td>\n",
       "      <td>0.0</td>\n",
       "      <td>0.333333</td>\n",
       "      <td>0.2</td>\n",
       "      <td>0.428571</td>\n",
       "      <td>0.444444</td>\n",
       "      <td>0.454545</td>\n",
       "      <td>0.461538</td>\n",
       "      <td>0.466667</td>\n",
       "      <td>0.411765</td>\n",
       "      <td>0.421053</td>\n",
       "      <td>0.380952</td>\n",
       "    </tr>\n",
       "  </tbody>\n",
       "</table>\n",
       "</div>"
      ],
      "text/plain": [
       "     Chr                  Pos  ID1     ID2 MSIstatus Junction Gene    1  \\\n",
       "0  chr10    43611864-43611964  XRN  6SJTT7     MSI-H       J1   G1  1.0   \n",
       "1   chr7  138268017-138268117  XRN  6SJTT7     MSI-H       J1   G2  1.0   \n",
       "2   chr7  140489379-140489479  XRN  DNF6WD       MSS       J1   G1  0.0   \n",
       "\n",
       "          3    5         7         9        11        13        15        17  \\\n",
       "0  0.666667  0.6  0.714286  0.666667  0.636364  0.615385  0.600000  0.647059   \n",
       "1  0.333333  0.2  0.142857  0.111111  0.090909  0.076923  0.133333  0.117647   \n",
       "2  0.333333  0.2  0.428571  0.444444  0.454545  0.461538  0.466667  0.411765   \n",
       "\n",
       "         19        21  \n",
       "0  0.578947  0.571429  \n",
       "1  0.105263  0.142857  \n",
       "2  0.421053  0.380952  "
      ]
     },
     "execution_count": 6,
     "metadata": {},
     "output_type": "execute_result"
    }
   ],
   "source": [
    "roughly_many_bp_GC(splitJ1, wings = range(0,11)).head(3)"
   ]
  },
  {
   "cell_type": "markdown",
   "metadata": {},
   "source": [
    "## Junction 2 (J2)"
   ]
  },
  {
   "cell_type": "code",
   "execution_count": 3,
   "metadata": {},
   "outputs": [
    {
     "data": {
      "text/html": [
       "<div>\n",
       "<style scoped>\n",
       "    .dataframe tbody tr th:only-of-type {\n",
       "        vertical-align: middle;\n",
       "    }\n",
       "\n",
       "    .dataframe tbody tr th {\n",
       "        vertical-align: top;\n",
       "    }\n",
       "\n",
       "    .dataframe thead th {\n",
       "        text-align: right;\n",
       "    }\n",
       "</style>\n",
       "<table border=\"1\" class=\"dataframe\">\n",
       "  <thead>\n",
       "    <tr style=\"text-align: right;\">\n",
       "      <th></th>\n",
       "      <th>IDs</th>\n",
       "      <th>50+1+50</th>\n",
       "    </tr>\n",
       "  </thead>\n",
       "  <tbody>\n",
       "    <tr>\n",
       "      <th>0</th>\n",
       "      <td>chr7:140489380-140489480:XRN:DNF6WD:MSS:J2:G1</td>\n",
       "      <td>ACTTTCCATTCTTGAGAGCTTACAATCTCATGGGAAGTAAGATGCA...</td>\n",
       "    </tr>\n",
       "    <tr>\n",
       "      <th>1</th>\n",
       "      <td>chr7:138253043-138253143:XRN:DNF6WD:MSS:J2:G2</td>\n",
       "      <td>TTTTTAGTAGAGACTGGGTTTCACCGTGTTAGCCAGGATGGTCTCA...</td>\n",
       "    </tr>\n",
       "    <tr>\n",
       "      <th>2</th>\n",
       "      <td>chr10:43607709-43607809:XRN:E3F52H:MSI</td>\n",
       "      <td>GCGATGGCACCGGTGGAAACGGGGTCCTGGGGCCCTGCCAGCCTGG...</td>\n",
       "    </tr>\n",
       "    <tr>\n",
       "      <th>3</th>\n",
       "      <td>chr10:51587649-51587749:XRN:E3F52H:MSI</td>\n",
       "      <td>GATGTTTTATTAGCAAACATGAAAACATTAATCTCCTTCTGCATCT...</td>\n",
       "    </tr>\n",
       "    <tr>\n",
       "      <th>4</th>\n",
       "      <td>chr1:156843298-156843398:XRN:AFAEVN:MSI-H:J2:G1</td>\n",
       "      <td>CCTGTTTCTCCCAGGCCTGCCCTTTGATTTCGGGTTCTACTCGCTT...</td>\n",
       "    </tr>\n",
       "  </tbody>\n",
       "</table>\n",
       "</div>"
      ],
      "text/plain": [
       "                                               IDs  \\\n",
       "0    chr7:140489380-140489480:XRN:DNF6WD:MSS:J2:G1   \n",
       "1    chr7:138253043-138253143:XRN:DNF6WD:MSS:J2:G2   \n",
       "2           chr10:43607709-43607809:XRN:E3F52H:MSI   \n",
       "3           chr10:51587649-51587749:XRN:E3F52H:MSI   \n",
       "4  chr1:156843298-156843398:XRN:AFAEVN:MSI-H:J2:G1   \n",
       "\n",
       "                                             50+1+50  \n",
       "0  ACTTTCCATTCTTGAGAGCTTACAATCTCATGGGAAGTAAGATGCA...  \n",
       "1  TTTTTAGTAGAGACTGGGTTTCACCGTGTTAGCCAGGATGGTCTCA...  \n",
       "2  GCGATGGCACCGGTGGAAACGGGGTCCTGGGGCCCTGCCAGCCTGG...  \n",
       "3  GATGTTTTATTAGCAAACATGAAAACATTAATCTCCTTCTGCATCT...  \n",
       "4  CCTGTTTCTCCCAGGCCTGCCCTTTGATTTCGGGTTCTACTCGCTT...  "
      ]
     },
     "execution_count": 3,
     "metadata": {},
     "output_type": "execute_result"
    }
   ],
   "source": [
    "with open(\"data_Junction_Regions_CRC_4_19_20_deid_J2.fa\") as handle:\n",
    "    Seqs = pd.Series([str(record.seq) for record in SeqIO.parse(handle,\"fasta\")])\n",
    "with open(\"data_Junction_Regions_CRC_4_19_20_deid_J2.fa\") as handle:\n",
    "    IDs = pd.Series([record.id for record in SeqIO.parse(handle,\"fasta\")])\n",
    "J2_tbl = pd.DataFrame({'IDs': IDs, \"50+1+50\": Seqs})\n",
    "J2_tbl.head()"
   ]
  },
  {
   "cell_type": "code",
   "execution_count": 4,
   "metadata": {
    "scrolled": true
   },
   "outputs": [],
   "source": [
    "splitJ2 = Split_IDs(J2_tbl)\n",
    "J2_bps = roughly_many_bp(splitJ2)\n",
    "J2gc1521 = roughly_many_bp_GC(splitJ2)"
   ]
  },
  {
   "cell_type": "code",
   "execution_count": 5,
   "metadata": {},
   "outputs": [
    {
     "data": {
      "text/html": [
       "<div>\n",
       "<style scoped>\n",
       "    .dataframe tbody tr th:only-of-type {\n",
       "        vertical-align: middle;\n",
       "    }\n",
       "\n",
       "    .dataframe tbody tr th {\n",
       "        vertical-align: top;\n",
       "    }\n",
       "\n",
       "    .dataframe thead th {\n",
       "        text-align: right;\n",
       "    }\n",
       "</style>\n",
       "<table border=\"1\" class=\"dataframe\">\n",
       "  <thead>\n",
       "    <tr style=\"text-align: right;\">\n",
       "      <th></th>\n",
       "      <th>Chr</th>\n",
       "      <th>Pos</th>\n",
       "      <th>ID1</th>\n",
       "      <th>ID2</th>\n",
       "      <th>MSIstatus</th>\n",
       "      <th>Junction</th>\n",
       "      <th>Gene</th>\n",
       "      <th>1</th>\n",
       "      <th>5</th>\n",
       "      <th>21</th>\n",
       "    </tr>\n",
       "  </thead>\n",
       "  <tbody>\n",
       "    <tr>\n",
       "      <th>0</th>\n",
       "      <td>chr7</td>\n",
       "      <td>140489380-140489480</td>\n",
       "      <td>XRN</td>\n",
       "      <td>DNF6WD</td>\n",
       "      <td>MSS</td>\n",
       "      <td>J2</td>\n",
       "      <td>G1</td>\n",
       "      <td>0.0</td>\n",
       "      <td>0.4</td>\n",
       "      <td>0.428571</td>\n",
       "    </tr>\n",
       "    <tr>\n",
       "      <th>1</th>\n",
       "      <td>chr7</td>\n",
       "      <td>138253043-138253143</td>\n",
       "      <td>XRN</td>\n",
       "      <td>DNF6WD</td>\n",
       "      <td>MSS</td>\n",
       "      <td>J2</td>\n",
       "      <td>G2</td>\n",
       "      <td>1.0</td>\n",
       "      <td>0.6</td>\n",
       "      <td>0.428571</td>\n",
       "    </tr>\n",
       "    <tr>\n",
       "      <th>4</th>\n",
       "      <td>chr1</td>\n",
       "      <td>156843298-156843398</td>\n",
       "      <td>XRN</td>\n",
       "      <td>AFAEVN</td>\n",
       "      <td>MSI-H</td>\n",
       "      <td>J2</td>\n",
       "      <td>G1</td>\n",
       "      <td>1.0</td>\n",
       "      <td>0.8</td>\n",
       "      <td>0.571429</td>\n",
       "    </tr>\n",
       "  </tbody>\n",
       "</table>\n",
       "</div>"
      ],
      "text/plain": [
       "    Chr                  Pos  ID1     ID2 MSIstatus Junction Gene    1    5  \\\n",
       "0  chr7  140489380-140489480  XRN  DNF6WD       MSS       J2   G1  0.0  0.4   \n",
       "1  chr7  138253043-138253143  XRN  DNF6WD       MSS       J2   G2  1.0  0.6   \n",
       "4  chr1  156843298-156843398  XRN  AFAEVN     MSI-H       J2   G1  1.0  0.8   \n",
       "\n",
       "         21  \n",
       "0  0.428571  \n",
       "1  0.428571  \n",
       "4  0.571429  "
      ]
     },
     "execution_count": 5,
     "metadata": {},
     "output_type": "execute_result"
    }
   ],
   "source": [
    "J2gc1521.head(3)"
   ]
  },
  {
   "cell_type": "code",
   "execution_count": 6,
   "metadata": {},
   "outputs": [
    {
     "data": {
      "text/html": [
       "<div>\n",
       "<style scoped>\n",
       "    .dataframe tbody tr th:only-of-type {\n",
       "        vertical-align: middle;\n",
       "    }\n",
       "\n",
       "    .dataframe tbody tr th {\n",
       "        vertical-align: top;\n",
       "    }\n",
       "\n",
       "    .dataframe thead th {\n",
       "        text-align: right;\n",
       "    }\n",
       "</style>\n",
       "<table border=\"1\" class=\"dataframe\">\n",
       "  <thead>\n",
       "    <tr style=\"text-align: right;\">\n",
       "      <th></th>\n",
       "      <th>Chr</th>\n",
       "      <th>Pos</th>\n",
       "      <th>ID1</th>\n",
       "      <th>ID2</th>\n",
       "      <th>MSIstatus</th>\n",
       "      <th>Junction</th>\n",
       "      <th>Gene</th>\n",
       "      <th>1</th>\n",
       "      <th>3</th>\n",
       "      <th>5</th>\n",
       "      <th>7</th>\n",
       "      <th>9</th>\n",
       "      <th>11</th>\n",
       "      <th>13</th>\n",
       "      <th>15</th>\n",
       "      <th>17</th>\n",
       "      <th>19</th>\n",
       "      <th>21</th>\n",
       "    </tr>\n",
       "  </thead>\n",
       "  <tbody>\n",
       "    <tr>\n",
       "      <th>0</th>\n",
       "      <td>chr7</td>\n",
       "      <td>140489380-140489480</td>\n",
       "      <td>XRN</td>\n",
       "      <td>DNF6WD</td>\n",
       "      <td>MSS</td>\n",
       "      <td>J2</td>\n",
       "      <td>G1</td>\n",
       "      <td>0.0</td>\n",
       "      <td>0.000000</td>\n",
       "      <td>0.4</td>\n",
       "      <td>0.428571</td>\n",
       "      <td>0.444444</td>\n",
       "      <td>0.363636</td>\n",
       "      <td>0.461538</td>\n",
       "      <td>0.466667</td>\n",
       "      <td>0.411765</td>\n",
       "      <td>0.368421</td>\n",
       "      <td>0.428571</td>\n",
       "    </tr>\n",
       "    <tr>\n",
       "      <th>1</th>\n",
       "      <td>chr7</td>\n",
       "      <td>138253043-138253143</td>\n",
       "      <td>XRN</td>\n",
       "      <td>DNF6WD</td>\n",
       "      <td>MSS</td>\n",
       "      <td>J2</td>\n",
       "      <td>G2</td>\n",
       "      <td>1.0</td>\n",
       "      <td>0.666667</td>\n",
       "      <td>0.6</td>\n",
       "      <td>0.428571</td>\n",
       "      <td>0.333333</td>\n",
       "      <td>0.272727</td>\n",
       "      <td>0.384615</td>\n",
       "      <td>0.333333</td>\n",
       "      <td>0.411765</td>\n",
       "      <td>0.421053</td>\n",
       "      <td>0.428571</td>\n",
       "    </tr>\n",
       "    <tr>\n",
       "      <th>4</th>\n",
       "      <td>chr1</td>\n",
       "      <td>156843298-156843398</td>\n",
       "      <td>XRN</td>\n",
       "      <td>AFAEVN</td>\n",
       "      <td>MSI-H</td>\n",
       "      <td>J2</td>\n",
       "      <td>G1</td>\n",
       "      <td>1.0</td>\n",
       "      <td>1.000000</td>\n",
       "      <td>0.8</td>\n",
       "      <td>0.857143</td>\n",
       "      <td>0.777778</td>\n",
       "      <td>0.636364</td>\n",
       "      <td>0.615385</td>\n",
       "      <td>0.600000</td>\n",
       "      <td>0.588235</td>\n",
       "      <td>0.631579</td>\n",
       "      <td>0.571429</td>\n",
       "    </tr>\n",
       "  </tbody>\n",
       "</table>\n",
       "</div>"
      ],
      "text/plain": [
       "    Chr                  Pos  ID1     ID2 MSIstatus Junction Gene    1  \\\n",
       "0  chr7  140489380-140489480  XRN  DNF6WD       MSS       J2   G1  0.0   \n",
       "1  chr7  138253043-138253143  XRN  DNF6WD       MSS       J2   G2  1.0   \n",
       "4  chr1  156843298-156843398  XRN  AFAEVN     MSI-H       J2   G1  1.0   \n",
       "\n",
       "          3    5         7         9        11        13        15        17  \\\n",
       "0  0.000000  0.4  0.428571  0.444444  0.363636  0.461538  0.466667  0.411765   \n",
       "1  0.666667  0.6  0.428571  0.333333  0.272727  0.384615  0.333333  0.411765   \n",
       "4  1.000000  0.8  0.857143  0.777778  0.636364  0.615385  0.600000  0.588235   \n",
       "\n",
       "         19        21  \n",
       "0  0.368421  0.428571  \n",
       "1  0.421053  0.428571  \n",
       "4  0.631579  0.571429  "
      ]
     },
     "execution_count": 6,
     "metadata": {},
     "output_type": "execute_result"
    }
   ],
   "source": [
    "roughly_many_bp_GC(splitJ2, wings = range(0,11)).head(3)"
   ]
  },
  {
   "cell_type": "markdown",
   "metadata": {},
   "source": [
    "# Group by Gene and lineplot by MSIstatus"
   ]
  },
  {
   "cell_type": "markdown",
   "metadata": {},
   "source": [
    "## Junction 1 (J1)"
   ]
  },
  {
   "cell_type": "code",
   "execution_count": 8,
   "metadata": {},
   "outputs": [
    {
     "name": "stdout",
     "output_type": "stream",
     "text": [
      "('G1', 'MSI-H')\n",
      "('G1', 'MSS')\n",
      "('G2', 'MSI-H')\n",
      "('G2', 'MSS')\n"
     ]
    }
   ],
   "source": [
    "grouped = gc1521.groupby([\"Gene\",\"MSIstatus\"])\n",
    "for name, group in grouped:\n",
    "    print(name)"
   ]
  },
  {
   "cell_type": "code",
   "execution_count": 9,
   "metadata": {},
   "outputs": [
    {
     "data": {
      "text/html": [
       "<div>\n",
       "<style scoped>\n",
       "    .dataframe tbody tr th:only-of-type {\n",
       "        vertical-align: middle;\n",
       "    }\n",
       "\n",
       "    .dataframe tbody tr th {\n",
       "        vertical-align: top;\n",
       "    }\n",
       "\n",
       "    .dataframe thead th {\n",
       "        text-align: right;\n",
       "    }\n",
       "</style>\n",
       "<table border=\"1\" class=\"dataframe\">\n",
       "  <thead>\n",
       "    <tr style=\"text-align: right;\">\n",
       "      <th></th>\n",
       "      <th></th>\n",
       "      <th>mean</th>\n",
       "      <th>std</th>\n",
       "      <th>size</th>\n",
       "      <th>sum</th>\n",
       "    </tr>\n",
       "    <tr>\n",
       "      <th>Gene</th>\n",
       "      <th>MSIstatus</th>\n",
       "      <th></th>\n",
       "      <th></th>\n",
       "      <th></th>\n",
       "      <th></th>\n",
       "    </tr>\n",
       "  </thead>\n",
       "  <tbody>\n",
       "    <tr>\n",
       "      <th rowspan=\"2\" valign=\"top\">G1</th>\n",
       "      <th>MSI-H</th>\n",
       "      <td>0.546584</td>\n",
       "      <td>0.127165</td>\n",
       "      <td>92.0</td>\n",
       "      <td>50.285714</td>\n",
       "    </tr>\n",
       "    <tr>\n",
       "      <th>MSS</th>\n",
       "      <td>0.473352</td>\n",
       "      <td>0.157285</td>\n",
       "      <td>151.0</td>\n",
       "      <td>71.476190</td>\n",
       "    </tr>\n",
       "    <tr>\n",
       "      <th rowspan=\"2\" valign=\"top\">G2</th>\n",
       "      <th>MSI-H</th>\n",
       "      <td>0.484472</td>\n",
       "      <td>0.133499</td>\n",
       "      <td>92.0</td>\n",
       "      <td>44.571429</td>\n",
       "    </tr>\n",
       "    <tr>\n",
       "      <th>MSS</th>\n",
       "      <td>0.430148</td>\n",
       "      <td>0.145730</td>\n",
       "      <td>151.0</td>\n",
       "      <td>64.952381</td>\n",
       "    </tr>\n",
       "  </tbody>\n",
       "</table>\n",
       "</div>"
      ],
      "text/plain": [
       "                    mean       std   size        sum\n",
       "Gene MSIstatus                                      \n",
       "G1   MSI-H      0.546584  0.127165   92.0  50.285714\n",
       "     MSS        0.473352  0.157285  151.0  71.476190\n",
       "G2   MSI-H      0.484472  0.133499   92.0  44.571429\n",
       "     MSS        0.430148  0.145730  151.0  64.952381"
      ]
     },
     "execution_count": 9,
     "metadata": {},
     "output_type": "execute_result"
    }
   ],
   "source": [
    "grouped['21'].agg([np.mean, np.std, np.size, np.sum])"
   ]
  },
  {
   "cell_type": "code",
   "execution_count": 10,
   "metadata": {},
   "outputs": [
    {
     "data": {
      "text/plain": [
       "pandas.core.frame.DataFrame"
      ]
     },
     "execution_count": 10,
     "metadata": {},
     "output_type": "execute_result"
    }
   ],
   "source": [
    "type(grouped.agg([np.mean, np.std]))"
   ]
  },
  {
   "cell_type": "code",
   "execution_count": 11,
   "metadata": {},
   "outputs": [
    {
     "data": {
      "text/plain": [
       "MultiIndex(levels=[['G1', 'G2'], ['MSI-H', 'MSS']],\n",
       "           labels=[[0, 0, 1, 1], [0, 1, 0, 1]],\n",
       "           names=['Gene', 'MSIstatus'])"
      ]
     },
     "execution_count": 11,
     "metadata": {},
     "output_type": "execute_result"
    }
   ],
   "source": [
    "grouped.agg([np.mean, np.std]).index"
   ]
  },
  {
   "cell_type": "code",
   "execution_count": 67,
   "metadata": {},
   "outputs": [
    {
     "data": {
      "text/html": [
       "<div>\n",
       "<style scoped>\n",
       "    .dataframe tbody tr th:only-of-type {\n",
       "        vertical-align: middle;\n",
       "    }\n",
       "\n",
       "    .dataframe tbody tr th {\n",
       "        vertical-align: top;\n",
       "    }\n",
       "\n",
       "    .dataframe thead th {\n",
       "        text-align: right;\n",
       "    }\n",
       "</style>\n",
       "<table border=\"1\" class=\"dataframe\">\n",
       "  <thead>\n",
       "    <tr style=\"text-align: right;\">\n",
       "      <th></th>\n",
       "      <th></th>\n",
       "      <th>1</th>\n",
       "      <th>5</th>\n",
       "      <th>21</th>\n",
       "    </tr>\n",
       "    <tr>\n",
       "      <th>Gene</th>\n",
       "      <th>MSIstatus</th>\n",
       "      <th></th>\n",
       "      <th></th>\n",
       "      <th></th>\n",
       "    </tr>\n",
       "  </thead>\n",
       "  <tbody>\n",
       "    <tr>\n",
       "      <th rowspan=\"2\" valign=\"top\">G1</th>\n",
       "      <th>MSI-H</th>\n",
       "      <td>0.565217</td>\n",
       "      <td>0.534783</td>\n",
       "      <td>0.546584</td>\n",
       "    </tr>\n",
       "    <tr>\n",
       "      <th>MSS</th>\n",
       "      <td>0.430464</td>\n",
       "      <td>0.491391</td>\n",
       "      <td>0.473352</td>\n",
       "    </tr>\n",
       "    <tr>\n",
       "      <th rowspan=\"2\" valign=\"top\">G2</th>\n",
       "      <th>MSI-H</th>\n",
       "      <td>0.489130</td>\n",
       "      <td>0.482609</td>\n",
       "      <td>0.484472</td>\n",
       "    </tr>\n",
       "    <tr>\n",
       "      <th>MSS</th>\n",
       "      <td>0.377483</td>\n",
       "      <td>0.419868</td>\n",
       "      <td>0.430148</td>\n",
       "    </tr>\n",
       "  </tbody>\n",
       "</table>\n",
       "</div>"
      ],
      "text/plain": [
       "                       1         5        21\n",
       "Gene MSIstatus                              \n",
       "G1   MSI-H      0.565217  0.534783  0.546584\n",
       "     MSS        0.430464  0.491391  0.473352\n",
       "G2   MSI-H      0.489130  0.482609  0.484472\n",
       "     MSS        0.377483  0.419868  0.430148"
      ]
     },
     "execution_count": 67,
     "metadata": {},
     "output_type": "execute_result"
    }
   ],
   "source": [
    "to_plot = grouped.agg(np.mean)#.reset_index()\n",
    "to_plot"
   ]
  },
  {
   "cell_type": "code",
   "execution_count": 68,
   "metadata": {},
   "outputs": [
    {
     "data": {
      "text/html": [
       "<div>\n",
       "<style scoped>\n",
       "    .dataframe tbody tr th:only-of-type {\n",
       "        vertical-align: middle;\n",
       "    }\n",
       "\n",
       "    .dataframe tbody tr th {\n",
       "        vertical-align: top;\n",
       "    }\n",
       "\n",
       "    .dataframe thead th {\n",
       "        text-align: right;\n",
       "    }\n",
       "</style>\n",
       "<table border=\"1\" class=\"dataframe\">\n",
       "  <thead>\n",
       "    <tr style=\"text-align: right;\">\n",
       "      <th></th>\n",
       "      <th>Gene</th>\n",
       "      <th>MSIstatus</th>\n",
       "      <th>bp</th>\n",
       "      <th>GCcontent</th>\n",
       "    </tr>\n",
       "  </thead>\n",
       "  <tbody>\n",
       "    <tr>\n",
       "      <th>0</th>\n",
       "      <td>G1</td>\n",
       "      <td>MSI-H</td>\n",
       "      <td>1</td>\n",
       "      <td>0.565217</td>\n",
       "    </tr>\n",
       "    <tr>\n",
       "      <th>1</th>\n",
       "      <td>G1</td>\n",
       "      <td>MSI-H</td>\n",
       "      <td>5</td>\n",
       "      <td>0.534783</td>\n",
       "    </tr>\n",
       "    <tr>\n",
       "      <th>2</th>\n",
       "      <td>G1</td>\n",
       "      <td>MSI-H</td>\n",
       "      <td>21</td>\n",
       "      <td>0.546584</td>\n",
       "    </tr>\n",
       "    <tr>\n",
       "      <th>3</th>\n",
       "      <td>G1</td>\n",
       "      <td>MSS</td>\n",
       "      <td>1</td>\n",
       "      <td>0.430464</td>\n",
       "    </tr>\n",
       "    <tr>\n",
       "      <th>4</th>\n",
       "      <td>G1</td>\n",
       "      <td>MSS</td>\n",
       "      <td>5</td>\n",
       "      <td>0.491391</td>\n",
       "    </tr>\n",
       "    <tr>\n",
       "      <th>5</th>\n",
       "      <td>G1</td>\n",
       "      <td>MSS</td>\n",
       "      <td>21</td>\n",
       "      <td>0.473352</td>\n",
       "    </tr>\n",
       "    <tr>\n",
       "      <th>6</th>\n",
       "      <td>G2</td>\n",
       "      <td>MSI-H</td>\n",
       "      <td>1</td>\n",
       "      <td>0.489130</td>\n",
       "    </tr>\n",
       "    <tr>\n",
       "      <th>7</th>\n",
       "      <td>G2</td>\n",
       "      <td>MSI-H</td>\n",
       "      <td>5</td>\n",
       "      <td>0.482609</td>\n",
       "    </tr>\n",
       "    <tr>\n",
       "      <th>8</th>\n",
       "      <td>G2</td>\n",
       "      <td>MSI-H</td>\n",
       "      <td>21</td>\n",
       "      <td>0.484472</td>\n",
       "    </tr>\n",
       "    <tr>\n",
       "      <th>9</th>\n",
       "      <td>G2</td>\n",
       "      <td>MSS</td>\n",
       "      <td>1</td>\n",
       "      <td>0.377483</td>\n",
       "    </tr>\n",
       "    <tr>\n",
       "      <th>10</th>\n",
       "      <td>G2</td>\n",
       "      <td>MSS</td>\n",
       "      <td>5</td>\n",
       "      <td>0.419868</td>\n",
       "    </tr>\n",
       "    <tr>\n",
       "      <th>11</th>\n",
       "      <td>G2</td>\n",
       "      <td>MSS</td>\n",
       "      <td>21</td>\n",
       "      <td>0.430148</td>\n",
       "    </tr>\n",
       "  </tbody>\n",
       "</table>\n",
       "</div>"
      ],
      "text/plain": [
       "   Gene MSIstatus  bp  GCcontent\n",
       "0    G1     MSI-H   1   0.565217\n",
       "1    G1     MSI-H   5   0.534783\n",
       "2    G1     MSI-H  21   0.546584\n",
       "3    G1       MSS   1   0.430464\n",
       "4    G1       MSS   5   0.491391\n",
       "5    G1       MSS  21   0.473352\n",
       "6    G2     MSI-H   1   0.489130\n",
       "7    G2     MSI-H   5   0.482609\n",
       "8    G2     MSI-H  21   0.484472\n",
       "9    G2       MSS   1   0.377483\n",
       "10   G2       MSS   5   0.419868\n",
       "11   G2       MSS  21   0.430148"
      ]
     },
     "execution_count": 68,
     "metadata": {},
     "output_type": "execute_result"
    }
   ],
   "source": [
    "to_plot.columns.name = 'bp'\n",
    "to_plot = to_plot.stack()\n",
    "to_plot.name = \"GCcontent\"\n",
    "to_plot = to_plot.reset_index()\n",
    "to_plot['bp'] = pd.to_numeric(to_plot['bp']) # convert str to numeric\n",
    "to_plot"
   ]
  },
  {
   "cell_type": "code",
   "execution_count": 60,
   "metadata": {},
   "outputs": [
    {
     "data": {
      "text/plain": [
       "numpy.int64"
      ]
     },
     "execution_count": 60,
     "metadata": {},
     "output_type": "execute_result"
    }
   ],
   "source": [
    "type(to_plot.bp[0])"
   ]
  },
  {
   "cell_type": "code",
   "execution_count": 50,
   "metadata": {},
   "outputs": [
    {
     "data": {
      "text/html": [
       "<div>\n",
       "<style scoped>\n",
       "    .dataframe tbody tr th:only-of-type {\n",
       "        vertical-align: middle;\n",
       "    }\n",
       "\n",
       "    .dataframe tbody tr th {\n",
       "        vertical-align: top;\n",
       "    }\n",
       "\n",
       "    .dataframe thead th {\n",
       "        text-align: right;\n",
       "    }\n",
       "</style>\n",
       "<table border=\"1\" class=\"dataframe\">\n",
       "  <thead>\n",
       "    <tr style=\"text-align: right;\">\n",
       "      <th></th>\n",
       "      <th>pig</th>\n",
       "      <th>horse</th>\n",
       "    </tr>\n",
       "  </thead>\n",
       "  <tbody>\n",
       "    <tr>\n",
       "      <th>1990</th>\n",
       "      <td>20</td>\n",
       "      <td>4</td>\n",
       "    </tr>\n",
       "    <tr>\n",
       "      <th>1997</th>\n",
       "      <td>18</td>\n",
       "      <td>25</td>\n",
       "    </tr>\n",
       "    <tr>\n",
       "      <th>2003</th>\n",
       "      <td>489</td>\n",
       "      <td>281</td>\n",
       "    </tr>\n",
       "    <tr>\n",
       "      <th>2009</th>\n",
       "      <td>675</td>\n",
       "      <td>600</td>\n",
       "    </tr>\n",
       "    <tr>\n",
       "      <th>2014</th>\n",
       "      <td>1776</td>\n",
       "      <td>1900</td>\n",
       "    </tr>\n",
       "  </tbody>\n",
       "</table>\n",
       "</div>"
      ],
      "text/plain": [
       "       pig  horse\n",
       "1990    20      4\n",
       "1997    18     25\n",
       "2003   489    281\n",
       "2009   675    600\n",
       "2014  1776   1900"
      ]
     },
     "execution_count": 50,
     "metadata": {},
     "output_type": "execute_result"
    },
    {
     "data": {
      "image/png": "[encoded data removed]",
      "text/plain": [
       "<Figure size 432x288 with 1 Axes>"
      ]
     },
     "metadata": {
      "needs_background": "light"
     },
     "output_type": "display_data"
    }
   ],
   "source": [
    "df = pd.DataFrame({\n",
    "   'pig': [20, 18, 489, 675, 1776],\n",
    "   'horse': [4, 25, 281, 600, 1900]\n",
    "   }, index=[1990, 1997, 2003, 2009, 2014])\n",
    "lines = df.plot.line()\n",
    "df"
   ]
  },
  {
   "cell_type": "code",
   "execution_count": 65,
   "metadata": {},
   "outputs": [
    {
     "data": {
      "text/plain": [
       "<matplotlib.axes._subplots.AxesSubplot at 0x1136bf668>"
      ]
     },
     "execution_count": 65,
     "metadata": {},
     "output_type": "execute_result"
    },
    {
     "data": {
      "image/png": "[encoded data removed]",
      "text/plain": [
       "<Figure size 432x288 with 1 Axes>"
      ]
     },
     "metadata": {
      "needs_background": "light"
     },
     "output_type": "display_data"
    }
   ],
   "source": [
    "to_plot.plot(by = 'bp')"
   ]
  },
  {
   "cell_type": "code",
   "execution_count": 82,
   "metadata": {},
   "outputs": [
    {
     "data": {
      "text/plain": [
       "<matplotlib.axes._subplots.AxesSubplot at 0x113994b70>"
      ]
     },
     "execution_count": 82,
     "metadata": {},
     "output_type": "execute_result"
    },
    {
     "data": {
      "image/png": "[encoded data removed]",
      "text/plain": [
       "<Figure size 432x288 with 1 Axes>"
      ]
     },
     "metadata": {
      "needs_background": "light"
     },
     "output_type": "display_data"
    }
   ],
   "source": [
    "to_plot_by_MSI = to_plot.iloc[0:6,:].pivot(index = 'bp', columns = 'MSIstatus', values = 'GCcontent')\n",
    "to_plot_by_MSI.plot.line()"
   ]
  },
  {
   "cell_type": "code",
   "execution_count": 100,
   "metadata": {},
   "outputs": [
    {
     "data": {
      "text/plain": [
       "<matplotlib.axes._subplots.AxesSubplot at 0x113698b00>"
      ]
     },
     "execution_count": 100,
     "metadata": {},
     "output_type": "execute_result"
    },
    {
     "data": {
      "image/png": "[encoded data removed]",
      "text/plain": [
       "<Figure size 432x288 with 1 Axes>"
      ]
     },
     "metadata": {
      "needs_background": "light"
     },
     "output_type": "display_data"
    }
   ],
   "source": [
    "to_plot.iloc[6:,:].pivot(index = 'bp', columns = 'MSIstatus', values = 'GCcontent').plot.line()"
   ]
  },
  {
   "cell_type": "markdown",
   "metadata": {},
   "source": [
    "## Junction 2 (J2)"
   ]
  },
  {
   "cell_type": "markdown",
   "metadata": {},
   "source": [
    "# Plot contiue"
   ]
  },
  {
   "cell_type": "markdown",
   "metadata": {},
   "source": [
    "## Junction 1 (J1)"
   ]
  },
  {
   "cell_type": "code",
   "execution_count": 94,
   "metadata": {},
   "outputs": [
    {
     "data": {
      "text/html": [
       "<div>\n",
       "<style scoped>\n",
       "    .dataframe tbody tr th:only-of-type {\n",
       "        vertical-align: middle;\n",
       "    }\n",
       "\n",
       "    .dataframe tbody tr th {\n",
       "        vertical-align: top;\n",
       "    }\n",
       "\n",
       "    .dataframe thead tr th {\n",
       "        text-align: left;\n",
       "    }\n",
       "</style>\n",
       "<table border=\"1\" class=\"dataframe\">\n",
       "  <thead>\n",
       "    <tr>\n",
       "      <th>Gene</th>\n",
       "      <th colspan=\"2\" halign=\"left\">G1</th>\n",
       "      <th colspan=\"2\" halign=\"left\">G2</th>\n",
       "    </tr>\n",
       "    <tr>\n",
       "      <th>MSIstatus</th>\n",
       "      <th>MSI-H</th>\n",
       "      <th>MSS</th>\n",
       "      <th>MSI-H</th>\n",
       "      <th>MSS</th>\n",
       "    </tr>\n",
       "  </thead>\n",
       "  <tbody>\n",
       "    <tr>\n",
       "      <th>1</th>\n",
       "      <td>0.565217</td>\n",
       "      <td>0.430464</td>\n",
       "      <td>0.489130</td>\n",
       "      <td>0.377483</td>\n",
       "    </tr>\n",
       "    <tr>\n",
       "      <th>3</th>\n",
       "      <td>0.561594</td>\n",
       "      <td>0.481236</td>\n",
       "      <td>0.500000</td>\n",
       "      <td>0.408389</td>\n",
       "    </tr>\n",
       "    <tr>\n",
       "      <th>5</th>\n",
       "      <td>0.534783</td>\n",
       "      <td>0.491391</td>\n",
       "      <td>0.482609</td>\n",
       "      <td>0.419868</td>\n",
       "    </tr>\n",
       "    <tr>\n",
       "      <th>7</th>\n",
       "      <td>0.535714</td>\n",
       "      <td>0.494797</td>\n",
       "      <td>0.486025</td>\n",
       "      <td>0.422895</td>\n",
       "    </tr>\n",
       "    <tr>\n",
       "      <th>9</th>\n",
       "      <td>0.538647</td>\n",
       "      <td>0.485651</td>\n",
       "      <td>0.492754</td>\n",
       "      <td>0.431935</td>\n",
       "    </tr>\n",
       "  </tbody>\n",
       "</table>\n",
       "</div>"
      ],
      "text/plain": [
       "Gene             G1                  G2          \n",
       "MSIstatus     MSI-H       MSS     MSI-H       MSS\n",
       "1          0.565217  0.430464  0.489130  0.377483\n",
       "3          0.561594  0.481236  0.500000  0.408389\n",
       "5          0.534783  0.491391  0.482609  0.419868\n",
       "7          0.535714  0.494797  0.486025  0.422895\n",
       "9          0.538647  0.485651  0.492754  0.431935"
      ]
     },
     "execution_count": 94,
     "metadata": {},
     "output_type": "execute_result"
    }
   ],
   "source": [
    "gccontinue = roughly_many_bp_GC(splitJ1, wings = range(0,50)).groupby([\"Gene\",\"MSIstatus\"]).agg(np.mean)\n",
    "gccontinue.T.head()"
   ]
  },
  {
   "cell_type": "code",
   "execution_count": 95,
   "metadata": {},
   "outputs": [
    {
     "data": {
      "text/plain": [
       "Gene  MSIstatus  bp\n",
       "G1    MSI-H      1     0.565217\n",
       "                 3     0.561594\n",
       "                 5     0.534783\n",
       "                 7     0.535714\n",
       "                 9     0.538647\n",
       "                 11    0.541502\n",
       "                 13    0.539298\n",
       "                 15    0.541304\n",
       "                 17    0.544757\n",
       "                 19    0.546911\n",
       "                 21    0.546584\n",
       "                 23    0.541115\n",
       "                 25    0.546087\n",
       "                 27    0.539855\n",
       "                 29    0.540855\n",
       "                 31    0.539621\n",
       "                 33    0.538867\n",
       "                 35    0.541925\n",
       "                 37    0.544947\n",
       "                 39    0.542642\n",
       "                 41    0.544274\n",
       "                 43    0.541962\n",
       "                 45    0.545411\n",
       "                 47    0.548104\n",
       "                 49    0.549911\n",
       "                 51    0.549659\n",
       "                 53    0.550451\n",
       "                 55    0.550593\n",
       "                 57    0.549962\n",
       "                 59    0.548084\n",
       "                         ...   \n",
       "G2    MSS        41    0.425779\n",
       "                 43    0.425535\n",
       "                 45    0.423988\n",
       "                 47    0.424264\n",
       "                 49    0.424652\n",
       "                 51    0.423971\n",
       "                 53    0.424966\n",
       "                 55    0.425888\n",
       "                 57    0.426165\n",
       "                 59    0.427096\n",
       "                 61    0.425470\n",
       "                 63    0.426679\n",
       "                 65    0.426796\n",
       "                 67    0.427004\n",
       "                 69    0.427584\n",
       "                 71    0.428785\n",
       "                 73    0.428468\n",
       "                 75    0.429492\n",
       "                 77    0.428571\n",
       "                 79    0.428200\n",
       "                 81    0.427766\n",
       "                 83    0.428070\n",
       "                 85    0.427113\n",
       "                 87    0.427571\n",
       "                 89    0.426892\n",
       "                 91    0.426315\n",
       "                 93    0.425336\n",
       "                 95    0.425584\n",
       "                 97    0.425275\n",
       "                 99    0.425447\n",
       "Name: GCcontent, Length: 200, dtype: float64"
      ]
     },
     "execution_count": 95,
     "metadata": {},
     "output_type": "execute_result"
    }
   ],
   "source": [
    "# https://support.sisense.com/hc/en-us/community/posts/360037984913-Pivoting-and-Melting-Dataframes\n",
    "# https://pandas-docs.github.io/pandas-docs-travis/user_guide/reshaping.html\n",
    "gccontinue.columns.name = \"bp\" # columns in a dataframe can also carry a name.\n",
    "gcstack = gccontinue.stack()\n",
    "gcstack.name = \"GCcontent\" # set series name\n",
    "gcstack"
   ]
  },
  {
   "cell_type": "code",
   "execution_count": 96,
   "metadata": {},
   "outputs": [
    {
     "name": "stdout",
     "output_type": "stream",
     "text": [
      "<class 'pandas.core.series.Series'>\n",
      "<class 'pandas.core.frame.DataFrame'>\n"
     ]
    }
   ],
   "source": [
    "print(type(gcstack))\n",
    "print(type(gcstack.reset_index()))\n",
    "J1_gclong = gcstack.reset_index() # convert multiIndex series to a dataframe\n",
    "J1_gclong['bp'] = pd.to_numeric(J1_gclong['bp']) # convert str to numeric"
   ]
  },
  {
   "cell_type": "code",
   "execution_count": 90,
   "metadata": {},
   "outputs": [
    {
     "name": "stdout",
     "output_type": "stream",
     "text": [
      "<class 'pandas.core.frame.DataFrame'>\n"
     ]
    },
    {
     "data": {
      "text/plain": [
       "MultiIndex(levels=[['G1', 'G2'], ['MSI-H', 'MSS'], ['1', '3', '5']],\n",
       "           labels=[[0, 0, 0, 0, 0, 0, 1, 1, 1, 1, 1, 1], [0, 0, 0, 1, 1, 1, 0, 0, 0, 1, 1, 1], [0, 1, 2, 0, 1, 2, 0, 1, 2, 0, 1, 2]],\n",
       "           names=['Gene', 'MSIstatus', 'bp'])"
      ]
     },
     "execution_count": 90,
     "metadata": {},
     "output_type": "execute_result"
    }
   ],
   "source": [
    "print(type(J1_gclong))\n",
    "gcstack.index"
   ]
  },
  {
   "cell_type": "code",
   "execution_count": 97,
   "metadata": {},
   "outputs": [
    {
     "data": {
      "text/plain": [
       "<matplotlib.axes._subplots.AxesSubplot at 0x113455198>"
      ]
     },
     "execution_count": 97,
     "metadata": {},
     "output_type": "execute_result"
    },
    {
     "data": {
      "image/png": "[encoded data removed]",
      "text/plain": [
       "<Figure size 432x288 with 1 Axes>"
      ]
     },
     "metadata": {
      "needs_background": "light"
     },
     "output_type": "display_data"
    }
   ],
   "source": [
    "J1_gclong[J1_gclong[\"Gene\"] == 'G1'].pivot(index = 'bp', columns = 'MSIstatus', values = 'GCcontent').plot.line()"
   ]
  },
  {
   "cell_type": "code",
   "execution_count": 98,
   "metadata": {},
   "outputs": [
    {
     "data": {
      "text/plain": [
       "<matplotlib.axes._subplots.AxesSubplot at 0x11023c5c0>"
      ]
     },
     "execution_count": 98,
     "metadata": {},
     "output_type": "execute_result"
    },
    {
     "data": {
      "image/png": "[encoded data removed]",
      "text/plain": [
       "<Figure size 432x288 with 1 Axes>"
      ]
     },
     "metadata": {
      "needs_background": "light"
     },
     "output_type": "display_data"
    }
   ],
   "source": [
    "J1_gclong[J1_gclong[\"Gene\"] == 'G2'].pivot(index = 'bp', columns = 'MSIstatus', values = 'GCcontent').plot.line()"
   ]
  },
  {
   "cell_type": "markdown",
   "metadata": {},
   "source": [
    "## Junction 2 (J2)"
   ]
  },
  {
   "cell_type": "code",
   "execution_count": 1,
   "metadata": {},
   "outputs": [
    {
     "ename": "NameError",
     "evalue": "name 'roughly_many_bp_GC' is not defined",
     "output_type": "error",
     "traceback": [
      "\u001b[0;31m---------------------------------------------------------------------------\u001b[0m",
      "\u001b[0;31mNameError\u001b[0m                                 Traceback (most recent call last)",
      "\u001b[0;32m<ipython-input-1-5fb9efe1e480>\u001b[0m in \u001b[0;36m<module>\u001b[0;34m\u001b[0m\n\u001b[0;32m----> 1\u001b[0;31m \u001b[0mJ2_gccontinue\u001b[0m \u001b[0;34m=\u001b[0m \u001b[0mroughly_many_bp_GC\u001b[0m\u001b[0;34m(\u001b[0m\u001b[0msplitJ2\u001b[0m\u001b[0;34m,\u001b[0m \u001b[0mwings\u001b[0m \u001b[0;34m=\u001b[0m \u001b[0mrange\u001b[0m\u001b[0;34m(\u001b[0m\u001b[0;36m0\u001b[0m\u001b[0;34m,\u001b[0m\u001b[0;36m50\u001b[0m\u001b[0;34m)\u001b[0m\u001b[0;34m)\u001b[0m\u001b[0;34m.\u001b[0m\u001b[0mgroupby\u001b[0m\u001b[0;34m(\u001b[0m\u001b[0;34m[\u001b[0m\u001b[0;34m\"Gene\"\u001b[0m\u001b[0;34m,\u001b[0m\u001b[0;34m\"MSIstatus\"\u001b[0m\u001b[0;34m]\u001b[0m\u001b[0;34m)\u001b[0m\u001b[0;34m.\u001b[0m\u001b[0magg\u001b[0m\u001b[0;34m(\u001b[0m\u001b[0mnp\u001b[0m\u001b[0;34m.\u001b[0m\u001b[0mmean\u001b[0m\u001b[0;34m)\u001b[0m\u001b[0;34m\u001b[0m\u001b[0;34m\u001b[0m\u001b[0m\n\u001b[0m\u001b[1;32m      2\u001b[0m \u001b[0mJ2_gccontinue\u001b[0m\u001b[0;34m.\u001b[0m\u001b[0mcolumns\u001b[0m\u001b[0;34m.\u001b[0m\u001b[0mname\u001b[0m \u001b[0;34m=\u001b[0m \u001b[0;34m\"bp\"\u001b[0m \u001b[0;31m# columns in a dataframe can also carry a name.\u001b[0m\u001b[0;34m\u001b[0m\u001b[0;34m\u001b[0m\u001b[0m\n\u001b[1;32m      3\u001b[0m \u001b[0mJ2_gcstack\u001b[0m \u001b[0;34m=\u001b[0m \u001b[0mJ2_gccontinue\u001b[0m\u001b[0;34m.\u001b[0m\u001b[0mstack\u001b[0m\u001b[0;34m(\u001b[0m\u001b[0;34m)\u001b[0m\u001b[0;34m\u001b[0m\u001b[0;34m\u001b[0m\u001b[0m\n\u001b[1;32m      4\u001b[0m \u001b[0mJ2_gcstack\u001b[0m\u001b[0;34m.\u001b[0m\u001b[0mname\u001b[0m \u001b[0;34m=\u001b[0m \u001b[0;34m\"GCcontent\"\u001b[0m \u001b[0;31m# set series name\u001b[0m\u001b[0;34m\u001b[0m\u001b[0;34m\u001b[0m\u001b[0m\n\u001b[1;32m      5\u001b[0m \u001b[0mJ2_gcstack\u001b[0m\u001b[0;34m\u001b[0m\u001b[0;34m\u001b[0m\u001b[0m\n",
      "\u001b[0;31mNameError\u001b[0m: name 'roughly_many_bp_GC' is not defined"
     ]
    }
   ],
   "source": [
    "J2_gccontinue = roughly_many_bp_GC(splitJ2, wings = range(0,50)).groupby([\"Gene\",\"MSIstatus\"]).agg(np.mean)\n",
    "J2_gccontinue.columns.name = \"bp\" # columns in a dataframe can also carry a name.\n",
    "J2_gcstack = J2_gccontinue.stack()\n",
    "J2_gcstack.name = \"GCcontent\" # set series name\n",
    "J2_gcstack"
   ]
  },
  {
   "cell_type": "code",
   "execution_count": 11,
   "metadata": {},
   "outputs": [],
   "source": [
    "J2_gclong = J2_gcstack.reset_index() # convert multiIndex series to a dataframe\n",
    "J2_gclong['bp'] = pd.to_numeric(J2_gclong['bp']) # convert str to numeric"
   ]
  },
  {
   "cell_type": "code",
   "execution_count": 12,
   "metadata": {},
   "outputs": [
    {
     "data": {
      "text/plain": [
       "<matplotlib.axes._subplots.AxesSubplot at 0x117a54dd8>"
      ]
     },
     "execution_count": 12,
     "metadata": {},
     "output_type": "execute_result"
    },
    {
     "data": {
      "image/png": "[encoded data removed]",
      "text/plain": [
       "<Figure size 432x288 with 1 Axes>"
      ]
     },
     "metadata": {
      "needs_background": "light"
     },
     "output_type": "display_data"
    }
   ],
   "source": [
    "J2_gclong[J2_gclong[\"Gene\"] == 'G1'].pivot(index = 'bp', columns = 'MSIstatus', values = 'GCcontent').plot.line()"
   ]
  },
  {
   "cell_type": "code",
   "execution_count": 14,
   "metadata": {},
   "outputs": [
    {
     "data": {
      "text/plain": [
       "<matplotlib.axes._subplots.AxesSubplot at 0x117b02e80>"
      ]
     },
     "execution_count": 14,
     "metadata": {},
     "output_type": "execute_result"
    },
    {
     "data": {
      "image/png": "[encoded data removed]",
      "text/plain": [
       "<Figure size 432x288 with 1 Axes>"
      ]
     },
     "metadata": {
      "needs_background": "light"
     },
     "output_type": "display_data"
    }
   ],
   "source": [
    "J2_gclong[J2_gclong[\"Gene\"] == 'G2'].pivot(index = 'bp', columns = 'MSIstatus', values = 'GCcontent').plot.line()"
   ]
  },
  {
   "cell_type": "markdown",
   "metadata": {},
   "source": [
    "# Plot GCcontent at individual base"
   ]
  },
  {
   "cell_type": "markdown",
   "metadata": {},
   "source": [
    "## Junction 1 (J1)"
   ]
  },
  {
   "cell_type": "code",
   "execution_count": 3,
   "metadata": {},
   "outputs": [
    {
     "data": {
      "text/plain": [
       "490"
      ]
     },
     "execution_count": 3,
     "metadata": {},
     "output_type": "execute_result"
    }
   ],
   "source": [
    "records = list(SeqIO.parse(\"data_Junction_Regions_CRC_4_19_20_deid.fa\",\"fasta\"))\n",
    "len(records)"
   ]
  },
  {
   "cell_type": "code",
   "execution_count": 15,
   "metadata": {},
   "outputs": [
    {
     "data": {
      "text/plain": [
       "SeqRecord(seq=Seq('CTGCCCAGGGCAGAGACAGGCAGCGTTGCCGCTGGCTCAGATGACAGCCGGTTC...GCC', SingleLetterAlphabet()), id='chr10:43611864-43611964:XRN:6SJTT7:MSI-H:J1:G1', name='chr10:43611864-43611964:XRN:6SJTT7:MSI-H:J1:G1', description='chr10:43611864-43611964:XRN:6SJTT7:MSI-H:J1:G1', dbxrefs=[])"
      ]
     },
     "execution_count": 15,
     "metadata": {},
     "output_type": "execute_result"
    }
   ],
   "source": [
    "foo = records[0]\n",
    "foo"
   ]
  },
  {
   "cell_type": "code",
   "execution_count": 27,
   "metadata": {},
   "outputs": [
    {
     "data": {
      "text/plain": [
       "['__add__',\n",
       " '__bool__',\n",
       " '__class__',\n",
       " '__contains__',\n",
       " '__delattr__',\n",
       " '__dict__',\n",
       " '__dir__',\n",
       " '__doc__',\n",
       " '__eq__',\n",
       " '__format__',\n",
       " '__ge__',\n",
       " '__getattribute__',\n",
       " '__getitem__',\n",
       " '__gt__',\n",
       " '__hash__',\n",
       " '__init__',\n",
       " '__init_subclass__',\n",
       " '__iter__',\n",
       " '__le__',\n",
       " '__le___',\n",
       " '__len__',\n",
       " '__lt__',\n",
       " '__module__',\n",
       " '__ne__',\n",
       " '__new__',\n",
       " '__nonzero__',\n",
       " '__radd__',\n",
       " '__reduce__',\n",
       " '__reduce_ex__',\n",
       " '__repr__',\n",
       " '__setattr__',\n",
       " '__sizeof__',\n",
       " '__str__',\n",
       " '__subclasshook__',\n",
       " '__weakref__',\n",
       " '_per_letter_annotations',\n",
       " '_seq',\n",
       " '_set_per_letter_annotations',\n",
       " '_set_seq',\n",
       " 'annotations',\n",
       " 'dbxrefs',\n",
       " 'description',\n",
       " 'features',\n",
       " 'format',\n",
       " 'id',\n",
       " 'letter_annotations',\n",
       " 'lower',\n",
       " 'name',\n",
       " 'reverse_complement',\n",
       " 'seq',\n",
       " 'translate',\n",
       " 'upper']"
      ]
     },
     "execution_count": 27,
     "metadata": {},
     "output_type": "execute_result"
    }
   ],
   "source": [
    "dir(foo) # get all attributes"
   ]
  },
  {
   "cell_type": "code",
   "execution_count": 20,
   "metadata": {},
   "outputs": [
    {
     "data": {
      "text/plain": [
       "True"
      ]
     },
     "execution_count": 20,
     "metadata": {},
     "output_type": "execute_result"
    }
   ],
   "source": [
    "foo.name == foo.id"
   ]
  },
  {
   "cell_type": "code",
   "execution_count": 4,
   "metadata": {},
   "outputs": [
    {
     "name": "stdout",
     "output_type": "stream",
     "text": [
      "chr10:43611864-43611964:XRN:6SJTT7:MSI-H:J1:G1\n"
     ]
    },
    {
     "data": {
      "text/plain": [
       "0     chr10:43611864-43611964:XRN:6SJTT7:MSI-H:J1:G1\n",
       "1    chr7:138268017-138268117:XRN:6SJTT7:MSI-H:J1:G2\n",
       "2      chr7:140489379-140489479:XRN:DNF6WD:MSS:J1:G1\n",
       "3      chr7:138253042-138253142:XRN:DNF6WD:MSS:J1:G2\n",
       "4             chr10:43611746-43611846:XRN:E3F52H:MSI\n",
       "dtype: object"
      ]
     },
     "execution_count": 4,
     "metadata": {},
     "output_type": "execute_result"
    }
   ],
   "source": [
    "J1_IDs = list(SeqIO.index(\"data_Junction_Regions_CRC_4_19_20_deid.fa\",\"fasta\"))\n",
    "print(J1_IDs[0])\n",
    "pd.Series(J1_IDs).head()"
   ]
  },
  {
   "cell_type": "code",
   "execution_count": 5,
   "metadata": {},
   "outputs": [
    {
     "data": {
      "text/html": [
       "<div>\n",
       "<style scoped>\n",
       "    .dataframe tbody tr th:only-of-type {\n",
       "        vertical-align: middle;\n",
       "    }\n",
       "\n",
       "    .dataframe tbody tr th {\n",
       "        vertical-align: top;\n",
       "    }\n",
       "\n",
       "    .dataframe thead th {\n",
       "        text-align: right;\n",
       "    }\n",
       "</style>\n",
       "<table border=\"1\" class=\"dataframe\">\n",
       "  <thead>\n",
       "    <tr style=\"text-align: right;\">\n",
       "      <th></th>\n",
       "      <th>0</th>\n",
       "      <th>1</th>\n",
       "      <th>2</th>\n",
       "      <th>3</th>\n",
       "      <th>4</th>\n",
       "      <th>5</th>\n",
       "      <th>6</th>\n",
       "      <th>7</th>\n",
       "      <th>8</th>\n",
       "      <th>9</th>\n",
       "      <th>...</th>\n",
       "      <th>98</th>\n",
       "      <th>99</th>\n",
       "      <th>100</th>\n",
       "      <th>Chr</th>\n",
       "      <th>Pos</th>\n",
       "      <th>ID1</th>\n",
       "      <th>ID2</th>\n",
       "      <th>MSIstatus</th>\n",
       "      <th>Junction</th>\n",
       "      <th>Gene</th>\n",
       "    </tr>\n",
       "  </thead>\n",
       "  <tbody>\n",
       "    <tr>\n",
       "      <th>0</th>\n",
       "      <td>C</td>\n",
       "      <td>T</td>\n",
       "      <td>G</td>\n",
       "      <td>C</td>\n",
       "      <td>C</td>\n",
       "      <td>C</td>\n",
       "      <td>A</td>\n",
       "      <td>G</td>\n",
       "      <td>G</td>\n",
       "      <td>G</td>\n",
       "      <td>...</td>\n",
       "      <td>G</td>\n",
       "      <td>C</td>\n",
       "      <td>C</td>\n",
       "      <td>chr10</td>\n",
       "      <td>43611864-43611964</td>\n",
       "      <td>XRN</td>\n",
       "      <td>6SJTT7</td>\n",
       "      <td>MSI-H</td>\n",
       "      <td>J1</td>\n",
       "      <td>G1</td>\n",
       "    </tr>\n",
       "    <tr>\n",
       "      <th>1</th>\n",
       "      <td>A</td>\n",
       "      <td>A</td>\n",
       "      <td>G</td>\n",
       "      <td>A</td>\n",
       "      <td>A</td>\n",
       "      <td>A</td>\n",
       "      <td>A</td>\n",
       "      <td>A</td>\n",
       "      <td>A</td>\n",
       "      <td>A</td>\n",
       "      <td>...</td>\n",
       "      <td>A</td>\n",
       "      <td>A</td>\n",
       "      <td>C</td>\n",
       "      <td>chr7</td>\n",
       "      <td>138268017-138268117</td>\n",
       "      <td>XRN</td>\n",
       "      <td>6SJTT7</td>\n",
       "      <td>MSI-H</td>\n",
       "      <td>J1</td>\n",
       "      <td>G2</td>\n",
       "    </tr>\n",
       "    <tr>\n",
       "      <th>2</th>\n",
       "      <td>A</td>\n",
       "      <td>A</td>\n",
       "      <td>C</td>\n",
       "      <td>T</td>\n",
       "      <td>T</td>\n",
       "      <td>T</td>\n",
       "      <td>C</td>\n",
       "      <td>C</td>\n",
       "      <td>A</td>\n",
       "      <td>T</td>\n",
       "      <td>...</td>\n",
       "      <td>T</td>\n",
       "      <td>A</td>\n",
       "      <td>T</td>\n",
       "      <td>chr7</td>\n",
       "      <td>140489379-140489479</td>\n",
       "      <td>XRN</td>\n",
       "      <td>DNF6WD</td>\n",
       "      <td>MSS</td>\n",
       "      <td>J1</td>\n",
       "      <td>G1</td>\n",
       "    </tr>\n",
       "    <tr>\n",
       "      <th>3</th>\n",
       "      <td>A</td>\n",
       "      <td>T</td>\n",
       "      <td>T</td>\n",
       "      <td>T</td>\n",
       "      <td>T</td>\n",
       "      <td>T</td>\n",
       "      <td>A</td>\n",
       "      <td>G</td>\n",
       "      <td>T</td>\n",
       "      <td>A</td>\n",
       "      <td>...</td>\n",
       "      <td>T</td>\n",
       "      <td>T</td>\n",
       "      <td>T</td>\n",
       "      <td>chr7</td>\n",
       "      <td>138253042-138253142</td>\n",
       "      <td>XRN</td>\n",
       "      <td>DNF6WD</td>\n",
       "      <td>MSS</td>\n",
       "      <td>J1</td>\n",
       "      <td>G2</td>\n",
       "    </tr>\n",
       "    <tr>\n",
       "      <th>8</th>\n",
       "      <td>G</td>\n",
       "      <td>A</td>\n",
       "      <td>C</td>\n",
       "      <td>C</td>\n",
       "      <td>T</td>\n",
       "      <td>G</td>\n",
       "      <td>T</td>\n",
       "      <td>T</td>\n",
       "      <td>T</td>\n",
       "      <td>C</td>\n",
       "      <td>...</td>\n",
       "      <td>A</td>\n",
       "      <td>C</td>\n",
       "      <td>C</td>\n",
       "      <td>chr1</td>\n",
       "      <td>156843296-156843396</td>\n",
       "      <td>XRN</td>\n",
       "      <td>AFAEVN</td>\n",
       "      <td>MSI-H</td>\n",
       "      <td>J1</td>\n",
       "      <td>G1</td>\n",
       "    </tr>\n",
       "  </tbody>\n",
       "</table>\n",
       "<p>5 rows × 108 columns</p>\n",
       "</div>"
      ],
      "text/plain": [
       "   0  1  2  3  4  5  6  7  8  9 ...  98 99 100    Chr                  Pos  \\\n",
       "0  C  T  G  C  C  C  A  G  G  G ...   G  C   C  chr10    43611864-43611964   \n",
       "1  A  A  G  A  A  A  A  A  A  A ...   A  A   C   chr7  138268017-138268117   \n",
       "2  A  A  C  T  T  T  C  C  A  T ...   T  A   T   chr7  140489379-140489479   \n",
       "3  A  T  T  T  T  T  A  G  T  A ...   T  T   T   chr7  138253042-138253142   \n",
       "8  G  A  C  C  T  G  T  T  T  C ...   A  C   C   chr1  156843296-156843396   \n",
       "\n",
       "   ID1     ID2 MSIstatus Junction Gene  \n",
       "0  XRN  6SJTT7     MSI-H       J1   G1  \n",
       "1  XRN  6SJTT7     MSI-H       J1   G2  \n",
       "2  XRN  DNF6WD       MSS       J1   G1  \n",
       "3  XRN  DNF6WD       MSS       J1   G2  \n",
       "8  XRN  AFAEVN     MSI-H       J1   G1  \n",
       "\n",
       "[5 rows x 108 columns]"
      ]
     },
     "execution_count": 5,
     "metadata": {},
     "output_type": "execute_result"
    }
   ],
   "source": [
    "J1_df = pd.DataFrame(SeqIO.parse(\"data_Junction_Regions_CRC_4_19_20_deid.fa\",\"fasta\"))\n",
    "J1_df.insert(0, \"IDs\", pd.Series(J1_IDs)) # add \"ID\" column to the left\n",
    "J1_df = Split_IDs(J1_df)\n",
    "J1_df.head()"
   ]
  },
  {
   "cell_type": "code",
   "execution_count": 6,
   "metadata": {},
   "outputs": [
    {
     "data": {
      "text/html": [
       "<div>\n",
       "<style scoped>\n",
       "    .dataframe tbody tr th:only-of-type {\n",
       "        vertical-align: middle;\n",
       "    }\n",
       "\n",
       "    .dataframe tbody tr th {\n",
       "        vertical-align: top;\n",
       "    }\n",
       "\n",
       "    .dataframe thead th {\n",
       "        text-align: right;\n",
       "    }\n",
       "</style>\n",
       "<table border=\"1\" class=\"dataframe\">\n",
       "  <thead>\n",
       "    <tr style=\"text-align: right;\">\n",
       "      <th></th>\n",
       "      <th>0</th>\n",
       "      <th>1</th>\n",
       "      <th>2</th>\n",
       "      <th>3</th>\n",
       "      <th>4</th>\n",
       "      <th>5</th>\n",
       "      <th>6</th>\n",
       "      <th>7</th>\n",
       "      <th>8</th>\n",
       "      <th>9</th>\n",
       "      <th>...</th>\n",
       "      <th>94</th>\n",
       "      <th>95</th>\n",
       "      <th>96</th>\n",
       "      <th>97</th>\n",
       "      <th>98</th>\n",
       "      <th>99</th>\n",
       "      <th>100</th>\n",
       "      <th>ID2</th>\n",
       "      <th>MSIstatus</th>\n",
       "      <th>Gene</th>\n",
       "    </tr>\n",
       "  </thead>\n",
       "  <tbody>\n",
       "    <tr>\n",
       "      <th>0</th>\n",
       "      <td>C</td>\n",
       "      <td>T</td>\n",
       "      <td>G</td>\n",
       "      <td>C</td>\n",
       "      <td>C</td>\n",
       "      <td>C</td>\n",
       "      <td>A</td>\n",
       "      <td>G</td>\n",
       "      <td>G</td>\n",
       "      <td>G</td>\n",
       "      <td>...</td>\n",
       "      <td>T</td>\n",
       "      <td>C</td>\n",
       "      <td>T</td>\n",
       "      <td>T</td>\n",
       "      <td>G</td>\n",
       "      <td>C</td>\n",
       "      <td>C</td>\n",
       "      <td>6SJTT7</td>\n",
       "      <td>MSI-H</td>\n",
       "      <td>G1</td>\n",
       "    </tr>\n",
       "    <tr>\n",
       "      <th>1</th>\n",
       "      <td>A</td>\n",
       "      <td>A</td>\n",
       "      <td>G</td>\n",
       "      <td>A</td>\n",
       "      <td>A</td>\n",
       "      <td>A</td>\n",
       "      <td>A</td>\n",
       "      <td>A</td>\n",
       "      <td>A</td>\n",
       "      <td>A</td>\n",
       "      <td>...</td>\n",
       "      <td>T</td>\n",
       "      <td>C</td>\n",
       "      <td>C</td>\n",
       "      <td>C</td>\n",
       "      <td>A</td>\n",
       "      <td>A</td>\n",
       "      <td>C</td>\n",
       "      <td>6SJTT7</td>\n",
       "      <td>MSI-H</td>\n",
       "      <td>G2</td>\n",
       "    </tr>\n",
       "    <tr>\n",
       "      <th>2</th>\n",
       "      <td>A</td>\n",
       "      <td>A</td>\n",
       "      <td>C</td>\n",
       "      <td>T</td>\n",
       "      <td>T</td>\n",
       "      <td>T</td>\n",
       "      <td>C</td>\n",
       "      <td>C</td>\n",
       "      <td>A</td>\n",
       "      <td>T</td>\n",
       "      <td>...</td>\n",
       "      <td>A</td>\n",
       "      <td>G</td>\n",
       "      <td>A</td>\n",
       "      <td>A</td>\n",
       "      <td>T</td>\n",
       "      <td>A</td>\n",
       "      <td>T</td>\n",
       "      <td>DNF6WD</td>\n",
       "      <td>MSS</td>\n",
       "      <td>G1</td>\n",
       "    </tr>\n",
       "    <tr>\n",
       "      <th>3</th>\n",
       "      <td>A</td>\n",
       "      <td>T</td>\n",
       "      <td>T</td>\n",
       "      <td>T</td>\n",
       "      <td>T</td>\n",
       "      <td>T</td>\n",
       "      <td>A</td>\n",
       "      <td>G</td>\n",
       "      <td>T</td>\n",
       "      <td>A</td>\n",
       "      <td>...</td>\n",
       "      <td>T</td>\n",
       "      <td>T</td>\n",
       "      <td>T</td>\n",
       "      <td>T</td>\n",
       "      <td>T</td>\n",
       "      <td>T</td>\n",
       "      <td>T</td>\n",
       "      <td>DNF6WD</td>\n",
       "      <td>MSS</td>\n",
       "      <td>G2</td>\n",
       "    </tr>\n",
       "    <tr>\n",
       "      <th>8</th>\n",
       "      <td>G</td>\n",
       "      <td>A</td>\n",
       "      <td>C</td>\n",
       "      <td>C</td>\n",
       "      <td>T</td>\n",
       "      <td>G</td>\n",
       "      <td>T</td>\n",
       "      <td>T</td>\n",
       "      <td>T</td>\n",
       "      <td>C</td>\n",
       "      <td>...</td>\n",
       "      <td>C</td>\n",
       "      <td>C</td>\n",
       "      <td>T</td>\n",
       "      <td>G</td>\n",
       "      <td>A</td>\n",
       "      <td>C</td>\n",
       "      <td>C</td>\n",
       "      <td>AFAEVN</td>\n",
       "      <td>MSI-H</td>\n",
       "      <td>G1</td>\n",
       "    </tr>\n",
       "  </tbody>\n",
       "</table>\n",
       "<p>5 rows × 104 columns</p>\n",
       "</div>"
      ],
      "text/plain": [
       "   0  1  2  3  4  5  6  7  8  9 ...  94 95 96 97 98 99 100     ID2 MSIstatus  \\\n",
       "0  C  T  G  C  C  C  A  G  G  G ...   T  C  T  T  G  C   C  6SJTT7     MSI-H   \n",
       "1  A  A  G  A  A  A  A  A  A  A ...   T  C  C  C  A  A   C  6SJTT7     MSI-H   \n",
       "2  A  A  C  T  T  T  C  C  A  T ...   A  G  A  A  T  A   T  DNF6WD       MSS   \n",
       "3  A  T  T  T  T  T  A  G  T  A ...   T  T  T  T  T  T   T  DNF6WD       MSS   \n",
       "8  G  A  C  C  T  G  T  T  T  C ...   C  C  T  G  A  C   C  AFAEVN     MSI-H   \n",
       "\n",
       "  Gene  \n",
       "0   G1  \n",
       "1   G2  \n",
       "2   G1  \n",
       "3   G2  \n",
       "8   G1  \n",
       "\n",
       "[5 rows x 104 columns]"
      ]
     },
     "execution_count": 6,
     "metadata": {},
     "output_type": "execute_result"
    }
   ],
   "source": [
    "J1_bases = J1_df.iloc[:,np.r_[0:101,104:106,107]] # np.r_[] simply builts an array\n",
    "J1_bases.head()"
   ]
  },
  {
   "cell_type": "code",
   "execution_count": 7,
   "metadata": {},
   "outputs": [
    {
     "name": "stdout",
     "output_type": "stream",
     "text": [
      "('G1', 'MSI-H')\n",
      "G1_MSI-H\n",
      "('G1', 'MSS')\n",
      "G1_MSS\n",
      "('G2', 'MSI-H')\n",
      "G2_MSI-H\n",
      "('G2', 'MSS')\n",
      "G2_MSS\n"
     ]
    }
   ],
   "source": [
    "grouped = J1_bases.groupby([\"Gene\",\"MSIstatus\"])\n",
    "for name, group in grouped:\n",
    "    print(name)\n",
    "    print(\"_\".join(name)) # join group name as string"
   ]
  },
  {
   "cell_type": "markdown",
   "metadata": {},
   "source": [
    "### Gene1 (G1)"
   ]
  },
  {
   "cell_type": "code",
   "execution_count": 8,
   "metadata": {},
   "outputs": [
    {
     "data": {
      "text/html": [
       "<div>\n",
       "<style scoped>\n",
       "    .dataframe tbody tr th:only-of-type {\n",
       "        vertical-align: middle;\n",
       "    }\n",
       "\n",
       "    .dataframe tbody tr th {\n",
       "        vertical-align: top;\n",
       "    }\n",
       "\n",
       "    .dataframe thead th {\n",
       "        text-align: right;\n",
       "    }\n",
       "</style>\n",
       "<table border=\"1\" class=\"dataframe\">\n",
       "  <thead>\n",
       "    <tr style=\"text-align: right;\">\n",
       "      <th></th>\n",
       "      <th>0</th>\n",
       "      <th>1</th>\n",
       "      <th>2</th>\n",
       "      <th>3</th>\n",
       "      <th>4</th>\n",
       "      <th>5</th>\n",
       "      <th>6</th>\n",
       "      <th>7</th>\n",
       "      <th>8</th>\n",
       "      <th>9</th>\n",
       "      <th>...</th>\n",
       "      <th>94</th>\n",
       "      <th>95</th>\n",
       "      <th>96</th>\n",
       "      <th>97</th>\n",
       "      <th>98</th>\n",
       "      <th>99</th>\n",
       "      <th>100</th>\n",
       "      <th>ID2</th>\n",
       "      <th>MSIstatus</th>\n",
       "      <th>Gene</th>\n",
       "    </tr>\n",
       "  </thead>\n",
       "  <tbody>\n",
       "    <tr>\n",
       "      <th>0</th>\n",
       "      <td>C</td>\n",
       "      <td>T</td>\n",
       "      <td>G</td>\n",
       "      <td>C</td>\n",
       "      <td>C</td>\n",
       "      <td>C</td>\n",
       "      <td>A</td>\n",
       "      <td>G</td>\n",
       "      <td>G</td>\n",
       "      <td>G</td>\n",
       "      <td>...</td>\n",
       "      <td>T</td>\n",
       "      <td>C</td>\n",
       "      <td>T</td>\n",
       "      <td>T</td>\n",
       "      <td>G</td>\n",
       "      <td>C</td>\n",
       "      <td>C</td>\n",
       "      <td>6SJTT7</td>\n",
       "      <td>MSI-H</td>\n",
       "      <td>G1</td>\n",
       "    </tr>\n",
       "    <tr>\n",
       "      <th>8</th>\n",
       "      <td>G</td>\n",
       "      <td>A</td>\n",
       "      <td>C</td>\n",
       "      <td>C</td>\n",
       "      <td>T</td>\n",
       "      <td>G</td>\n",
       "      <td>T</td>\n",
       "      <td>T</td>\n",
       "      <td>T</td>\n",
       "      <td>C</td>\n",
       "      <td>...</td>\n",
       "      <td>C</td>\n",
       "      <td>C</td>\n",
       "      <td>T</td>\n",
       "      <td>G</td>\n",
       "      <td>A</td>\n",
       "      <td>C</td>\n",
       "      <td>C</td>\n",
       "      <td>AFAEVN</td>\n",
       "      <td>MSI-H</td>\n",
       "      <td>G1</td>\n",
       "    </tr>\n",
       "    <tr>\n",
       "      <th>10</th>\n",
       "      <td>C</td>\n",
       "      <td>T</td>\n",
       "      <td>C</td>\n",
       "      <td>C</td>\n",
       "      <td>C</td>\n",
       "      <td>T</td>\n",
       "      <td>C</td>\n",
       "      <td>C</td>\n",
       "      <td>A</td>\n",
       "      <td>G</td>\n",
       "      <td>...</td>\n",
       "      <td>C</td>\n",
       "      <td>T</td>\n",
       "      <td>G</td>\n",
       "      <td>G</td>\n",
       "      <td>T</td>\n",
       "      <td>G</td>\n",
       "      <td>C</td>\n",
       "      <td>MPPMPA</td>\n",
       "      <td>MSI-H</td>\n",
       "      <td>G1</td>\n",
       "    </tr>\n",
       "    <tr>\n",
       "      <th>12</th>\n",
       "      <td>A</td>\n",
       "      <td>C</td>\n",
       "      <td>A</td>\n",
       "      <td>G</td>\n",
       "      <td>T</td>\n",
       "      <td>C</td>\n",
       "      <td>C</td>\n",
       "      <td>C</td>\n",
       "      <td>G</td>\n",
       "      <td>G</td>\n",
       "      <td>...</td>\n",
       "      <td>G</td>\n",
       "      <td>C</td>\n",
       "      <td>T</td>\n",
       "      <td>G</td>\n",
       "      <td>G</td>\n",
       "      <td>C</td>\n",
       "      <td>T</td>\n",
       "      <td>30NP36</td>\n",
       "      <td>MSI-H</td>\n",
       "      <td>G1</td>\n",
       "    </tr>\n",
       "    <tr>\n",
       "      <th>14</th>\n",
       "      <td>C</td>\n",
       "      <td>T</td>\n",
       "      <td>C</td>\n",
       "      <td>A</td>\n",
       "      <td>A</td>\n",
       "      <td>C</td>\n",
       "      <td>C</td>\n",
       "      <td>A</td>\n",
       "      <td>G</td>\n",
       "      <td>C</td>\n",
       "      <td>...</td>\n",
       "      <td>T</td>\n",
       "      <td>G</td>\n",
       "      <td>G</td>\n",
       "      <td>A</td>\n",
       "      <td>C</td>\n",
       "      <td>A</td>\n",
       "      <td>A</td>\n",
       "      <td>JPE87T</td>\n",
       "      <td>MSI-H</td>\n",
       "      <td>G1</td>\n",
       "    </tr>\n",
       "  </tbody>\n",
       "</table>\n",
       "<p>5 rows × 104 columns</p>\n",
       "</div>"
      ],
      "text/plain": [
       "    0  1  2  3  4  5  6  7  8  9 ...  94 95 96 97 98 99 100     ID2 MSIstatus  \\\n",
       "0   C  T  G  C  C  C  A  G  G  G ...   T  C  T  T  G  C   C  6SJTT7     MSI-H   \n",
       "8   G  A  C  C  T  G  T  T  T  C ...   C  C  T  G  A  C   C  AFAEVN     MSI-H   \n",
       "10  C  T  C  C  C  T  C  C  A  G ...   C  T  G  G  T  G   C  MPPMPA     MSI-H   \n",
       "12  A  C  A  G  T  C  C  C  G  G ...   G  C  T  G  G  C   T  30NP36     MSI-H   \n",
       "14  C  T  C  A  A  C  C  A  G  C ...   T  G  G  A  C  A   A  JPE87T     MSI-H   \n",
       "\n",
       "   Gene  \n",
       "0    G1  \n",
       "8    G1  \n",
       "10   G1  \n",
       "12   G1  \n",
       "14   G1  \n",
       "\n",
       "[5 rows x 104 columns]"
      ]
     },
     "execution_count": 8,
     "metadata": {},
     "output_type": "execute_result"
    }
   ],
   "source": [
    "J1_bases_G1_MSI = grouped.get_group(('G1', 'MSI-H'))\n",
    "J1_bases_G1_MSI.head()"
   ]
  },
  {
   "cell_type": "code",
   "execution_count": 9,
   "metadata": {},
   "outputs": [
    {
     "data": {
      "text/html": [
       "<div>\n",
       "<style scoped>\n",
       "    .dataframe tbody tr th:only-of-type {\n",
       "        vertical-align: middle;\n",
       "    }\n",
       "\n",
       "    .dataframe tbody tr th {\n",
       "        vertical-align: top;\n",
       "    }\n",
       "\n",
       "    .dataframe thead th {\n",
       "        text-align: right;\n",
       "    }\n",
       "</style>\n",
       "<table border=\"1\" class=\"dataframe\">\n",
       "  <thead>\n",
       "    <tr style=\"text-align: right;\">\n",
       "      <th></th>\n",
       "      <th>0</th>\n",
       "      <th>8</th>\n",
       "      <th>10</th>\n",
       "      <th>12</th>\n",
       "      <th>14</th>\n",
       "      <th>16</th>\n",
       "      <th>18</th>\n",
       "      <th>20</th>\n",
       "      <th>22</th>\n",
       "      <th>24</th>\n",
       "      <th>...</th>\n",
       "      <th>170</th>\n",
       "      <th>172</th>\n",
       "      <th>174</th>\n",
       "      <th>176</th>\n",
       "      <th>178</th>\n",
       "      <th>180</th>\n",
       "      <th>182</th>\n",
       "      <th>184</th>\n",
       "      <th>186</th>\n",
       "      <th>188</th>\n",
       "    </tr>\n",
       "  </thead>\n",
       "  <tbody>\n",
       "    <tr>\n",
       "      <th>0</th>\n",
       "      <td>C</td>\n",
       "      <td>G</td>\n",
       "      <td>C</td>\n",
       "      <td>A</td>\n",
       "      <td>C</td>\n",
       "      <td>T</td>\n",
       "      <td>C</td>\n",
       "      <td>T</td>\n",
       "      <td>T</td>\n",
       "      <td>A</td>\n",
       "      <td>...</td>\n",
       "      <td>A</td>\n",
       "      <td>T</td>\n",
       "      <td>A</td>\n",
       "      <td>T</td>\n",
       "      <td>A</td>\n",
       "      <td>C</td>\n",
       "      <td>C</td>\n",
       "      <td>T</td>\n",
       "      <td>G</td>\n",
       "      <td>C</td>\n",
       "    </tr>\n",
       "    <tr>\n",
       "      <th>1</th>\n",
       "      <td>T</td>\n",
       "      <td>A</td>\n",
       "      <td>T</td>\n",
       "      <td>C</td>\n",
       "      <td>T</td>\n",
       "      <td>C</td>\n",
       "      <td>C</td>\n",
       "      <td>T</td>\n",
       "      <td>G</td>\n",
       "      <td>G</td>\n",
       "      <td>...</td>\n",
       "      <td>A</td>\n",
       "      <td>G</td>\n",
       "      <td>T</td>\n",
       "      <td>C</td>\n",
       "      <td>A</td>\n",
       "      <td>T</td>\n",
       "      <td>C</td>\n",
       "      <td>G</td>\n",
       "      <td>G</td>\n",
       "      <td>T</td>\n",
       "    </tr>\n",
       "    <tr>\n",
       "      <th>2</th>\n",
       "      <td>G</td>\n",
       "      <td>C</td>\n",
       "      <td>C</td>\n",
       "      <td>A</td>\n",
       "      <td>C</td>\n",
       "      <td>A</td>\n",
       "      <td>C</td>\n",
       "      <td>T</td>\n",
       "      <td>G</td>\n",
       "      <td>C</td>\n",
       "      <td>...</td>\n",
       "      <td>A</td>\n",
       "      <td>A</td>\n",
       "      <td>A</td>\n",
       "      <td>C</td>\n",
       "      <td>A</td>\n",
       "      <td>C</td>\n",
       "      <td>A</td>\n",
       "      <td>T</td>\n",
       "      <td>T</td>\n",
       "      <td>G</td>\n",
       "    </tr>\n",
       "    <tr>\n",
       "      <th>3</th>\n",
       "      <td>C</td>\n",
       "      <td>C</td>\n",
       "      <td>C</td>\n",
       "      <td>G</td>\n",
       "      <td>A</td>\n",
       "      <td>A</td>\n",
       "      <td>C</td>\n",
       "      <td>C</td>\n",
       "      <td>T</td>\n",
       "      <td>C</td>\n",
       "      <td>...</td>\n",
       "      <td>T</td>\n",
       "      <td>A</td>\n",
       "      <td>T</td>\n",
       "      <td>C</td>\n",
       "      <td>T</td>\n",
       "      <td>C</td>\n",
       "      <td>A</td>\n",
       "      <td>A</td>\n",
       "      <td>T</td>\n",
       "      <td>G</td>\n",
       "    </tr>\n",
       "    <tr>\n",
       "      <th>4</th>\n",
       "      <td>C</td>\n",
       "      <td>T</td>\n",
       "      <td>C</td>\n",
       "      <td>T</td>\n",
       "      <td>A</td>\n",
       "      <td>C</td>\n",
       "      <td>T</td>\n",
       "      <td>G</td>\n",
       "      <td>G</td>\n",
       "      <td>A</td>\n",
       "      <td>...</td>\n",
       "      <td>A</td>\n",
       "      <td>A</td>\n",
       "      <td>C</td>\n",
       "      <td>T</td>\n",
       "      <td>T</td>\n",
       "      <td>A</td>\n",
       "      <td>A</td>\n",
       "      <td>T</td>\n",
       "      <td>T</td>\n",
       "      <td>G</td>\n",
       "    </tr>\n",
       "  </tbody>\n",
       "</table>\n",
       "<p>5 rows × 92 columns</p>\n",
       "</div>"
      ],
      "text/plain": [
       "  0   8   10  12  14  16  18  20  22  24  ... 170 172 174 176 178 180 182 184  \\\n",
       "0   C   G   C   A   C   T   C   T   T   A ...   A   T   A   T   A   C   C   T   \n",
       "1   T   A   T   C   T   C   C   T   G   G ...   A   G   T   C   A   T   C   G   \n",
       "2   G   C   C   A   C   A   C   T   G   C ...   A   A   A   C   A   C   A   T   \n",
       "3   C   C   C   G   A   A   C   C   T   C ...   T   A   T   C   T   C   A   A   \n",
       "4   C   T   C   T   A   C   T   G   G   A ...   A   A   C   T   T   A   A   T   \n",
       "\n",
       "  186 188  \n",
       "0   G   C  \n",
       "1   G   T  \n",
       "2   T   G  \n",
       "3   T   G  \n",
       "4   T   G  \n",
       "\n",
       "[5 rows x 92 columns]"
      ]
     },
     "execution_count": 9,
     "metadata": {},
     "output_type": "execute_result"
    }
   ],
   "source": [
    "J1_bases_G1_MSI.iloc[:,0:101].T.head()"
   ]
  },
  {
   "cell_type": "code",
   "execution_count": 10,
   "metadata": {},
   "outputs": [
    {
     "data": {
      "text/plain": [
       "'CGCACTCTTAACCGGATTCCAGACTGACCTCGGGGCGGCCTATAGTATAGACCGAGACGAGCGGAGTTTGAGGGCTAATCGGATATACCTGC'"
      ]
     },
     "execution_count": 10,
     "metadata": {},
     "output_type": "execute_result"
    }
   ],
   "source": [
    "# 注意 str.join() 与 str.cat() 的区别\n",
    "pos1 = J1_bases_G1_MSI.iloc[:,0].str.cat()\n",
    "pos1"
   ]
  },
  {
   "cell_type": "code",
   "execution_count": 11,
   "metadata": {},
   "outputs": [
    {
     "data": {
      "text/plain": [
       "0    CGCACTCTTAACCGGATTCCAGACTGACCTCGGGGCGGCCTATAGT...\n",
       "1    TATCTCCTGGAGTAAGCCCCCTCCCACCTTGTGGGTCGAATAACCC...\n",
       "2    GCCACACTGCACGGGGTTCCCCATCCCGGTCGACCGGGAAGAAATC...\n",
       "3    CCCGAACCTCGTACAGTTAATTGGCGGGGCAGGTTGGGGGAGAGGT...\n",
       "4    CTCTACTGGAGGATCTCCGCCCTCTAGGGTCAACGTCGGGATTGTC...\n",
       "dtype: object"
      ]
     },
     "execution_count": 11,
     "metadata": {},
     "output_type": "execute_result"
    }
   ],
   "source": [
    "cat_column = J1_bases_G1_MSI.iloc[:,0:101].apply(lambda x: x.str.cat(), axis = 0)\n",
    "cat_column.head()"
   ]
  },
  {
   "cell_type": "code",
   "execution_count": 13,
   "metadata": {},
   "outputs": [
    {
     "data": {
      "text/plain": [
       "0    0.554348\n",
       "1    0.554348\n",
       "2    0.554348\n",
       "3    0.565217\n",
       "4    0.543478\n",
       "dtype: float64"
      ]
     },
     "execution_count": 13,
     "metadata": {},
     "output_type": "execute_result"
    }
   ],
   "source": [
    "J1_G1_MSI_GC = GC_percentage_series(cat_column)\n",
    "J1_G1_MSI_GC.rename(\"MSI_GC\")\n",
    "J1_G1_MSI_GC.head()"
   ]
  },
  {
   "cell_type": "code",
   "execution_count": 14,
   "metadata": {},
   "outputs": [
    {
     "data": {
      "text/plain": [
       "<matplotlib.axes._subplots.AxesSubplot at 0x11ae9fe10>"
      ]
     },
     "execution_count": 14,
     "metadata": {},
     "output_type": "execute_result"
    },
    {
     "data": {
      "image/png": "[encoded data removed]",
      "text/plain": [
       "<Figure size 432x288 with 1 Axes>"
      ]
     },
     "metadata": {
      "needs_background": "light"
     },
     "output_type": "display_data"
    }
   ],
   "source": [
    "J1_G1_MSI_GC.plot.line()"
   ]
  },
  {
   "cell_type": "code",
   "execution_count": 17,
   "metadata": {},
   "outputs": [],
   "source": [
    "def GC_base_table(df):\n",
    "    dt = df.copy()\n",
    "    grouped = dt.groupby([\"Gene\",\"MSIstatus\"])\n",
    "    for name, group in grouped:\n",
    "        print(name)\n",
    "        print(\"_\".join(name))\n",
    "    GC_list = []\n",
    "    for name, group in grouped:\n",
    "        subtable = grouped.get_group(name)\n",
    "        cat_column = subtable.iloc[:,0:101].apply(lambda x: x.str.cat(), axis = 0)\n",
    "        GC_series = GC_percentage_series(cat_column).rename(\"_\".join(name))\n",
    "        GC_list.append(GC_series)\n",
    "    return pd.DataFrame(GC_list).T"
   ]
  },
  {
   "cell_type": "code",
   "execution_count": 20,
   "metadata": {},
   "outputs": [
    {
     "name": "stdout",
     "output_type": "stream",
     "text": [
      "('G1', 'MSI-H')\n",
      "G1_MSI-H\n",
      "('G1', 'MSS')\n",
      "G1_MSS\n",
      "('G2', 'MSI-H')\n",
      "G2_MSI-H\n",
      "('G2', 'MSS')\n",
      "G2_MSS\n"
     ]
    },
    {
     "data": {
      "text/html": [
       "<div>\n",
       "<style scoped>\n",
       "    .dataframe tbody tr th:only-of-type {\n",
       "        vertical-align: middle;\n",
       "    }\n",
       "\n",
       "    .dataframe tbody tr th {\n",
       "        vertical-align: top;\n",
       "    }\n",
       "\n",
       "    .dataframe thead th {\n",
       "        text-align: right;\n",
       "    }\n",
       "</style>\n",
       "<table border=\"1\" class=\"dataframe\">\n",
       "  <thead>\n",
       "    <tr style=\"text-align: right;\">\n",
       "      <th></th>\n",
       "      <th>G1_MSI-H</th>\n",
       "      <th>G1_MSS</th>\n",
       "      <th>G2_MSI-H</th>\n",
       "      <th>G2_MSS</th>\n",
       "    </tr>\n",
       "  </thead>\n",
       "  <tbody>\n",
       "    <tr>\n",
       "      <th>0</th>\n",
       "      <td>0.554348</td>\n",
       "      <td>0.556291</td>\n",
       "      <td>0.478261</td>\n",
       "      <td>0.417219</td>\n",
       "    </tr>\n",
       "    <tr>\n",
       "      <th>1</th>\n",
       "      <td>0.554348</td>\n",
       "      <td>0.437086</td>\n",
       "      <td>0.521739</td>\n",
       "      <td>0.443709</td>\n",
       "    </tr>\n",
       "    <tr>\n",
       "      <th>2</th>\n",
       "      <td>0.554348</td>\n",
       "      <td>0.490066</td>\n",
       "      <td>0.347826</td>\n",
       "      <td>0.410596</td>\n",
       "    </tr>\n",
       "    <tr>\n",
       "      <th>3</th>\n",
       "      <td>0.565217</td>\n",
       "      <td>0.430464</td>\n",
       "      <td>0.413043</td>\n",
       "      <td>0.450331</td>\n",
       "    </tr>\n",
       "    <tr>\n",
       "      <th>4</th>\n",
       "      <td>0.543478</td>\n",
       "      <td>0.549669</td>\n",
       "      <td>0.423913</td>\n",
       "      <td>0.384106</td>\n",
       "    </tr>\n",
       "  </tbody>\n",
       "</table>\n",
       "</div>"
      ],
      "text/plain": [
       "   G1_MSI-H    G1_MSS  G2_MSI-H    G2_MSS\n",
       "0  0.554348  0.556291  0.478261  0.417219\n",
       "1  0.554348  0.437086  0.521739  0.443709\n",
       "2  0.554348  0.490066  0.347826  0.410596\n",
       "3  0.565217  0.430464  0.413043  0.450331\n",
       "4  0.543478  0.549669  0.423913  0.384106"
      ]
     },
     "execution_count": 20,
     "metadata": {},
     "output_type": "execute_result"
    }
   ],
   "source": [
    "J1_bases_to_plot = GC_base_table(J1_bases)\n",
    "J1_bases_to_plot.head()"
   ]
  },
  {
   "cell_type": "code",
   "execution_count": 21,
   "metadata": {},
   "outputs": [
    {
     "data": {
      "text/plain": [
       "<matplotlib.axes._subplots.AxesSubplot at 0x10de24c88>"
      ]
     },
     "execution_count": 21,
     "metadata": {},
     "output_type": "execute_result"
    },
    {
     "data": {
      "image/png": "[encoded data removed]",
      "text/plain": [
       "<Figure size 432x288 with 1 Axes>"
      ]
     },
     "metadata": {
      "needs_background": "light"
     },
     "output_type": "display_data"
    }
   ],
   "source": [
    "J1_bases_to_plot.plot.line()"
   ]
  },
  {
   "cell_type": "markdown",
   "metadata": {},
   "source": [
    "## Junction 2 (J2)"
   ]
  },
  {
   "cell_type": "code",
   "execution_count": 23,
   "metadata": {},
   "outputs": [
    {
     "name": "stdout",
     "output_type": "stream",
     "text": [
      "('G1', 'MSI-H')\n",
      "G1_MSI-H\n",
      "('G1', 'MSS')\n",
      "G1_MSS\n",
      "('G2', 'MSI-H')\n",
      "G2_MSI-H\n",
      "('G2', 'MSS')\n",
      "G2_MSS\n"
     ]
    }
   ],
   "source": [
    "J2_IDs = list(SeqIO.index(\"data_Junction_Regions_CRC_4_19_20_deid_J2.fa\",\"fasta\"))\n",
    "J2_df = pd.DataFrame(SeqIO.parse(\"data_Junction_Regions_CRC_4_19_20_deid_J2.fa\",\"fasta\"))\n",
    "J2_df.insert(0, \"IDs\", pd.Series(J2_IDs)) # add \"ID\" column to the left\n",
    "J2_df = Split_IDs(J2_df)\n",
    "J2_bases = J2_df.iloc[:,np.r_[0:101,104:106,107]]\n",
    "J2_bases_to_plot = GC_base_table(J2_bases)"
   ]
  },
  {
   "cell_type": "code",
   "execution_count": 24,
   "metadata": {},
   "outputs": [
    {
     "data": {
      "text/plain": [
       "<matplotlib.axes._subplots.AxesSubplot at 0x11d0cc550>"
      ]
     },
     "execution_count": 24,
     "metadata": {},
     "output_type": "execute_result"
    },
    {
     "data": {
      "image/png": "[encoded data removed]",
      "text/plain": [
       "<Figure size 432x288 with 1 Axes>"
      ]
     },
     "metadata": {
      "needs_background": "light"
     },
     "output_type": "display_data"
    }
   ],
   "source": [
    "J2_bases_to_plot.plot.line()"
   ]
  },
  {
   "cell_type": "code",
   "execution_count": null,
   "metadata": {},
   "outputs": [],
   "source": [
    "# Save table as RDS and let "
   ]
  }
 ],
 "metadata": {
  "kernelspec": {
   "display_name": "Python 3",
   "language": "python",
   "name": "python3"
  },
  "language_info": {
   "codemirror_mode": {
    "name": "ipython",
    "version": 3
   },
   "file_extension": ".py",
   "mimetype": "text/x-python",
   "name": "python",
   "nbconvert_exporter": "python",
   "pygments_lexer": "ipython3",
   "version": "3.6.10"
  }
 },
 "nbformat": 4,
 "nbformat_minor": 4
}
